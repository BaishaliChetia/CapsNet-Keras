{
  "nbformat": 4,
  "nbformat_minor": 0,
  "metadata": {
    "colab": {
      "name": "VGGprunedMnist.ipynb",
      "provenance": [],
      "collapsed_sections": [],
      "include_colab_link": true
    },
    "kernelspec": {
      "name": "python3",
      "display_name": "Python 3"
    },
    "language_info": {
      "name": "python"
    },
    "accelerator": "GPU"
  },
  "cells": [
    {
      "cell_type": "markdown",
      "metadata": {
        "id": "view-in-github",
        "colab_type": "text"
      },
      "source": [
        "<a href=\"https://colab.research.google.com/github/BaishaliChetia/CapsNet-Keras/blob/master/VGGprunedMnist.ipynb\" target=\"_parent\"><img src=\"https://colab.research.google.com/assets/colab-badge.svg\" alt=\"Open In Colab\"/></a>"
      ]
    },
    {
      "cell_type": "code",
      "metadata": {
        "colab": {
          "base_uri": "https://localhost:8080/"
        },
        "id": "TY3FXDEqMlER",
        "outputId": "27e88225-a3ea-4c32-c22c-3aca80a25d57"
      },
      "source": [
        "import tempfile\n",
        "import os\n",
        "\n",
        "import tensorflow as tf\n",
        "import numpy as np\n",
        "\n",
        "from tensorflow import keras\n",
        "import pandas as pd\n",
        "import matplotlib.pyplot as plt\n",
        "\n",
        "%load_ext tensorboard"
      ],
      "execution_count": 2,
      "outputs": [
        {
          "output_type": "stream",
          "text": [
            "The tensorboard extension is already loaded. To reload it, use:\n",
            "  %reload_ext tensorboard\n"
          ],
          "name": "stdout"
        }
      ]
    },
    {
      "cell_type": "code",
      "metadata": {
        "id": "1lMhMBepNP62",
        "colab": {
          "base_uri": "https://localhost:8080/"
        },
        "outputId": "f5ddf920-d587-4432-dcd5-0209c3282a5f"
      },
      "source": [
        "pip install -q tensorflow-model-optimization"
      ],
      "execution_count": 12,
      "outputs": [
        {
          "output_type": "stream",
          "text": [
            "\u001b[?25l\r\u001b[K     |█▌                              | 10 kB 32.2 MB/s eta 0:00:01\r\u001b[K     |███                             | 20 kB 22.2 MB/s eta 0:00:01\r\u001b[K     |████▋                           | 30 kB 16.8 MB/s eta 0:00:01\r\u001b[K     |██████▏                         | 40 kB 14.8 MB/s eta 0:00:01\r\u001b[K     |███████▊                        | 51 kB 5.2 MB/s eta 0:00:01\r\u001b[K     |█████████▎                      | 61 kB 5.7 MB/s eta 0:00:01\r\u001b[K     |██████████▉                     | 71 kB 5.3 MB/s eta 0:00:01\r\u001b[K     |████████████▍                   | 81 kB 6.0 MB/s eta 0:00:01\r\u001b[K     |██████████████                  | 92 kB 5.9 MB/s eta 0:00:01\r\u001b[K     |███████████████▌                | 102 kB 5.1 MB/s eta 0:00:01\r\u001b[K     |█████████████████               | 112 kB 5.1 MB/s eta 0:00:01\r\u001b[K     |██████████████████▋             | 122 kB 5.1 MB/s eta 0:00:01\r\u001b[K     |████████████████████▏           | 133 kB 5.1 MB/s eta 0:00:01\r\u001b[K     |█████████████████████▊          | 143 kB 5.1 MB/s eta 0:00:01\r\u001b[K     |███████████████████████▎        | 153 kB 5.1 MB/s eta 0:00:01\r\u001b[K     |████████████████████████▉       | 163 kB 5.1 MB/s eta 0:00:01\r\u001b[K     |██████████████████████████▍     | 174 kB 5.1 MB/s eta 0:00:01\r\u001b[K     |████████████████████████████    | 184 kB 5.1 MB/s eta 0:00:01\r\u001b[K     |█████████████████████████████▌  | 194 kB 5.1 MB/s eta 0:00:01\r\u001b[K     |███████████████████████████████ | 204 kB 5.1 MB/s eta 0:00:01\r\u001b[K     |████████████████████████████████| 211 kB 5.1 MB/s \n",
            "\u001b[?25h"
          ],
          "name": "stdout"
        }
      ]
    },
    {
      "cell_type": "code",
      "metadata": {
        "id": "2v8C4zg_7714"
      },
      "source": [
        "import tensorflow_model_optimization as tfmot"
      ],
      "execution_count": 22,
      "outputs": []
    },
    {
      "cell_type": "code",
      "metadata": {
        "id": "XF5afecBVrsY"
      },
      "source": [
        "tf.random.set_seed(500000)"
      ],
      "execution_count": 16,
      "outputs": []
    },
    {
      "cell_type": "code",
      "metadata": {
        "id": "I6XK1tAnMw6l"
      },
      "source": [
        "# Load MNIST dataset\n",
        "mnist = keras.datasets.mnist\n",
        "(train_images, train_labels), (test_images, test_labels) = mnist.load_data()\n",
        "\n",
        "# Normalize the input image so that each pixel value is between 0 and 1.\n",
        "train_images = train_images / 255.0\n",
        "test_images = test_images / 255.0"
      ],
      "execution_count": 17,
      "outputs": []
    },
    {
      "cell_type": "code",
      "metadata": {
        "colab": {
          "base_uri": "https://localhost:8080/"
        },
        "id": "DlLCmXVPOIeo",
        "outputId": "d0c0a2cc-e892-47a2-8324-9c8c419ff219"
      },
      "source": [
        "train_X =[]\n",
        "\n",
        "for i in range(train_images.shape[0]):\n",
        "  train_pad = np.pad(train_images[i], pad_width=10 , mode= 'edge')\n",
        "  #print(train_pad)\n",
        "  train_X.append(train_pad)\n",
        "#PADDING test images\n",
        "test_X = []\n",
        "for i in range(test_images.shape[0]):\n",
        "  test_pad = np.pad(test_images[i], pad_width=10 , mode= 'edge')\n",
        "  #print(train_pad)\n",
        "  test_X.append(test_pad)\n",
        "train_X = np.array(train_X)\n",
        "test_X = np.array(test_X)\n",
        "train_X.shape, test_X.shape"
      ],
      "execution_count": 18,
      "outputs": [
        {
          "output_type": "execute_result",
          "data": {
            "text/plain": [
              "((60000, 48, 48), (10000, 48, 48))"
            ]
          },
          "metadata": {
            "tags": []
          },
          "execution_count": 18
        }
      ]
    },
    {
      "cell_type": "code",
      "metadata": {
        "colab": {
          "base_uri": "https://localhost:8080/"
        },
        "id": "Rx4ohVZLOYuO",
        "outputId": "b0df7112-3ec5-43e9-98d9-bf3475a04f2c"
      },
      "source": [
        "train_X=np.dstack([train_X] * 3)\n",
        "test_X=np.dstack([test_X]*3)\n",
        "train_X.shape,test_X.shape"
      ],
      "execution_count": 19,
      "outputs": [
        {
          "output_type": "execute_result",
          "data": {
            "text/plain": [
              "((60000, 48, 144), (10000, 48, 144))"
            ]
          },
          "metadata": {
            "tags": []
          },
          "execution_count": 19
        }
      ]
    },
    {
      "cell_type": "code",
      "metadata": {
        "colab": {
          "base_uri": "https://localhost:8080/"
        },
        "id": "lxln7tiSOlW1",
        "outputId": "91f37343-9a16-409d-e074-1b50590407aa"
      },
      "source": [
        "train_X = train_X.reshape(-1, 48,48,3)\n",
        "test_X= test_X.reshape (-1,48,48,3)\n",
        "\n",
        "train_X = train_X.astype('float32')\n",
        "test_X = test_X.astype('float32')\n",
        "train_X.shape,test_X.shape"
      ],
      "execution_count": 20,
      "outputs": [
        {
          "output_type": "execute_result",
          "data": {
            "text/plain": [
              "((60000, 48, 48, 3), (10000, 48, 48, 3))"
            ]
          },
          "metadata": {
            "tags": []
          },
          "execution_count": 20
        }
      ]
    },
    {
      "cell_type": "code",
      "metadata": {
        "id": "aC2Z6I3_WXXm"
      },
      "source": [
        "from keras.callbacks import ModelCheckpoint, CSVLogger\n",
        "#comparison_metric = MyAccuracy()\n",
        "#checkpoint_filepath = \"/content/drive/MyDrive/Weights/weights-improvement-{epoch:02d}-{val_my_accuracy:.2f}.hdf5\"\n",
        "model_checkpoint_callback = tf.keras.callbacks.ModelCheckpoint(\n",
        "        filepath = \"/content/drive/MyDrive/MnistResults/vggfine_best_weights4.hdf5\",\n",
        "        save_weights_only=True,\n",
        "        monitor=\"val_accuracy\",\n",
        "        #monitor=\"val_my_accuracy_19\",\n",
        "        mode='max',\n",
        "        save_best_only=True)\n",
        "model_checkpoint_callback2 = tf.keras.callbacks.ModelCheckpoint(\n",
        "        filepath = \"/content/drive/MyDrive/MnistResults/vggfine_latest_weights4.hdf5\",\n",
        "        save_weights_only=True,\n",
        "        monitor=\"val_accuracy\",\n",
        "        mode='max',\n",
        "        save_best_only=False)\n",
        "log_csv = CSVLogger(\"/content/drive/MyDrive/MnistResults/vggfine_mylogs4.csv\", separator = \",\", append = False)\n",
        "callback_list = [model_checkpoint_callback, model_checkpoint_callback2, log_csv]"
      ],
      "execution_count": null,
      "outputs": []
    },
    {
      "cell_type": "code",
      "metadata": {
        "colab": {
          "base_uri": "https://localhost:8080/"
        },
        "id": "bWeSAUAYWh1r",
        "outputId": "302f62cd-35a9-416b-e38d-93151fae7590"
      },
      "source": [
        "from google.colab import drive\n",
        "drive.mount('/content/drive')"
      ],
      "execution_count": 5,
      "outputs": [
        {
          "output_type": "stream",
          "text": [
            "Mounted at /content/drive\n"
          ],
          "name": "stdout"
        }
      ]
    },
    {
      "cell_type": "code",
      "metadata": {
        "id": "5Sa9pwRbOxkQ"
      },
      "source": [
        "vggModel = tf.keras.applications.VGG16(weights='imagenet', include_top=False, input_shape=(48, 48, 3))\n",
        "\n",
        "vggModel.trainable = False"
      ],
      "execution_count": null,
      "outputs": []
    },
    {
      "cell_type": "code",
      "metadata": {
        "colab": {
          "base_uri": "https://localhost:8080/"
        },
        "id": "TrGc2YL1M5cQ",
        "outputId": "93f9511e-e386-4bdd-8967-d756094f5271"
      },
      "source": [
        "# Define the model architecture.\n",
        "model = keras.Sequential([\n",
        "  vggModel,\n",
        "  keras.layers.Flatten(),\n",
        "  tf.keras.layers.Dropout(0.5),\n",
        "  keras.layers.Dense(256, activation='relu'),\n",
        "  keras.layers.Dense(50, activation = 'relu'),\n",
        "  keras.layers.Dense(10, activation = 'softmax')\n",
        "])\n",
        "\n",
        "# Train the digit classification model\n",
        "model.compile(optimizer='adam',\n",
        "              loss=tf.keras.losses.SparseCategoricalCrossentropy(from_logits=True),\n",
        "              metrics=['accuracy'])\n",
        "\n",
        "model.fit(\n",
        "  train_X,\n",
        "  train_labels,\n",
        "  epochs= 50,\n",
        "  validation_split=0.1, callbacks = callback_list\n",
        ")"
      ],
      "execution_count": null,
      "outputs": [
        {
          "output_type": "stream",
          "text": [
            "Epoch 1/50\n"
          ],
          "name": "stdout"
        },
        {
          "output_type": "stream",
          "text": [
            "/usr/local/lib/python3.7/dist-packages/tensorflow/python/keras/backend.py:4930: UserWarning: \"`sparse_categorical_crossentropy` received `from_logits=True`, but the `output` argument was produced by a sigmoid or softmax activation and thus does not represent logits. Was this intended?\"\n",
            "  '\"`sparse_categorical_crossentropy` received `from_logits=True`, but '\n"
          ],
          "name": "stderr"
        },
        {
          "output_type": "stream",
          "text": [
            "1688/1688 [==============================] - 34s 20ms/step - loss: 0.4365 - accuracy: 0.8613 - val_loss: 0.1522 - val_accuracy: 0.9583\n",
            "Epoch 2/50\n",
            "1688/1688 [==============================] - 33s 20ms/step - loss: 0.1946 - accuracy: 0.9481 - val_loss: 0.1226 - val_accuracy: 0.9653\n",
            "Epoch 3/50\n",
            "1688/1688 [==============================] - 33s 20ms/step - loss: 0.1564 - accuracy: 0.9584 - val_loss: 0.1341 - val_accuracy: 0.9687\n",
            "Epoch 4/50\n",
            "1688/1688 [==============================] - 33s 20ms/step - loss: 0.1349 - accuracy: 0.9650 - val_loss: 0.1057 - val_accuracy: 0.9718\n",
            "Epoch 5/50\n",
            "1688/1688 [==============================] - 33s 20ms/step - loss: 0.1265 - accuracy: 0.9663 - val_loss: 0.1416 - val_accuracy: 0.9635\n",
            "Epoch 6/50\n",
            "1688/1688 [==============================] - 33s 20ms/step - loss: 0.1196 - accuracy: 0.9685 - val_loss: 0.1154 - val_accuracy: 0.9757\n",
            "Epoch 7/50\n",
            "1688/1688 [==============================] - 34s 20ms/step - loss: 0.1092 - accuracy: 0.9711 - val_loss: 0.0890 - val_accuracy: 0.9762\n",
            "Epoch 8/50\n",
            "1688/1688 [==============================] - 33s 20ms/step - loss: 0.1127 - accuracy: 0.9702 - val_loss: 0.0938 - val_accuracy: 0.9762\n",
            "Epoch 9/50\n",
            "1688/1688 [==============================] - 33s 20ms/step - loss: 0.1058 - accuracy: 0.9710 - val_loss: 0.0708 - val_accuracy: 0.9820\n",
            "Epoch 10/50\n",
            "1688/1688 [==============================] - 34s 20ms/step - loss: 0.0930 - accuracy: 0.9746 - val_loss: 0.0994 - val_accuracy: 0.9727\n",
            "Epoch 11/50\n",
            "1688/1688 [==============================] - 33s 20ms/step - loss: 0.0962 - accuracy: 0.9739 - val_loss: 0.1029 - val_accuracy: 0.9765\n",
            "Epoch 12/50\n",
            "1688/1688 [==============================] - 33s 20ms/step - loss: 0.0908 - accuracy: 0.9754 - val_loss: 0.0935 - val_accuracy: 0.9752\n",
            "Epoch 13/50\n",
            "1688/1688 [==============================] - 34s 20ms/step - loss: 0.1035 - accuracy: 0.9725 - val_loss: 0.0801 - val_accuracy: 0.9800\n",
            "Epoch 14/50\n",
            "1688/1688 [==============================] - 33s 20ms/step - loss: 0.0906 - accuracy: 0.9759 - val_loss: 0.0727 - val_accuracy: 0.9812\n",
            "Epoch 15/50\n",
            "1688/1688 [==============================] - 33s 20ms/step - loss: 0.0884 - accuracy: 0.9765 - val_loss: 0.0997 - val_accuracy: 0.9745\n",
            "Epoch 16/50\n",
            "1688/1688 [==============================] - 33s 20ms/step - loss: 0.0884 - accuracy: 0.9765 - val_loss: 0.0746 - val_accuracy: 0.9812\n",
            "Epoch 17/50\n",
            "1688/1688 [==============================] - 33s 20ms/step - loss: 0.0834 - accuracy: 0.9781 - val_loss: 0.0650 - val_accuracy: 0.9845\n",
            "Epoch 18/50\n",
            "1688/1688 [==============================] - 33s 20ms/step - loss: 0.0833 - accuracy: 0.9784 - val_loss: 0.0840 - val_accuracy: 0.9783\n",
            "Epoch 19/50\n",
            "1688/1688 [==============================] - 33s 20ms/step - loss: 0.0814 - accuracy: 0.9776 - val_loss: 0.1299 - val_accuracy: 0.9693\n",
            "Epoch 20/50\n",
            "1688/1688 [==============================] - 33s 20ms/step - loss: 0.0844 - accuracy: 0.9779 - val_loss: 0.0600 - val_accuracy: 0.9833\n",
            "Epoch 21/50\n",
            "1688/1688 [==============================] - 33s 20ms/step - loss: 0.0768 - accuracy: 0.9794 - val_loss: 0.0609 - val_accuracy: 0.9860\n",
            "Epoch 22/50\n",
            "1688/1688 [==============================] - 33s 20ms/step - loss: 0.0812 - accuracy: 0.9792 - val_loss: 0.0843 - val_accuracy: 0.9835\n",
            "Epoch 23/50\n",
            "1688/1688 [==============================] - 33s 20ms/step - loss: 0.0776 - accuracy: 0.9800 - val_loss: 0.0697 - val_accuracy: 0.9815\n",
            "Epoch 24/50\n",
            "1688/1688 [==============================] - 33s 20ms/step - loss: 0.0769 - accuracy: 0.9790 - val_loss: 0.0835 - val_accuracy: 0.9835\n",
            "Epoch 25/50\n",
            "1688/1688 [==============================] - 33s 20ms/step - loss: 0.0830 - accuracy: 0.9788 - val_loss: 0.0791 - val_accuracy: 0.9818\n",
            "Epoch 26/50\n",
            "1688/1688 [==============================] - 33s 20ms/step - loss: 0.0799 - accuracy: 0.9792 - val_loss: 0.0745 - val_accuracy: 0.9828\n",
            "Epoch 27/50\n",
            "1688/1688 [==============================] - 33s 20ms/step - loss: 0.0721 - accuracy: 0.9810 - val_loss: 0.0713 - val_accuracy: 0.9813\n",
            "Epoch 28/50\n",
            "1688/1688 [==============================] - 34s 20ms/step - loss: 0.0787 - accuracy: 0.9799 - val_loss: 0.1019 - val_accuracy: 0.9738\n",
            "Epoch 29/50\n",
            "1688/1688 [==============================] - 33s 20ms/step - loss: 0.0923 - accuracy: 0.9761 - val_loss: 0.0685 - val_accuracy: 0.9838\n",
            "Epoch 30/50\n",
            "1688/1688 [==============================] - 33s 20ms/step - loss: 0.0688 - accuracy: 0.9813 - val_loss: 0.0967 - val_accuracy: 0.9775\n",
            "Epoch 31/50\n",
            "1688/1688 [==============================] - 33s 20ms/step - loss: 0.0751 - accuracy: 0.9807 - val_loss: 0.0707 - val_accuracy: 0.9847\n",
            "Epoch 32/50\n",
            "1688/1688 [==============================] - 34s 20ms/step - loss: 0.0793 - accuracy: 0.9793 - val_loss: 0.0620 - val_accuracy: 0.9837\n",
            "Epoch 33/50\n",
            "1688/1688 [==============================] - 33s 20ms/step - loss: 0.0735 - accuracy: 0.9809 - val_loss: 0.0888 - val_accuracy: 0.9820\n",
            "Epoch 34/50\n",
            "1688/1688 [==============================] - 34s 20ms/step - loss: 0.0863 - accuracy: 0.9777 - val_loss: 0.0813 - val_accuracy: 0.9827\n",
            "Epoch 35/50\n",
            "1688/1688 [==============================] - 33s 20ms/step - loss: 0.0676 - accuracy: 0.9825 - val_loss: 0.0801 - val_accuracy: 0.9818\n",
            "Epoch 36/50\n",
            "1688/1688 [==============================] - 33s 20ms/step - loss: 0.0758 - accuracy: 0.9811 - val_loss: 0.0706 - val_accuracy: 0.9828\n",
            "Epoch 37/50\n",
            "1688/1688 [==============================] - 33s 20ms/step - loss: 0.0849 - accuracy: 0.9778 - val_loss: 0.1146 - val_accuracy: 0.9708\n",
            "Epoch 38/50\n",
            "1688/1688 [==============================] - 33s 20ms/step - loss: 0.0701 - accuracy: 0.9819 - val_loss: 0.0764 - val_accuracy: 0.9812\n",
            "Epoch 39/50\n",
            "1688/1688 [==============================] - 33s 20ms/step - loss: 0.0691 - accuracy: 0.9821 - val_loss: 0.1203 - val_accuracy: 0.9803\n",
            "Epoch 40/50\n",
            "1688/1688 [==============================] - 33s 20ms/step - loss: 0.0744 - accuracy: 0.9811 - val_loss: 0.0788 - val_accuracy: 0.9822\n",
            "Epoch 41/50\n",
            "1688/1688 [==============================] - 33s 20ms/step - loss: 0.0785 - accuracy: 0.9800 - val_loss: 0.1038 - val_accuracy: 0.9757\n",
            "Epoch 42/50\n",
            "1688/1688 [==============================] - 33s 20ms/step - loss: 0.0742 - accuracy: 0.9812 - val_loss: 0.0673 - val_accuracy: 0.9833\n",
            "Epoch 43/50\n",
            "1688/1688 [==============================] - 34s 20ms/step - loss: 0.0617 - accuracy: 0.9839 - val_loss: 0.0741 - val_accuracy: 0.9835\n",
            "Epoch 44/50\n",
            "1688/1688 [==============================] - 33s 20ms/step - loss: 0.1125 - accuracy: 0.9734 - val_loss: 0.0934 - val_accuracy: 0.9750\n",
            "Epoch 45/50\n",
            "1688/1688 [==============================] - 33s 20ms/step - loss: 0.0775 - accuracy: 0.9795 - val_loss: 0.0804 - val_accuracy: 0.9838\n",
            "Epoch 46/50\n",
            "1688/1688 [==============================] - 34s 20ms/step - loss: 0.0721 - accuracy: 0.9818 - val_loss: 0.0637 - val_accuracy: 0.9838\n",
            "Epoch 47/50\n",
            "1688/1688 [==============================] - 33s 20ms/step - loss: 0.0814 - accuracy: 0.9795 - val_loss: 0.0671 - val_accuracy: 0.9808\n",
            "Epoch 48/50\n",
            "1688/1688 [==============================] - 33s 20ms/step - loss: 0.0886 - accuracy: 0.9779 - val_loss: 0.0817 - val_accuracy: 0.9813\n",
            "Epoch 49/50\n",
            "1688/1688 [==============================] - 34s 20ms/step - loss: 0.0695 - accuracy: 0.9819 - val_loss: 0.0738 - val_accuracy: 0.9842\n",
            "Epoch 50/50\n",
            "1688/1688 [==============================] - 33s 20ms/step - loss: 0.0679 - accuracy: 0.9820 - val_loss: 0.0749 - val_accuracy: 0.9833\n"
          ],
          "name": "stdout"
        },
        {
          "output_type": "execute_result",
          "data": {
            "text/plain": [
              "<tensorflow.python.keras.callbacks.History at 0x7fce5b58ee90>"
            ]
          },
          "metadata": {
            "tags": []
          },
          "execution_count": 57
        }
      ]
    },
    {
      "cell_type": "code",
      "metadata": {
        "colab": {
          "base_uri": "https://localhost:8080/",
          "height": 648
        },
        "id": "S-9w1EDn1Und",
        "outputId": "46418550-008c-424f-a94f-016a02887a6f"
      },
      "source": [
        "\n",
        "vggAccData = pd.read_csv(\"/content/drive/MyDrive/MnistResults/vggfine_mylogs4.csv\")\n",
        "plt.rcParams[\"figure.figsize\"] = (30, 10)\n",
        "plt.rcParams[\"font.size\"] = 20\n",
        "\n",
        "fig, ax = plt.subplots(1, 2)\n",
        "\n",
        "ax[0].plot(vggAccData['accuracy'])\n",
        "ax[0].plot(vggAccData['val_accuracy'])\n",
        "ax[0].set_title('Model Accuracy')\n",
        "ax[0].set_ylabel('Accuracy')\n",
        "ax[0].set_xlabel('Epoch')\n",
        "ax[0].legend(['Training Accuracy', 'Validation Accuracy'], loc='best')\n",
        "\n",
        "ax[1].plot(vggAccData['loss'])\n",
        "ax[1].plot(vggAccData['val_loss'])\n",
        "ax[1].set_title('Model Loss')\n",
        "ax[1].set_ylabel('Loss')\n",
        "ax[1].set_xlabel('Epoch')\n",
        "ax[1].legend(['Training Loss', 'Validation Loss'], loc='best')\n",
        "plt.show()"
      ],
      "execution_count": 10,
      "outputs": [
        {
          "output_type": "display_data",
          "data": {
            "image/png": "[encoded data removed]",
            "text/plain": [
              "<Figure size 2160x720 with 2 Axes>"
            ]
          },
          "metadata": {
            "tags": [],
            "needs_background": "light"
          }
        }
      ]
    },
    {
      "cell_type": "code",
      "metadata": {
        "colab": {
          "base_uri": "https://localhost:8080/"
        },
        "id": "9qjv5YOxoeDO",
        "outputId": "0d27cc73-5065-4a14-e398-f213b2a33a4f"
      },
      "source": [
        "_, baseline_model_accuracy = model.evaluate(\n",
        "    test_X, test_labels, verbose=1)"
      ],
      "execution_count": null,
      "outputs": [
        {
          "output_type": "stream",
          "text": [
            "313/313 [==============================] - 3s 10ms/step - loss: 0.1203 - accuracy: 0.9832\n"
          ],
          "name": "stdout"
        }
      ]
    },
    {
      "cell_type": "code",
      "metadata": {
        "colab": {
          "base_uri": "https://localhost:8080/"
        },
        "id": "OZpv30WnTh-r",
        "outputId": "7b0501d8-d513-4d3a-b088-6b51099b27f3"
      },
      "source": [
        "model.summary()"
      ],
      "execution_count": null,
      "outputs": [
        {
          "output_type": "stream",
          "text": [
            "Model: \"sequential_7\"\n",
            "_________________________________________________________________\n",
            "Layer (type)                 Output Shape              Param #   \n",
            "=================================================================\n",
            "vgg16 (Functional)           (None, 1, 1, 512)         14714688  \n",
            "_________________________________________________________________\n",
            "flatten_8 (Flatten)          (None, 512)               0         \n",
            "_________________________________________________________________\n",
            "dropout_5 (Dropout)          (None, 512)               0         \n",
            "_________________________________________________________________\n",
            "dense_15 (Dense)             (None, 256)               131328    \n",
            "_________________________________________________________________\n",
            "dense_16 (Dense)             (None, 50)                12850     \n",
            "_________________________________________________________________\n",
            "dense_17 (Dense)             (None, 10)                510       \n",
            "=================================================================\n",
            "Total params: 14,859,376\n",
            "Trainable params: 13,123,888\n",
            "Non-trainable params: 1,735,488\n",
            "_________________________________________________________________\n"
          ],
          "name": "stdout"
        }
      ]
    },
    {
      "cell_type": "code",
      "metadata": {
        "colab": {
          "base_uri": "https://localhost:8080/"
        },
        "id": "uA5PCZcANZ3S",
        "outputId": "fb090bae-db6a-49ee-f720-4f67755c20a8"
      },
      "source": [
        "import tensorflow_model_optimization as tfmot\n",
        "\n",
        "prune_low_magnitude = tfmot.sparsity.keras.prune_low_magnitude\n",
        "\n",
        "# Compute end step to finish pruning after 2 epochs.\n",
        "batch_size = 128\n",
        "epochs = 2\n",
        "validation_split = 0.1 # 10% of training set will be used for validation set. \n",
        "\n",
        "num_images = train_images.shape[0] * (1 - validation_split)\n",
        "end_step = np.ceil(num_images / batch_size).astype(np.int32) * epochs\n",
        "pruning_params = {\n",
        "        'pruning_schedule': tfmot.sparsity.keras.PolynomialDecay(initial_sparsity=0.50,\n",
        "                                                                final_sparsity=0.80,\n",
        "                                                                begin_step=0,\n",
        "                                                                end_step=end_step)\n",
        "  }\n",
        "  \n",
        "# Define model for pruning.\n",
        "model_for_pruning = prune_low_magnitude(model, **pruning_params)\n",
        "\n",
        "# `prune_low_magnitude` requires a recompile.\n",
        "model_for_pruning.compile(optimizer='adam',\n",
        "              loss=tf.keras.losses.SparseCategoricalCrossentropy(from_logits=True),\n",
        "              metrics=['accuracy'])\n",
        "\n",
        "#model_for_pruning.summary()\n",
        "logdir = tempfile.mkdtemp()\n",
        "\n",
        "callbacks = [\n",
        "  tfmot.sparsity.keras.UpdatePruningStep(),\n",
        "  tfmot.sparsity.keras.PruningSummaries(log_dir=logdir),\n",
        "]\n",
        "\n",
        "model_for_pruning.fit(train_X, train_labels,\n",
        "                  batch_size=batch_size, epochs=epochs, validation_split=validation_split,\n",
        "                  callbacks=callbacks)\n",
        "_, model_for_pruning_accuracy = model_for_pruning.evaluate(\n",
        "  test_X, test_labels, verbose=0)"
      ],
      "execution_count": null,
      "outputs": [
        {
          "output_type": "stream",
          "text": [
            "/usr/local/lib/python3.7/dist-packages/tensorflow/python/keras/engine/base_layer.py:2191: UserWarning: `layer.add_variable` is deprecated and will be removed in a future version. Please use `layer.add_weight` method instead.\n",
            "  warnings.warn('`layer.add_variable` is deprecated and '\n"
          ],
          "name": "stderr"
        },
        {
          "output_type": "stream",
          "text": [
            "Epoch 1/2\n"
          ],
          "name": "stdout"
        },
        {
          "output_type": "stream",
          "text": [
            "/usr/local/lib/python3.7/dist-packages/tensorflow/python/keras/backend.py:4930: UserWarning: \"`sparse_categorical_crossentropy` received `from_logits=True`, but the `output` argument was produced by a sigmoid or softmax activation and thus does not represent logits. Was this intended?\"\n",
            "  '\"`sparse_categorical_crossentropy` received `from_logits=True`, but '\n"
          ],
          "name": "stderr"
        },
        {
          "output_type": "stream",
          "text": [
            "  6/422 [..............................] - ETA: 1:58 - loss: 0.0641 - accuracy: 0.9857WARNING:tensorflow:Callback method `on_train_batch_end` is slow compared to the batch time (batch time: 0.0382s vs `on_train_batch_end` time: 0.1708s). Check your callbacks.\n",
            "422/422 [==============================] - 32s 58ms/step - loss: 0.6220 - accuracy: 0.7573 - val_loss: 0.2255 - val_accuracy: 0.9777\n",
            "Epoch 2/2\n",
            "422/422 [==============================] - 23s 54ms/step - loss: 0.1579 - accuracy: 0.9574 - val_loss: 0.1496 - val_accuracy: 0.9832\n"
          ],
          "name": "stdout"
        }
      ]
    },
    {
      "cell_type": "code",
      "metadata": {
        "colab": {
          "base_uri": "https://localhost:8080/"
        },
        "id": "uLdUID3ToNRf",
        "outputId": "80cc09cc-ec2d-4b38-f4d1-e5d62d7c00bc"
      },
      "source": [
        "vggfine_baseModel = model.save(\"/content/drive/MyDrive/MnistResults/vggfine_save_basemodel4.tf\", save_format='tf')"
      ],
      "execution_count": null,
      "outputs": [
        {
          "output_type": "stream",
          "text": [
            "INFO:tensorflow:Assets written to: /content/drive/MyDrive/MnistResults/vggfine_save_basemodel4.tf/assets\n"
          ],
          "name": "stdout"
        }
      ]
    },
    {
      "cell_type": "code",
      "metadata": {
        "colab": {
          "base_uri": "https://localhost:8080/"
        },
        "id": "fPzVhtnweIkX",
        "outputId": "1f699a06-a97f-4719-b117-9f5b7658a76b"
      },
      "source": [
        "finalSparsity = 0.05\n",
        "list_accuracy0 = []\n",
        "while finalSparsity <= 0.95:\n",
        "  model.load_weights('/content/drive/MyDrive/MnistResults/vggfine_best_weights4.hdf5')\n",
        "  pruning_params = {\n",
        "        'pruning_schedule': tfmot.sparsity.keras.PolynomialDecay(initial_sparsity=0.0,\n",
        "                                                                final_sparsity=finalSparsity,\n",
        "                                                                begin_step=0,\n",
        "                                                                end_step=end_step)\n",
        "  }\n",
        "  \n",
        "  # Define model for pruning.\n",
        "  model_for_pruning = prune_low_magnitude(model, **pruning_params)\n",
        "\n",
        "  # `prune_low_magnitude` requires a recompile.\n",
        "  model_for_pruning.compile(optimizer='adam',\n",
        "                loss=tf.keras.losses.SparseCategoricalCrossentropy(from_logits=True),\n",
        "                metrics=['accuracy'])\n",
        "\n",
        "  #model_for_pruning.summary()\n",
        "  logdir = tempfile.mkdtemp()\n",
        "\n",
        "  callbacks = [\n",
        "    tfmot.sparsity.keras.UpdatePruningStep(),\n",
        "    tfmot.sparsity.keras.PruningSummaries(log_dir=logdir),\n",
        "  ]\n",
        "\n",
        "  model_for_pruning.fit(train_X, train_labels,\n",
        "                    batch_size=batch_size, epochs=epochs, validation_split=validation_split,\n",
        "                    callbacks=callbacks)\n",
        "  _, model_for_pruning_accuracy = model_for_pruning.evaluate(\n",
        "   test_X, test_labels, verbose=0)\n",
        "  print(f'Pruned test accuracy at final_sparsity: at {finalSparsity} is {model_for_pruning_accuracy}')\n",
        "  list_accuracy0.append(model_for_pruning_accuracy)\n",
        "  finalSparsity += 0.05"
      ],
      "execution_count": null,
      "outputs": [
        {
          "output_type": "stream",
          "text": [
            "/usr/local/lib/python3.7/dist-packages/tensorflow/python/keras/engine/base_layer.py:2191: UserWarning: `layer.add_variable` is deprecated and will be removed in a future version. Please use `layer.add_weight` method instead.\n",
            "  warnings.warn('`layer.add_variable` is deprecated and '\n"
          ],
          "name": "stderr"
        },
        {
          "output_type": "stream",
          "text": [
            "Epoch 1/2\n"
          ],
          "name": "stdout"
        },
        {
          "output_type": "stream",
          "text": [
            "/usr/local/lib/python3.7/dist-packages/tensorflow/python/keras/backend.py:4930: UserWarning: \"`sparse_categorical_crossentropy` received `from_logits=True`, but the `output` argument was produced by a sigmoid or softmax activation and thus does not represent logits. Was this intended?\"\n",
            "  '\"`sparse_categorical_crossentropy` received `from_logits=True`, but '\n"
          ],
          "name": "stderr"
        },
        {
          "output_type": "stream",
          "text": [
            "  5/422 [..............................] - ETA: 2:17 - loss: 0.0495 - accuracy: 0.9891WARNING:tensorflow:Callback method `on_train_batch_end` is slow compared to the batch time (batch time: 0.0378s vs `on_train_batch_end` time: 0.1620s). Check your callbacks.\n",
            "422/422 [==============================] - 32s 57ms/step - loss: 0.0659 - accuracy: 0.9836 - val_loss: 0.0590 - val_accuracy: 0.9857\n",
            "Epoch 2/2\n",
            "422/422 [==============================] - 23s 53ms/step - loss: 0.0548 - accuracy: 0.9846 - val_loss: 0.0555 - val_accuracy: 0.9858\n",
            "Pruned test accuracy at final_sparsity: at 0.05 is 0.9854000210762024\n",
            "Epoch 1/2\n",
            "  6/422 [..............................] - ETA: 1:56 - loss: 0.0484 - accuracy: 0.9883WARNING:tensorflow:Callback method `on_train_batch_end` is slow compared to the batch time (batch time: 0.0380s vs `on_train_batch_end` time: 0.1675s). Check your callbacks.\n",
            "422/422 [==============================] - 33s 58ms/step - loss: 0.0703 - accuracy: 0.9824 - val_loss: 0.0546 - val_accuracy: 0.9877\n",
            "Epoch 2/2\n",
            "422/422 [==============================] - 23s 55ms/step - loss: 0.0572 - accuracy: 0.9838 - val_loss: 0.0620 - val_accuracy: 0.9853\n",
            "Pruned test accuracy at final_sparsity: at 0.1 is 0.9836999773979187\n",
            "Epoch 1/2\n",
            "  6/422 [..............................] - ETA: 1:53 - loss: 0.0484 - accuracy: 0.9883WARNING:tensorflow:Callback method `on_train_batch_end` is slow compared to the batch time (batch time: 0.0374s vs `on_train_batch_end` time: 0.1614s). Check your callbacks.\n",
            "422/422 [==============================] - 32s 58ms/step - loss: 0.0682 - accuracy: 0.9832 - val_loss: 0.0665 - val_accuracy: 0.9845\n",
            "Epoch 2/2\n",
            "422/422 [==============================] - 23s 54ms/step - loss: 0.0562 - accuracy: 0.9842 - val_loss: 0.0564 - val_accuracy: 0.9858\n",
            "Pruned test accuracy at final_sparsity: at 0.15000000000000002 is 0.9836000204086304\n",
            "Epoch 1/2\n",
            "  6/422 [..............................] - ETA: 1:47 - loss: 0.0484 - accuracy: 0.9883WARNING:tensorflow:Callback method `on_train_batch_end` is slow compared to the batch time (batch time: 0.0363s vs `on_train_batch_end` time: 0.1517s). Check your callbacks.\n",
            "422/422 [==============================] - 32s 59ms/step - loss: 0.0678 - accuracy: 0.9831 - val_loss: 0.0587 - val_accuracy: 0.9843\n",
            "Epoch 2/2\n",
            "422/422 [==============================] - 22s 53ms/step - loss: 0.0520 - accuracy: 0.9853 - val_loss: 0.0578 - val_accuracy: 0.9860\n",
            "Pruned test accuracy at final_sparsity: at 0.2 is 0.9840999841690063\n",
            "Epoch 1/2\n",
            "  6/422 [..............................] - ETA: 1:55 - loss: 0.0484 - accuracy: 0.9883WARNING:tensorflow:Callback method `on_train_batch_end` is slow compared to the batch time (batch time: 0.0376s vs `on_train_batch_end` time: 0.1646s). Check your callbacks.\n",
            "422/422 [==============================] - 32s 59ms/step - loss: 0.0693 - accuracy: 0.9833 - val_loss: 0.0865 - val_accuracy: 0.9847\n",
            "Epoch 2/2\n",
            "422/422 [==============================] - 23s 55ms/step - loss: 0.0551 - accuracy: 0.9847 - val_loss: 0.0588 - val_accuracy: 0.9857\n",
            "Pruned test accuracy at final_sparsity: at 0.25 is 0.9843000173568726\n",
            "Epoch 1/2\n",
            "  6/422 [..............................] - ETA: 2:02 - loss: 0.0484 - accuracy: 0.9883WARNING:tensorflow:Callback method `on_train_batch_begin` is slow compared to the batch time (batch time: 0.0363s vs `on_train_batch_begin` time: 0.0365s). Check your callbacks.\n",
            "WARNING:tensorflow:Callback method `on_train_batch_end` is slow compared to the batch time (batch time: 0.0363s vs `on_train_batch_end` time: 0.1802s). Check your callbacks.\n",
            "422/422 [==============================] - 33s 59ms/step - loss: 0.0699 - accuracy: 0.9831 - val_loss: 0.0703 - val_accuracy: 0.9800\n",
            "Epoch 2/2\n",
            "422/422 [==============================] - 23s 55ms/step - loss: 0.0541 - accuracy: 0.9853 - val_loss: 0.0586 - val_accuracy: 0.9842\n",
            "Pruned test accuracy at final_sparsity: at 0.3 is 0.9840999841690063\n",
            "Epoch 1/2\n",
            "  6/422 [..............................] - ETA: 1:51 - loss: 0.0484 - accuracy: 0.9883WARNING:tensorflow:Callback method `on_train_batch_end` is slow compared to the batch time (batch time: 0.0387s vs `on_train_batch_end` time: 0.1575s). Check your callbacks.\n",
            "422/422 [==============================] - 32s 57ms/step - loss: 0.0691 - accuracy: 0.9829 - val_loss: 0.0789 - val_accuracy: 0.9845\n",
            "Epoch 2/2\n",
            "422/422 [==============================] - 23s 54ms/step - loss: 0.0585 - accuracy: 0.9840 - val_loss: 0.0547 - val_accuracy: 0.9863\n",
            "Pruned test accuracy at final_sparsity: at 0.35 is 0.9847999811172485\n",
            "Epoch 1/2\n",
            "  6/422 [..............................] - ETA: 1:57 - loss: 0.0484 - accuracy: 0.9883WARNING:tensorflow:Callback method `on_train_batch_end` is slow compared to the batch time (batch time: 0.0388s vs `on_train_batch_end` time: 0.1678s). Check your callbacks.\n",
            "422/422 [==============================] - 33s 59ms/step - loss: 0.0784 - accuracy: 0.9816 - val_loss: 0.0685 - val_accuracy: 0.9837\n",
            "Epoch 2/2\n",
            "422/422 [==============================] - 23s 55ms/step - loss: 0.0609 - accuracy: 0.9834 - val_loss: 0.0569 - val_accuracy: 0.9860\n",
            "Pruned test accuracy at final_sparsity: at 0.39999999999999997 is 0.9843999743461609\n",
            "Epoch 1/2\n",
            "  6/422 [..............................] - ETA: 2:00 - loss: 0.0484 - accuracy: 0.9883WARNING:tensorflow:Callback method `on_train_batch_end` is slow compared to the batch time (batch time: 0.0375s vs `on_train_batch_end` time: 0.1751s). Check your callbacks.\n",
            "422/422 [==============================] - 33s 58ms/step - loss: 0.0758 - accuracy: 0.9821 - val_loss: 0.0721 - val_accuracy: 0.9840\n",
            "Epoch 2/2\n",
            "422/422 [==============================] - 23s 55ms/step - loss: 0.0657 - accuracy: 0.9826 - val_loss: 0.0714 - val_accuracy: 0.9818\n",
            "Pruned test accuracy at final_sparsity: at 0.44999999999999996 is 0.9812999963760376\n",
            "Epoch 1/2\n",
            "  6/422 [..............................] - ETA: 2:54 - loss: 0.0484 - accuracy: 0.9883WARNING:tensorflow:Callback method `on_train_batch_end` is slow compared to the batch time (batch time: 0.0385s vs `on_train_batch_end` time: 0.2799s). Check your callbacks.\n",
            "422/422 [==============================] - 33s 60ms/step - loss: 0.0694 - accuracy: 0.9822 - val_loss: 0.1171 - val_accuracy: 0.9838\n",
            "Epoch 2/2\n",
            "422/422 [==============================] - 23s 55ms/step - loss: 0.0576 - accuracy: 0.9846 - val_loss: 0.0634 - val_accuracy: 0.9847\n",
            "Pruned test accuracy at final_sparsity: at 0.49999999999999994 is 0.9843999743461609\n",
            "Epoch 1/2\n",
            "  6/422 [..............................] - ETA: 1:50 - loss: 0.0484 - accuracy: 0.9883WARNING:tensorflow:Callback method `on_train_batch_begin` is slow compared to the batch time (batch time: 0.0346s vs `on_train_batch_begin` time: 0.0350s). Check your callbacks.\n",
            "WARNING:tensorflow:Callback method `on_train_batch_end` is slow compared to the batch time (batch time: 0.0346s vs `on_train_batch_end` time: 0.1579s). Check your callbacks.\n",
            "422/422 [==============================] - 32s 58ms/step - loss: 0.0788 - accuracy: 0.9811 - val_loss: 0.0603 - val_accuracy: 0.9860\n",
            "Epoch 2/2\n",
            "422/422 [==============================] - 23s 54ms/step - loss: 0.0796 - accuracy: 0.9812 - val_loss: 0.0697 - val_accuracy: 0.9840\n",
            "Pruned test accuracy at final_sparsity: at 0.5499999999999999 is 0.9835000038146973\n",
            "Epoch 1/2\n",
            "  6/422 [..............................] - ETA: 2:02 - loss: 0.0484 - accuracy: 0.9883WARNING:tensorflow:Callback method `on_train_batch_end` is slow compared to the batch time (batch time: 0.0378s vs `on_train_batch_end` time: 0.1766s). Check your callbacks.\n",
            "422/422 [==============================] - 34s 60ms/step - loss: 0.0738 - accuracy: 0.9816 - val_loss: 0.0775 - val_accuracy: 0.9855\n",
            "Epoch 2/2\n",
            "422/422 [==============================] - 23s 54ms/step - loss: 0.0937 - accuracy: 0.9714 - val_loss: 0.0986 - val_accuracy: 0.9828\n",
            "Pruned test accuracy at final_sparsity: at 0.6 is 0.982200026512146\n",
            "Epoch 1/2\n",
            "  6/422 [..............................] - ETA: 2:43 - loss: 0.0484 - accuracy: 0.9883WARNING:tensorflow:Callback method `on_train_batch_end` is slow compared to the batch time (batch time: 0.0372s vs `on_train_batch_end` time: 0.2611s). Check your callbacks.\n",
            "422/422 [==============================] - 32s 59ms/step - loss: 0.0865 - accuracy: 0.9791 - val_loss: 0.1290 - val_accuracy: 0.9838\n",
            "Epoch 2/2\n",
            "422/422 [==============================] - 23s 54ms/step - loss: 0.1328 - accuracy: 0.9654 - val_loss: 0.0733 - val_accuracy: 0.9830\n",
            "Pruned test accuracy at final_sparsity: at 0.65 is 0.9817000031471252\n",
            "Epoch 1/2\n",
            "  6/422 [..............................] - ETA: 1:49 - loss: 0.0484 - accuracy: 0.9883WARNING:tensorflow:Callback method `on_train_batch_end` is slow compared to the batch time (batch time: 0.0361s vs `on_train_batch_end` time: 0.1569s). Check your callbacks.\n",
            "422/422 [==============================] - 33s 59ms/step - loss: 0.0949 - accuracy: 0.9691 - val_loss: 0.2739 - val_accuracy: 0.8665\n",
            "Epoch 2/2\n",
            "422/422 [==============================] - 24s 56ms/step - loss: 0.1494 - accuracy: 0.9580 - val_loss: 0.0718 - val_accuracy: 0.9827\n",
            "Pruned test accuracy at final_sparsity: at 0.7000000000000001 is 0.982699990272522\n",
            "Epoch 1/2\n",
            "  6/422 [..............................] - ETA: 1:59 - loss: 0.0484 - accuracy: 0.9883WARNING:tensorflow:Callback method `on_train_batch_end` is slow compared to the batch time (batch time: 0.0390s vs `on_train_batch_end` time: 0.1708s). Check your callbacks.\n",
            "422/422 [==============================] - 33s 59ms/step - loss: 0.0973 - accuracy: 0.9762 - val_loss: 0.1481 - val_accuracy: 0.9823\n",
            "Epoch 2/2\n",
            "422/422 [==============================] - 23s 55ms/step - loss: 0.0938 - accuracy: 0.9786 - val_loss: 0.0680 - val_accuracy: 0.9828\n",
            "Pruned test accuracy at final_sparsity: at 0.7500000000000001 is 0.9837999939918518\n",
            "Epoch 1/2\n",
            "  6/422 [..............................] - ETA: 1:51 - loss: 0.0484 - accuracy: 0.9883WARNING:tensorflow:Callback method `on_train_batch_end` is slow compared to the batch time (batch time: 0.0382s vs `on_train_batch_end` time: 0.1585s). Check your callbacks.\n",
            "422/422 [==============================] - 33s 59ms/step - loss: 0.1258 - accuracy: 0.9635 - val_loss: 0.3076 - val_accuracy: 0.9808\n",
            "Epoch 2/2\n",
            "422/422 [==============================] - 23s 55ms/step - loss: 0.1268 - accuracy: 0.9787 - val_loss: 0.0783 - val_accuracy: 0.9840\n",
            "Pruned test accuracy at final_sparsity: at 0.8000000000000002 is 0.9825000166893005\n",
            "Epoch 1/2\n",
            "  6/422 [..............................] - ETA: 1:57 - loss: 0.0484 - accuracy: 0.9883WARNING:tensorflow:Callback method `on_train_batch_end` is slow compared to the batch time (batch time: 0.0394s vs `on_train_batch_end` time: 0.1675s). Check your callbacks.\n",
            "422/422 [==============================] - 32s 59ms/step - loss: 0.1136 - accuracy: 0.9659 - val_loss: 0.2232 - val_accuracy: 0.9703\n",
            "Epoch 2/2\n",
            "422/422 [==============================] - 23s 54ms/step - loss: 0.1545 - accuracy: 0.9644 - val_loss: 0.0773 - val_accuracy: 0.9785\n",
            "Pruned test accuracy at final_sparsity: at 0.8500000000000002 is 0.9754999876022339\n",
            "Epoch 1/2\n",
            "  6/422 [..............................] - ETA: 2:00 - loss: 0.0484 - accuracy: 0.9883WARNING:tensorflow:Callback method `on_train_batch_end` is slow compared to the batch time (batch time: 0.0373s vs `on_train_batch_end` time: 0.1740s). Check your callbacks.\n",
            "422/422 [==============================] - 34s 59ms/step - loss: 0.1817 - accuracy: 0.9352 - val_loss: 0.2206 - val_accuracy: 0.9663\n",
            "Epoch 2/2\n",
            "422/422 [==============================] - 24s 56ms/step - loss: 0.2427 - accuracy: 0.9423 - val_loss: 0.1143 - val_accuracy: 0.9672\n",
            "Pruned test accuracy at final_sparsity: at 0.9000000000000002 is 0.9614999890327454\n"
          ],
          "name": "stdout"
        }
      ]
    },
    {
      "cell_type": "code",
      "metadata": {
        "colab": {
          "base_uri": "https://localhost:8080/"
        },
        "id": "OCy5M5AguljN",
        "outputId": "b855caa8-219c-4853-85fc-972fdfb80594"
      },
      "source": [
        "model_for_pruning.summary()"
      ],
      "execution_count": null,
      "outputs": [
        {
          "output_type": "stream",
          "text": [
            "Model: \"sequential_7\"\n",
            "_________________________________________________________________\n",
            "Layer (type)                 Output Shape              Param #   \n",
            "=================================================================\n",
            "vgg16 (Functional)           (None, 1, 1, 512)         29425183  \n",
            "_________________________________________________________________\n",
            "prune_low_magnitude_flatten_ (None, 512)               1         \n",
            "_________________________________________________________________\n",
            "prune_low_magnitude_dropout_ (None, 512)               1         \n",
            "_________________________________________________________________\n",
            "prune_low_magnitude_dense_15 (None, 256)               262402    \n",
            "_________________________________________________________________\n",
            "prune_low_magnitude_dense_16 (None, 50)                25652     \n",
            "_________________________________________________________________\n",
            "prune_low_magnitude_dense_17 (None, 10)                1012      \n",
            "=================================================================\n",
            "Total params: 29,714,251\n",
            "Trainable params: 13,123,888\n",
            "Non-trainable params: 16,590,363\n",
            "_________________________________________________________________\n"
          ],
          "name": "stdout"
        }
      ]
    },
    {
      "cell_type": "code",
      "metadata": {
        "colab": {
          "base_uri": "https://localhost:8080/"
        },
        "id": "jYGxHae9u9O8",
        "outputId": "caf98611-0d05-456d-bd63-1f0335c756a9"
      },
      "source": [
        "modelP = model_for_pruning\n",
        "model_for_export = tfmot.sparsity.keras.strip_pruning(modelP)\n",
        "model_for_export.summary()\n"
      ],
      "execution_count": null,
      "outputs": [
        {
          "output_type": "stream",
          "text": [
            "Model: \"sequential_7\"\n",
            "_________________________________________________________________\n",
            "Layer (type)                 Output Shape              Param #   \n",
            "=================================================================\n",
            "vgg16 (Functional)           (None, 1, 1, 512)         14714688  \n",
            "_________________________________________________________________\n",
            "flatten_8 (Flatten)          (None, 512)               0         \n",
            "_________________________________________________________________\n",
            "dropout_5 (Dropout)          (None, 512)               0         \n",
            "_________________________________________________________________\n",
            "dense_15 (Dense)             (None, 256)               131328    \n",
            "_________________________________________________________________\n",
            "dense_16 (Dense)             (None, 50)                12850     \n",
            "_________________________________________________________________\n",
            "dense_17 (Dense)             (None, 10)                510       \n",
            "=================================================================\n",
            "Total params: 14,859,376\n",
            "Trainable params: 13,123,888\n",
            "Non-trainable params: 1,735,488\n",
            "_________________________________________________________________\n"
          ],
          "name": "stdout"
        }
      ]
    },
    {
      "cell_type": "code",
      "metadata": {
        "colab": {
          "base_uri": "https://localhost:8080/"
        },
        "id": "EXiauLihvOVW",
        "outputId": "6c4869b7-9d62-4f16-c69e-9c2fae9cd283"
      },
      "source": [
        "model1 =  keras.models.load_model(\"/content/drive/MyDrive/MnistResults/vggfine_save_basemodel4.tf\")\n",
        "model1.summary()"
      ],
      "execution_count": 14,
      "outputs": [
        {
          "output_type": "stream",
          "text": [
            "Model: \"sequential_7\"\n",
            "_________________________________________________________________\n",
            "Layer (type)                 Output Shape              Param #   \n",
            "=================================================================\n",
            "vgg16 (Functional)           (None, 1, 1, 512)         14714688  \n",
            "_________________________________________________________________\n",
            "flatten_8 (Flatten)          (None, 512)               0         \n",
            "_________________________________________________________________\n",
            "dropout_5 (Dropout)          (None, 512)               0         \n",
            "_________________________________________________________________\n",
            "dense_15 (Dense)             (None, 256)               131328    \n",
            "_________________________________________________________________\n",
            "dense_16 (Dense)             (None, 50)                12850     \n",
            "_________________________________________________________________\n",
            "dense_17 (Dense)             (None, 10)                510       \n",
            "=================================================================\n",
            "Total params: 14,859,376\n",
            "Trainable params: 13,123,888\n",
            "Non-trainable params: 1,735,488\n",
            "_________________________________________________________________\n"
          ],
          "name": "stdout"
        }
      ]
    },
    {
      "cell_type": "code",
      "metadata": {
        "colab": {
          "base_uri": "https://localhost:8080/"
        },
        "id": "E9bToATCwGvR",
        "outputId": "10e80daf-acb3-4c13-f65c-dd782963d4ba"
      },
      "source": [
        "import tensorflow_model_optimization as tfmot\n",
        "\n",
        "prune_low_magnitude = tfmot.sparsity.keras.prune_low_magnitude\n",
        "\n",
        "# Compute end step to finish pruning after 2 epochs.\n",
        "batch_size = 128\n",
        "epochs = 2\n",
        "validation_split = 0.1 # 10% of training set will be used for validation set. \n",
        "\n",
        "num_images = train_images.shape[0] * (1 - validation_split)\n",
        "end_step = np.ceil(num_images / batch_size).astype(np.int32) * epochs\n",
        "finalSparsity = 0.55\n",
        "list_accuracy50 = []\n",
        "while finalSparsity <= 0.95:\n",
        "  model1.load_weights('/content/drive/MyDrive/MnistResults/vggfine_best_weights4.hdf5')\n",
        "  pruning_params = {\n",
        "        'pruning_schedule': tfmot.sparsity.keras.PolynomialDecay(initial_sparsity=0.50,\n",
        "                                                                final_sparsity=finalSparsity,\n",
        "                                                                begin_step=0,\n",
        "                                                                end_step=end_step)\n",
        "  }\n",
        "  \n",
        "  # Define model for pruning.\n",
        "  model_for_pruning = prune_low_magnitude(model1, **pruning_params)\n",
        "\n",
        "  # `prune_low_magnitude` requires a recompile.\n",
        "  model_for_pruning.compile(optimizer='adam',\n",
        "                loss=tf.keras.losses.SparseCategoricalCrossentropy(from_logits=True),\n",
        "                metrics=['accuracy'])\n",
        "\n",
        "  #model_for_pruning.summary()\n",
        "  logdir = tempfile.mkdtemp()\n",
        "\n",
        "  callbacks = [\n",
        "    tfmot.sparsity.keras.UpdatePruningStep(),\n",
        "    tfmot.sparsity.keras.PruningSummaries(log_dir=logdir),\n",
        "  ]\n",
        "\n",
        "  model_for_pruning.fit(train_X, train_labels,\n",
        "                    batch_size=batch_size, epochs=epochs, validation_split=validation_split,\n",
        "                    callbacks=callbacks)\n",
        "  _, model_for_pruning_accuracy = model_for_pruning.evaluate(\n",
        "   test_X, test_labels, verbose=0)\n",
        "  print(f'Pruned test accuracy at final_sparsity: at {finalSparsity} is {model_for_pruning_accuracy}')\n",
        "  list_accuracy50.append(model_for_pruning_accuracy)\n",
        "  finalSparsity += 0.05\n",
        "print(list_accuracy50)"
      ],
      "execution_count": 21,
      "outputs": [
        {
          "output_type": "stream",
          "text": [
            "/usr/local/lib/python3.7/dist-packages/tensorflow/python/keras/engine/base_layer.py:2191: UserWarning: `layer.add_variable` is deprecated and will be removed in a future version. Please use `layer.add_weight` method instead.\n",
            "  warnings.warn('`layer.add_variable` is deprecated and '\n"
          ],
          "name": "stderr"
        },
        {
          "output_type": "stream",
          "text": [
            "Epoch 1/2\n",
            "WARNING:tensorflow:From /usr/local/lib/python3.7/dist-packages/tensorflow/python/ops/array_ops.py:5049: calling gather (from tensorflow.python.ops.array_ops) with validate_indices is deprecated and will be removed in a future version.\n",
            "Instructions for updating:\n",
            "The `validate_indices` argument has no effect. Indices are always validated on CPU and never validated on GPU.\n"
          ],
          "name": "stdout"
        },
        {
          "output_type": "stream",
          "text": [
            "/usr/local/lib/python3.7/dist-packages/tensorflow/python/keras/backend.py:4930: UserWarning: \"`sparse_categorical_crossentropy` received `from_logits=True`, but the `output` argument was produced by a sigmoid or softmax activation and thus does not represent logits. Was this intended?\"\n",
            "  '\"`sparse_categorical_crossentropy` received `from_logits=True`, but '\n"
          ],
          "name": "stderr"
        },
        {
          "output_type": "stream",
          "text": [
            "  5/422 [..............................] - ETA: 1:25 - loss: 0.0495 - accuracy: 0.9891WARNING:tensorflow:Callback method `on_train_batch_begin` is slow compared to the batch time (batch time: 0.0287s vs `on_train_batch_begin` time: 0.0465s). Check your callbacks.\n",
            "WARNING:tensorflow:Callback method `on_train_batch_end` is slow compared to the batch time (batch time: 0.0287s vs `on_train_batch_end` time: 0.0731s). Check your callbacks.\n",
            "422/422 [==============================] - 42s 49ms/step - loss: 0.0878 - accuracy: 0.9797 - val_loss: 0.0702 - val_accuracy: 0.9827\n",
            "Epoch 2/2\n",
            "422/422 [==============================] - 19s 45ms/step - loss: 0.0570 - accuracy: 0.9854 - val_loss: 0.0598 - val_accuracy: 0.9852\n",
            "Pruned test accuracy at final_sparsity: at 0.55 is 0.9830999970436096\n",
            "Epoch 1/2\n",
            "  5/422 [..............................] - ETA: 1:40 - loss: 0.0495 - accuracy: 0.9891WARNING:tensorflow:Callback method `on_train_batch_begin` is slow compared to the batch time (batch time: 0.0271s vs `on_train_batch_begin` time: 0.0275s). Check your callbacks.\n",
            "WARNING:tensorflow:Callback method `on_train_batch_end` is slow compared to the batch time (batch time: 0.0271s vs `on_train_batch_end` time: 0.1174s). Check your callbacks.\n",
            "422/422 [==============================] - 25s 47ms/step - loss: 0.0885 - accuracy: 0.9796 - val_loss: 0.0655 - val_accuracy: 0.9857\n",
            "Epoch 2/2\n",
            "422/422 [==============================] - 19s 45ms/step - loss: 0.0793 - accuracy: 0.9799 - val_loss: 0.0718 - val_accuracy: 0.9815\n",
            "Pruned test accuracy at final_sparsity: at 0.6000000000000001 is 0.9815999865531921\n",
            "Epoch 1/2\n",
            "  5/422 [..............................] - ETA: 1:43 - loss: 0.0495 - accuracy: 0.9891WARNING:tensorflow:Callback method `on_train_batch_end` is slow compared to the batch time (batch time: 0.0298s vs `on_train_batch_end` time: 0.1186s). Check your callbacks.\n",
            "422/422 [==============================] - 25s 48ms/step - loss: 0.0982 - accuracy: 0.9782 - val_loss: 0.0800 - val_accuracy: 0.9842\n",
            "Epoch 2/2\n",
            "422/422 [==============================] - 19s 46ms/step - loss: 0.0734 - accuracy: 0.9819 - val_loss: 0.0672 - val_accuracy: 0.9833\n",
            "Pruned test accuracy at final_sparsity: at 0.6500000000000001 is 0.9832000136375427\n",
            "Epoch 1/2\n",
            "  5/422 [..............................] - ETA: 1:42 - loss: 0.0495 - accuracy: 0.9891WARNING:tensorflow:Callback method `on_train_batch_end` is slow compared to the batch time (batch time: 0.0297s vs `on_train_batch_end` time: 0.1195s). Check your callbacks.\n",
            "422/422 [==============================] - 26s 48ms/step - loss: 0.1069 - accuracy: 0.9739 - val_loss: 0.0981 - val_accuracy: 0.9833\n",
            "Epoch 2/2\n",
            "422/422 [==============================] - 19s 45ms/step - loss: 0.0726 - accuracy: 0.9834 - val_loss: 0.0706 - val_accuracy: 0.9848\n",
            "Pruned test accuracy at final_sparsity: at 0.7000000000000002 is 0.9822999835014343\n",
            "Epoch 1/2\n",
            "  5/422 [..............................] - ETA: 1:45 - loss: 0.0495 - accuracy: 0.9891WARNING:tensorflow:Callback method `on_train_batch_end` is slow compared to the batch time (batch time: 0.0291s vs `on_train_batch_end` time: 0.1236s). Check your callbacks.\n",
            "422/422 [==============================] - 26s 48ms/step - loss: 0.1455 - accuracy: 0.9533 - val_loss: 0.0808 - val_accuracy: 0.9832\n",
            "Epoch 2/2\n",
            "422/422 [==============================] - 19s 45ms/step - loss: 0.0727 - accuracy: 0.9791 - val_loss: 0.0628 - val_accuracy: 0.9852\n",
            "Pruned test accuracy at final_sparsity: at 0.7500000000000002 is 0.9854000210762024\n",
            "Epoch 1/2\n",
            "  5/422 [..............................] - ETA: 1:41 - loss: 0.0495 - accuracy: 0.9891WARNING:tensorflow:Callback method `on_train_batch_end` is slow compared to the batch time (batch time: 0.0300s vs `on_train_batch_end` time: 0.1186s). Check your callbacks.\n",
            "422/422 [==============================] - 25s 48ms/step - loss: 0.1739 - accuracy: 0.9374 - val_loss: 0.0729 - val_accuracy: 0.9843\n",
            "Epoch 2/2\n",
            "422/422 [==============================] - 19s 45ms/step - loss: 0.0730 - accuracy: 0.9789 - val_loss: 0.0621 - val_accuracy: 0.9837\n",
            "Pruned test accuracy at final_sparsity: at 0.8000000000000003 is 0.9824000000953674\n",
            "Epoch 1/2\n",
            "  5/422 [..............................] - ETA: 1:44 - loss: 0.0495 - accuracy: 0.9891WARNING:tensorflow:Callback method `on_train_batch_end` is slow compared to the batch time (batch time: 0.0296s vs `on_train_batch_end` time: 0.1218s). Check your callbacks.\n",
            "422/422 [==============================] - 25s 48ms/step - loss: 0.1736 - accuracy: 0.9510 - val_loss: 0.0903 - val_accuracy: 0.9818\n",
            "Epoch 2/2\n",
            "422/422 [==============================] - 19s 45ms/step - loss: 0.0882 - accuracy: 0.9785 - val_loss: 0.0723 - val_accuracy: 0.9820\n",
            "Pruned test accuracy at final_sparsity: at 0.8500000000000003 is 0.9787999987602234\n",
            "Epoch 1/2\n",
            "  5/422 [..............................] - ETA: 1:43 - loss: 0.0495 - accuracy: 0.9891WARNING:tensorflow:Callback method `on_train_batch_end` is slow compared to the batch time (batch time: 0.0291s vs `on_train_batch_end` time: 0.1214s). Check your callbacks.\n",
            "422/422 [==============================] - 26s 48ms/step - loss: 0.1624 - accuracy: 0.9377 - val_loss: 0.0922 - val_accuracy: 0.9807\n",
            "Epoch 2/2\n",
            "422/422 [==============================] - 19s 45ms/step - loss: 0.2053 - accuracy: 0.9363 - val_loss: 0.1198 - val_accuracy: 0.9687\n",
            "Pruned test accuracy at final_sparsity: at 0.9000000000000004 is 0.9639999866485596\n",
            "[0.9830999970436096, 0.9815999865531921, 0.9832000136375427, 0.9822999835014343, 0.9854000210762024, 0.9824000000953674, 0.9787999987602234, 0.9639999866485596]\n"
          ],
          "name": "stdout"
        }
      ]
    },
    {
      "cell_type": "code",
      "metadata": {
        "colab": {
          "base_uri": "https://localhost:8080/"
        },
        "id": "8urNrRJe7geS",
        "outputId": "391689b0-cd1e-4c58-f4fe-c74a8874b805"
      },
      "source": [
        "\n",
        "\n",
        "def prune_all_sparsity(initial, final):\n",
        "  finalSparsity = final \n",
        "  initialSparsity = initial\n",
        "  list_accuracy = []\n",
        "  while finalSparsity <= 0.95:\n",
        "    model1.load_weights('/content/drive/MyDrive/MnistResults/vggfine_best_weights4.hdf5')\n",
        "    pruning_params = {\n",
        "          'pruning_schedule': tfmot.sparsity.keras.PolynomialDecay(initial_sparsity= initialSparsity,\n",
        "                                                                  final_sparsity=finalSparsity,\n",
        "                                                                  begin_step=0,\n",
        "                                                                  end_step=end_step)\n",
        "    }\n",
        "    \n",
        "    # Define model for pruning.\n",
        "    model_for_pruning = prune_low_magnitude(model1, **pruning_params)\n",
        "\n",
        "    # `prune_low_magnitude` requires a recompile.\n",
        "    model_for_pruning.compile(optimizer='adam',\n",
        "                  loss=tf.keras.losses.SparseCategoricalCrossentropy(from_logits=True),\n",
        "                  metrics=['accuracy'])\n",
        "\n",
        "    #model_for_pruning.summary()\n",
        "    logdir = tempfile.mkdtemp()\n",
        "\n",
        "    callbacks = [\n",
        "      tfmot.sparsity.keras.UpdatePruningStep(),\n",
        "      tfmot.sparsity.keras.PruningSummaries(log_dir=logdir),\n",
        "    ]\n",
        "\n",
        "    model_for_pruning.fit(train_X, train_labels,\n",
        "                      batch_size=batch_size, epochs=epochs, validation_split=validation_split,\n",
        "                      callbacks=callbacks)\n",
        "    _, model_for_pruning_accuracy = model_for_pruning.evaluate(\n",
        "    test_X, test_labels, verbose=0)\n",
        "    print(f'Pruned test accuracy at final_sparsity: at {finalSparsity} is {model_for_pruning_accuracy}')\n",
        "    list_accuracy.append(model_for_pruning_accuracy)\n",
        "    finalSparsity += 0.05\n",
        "  print(list_accuracy)\n",
        "  return list_accuracy\n",
        "\n",
        "# call prune_all_sparsity for different initial sparsities\n",
        "initial= 0.0 \n",
        "while initial <= 0.50:\n",
        "  print(f\"Pruniing for initial sparsity: {initial}\")\n",
        "  final = 0.55\n",
        "  prune_result = prune_all_sparsity(initial, final )\n",
        "  print(f\"accuracy list at {initial} sparsity is {prune_result}\")\n",
        "  initial += 0.10\n"
      ],
      "execution_count": 27,
      "outputs": [
        {
          "output_type": "stream",
          "text": [
            "Pruniing for initial sparsity: 0.0\n"
          ],
          "name": "stdout"
        },
        {
          "output_type": "stream",
          "text": [
            "/usr/local/lib/python3.7/dist-packages/tensorflow/python/keras/engine/base_layer.py:2191: UserWarning: `layer.add_variable` is deprecated and will be removed in a future version. Please use `layer.add_weight` method instead.\n",
            "  warnings.warn('`layer.add_variable` is deprecated and '\n"
          ],
          "name": "stderr"
        },
        {
          "output_type": "stream",
          "text": [
            "Epoch 1/2\n"
          ],
          "name": "stdout"
        },
        {
          "output_type": "stream",
          "text": [
            "/usr/local/lib/python3.7/dist-packages/tensorflow/python/keras/backend.py:4930: UserWarning: \"`sparse_categorical_crossentropy` received `from_logits=True`, but the `output` argument was produced by a sigmoid or softmax activation and thus does not represent logits. Was this intended?\"\n",
            "  '\"`sparse_categorical_crossentropy` received `from_logits=True`, but '\n"
          ],
          "name": "stderr"
        },
        {
          "output_type": "stream",
          "text": [
            "  5/422 [..............................] - ETA: 1:45 - loss: 0.0495 - accuracy: 0.9891WARNING:tensorflow:Callback method `on_train_batch_end` is slow compared to the batch time (batch time: 0.0304s vs `on_train_batch_end` time: 0.1222s). Check your callbacks.\n",
            "422/422 [==============================] - 25s 47ms/step - loss: 0.0706 - accuracy: 0.9827 - val_loss: 0.0719 - val_accuracy: 0.9845\n",
            "Epoch 2/2\n",
            "422/422 [==============================] - 19s 45ms/step - loss: 0.0961 - accuracy: 0.9745 - val_loss: 0.0786 - val_accuracy: 0.9767\n",
            "Pruned test accuracy at final_sparsity: at 0.55 is 0.9750999808311462\n",
            "Epoch 1/2\n",
            "  5/422 [..............................] - ETA: 1:48 - loss: 0.0495 - accuracy: 0.9891WARNING:tensorflow:Callback method `on_train_batch_begin` is slow compared to the batch time (batch time: 0.0289s vs `on_train_batch_begin` time: 0.0291s). Check your callbacks.\n",
            "WARNING:tensorflow:Callback method `on_train_batch_end` is slow compared to the batch time (batch time: 0.0289s vs `on_train_batch_end` time: 0.1277s). Check your callbacks.\n",
            "422/422 [==============================] - 26s 47ms/step - loss: 0.0796 - accuracy: 0.9818 - val_loss: 0.0718 - val_accuracy: 0.9837\n",
            "Epoch 2/2\n",
            "422/422 [==============================] - 19s 45ms/step - loss: 0.0868 - accuracy: 0.9768 - val_loss: 0.0797 - val_accuracy: 0.9817\n",
            "Pruned test accuracy at final_sparsity: at 0.6000000000000001 is 0.9825000166893005\n",
            "Epoch 1/2\n",
            "  5/422 [..............................] - ETA: 1:45 - loss: 0.0495 - accuracy: 0.9891WARNING:tensorflow:Callback method `on_train_batch_end` is slow compared to the batch time (batch time: 0.0288s vs `on_train_batch_end` time: 0.1241s). Check your callbacks.\n",
            "422/422 [==============================] - 25s 47ms/step - loss: 0.0904 - accuracy: 0.9779 - val_loss: 0.0942 - val_accuracy: 0.9785\n",
            "Epoch 2/2\n",
            "422/422 [==============================] - 19s 45ms/step - loss: 0.0870 - accuracy: 0.9760 - val_loss: 0.0638 - val_accuracy: 0.9845\n",
            "Pruned test accuracy at final_sparsity: at 0.6500000000000001 is 0.9835000038146973\n",
            "Epoch 1/2\n",
            "  5/422 [..............................] - ETA: 1:44 - loss: 0.0495 - accuracy: 0.9891WARNING:tensorflow:Callback method `on_train_batch_end` is slow compared to the batch time (batch time: 0.0288s vs `on_train_batch_end` time: 0.1223s). Check your callbacks.\n",
            "422/422 [==============================] - 25s 48ms/step - loss: 0.0927 - accuracy: 0.9722 - val_loss: 0.1545 - val_accuracy: 0.9207\n",
            "Epoch 2/2\n",
            "422/422 [==============================] - 19s 46ms/step - loss: 0.1075 - accuracy: 0.9744 - val_loss: 0.0738 - val_accuracy: 0.9827\n",
            "Pruned test accuracy at final_sparsity: at 0.7000000000000002 is 0.9825999736785889\n",
            "Epoch 1/2\n",
            "  5/422 [..............................] - ETA: 1:50 - loss: 0.0495 - accuracy: 0.9891WARNING:tensorflow:Callback method `on_train_batch_begin` is slow compared to the batch time (batch time: 0.0293s vs `on_train_batch_begin` time: 0.0294s). Check your callbacks.\n",
            "WARNING:tensorflow:Callback method `on_train_batch_end` is slow compared to the batch time (batch time: 0.0293s vs `on_train_batch_end` time: 0.1301s). Check your callbacks.\n",
            "422/422 [==============================] - 26s 48ms/step - loss: 0.1260 - accuracy: 0.9616 - val_loss: 0.2975 - val_accuracy: 0.8898\n",
            "Epoch 2/2\n",
            "422/422 [==============================] - 19s 45ms/step - loss: 0.1089 - accuracy: 0.9769 - val_loss: 0.0686 - val_accuracy: 0.9848\n",
            "Pruned test accuracy at final_sparsity: at 0.7500000000000002 is 0.9828000068664551\n",
            "Epoch 1/2\n",
            "  5/422 [..............................] - ETA: 1:43 - loss: 0.0495 - accuracy: 0.9891WARNING:tensorflow:Callback method `on_train_batch_end` is slow compared to the batch time (batch time: 0.0307s vs `on_train_batch_end` time: 0.1203s). Check your callbacks.\n",
            "422/422 [==============================] - 25s 47ms/step - loss: 0.1376 - accuracy: 0.9622 - val_loss: 0.1173 - val_accuracy: 0.9840\n",
            "Epoch 2/2\n",
            "422/422 [==============================] - 19s 45ms/step - loss: 0.0949 - accuracy: 0.9779 - val_loss: 0.0758 - val_accuracy: 0.9847\n",
            "Pruned test accuracy at final_sparsity: at 0.8000000000000003 is 0.9836000204086304\n",
            "Epoch 1/2\n",
            "  5/422 [..............................] - ETA: 1:48 - loss: 0.0495 - accuracy: 0.9891WARNING:tensorflow:Callback method `on_train_batch_end` is slow compared to the batch time (batch time: 0.0297s vs `on_train_batch_end` time: 0.1271s). Check your callbacks.\n",
            "422/422 [==============================] - 26s 48ms/step - loss: 0.1089 - accuracy: 0.9654 - val_loss: 0.2233 - val_accuracy: 0.8767\n",
            "Epoch 2/2\n",
            "422/422 [==============================] - 19s 45ms/step - loss: 0.1223 - accuracy: 0.9687 - val_loss: 0.0899 - val_accuracy: 0.9765\n",
            "Pruned test accuracy at final_sparsity: at 0.8500000000000003 is 0.9763000011444092\n",
            "Epoch 1/2\n",
            "  5/422 [..............................] - ETA: 1:49 - loss: 0.0495 - accuracy: 0.9891WARNING:tensorflow:Callback method `on_train_batch_end` is slow compared to the batch time (batch time: 0.0292s vs `on_train_batch_end` time: 0.1287s). Check your callbacks.\n",
            "422/422 [==============================] - 26s 48ms/step - loss: 0.1448 - accuracy: 0.9591 - val_loss: 0.1384 - val_accuracy: 0.9735\n",
            "Epoch 2/2\n",
            "422/422 [==============================] - 19s 45ms/step - loss: 0.1882 - accuracy: 0.9469 - val_loss: 0.1297 - val_accuracy: 0.9675\n",
            "Pruned test accuracy at final_sparsity: at 0.9000000000000004 is 0.960099995136261\n",
            "[0.9750999808311462, 0.9825000166893005, 0.9835000038146973, 0.9825999736785889, 0.9828000068664551, 0.9836000204086304, 0.9763000011444092, 0.960099995136261]\n",
            "accuracy list at 0.0 sparsity is [0.9750999808311462, 0.9825000166893005, 0.9835000038146973, 0.9825999736785889, 0.9828000068664551, 0.9836000204086304, 0.9763000011444092, 0.960099995136261]\n",
            "Pruniing for initial sparsity: 0.1\n",
            "Epoch 1/2\n",
            "  5/422 [..............................] - ETA: 1:42 - loss: 0.0495 - accuracy: 0.9891WARNING:tensorflow:Callback method `on_train_batch_end` is slow compared to the batch time (batch time: 0.0292s vs `on_train_batch_end` time: 0.1188s). Check your callbacks.\n",
            "422/422 [==============================] - 25s 48ms/step - loss: 0.0734 - accuracy: 0.9822 - val_loss: 0.0744 - val_accuracy: 0.9837\n",
            "Epoch 2/2\n",
            "422/422 [==============================] - 19s 45ms/step - loss: 0.0799 - accuracy: 0.9788 - val_loss: 0.0577 - val_accuracy: 0.9855\n",
            "Pruned test accuracy at final_sparsity: at 0.55 is 0.9847999811172485\n",
            "Epoch 1/2\n",
            "  5/422 [..............................] - ETA: 1:47 - loss: 0.0495 - accuracy: 0.9891WARNING:tensorflow:Callback method `on_train_batch_begin` is slow compared to the batch time (batch time: 0.0283s vs `on_train_batch_begin` time: 0.0296s). Check your callbacks.\n",
            "WARNING:tensorflow:Callback method `on_train_batch_end` is slow compared to the batch time (batch time: 0.0283s vs `on_train_batch_end` time: 0.1265s). Check your callbacks.\n",
            "422/422 [==============================] - 26s 47ms/step - loss: 0.0801 - accuracy: 0.9806 - val_loss: 0.1027 - val_accuracy: 0.9850\n",
            "Epoch 2/2\n",
            "422/422 [==============================] - 19s 45ms/step - loss: 0.0915 - accuracy: 0.9744 - val_loss: 0.0671 - val_accuracy: 0.9855\n",
            "Pruned test accuracy at final_sparsity: at 0.6000000000000001 is 0.9847000241279602\n",
            "Epoch 1/2\n",
            "  5/422 [..............................] - ETA: 1:48 - loss: 0.0495 - accuracy: 0.9891WARNING:tensorflow:Callback method `on_train_batch_begin` is slow compared to the batch time (batch time: 0.0293s vs `on_train_batch_begin` time: 0.0294s). Check your callbacks.\n",
            "WARNING:tensorflow:Callback method `on_train_batch_end` is slow compared to the batch time (batch time: 0.0293s vs `on_train_batch_end` time: 0.1266s). Check your callbacks.\n",
            "422/422 [==============================] - 26s 48ms/step - loss: 0.0760 - accuracy: 0.9799 - val_loss: 0.1310 - val_accuracy: 0.9788\n",
            "Epoch 2/2\n",
            "422/422 [==============================] - 19s 45ms/step - loss: 0.0925 - accuracy: 0.9780 - val_loss: 0.0740 - val_accuracy: 0.9827\n",
            "Pruned test accuracy at final_sparsity: at 0.6500000000000001 is 0.9793999791145325\n",
            "Epoch 1/2\n",
            "  5/422 [..............................] - ETA: 1:41 - loss: 0.0495 - accuracy: 0.9891WARNING:tensorflow:Callback method `on_train_batch_end` is slow compared to the batch time (batch time: 0.0287s vs `on_train_batch_end` time: 0.1179s). Check your callbacks.\n",
            "422/422 [==============================] - 25s 47ms/step - loss: 0.1062 - accuracy: 0.9688 - val_loss: 0.1621 - val_accuracy: 0.9312\n",
            "Epoch 2/2\n",
            "422/422 [==============================] - 19s 45ms/step - loss: 0.0952 - accuracy: 0.9778 - val_loss: 0.0801 - val_accuracy: 0.9842\n",
            "Pruned test accuracy at final_sparsity: at 0.7000000000000002 is 0.984000027179718\n",
            "Epoch 1/2\n",
            "  5/422 [..............................] - ETA: 1:48 - loss: 0.0495 - accuracy: 0.9891WARNING:tensorflow:Callback method `on_train_batch_end` is slow compared to the batch time (batch time: 0.0308s vs `on_train_batch_end` time: 0.1249s). Check your callbacks.\n",
            "422/422 [==============================] - 25s 48ms/step - loss: 0.0986 - accuracy: 0.9724 - val_loss: 0.1274 - val_accuracy: 0.9767\n",
            "Epoch 2/2\n",
            "422/422 [==============================] - 19s 45ms/step - loss: 0.0989 - accuracy: 0.9774 - val_loss: 0.0805 - val_accuracy: 0.9817\n",
            "Pruned test accuracy at final_sparsity: at 0.7500000000000002 is 0.9810000061988831\n",
            "Epoch 1/2\n",
            "  5/422 [..............................] - ETA: 1:49 - loss: 0.0495 - accuracy: 0.9891WARNING:tensorflow:Callback method `on_train_batch_begin` is slow compared to the batch time (batch time: 0.0290s vs `on_train_batch_begin` time: 0.0303s). Check your callbacks.\n",
            "WARNING:tensorflow:Callback method `on_train_batch_end` is slow compared to the batch time (batch time: 0.0290s vs `on_train_batch_end` time: 0.1284s). Check your callbacks.\n",
            "422/422 [==============================] - 26s 48ms/step - loss: 0.1310 - accuracy: 0.9584 - val_loss: 0.1192 - val_accuracy: 0.9738\n",
            "Epoch 2/2\n",
            "422/422 [==============================] - 19s 45ms/step - loss: 0.1013 - accuracy: 0.9735 - val_loss: 0.0672 - val_accuracy: 0.9842\n",
            "Pruned test accuracy at final_sparsity: at 0.8000000000000003 is 0.9821000099182129\n",
            "Epoch 1/2\n",
            "  5/422 [..............................] - ETA: 1:44 - loss: 0.0495 - accuracy: 0.9891WARNING:tensorflow:Callback method `on_train_batch_end` is slow compared to the batch time (batch time: 0.0289s vs `on_train_batch_end` time: 0.1228s). Check your callbacks.\n",
            "422/422 [==============================] - 25s 48ms/step - loss: 0.1379 - accuracy: 0.9546 - val_loss: 0.1570 - val_accuracy: 0.9812\n",
            "Epoch 2/2\n",
            "422/422 [==============================] - 19s 45ms/step - loss: 0.1119 - accuracy: 0.9739 - val_loss: 0.0821 - val_accuracy: 0.9773\n",
            "Pruned test accuracy at final_sparsity: at 0.8500000000000003 is 0.9754999876022339\n",
            "Epoch 1/2\n",
            "  5/422 [..............................] - ETA: 1:47 - loss: 0.0495 - accuracy: 0.9891WARNING:tensorflow:Callback method `on_train_batch_begin` is slow compared to the batch time (batch time: 0.0288s vs `on_train_batch_begin` time: 0.0289s). Check your callbacks.\n",
            "WARNING:tensorflow:Callback method `on_train_batch_end` is slow compared to the batch time (batch time: 0.0288s vs `on_train_batch_end` time: 0.1260s). Check your callbacks.\n",
            "422/422 [==============================] - 26s 48ms/step - loss: 0.1460 - accuracy: 0.9562 - val_loss: 0.1305 - val_accuracy: 0.9793\n",
            "Epoch 2/2\n",
            "422/422 [==============================] - 19s 45ms/step - loss: 0.1804 - accuracy: 0.9581 - val_loss: 0.1167 - val_accuracy: 0.9665\n",
            "Pruned test accuracy at final_sparsity: at 0.9000000000000004 is 0.9606999754905701\n",
            "[0.9847999811172485, 0.9847000241279602, 0.9793999791145325, 0.984000027179718, 0.9810000061988831, 0.9821000099182129, 0.9754999876022339, 0.9606999754905701]\n",
            "accuracy list at 0.1 sparsity is [0.9847999811172485, 0.9847000241279602, 0.9793999791145325, 0.984000027179718, 0.9810000061988831, 0.9821000099182129, 0.9754999876022339, 0.9606999754905701]\n",
            "Pruniing for initial sparsity: 0.2\n",
            "Epoch 1/2\n",
            "  5/422 [..............................] - ETA: 1:48 - loss: 0.0495 - accuracy: 0.9891WARNING:tensorflow:Callback method `on_train_batch_end` is slow compared to the batch time (batch time: 0.0294s vs `on_train_batch_end` time: 0.1266s). Check your callbacks.\n",
            "422/422 [==============================] - 26s 48ms/step - loss: 0.0747 - accuracy: 0.9826 - val_loss: 0.0747 - val_accuracy: 0.9860\n",
            "Epoch 2/2\n",
            "422/422 [==============================] - 19s 45ms/step - loss: 0.0838 - accuracy: 0.9795 - val_loss: 0.0809 - val_accuracy: 0.9812\n",
            "Pruned test accuracy at final_sparsity: at 0.55 is 0.9803000092506409\n",
            "Epoch 1/2\n",
            "  5/422 [..............................] - ETA: 1:42 - loss: 0.0495 - accuracy: 0.9891WARNING:tensorflow:Callback method `on_train_batch_end` is slow compared to the batch time (batch time: 0.0294s vs `on_train_batch_end` time: 0.1194s). Check your callbacks.\n",
            "422/422 [==============================] - 25s 48ms/step - loss: 0.0774 - accuracy: 0.9816 - val_loss: 0.0908 - val_accuracy: 0.9838\n",
            "Epoch 2/2\n",
            "422/422 [==============================] - 19s 45ms/step - loss: 0.0878 - accuracy: 0.9769 - val_loss: 0.0790 - val_accuracy: 0.9833\n",
            "Pruned test accuracy at final_sparsity: at 0.6000000000000001 is 0.9819999933242798\n",
            "Epoch 1/2\n",
            "  6/422 [..............................] - ETA: 1:33 - loss: 0.0484 - accuracy: 0.9883WARNING:tensorflow:Callback method `on_train_batch_end` is slow compared to the batch time (batch time: 0.0314s vs `on_train_batch_end` time: 0.1306s). Check your callbacks.\n",
            "422/422 [==============================] - 25s 48ms/step - loss: 0.0896 - accuracy: 0.9752 - val_loss: 0.1852 - val_accuracy: 0.8910\n",
            "Epoch 2/2\n",
            "422/422 [==============================] - 19s 45ms/step - loss: 0.0932 - accuracy: 0.9741 - val_loss: 0.0858 - val_accuracy: 0.9830\n",
            "Pruned test accuracy at final_sparsity: at 0.6500000000000001 is 0.9828000068664551\n",
            "Epoch 1/2\n",
            "  5/422 [..............................] - ETA: 1:58 - loss: 0.0495 - accuracy: 0.9891WARNING:tensorflow:Callback method `on_train_batch_begin` is slow compared to the batch time (batch time: 0.0303s vs `on_train_batch_begin` time: 0.0317s). Check your callbacks.\n",
            "WARNING:tensorflow:Callback method `on_train_batch_end` is slow compared to the batch time (batch time: 0.0303s vs `on_train_batch_end` time: 0.1403s). Check your callbacks.\n",
            "422/422 [==============================] - 26s 49ms/step - loss: 0.0934 - accuracy: 0.9771 - val_loss: 0.1097 - val_accuracy: 0.9762\n",
            "Epoch 2/2\n",
            "422/422 [==============================] - 19s 45ms/step - loss: 0.0890 - accuracy: 0.9803 - val_loss: 0.0733 - val_accuracy: 0.9825\n",
            "Pruned test accuracy at final_sparsity: at 0.7000000000000002 is 0.9840999841690063\n",
            "Epoch 1/2\n",
            "  5/422 [..............................] - ETA: 1:43 - loss: 0.0495 - accuracy: 0.9891WARNING:tensorflow:Callback method `on_train_batch_end` is slow compared to the batch time (batch time: 0.0291s vs `on_train_batch_end` time: 0.1200s). Check your callbacks.\n",
            "422/422 [==============================] - 25s 48ms/step - loss: 0.1201 - accuracy: 0.9729 - val_loss: 0.0865 - val_accuracy: 0.9817\n",
            "Epoch 2/2\n",
            "422/422 [==============================] - 19s 45ms/step - loss: 0.0940 - accuracy: 0.9778 - val_loss: 0.0673 - val_accuracy: 0.9835\n",
            "Pruned test accuracy at final_sparsity: at 0.7500000000000002 is 0.9832000136375427\n",
            "Epoch 1/2\n",
            "  5/422 [..............................] - ETA: 1:47 - loss: 0.0495 - accuracy: 0.9891WARNING:tensorflow:Callback method `on_train_batch_end` is slow compared to the batch time (batch time: 0.0291s vs `on_train_batch_end` time: 0.1270s). Check your callbacks.\n",
            "422/422 [==============================] - 26s 48ms/step - loss: 0.1231 - accuracy: 0.9663 - val_loss: 0.1563 - val_accuracy: 0.9808\n",
            "Epoch 2/2\n",
            "422/422 [==============================] - 19s 45ms/step - loss: 0.0971 - accuracy: 0.9774 - val_loss: 0.0759 - val_accuracy: 0.9832\n",
            "Pruned test accuracy at final_sparsity: at 0.8000000000000003 is 0.983299970626831\n",
            "Epoch 1/2\n",
            "  5/422 [..............................] - ETA: 1:50 - loss: 0.0495 - accuracy: 0.9891WARNING:tensorflow:Callback method `on_train_batch_end` is slow compared to the batch time (batch time: 0.0296s vs `on_train_batch_end` time: 0.1300s). Check your callbacks.\n",
            "422/422 [==============================] - 26s 48ms/step - loss: 0.1163 - accuracy: 0.9702 - val_loss: 0.0869 - val_accuracy: 0.9837\n",
            "Epoch 2/2\n",
            "422/422 [==============================] - 19s 45ms/step - loss: 0.1068 - accuracy: 0.9736 - val_loss: 0.0783 - val_accuracy: 0.9808\n",
            "Pruned test accuracy at final_sparsity: at 0.8500000000000003 is 0.9772999882698059\n",
            "Epoch 1/2\n",
            "  5/422 [..............................] - ETA: 1:42 - loss: 0.0495 - accuracy: 0.9891WARNING:tensorflow:Callback method `on_train_batch_end` is slow compared to the batch time (batch time: 0.0290s vs `on_train_batch_end` time: 0.1184s). Check your callbacks.\n",
            "422/422 [==============================] - 25s 48ms/step - loss: 0.1529 - accuracy: 0.9528 - val_loss: 0.1098 - val_accuracy: 0.9787\n",
            "Epoch 2/2\n",
            "422/422 [==============================] - 19s 45ms/step - loss: 0.1878 - accuracy: 0.9472 - val_loss: 0.1067 - val_accuracy: 0.9715\n",
            "Pruned test accuracy at final_sparsity: at 0.9000000000000004 is 0.9634000062942505\n",
            "[0.9803000092506409, 0.9819999933242798, 0.9828000068664551, 0.9840999841690063, 0.9832000136375427, 0.983299970626831, 0.9772999882698059, 0.9634000062942505]\n",
            "accuracy list at 0.2 sparsity is [0.9803000092506409, 0.9819999933242798, 0.9828000068664551, 0.9840999841690063, 0.9832000136375427, 0.983299970626831, 0.9772999882698059, 0.9634000062942505]\n",
            "Pruniing for initial sparsity: 0.30000000000000004\n",
            "Epoch 1/2\n",
            "  5/422 [..............................] - ETA: 1:48 - loss: 0.0495 - accuracy: 0.9891WARNING:tensorflow:Callback method `on_train_batch_end` is slow compared to the batch time (batch time: 0.0297s vs `on_train_batch_end` time: 0.1262s). Check your callbacks.\n",
            "422/422 [==============================] - 26s 48ms/step - loss: 0.0766 - accuracy: 0.9818 - val_loss: 0.0857 - val_accuracy: 0.9858\n",
            "Epoch 2/2\n",
            "422/422 [==============================] - 19s 45ms/step - loss: 0.0726 - accuracy: 0.9810 - val_loss: 0.0663 - val_accuracy: 0.9832\n",
            "Pruned test accuracy at final_sparsity: at 0.55 is 0.9814000129699707\n",
            "Epoch 1/2\n",
            "  5/422 [..............................] - ETA: 1:48 - loss: 0.0495 - accuracy: 0.9891WARNING:tensorflow:Callback method `on_train_batch_end` is slow compared to the batch time (batch time: 0.0291s vs `on_train_batch_end` time: 0.1286s). Check your callbacks.\n",
            "422/422 [==============================] - 26s 48ms/step - loss: 0.0895 - accuracy: 0.9778 - val_loss: 0.0699 - val_accuracy: 0.9845\n",
            "Epoch 2/2\n",
            "422/422 [==============================] - 19s 46ms/step - loss: 0.0736 - accuracy: 0.9819 - val_loss: 0.0657 - val_accuracy: 0.9847\n",
            "Pruned test accuracy at final_sparsity: at 0.6000000000000001 is 0.9836000204086304\n",
            "Epoch 1/2\n",
            "  5/422 [..............................] - ETA: 1:44 - loss: 0.0495 - accuracy: 0.9891WARNING:tensorflow:Callback method `on_train_batch_end` is slow compared to the batch time (batch time: 0.0300s vs `on_train_batch_end` time: 0.1218s). Check your callbacks.\n",
            "422/422 [==============================] - 25s 48ms/step - loss: 0.1139 - accuracy: 0.9699 - val_loss: 0.1693 - val_accuracy: 0.8910\n",
            "Epoch 2/2\n",
            "422/422 [==============================] - 19s 45ms/step - loss: 0.0736 - accuracy: 0.9814 - val_loss: 0.0856 - val_accuracy: 0.9803\n",
            "Pruned test accuracy at final_sparsity: at 0.6500000000000001 is 0.9797999858856201\n",
            "Epoch 1/2\n",
            "  5/422 [..............................] - ETA: 1:45 - loss: 0.0495 - accuracy: 0.9891WARNING:tensorflow:Callback method `on_train_batch_end` is slow compared to the batch time (batch time: 0.0295s vs `on_train_batch_end` time: 0.1227s). Check your callbacks.\n",
            "422/422 [==============================] - 25s 48ms/step - loss: 0.1025 - accuracy: 0.9712 - val_loss: 0.1036 - val_accuracy: 0.9802\n",
            "Epoch 2/2\n",
            "422/422 [==============================] - 19s 45ms/step - loss: 0.0791 - accuracy: 0.9809 - val_loss: 0.0643 - val_accuracy: 0.9848\n",
            "Pruned test accuracy at final_sparsity: at 0.7000000000000002 is 0.9833999872207642\n",
            "Epoch 1/2\n",
            "  5/422 [..............................] - ETA: 1:51 - loss: 0.0495 - accuracy: 0.9891WARNING:tensorflow:Callback method `on_train_batch_begin` is slow compared to the batch time (batch time: 0.0290s vs `on_train_batch_begin` time: 0.0293s). Check your callbacks.\n",
            "WARNING:tensorflow:Callback method `on_train_batch_end` is slow compared to the batch time (batch time: 0.0290s vs `on_train_batch_end` time: 0.1323s). Check your callbacks.\n",
            "422/422 [==============================] - 26s 48ms/step - loss: 0.1205 - accuracy: 0.9613 - val_loss: 0.0848 - val_accuracy: 0.9807\n",
            "Epoch 2/2\n",
            "422/422 [==============================] - 19s 45ms/step - loss: 0.1049 - accuracy: 0.9683 - val_loss: 0.0639 - val_accuracy: 0.9833\n",
            "Pruned test accuracy at final_sparsity: at 0.7500000000000002 is 0.9842000007629395\n",
            "Epoch 1/2\n",
            "  5/422 [..............................] - ETA: 1:46 - loss: 0.0495 - accuracy: 0.9891WARNING:tensorflow:Callback method `on_train_batch_begin` is slow compared to the batch time (batch time: 0.0289s vs `on_train_batch_begin` time: 0.0305s). Check your callbacks.\n",
            "WARNING:tensorflow:Callback method `on_train_batch_end` is slow compared to the batch time (batch time: 0.0289s vs `on_train_batch_end` time: 0.1240s). Check your callbacks.\n",
            "422/422 [==============================] - 25s 48ms/step - loss: 0.1359 - accuracy: 0.9612 - val_loss: 0.0740 - val_accuracy: 0.9830\n",
            "Epoch 2/2\n",
            "422/422 [==============================] - 19s 45ms/step - loss: 0.0792 - accuracy: 0.9814 - val_loss: 0.0659 - val_accuracy: 0.9853\n",
            "Pruned test accuracy at final_sparsity: at 0.8000000000000003 is 0.9836000204086304\n",
            "Epoch 1/2\n",
            "  6/422 [..............................] - ETA: 1:32 - loss: 0.0484 - accuracy: 0.9883WARNING:tensorflow:Callback method `on_train_batch_end` is slow compared to the batch time (batch time: 0.0311s vs `on_train_batch_end` time: 0.1301s). Check your callbacks.\n",
            "422/422 [==============================] - 26s 48ms/step - loss: 0.1495 - accuracy: 0.9620 - val_loss: 0.1052 - val_accuracy: 0.9842\n",
            "Epoch 2/2\n",
            "422/422 [==============================] - 19s 45ms/step - loss: 0.1222 - accuracy: 0.9731 - val_loss: 0.0746 - val_accuracy: 0.9830\n",
            "Pruned test accuracy at final_sparsity: at 0.8500000000000003 is 0.9783999919891357\n",
            "Epoch 1/2\n",
            "  6/422 [..............................] - ETA: 1:32 - loss: 0.0484 - accuracy: 0.9883WARNING:tensorflow:Callback method `on_train_batch_end` is slow compared to the batch time (batch time: 0.0320s vs `on_train_batch_end` time: 0.1301s). Check your callbacks.\n",
            "422/422 [==============================] - 26s 48ms/step - loss: 0.1703 - accuracy: 0.9523 - val_loss: 0.0934 - val_accuracy: 0.9780\n",
            "Epoch 2/2\n",
            "422/422 [==============================] - 19s 45ms/step - loss: 0.3051 - accuracy: 0.9137 - val_loss: 0.1137 - val_accuracy: 0.9672\n",
            "Pruned test accuracy at final_sparsity: at 0.9000000000000004 is 0.9552000164985657\n",
            "[0.9814000129699707, 0.9836000204086304, 0.9797999858856201, 0.9833999872207642, 0.9842000007629395, 0.9836000204086304, 0.9783999919891357, 0.9552000164985657]\n",
            "accuracy list at 0.30000000000000004 sparsity is [0.9814000129699707, 0.9836000204086304, 0.9797999858856201, 0.9833999872207642, 0.9842000007629395, 0.9836000204086304, 0.9783999919891357, 0.9552000164985657]\n",
            "Pruniing for initial sparsity: 0.4\n",
            "Epoch 1/2\n",
            "  5/422 [..............................] - ETA: 1:43 - loss: 0.0495 - accuracy: 0.9891WARNING:tensorflow:Callback method `on_train_batch_end` is slow compared to the batch time (batch time: 0.0297s vs `on_train_batch_end` time: 0.1205s). Check your callbacks.\n",
            "422/422 [==============================] - 26s 49ms/step - loss: 0.0973 - accuracy: 0.9766 - val_loss: 0.1097 - val_accuracy: 0.9868\n",
            "Epoch 2/2\n",
            "422/422 [==============================] - 19s 46ms/step - loss: 0.0641 - accuracy: 0.9834 - val_loss: 0.0563 - val_accuracy: 0.9848\n",
            "Pruned test accuracy at final_sparsity: at 0.55 is 0.9822999835014343\n",
            "Epoch 1/2\n",
            "  5/422 [..............................] - ETA: 1:47 - loss: 0.0495 - accuracy: 0.9891WARNING:tensorflow:Callback method `on_train_batch_end` is slow compared to the batch time (batch time: 0.0316s vs `on_train_batch_end` time: 0.1243s). Check your callbacks.\n",
            "422/422 [==============================] - 27s 49ms/step - loss: 0.1039 - accuracy: 0.9719 - val_loss: 0.0775 - val_accuracy: 0.9852\n",
            "Epoch 2/2\n",
            "422/422 [==============================] - 20s 47ms/step - loss: 0.0756 - accuracy: 0.9814 - val_loss: 0.0730 - val_accuracy: 0.9822\n",
            "Pruned test accuracy at final_sparsity: at 0.6000000000000001 is 0.9822999835014343\n",
            "Epoch 1/2\n",
            "  5/422 [..............................] - ETA: 1:55 - loss: 0.0495 - accuracy: 0.9891WARNING:tensorflow:Callback method `on_train_batch_begin` is slow compared to the batch time (batch time: 0.0298s vs `on_train_batch_begin` time: 0.0300s). Check your callbacks.\n",
            "WARNING:tensorflow:Callback method `on_train_batch_end` is slow compared to the batch time (batch time: 0.0298s vs `on_train_batch_end` time: 0.1375s). Check your callbacks.\n",
            "422/422 [==============================] - 26s 49ms/step - loss: 0.1179 - accuracy: 0.9724 - val_loss: 0.0720 - val_accuracy: 0.9843\n",
            "Epoch 2/2\n",
            "422/422 [==============================] - 19s 46ms/step - loss: 0.0723 - accuracy: 0.9816 - val_loss: 0.0665 - val_accuracy: 0.9843\n",
            "Pruned test accuracy at final_sparsity: at 0.6500000000000001 is 0.9837999939918518\n",
            "Epoch 1/2\n",
            "  5/422 [..............................] - ETA: 1:43 - loss: 0.0495 - accuracy: 0.9891WARNING:tensorflow:Callback method `on_train_batch_end` is slow compared to the batch time (batch time: 0.0297s vs `on_train_batch_end` time: 0.1207s). Check your callbacks.\n",
            "422/422 [==============================] - 25s 48ms/step - loss: 0.1156 - accuracy: 0.9753 - val_loss: 0.0927 - val_accuracy: 0.9823\n",
            "Epoch 2/2\n",
            "422/422 [==============================] - 19s 45ms/step - loss: 0.0792 - accuracy: 0.9808 - val_loss: 0.0824 - val_accuracy: 0.9797\n",
            "Pruned test accuracy at final_sparsity: at 0.7000000000000002 is 0.9794999957084656\n",
            "Epoch 1/2\n",
            "  5/422 [..............................] - ETA: 1:47 - loss: 0.0495 - accuracy: 0.9891WARNING:tensorflow:Callback method `on_train_batch_begin` is slow compared to the batch time (batch time: 0.0292s vs `on_train_batch_begin` time: 0.0292s). Check your callbacks.\n",
            "WARNING:tensorflow:Callback method `on_train_batch_end` is slow compared to the batch time (batch time: 0.0292s vs `on_train_batch_end` time: 0.1264s). Check your callbacks.\n",
            "422/422 [==============================] - 26s 48ms/step - loss: 0.1383 - accuracy: 0.9583 - val_loss: 0.0767 - val_accuracy: 0.9812\n",
            "Epoch 2/2\n",
            "422/422 [==============================] - 19s 45ms/step - loss: 0.0753 - accuracy: 0.9818 - val_loss: 0.0687 - val_accuracy: 0.9867\n",
            "Pruned test accuracy at final_sparsity: at 0.7500000000000002 is 0.9837999939918518\n",
            "Epoch 1/2\n",
            "  5/422 [..............................] - ETA: 1:49 - loss: 0.0495 - accuracy: 0.9891WARNING:tensorflow:Callback method `on_train_batch_end` is slow compared to the batch time (batch time: 0.0303s vs `on_train_batch_end` time: 0.1286s). Check your callbacks.\n",
            "422/422 [==============================] - 26s 49ms/step - loss: 0.1649 - accuracy: 0.9553 - val_loss: 0.0748 - val_accuracy: 0.9808\n",
            "Epoch 2/2\n",
            "422/422 [==============================] - 20s 47ms/step - loss: 0.0853 - accuracy: 0.9802 - val_loss: 0.0795 - val_accuracy: 0.9820\n",
            "Pruned test accuracy at final_sparsity: at 0.8000000000000003 is 0.9807999730110168\n",
            "Epoch 1/2\n",
            "  5/422 [..............................] - ETA: 1:47 - loss: 0.0495 - accuracy: 0.9891WARNING:tensorflow:Callback method `on_train_batch_end` is slow compared to the batch time (batch time: 0.0301s vs `on_train_batch_end` time: 0.1254s). Check your callbacks.\n",
            "422/422 [==============================] - 26s 49ms/step - loss: 0.1540 - accuracy: 0.9495 - val_loss: 0.0930 - val_accuracy: 0.9832\n",
            "Epoch 2/2\n",
            "422/422 [==============================] - 19s 46ms/step - loss: 0.1086 - accuracy: 0.9663 - val_loss: 0.0765 - val_accuracy: 0.9825\n",
            "Pruned test accuracy at final_sparsity: at 0.8500000000000003 is 0.9786999821662903\n",
            "Epoch 1/2\n",
            "  5/422 [..............................] - ETA: 1:49 - loss: 0.0495 - accuracy: 0.9891WARNING:tensorflow:Callback method `on_train_batch_end` is slow compared to the batch time (batch time: 0.0303s vs `on_train_batch_end` time: 0.1281s). Check your callbacks.\n",
            "422/422 [==============================] - 26s 48ms/step - loss: 0.1609 - accuracy: 0.9505 - val_loss: 0.2224 - val_accuracy: 0.9718\n",
            "Epoch 2/2\n",
            "422/422 [==============================] - 19s 45ms/step - loss: 0.2770 - accuracy: 0.9416 - val_loss: 0.1655 - val_accuracy: 0.9545\n",
            "Pruned test accuracy at final_sparsity: at 0.9000000000000004 is 0.9488000273704529\n",
            "[0.9822999835014343, 0.9822999835014343, 0.9837999939918518, 0.9794999957084656, 0.9837999939918518, 0.9807999730110168, 0.9786999821662903, 0.9488000273704529]\n",
            "accuracy list at 0.4 sparsity is [0.9822999835014343, 0.9822999835014343, 0.9837999939918518, 0.9794999957084656, 0.9837999939918518, 0.9807999730110168, 0.9786999821662903, 0.9488000273704529]\n",
            "Pruniing for initial sparsity: 0.5\n",
            "Epoch 1/2\n",
            "  5/422 [..............................] - ETA: 1:49 - loss: 0.0495 - accuracy: 0.9891WARNING:tensorflow:Callback method `on_train_batch_end` is slow compared to the batch time (batch time: 0.0297s vs `on_train_batch_end` time: 0.1286s). Check your callbacks.\n",
            "422/422 [==============================] - 26s 48ms/step - loss: 0.0862 - accuracy: 0.9815 - val_loss: 0.0706 - val_accuracy: 0.9863\n",
            "Epoch 2/2\n",
            "422/422 [==============================] - 19s 45ms/step - loss: 0.0841 - accuracy: 0.9788 - val_loss: 0.0598 - val_accuracy: 0.9845\n",
            "Pruned test accuracy at final_sparsity: at 0.55 is 0.9818999767303467\n",
            "Epoch 1/2\n",
            "  5/422 [..............................] - ETA: 1:43 - loss: 0.0495 - accuracy: 0.9891WARNING:tensorflow:Callback method `on_train_batch_end` is slow compared to the batch time (batch time: 0.0302s vs `on_train_batch_end` time: 0.1198s). Check your callbacks.\n",
            "422/422 [==============================] - 25s 48ms/step - loss: 0.0881 - accuracy: 0.9795 - val_loss: 0.0817 - val_accuracy: 0.9842\n",
            "Epoch 2/2\n",
            "422/422 [==============================] - 20s 47ms/step - loss: 0.0726 - accuracy: 0.9824 - val_loss: 0.0754 - val_accuracy: 0.9810\n",
            "Pruned test accuracy at final_sparsity: at 0.6000000000000001 is 0.9807000160217285\n",
            "Epoch 1/2\n",
            "  5/422 [..............................] - ETA: 1:48 - loss: 0.0495 - accuracy: 0.9891WARNING:tensorflow:Callback method `on_train_batch_end` is slow compared to the batch time (batch time: 0.0300s vs `on_train_batch_end` time: 0.1271s). Check your callbacks.\n",
            "422/422 [==============================] - 26s 48ms/step - loss: 0.0966 - accuracy: 0.9776 - val_loss: 0.0793 - val_accuracy: 0.9842\n",
            "Epoch 2/2\n",
            "422/422 [==============================] - 19s 46ms/step - loss: 0.0776 - accuracy: 0.9811 - val_loss: 0.0692 - val_accuracy: 0.9837\n",
            "Pruned test accuracy at final_sparsity: at 0.6500000000000001 is 0.9824000000953674\n",
            "Epoch 1/2\n",
            "  5/422 [..............................] - ETA: 1:51 - loss: 0.0495 - accuracy: 0.9891WARNING:tensorflow:Callback method `on_train_batch_begin` is slow compared to the batch time (batch time: 0.0294s vs `on_train_batch_begin` time: 0.0301s). Check your callbacks.\n",
            "WARNING:tensorflow:Callback method `on_train_batch_end` is slow compared to the batch time (batch time: 0.0294s vs `on_train_batch_end` time: 0.1320s). Check your callbacks.\n",
            "422/422 [==============================] - 26s 49ms/step - loss: 0.1234 - accuracy: 0.9681 - val_loss: 0.0848 - val_accuracy: 0.9810\n",
            "Epoch 2/2\n",
            "422/422 [==============================] - 19s 46ms/step - loss: 0.0728 - accuracy: 0.9817 - val_loss: 0.0714 - val_accuracy: 0.9837\n",
            "Pruned test accuracy at final_sparsity: at 0.7000000000000002 is 0.9828000068664551\n",
            "Epoch 1/2\n",
            "  5/422 [..............................] - ETA: 1:43 - loss: 0.0495 - accuracy: 0.9891WARNING:tensorflow:Callback method `on_train_batch_end` is slow compared to the batch time (batch time: 0.0302s vs `on_train_batch_end` time: 0.1208s). Check your callbacks.\n",
            "422/422 [==============================] - 25s 48ms/step - loss: 0.1465 - accuracy: 0.9571 - val_loss: 0.0786 - val_accuracy: 0.9823\n",
            "Epoch 2/2\n",
            "422/422 [==============================] - 19s 46ms/step - loss: 0.0640 - accuracy: 0.9835 - val_loss: 0.0698 - val_accuracy: 0.9843\n",
            "Pruned test accuracy at final_sparsity: at 0.7500000000000002 is 0.9836999773979187\n",
            "Epoch 1/2\n",
            "  5/422 [..............................] - ETA: 1:48 - loss: 0.0495 - accuracy: 0.9891WARNING:tensorflow:Callback method `on_train_batch_end` is slow compared to the batch time (batch time: 0.0294s vs `on_train_batch_end` time: 0.1275s). Check your callbacks.\n",
            "422/422 [==============================] - 26s 49ms/step - loss: 0.1863 - accuracy: 0.9348 - val_loss: 0.1181 - val_accuracy: 0.9862\n",
            "Epoch 2/2\n",
            "422/422 [==============================] - 19s 46ms/step - loss: 0.1185 - accuracy: 0.9683 - val_loss: 0.0600 - val_accuracy: 0.9813\n",
            "Pruned test accuracy at final_sparsity: at 0.8000000000000003 is 0.982200026512146\n",
            "Epoch 1/2\n",
            "  5/422 [..............................] - ETA: 1:51 - loss: 0.0495 - accuracy: 0.9891WARNING:tensorflow:Callback method `on_train_batch_end` is slow compared to the batch time (batch time: 0.0296s vs `on_train_batch_end` time: 0.1319s). Check your callbacks.\n",
            "422/422 [==============================] - 26s 49ms/step - loss: 0.1549 - accuracy: 0.9550 - val_loss: 0.0994 - val_accuracy: 0.9843\n",
            "Epoch 2/2\n",
            "422/422 [==============================] - 20s 46ms/step - loss: 0.1305 - accuracy: 0.9571 - val_loss: 0.0720 - val_accuracy: 0.9832\n",
            "Pruned test accuracy at final_sparsity: at 0.8500000000000003 is 0.9775000214576721\n",
            "Epoch 1/2\n",
            "  5/422 [..............................] - ETA: 1:48 - loss: 0.0495 - accuracy: 0.9891WARNING:tensorflow:Callback method `on_train_batch_end` is slow compared to the batch time (batch time: 0.0300s vs `on_train_batch_end` time: 0.1281s). Check your callbacks.\n",
            "422/422 [==============================] - 26s 50ms/step - loss: 0.1747 - accuracy: 0.9374 - val_loss: 0.1071 - val_accuracy: 0.9755\n",
            "Epoch 2/2\n",
            "422/422 [==============================] - 20s 47ms/step - loss: 0.1594 - accuracy: 0.9601 - val_loss: 0.1052 - val_accuracy: 0.9705\n",
            "Pruned test accuracy at final_sparsity: at 0.9000000000000004 is 0.963699996471405\n",
            "[0.9818999767303467, 0.9807000160217285, 0.9824000000953674, 0.9828000068664551, 0.9836999773979187, 0.982200026512146, 0.9775000214576721, 0.963699996471405]\n",
            "accuracy list at 0.5 sparsity is [0.9818999767303467, 0.9807000160217285, 0.9824000000953674, 0.9828000068664551, 0.9836999773979187, 0.982200026512146, 0.9775000214576721, 0.963699996471405]\n"
          ],
          "name": "stdout"
        }
      ]
    },
    {
      "cell_type": "code",
      "metadata": {
        "colab": {
          "base_uri": "https://localhost:8080/"
        },
        "id": "SAldXthakq1G",
        "outputId": "fd07ef2f-5d8c-44c4-e90e-67925552843c"
      },
      "source": [
        "!du -sh /content/drive/MyDrive/MnistResults/*"
      ],
      "execution_count": 3,
      "outputs": [
        {
          "output_type": "stream",
          "text": [
            "27M\t/content/drive/MyDrive/MnistResults/best_weights4.hdf5\n",
            "27M\t/content/drive/MyDrive/MnistResults/best_weights5.hdf5\n",
            "95K\t/content/drive/MyDrive/MnistResults/cnn_best_weights4.hdf5\n",
            "95K\t/content/drive/MyDrive/MnistResults/cnn_latest_weights4.hdf5\n",
            "1.0K\t/content/drive/MyDrive/MnistResults/cnn_mylogs4.csv\n",
            "367K\t/content/drive/MyDrive/MnistResults/cnn_save_basemodel4.tf\n",
            "11M\t/content/drive/MyDrive/MnistResults/compressed1.tflite\n",
            "21M\t/content/drive/MyDrive/MnistResults/dense_best_weights1.hdf5\n",
            "21M\t/content/drive/MyDrive/MnistResults/dense_latest_weights1.hdf5\n",
            "4.0K\t/content/drive/MyDrive/MnistResults/dense_mylogs1.csv\n",
            "27M\t/content/drive/MyDrive/MnistResults/latest_weights1.hdf5\n",
            "27M\t/content/drive/MyDrive/MnistResults/latest_weights2.hdf5\n",
            "27M\t/content/drive/MyDrive/MnistResults/latest_weights3.hdf5\n",
            "27M\t/content/drive/MyDrive/MnistResults/latest_weights4.hdf5\n",
            "27M\t/content/drive/MyDrive/MnistResults/latest_weights5.hdf5\n",
            "512\t/content/drive/MyDrive/MnistResults/mylogs1.csv\n",
            "512\t/content/drive/MyDrive/MnistResults/mylogs2.csv\n",
            "512\t/content/drive/MyDrive/MnistResults/mylogs3.csv\n",
            "5.5K\t/content/drive/MyDrive/MnistResults/mylogs4.csv\n",
            "5.5K\t/content/drive/MyDrive/MnistResults/mylogs5.csv\n",
            "27M\t/content/drive/MyDrive/MnistResults/pruned_file1.h5\n",
            "27M\t/content/drive/MyDrive/MnistResults/pruned_file2.h5\n",
            "27M\t/content/drive/MyDrive/MnistResults/pruned_file4_30.h5\n",
            "27M\t/content/drive/MyDrive/MnistResults/pruned_file4_60.h5\n",
            "79M\t/content/drive/MyDrive/MnistResults/save_basemode2.tf\n",
            "79M\t/content/drive/MyDrive/MnistResults/save_basemode3.tf\n",
            "79M\t/content/drive/MyDrive/MnistResults/save_basemodel4.tf\n",
            "79M\t/content/drive/MyDrive/MnistResults/save_basemodel5.tf\n",
            "79M\t/content/drive/MyDrive/MnistResults/save_basemodel.tf\n",
            "57M\t/content/drive/MyDrive/MnistResults/vggfine_best_weights1.hdf5\n",
            "263K\t/content/drive/MyDrive/MnistResults/vggfine_best_weights2.hdf5\n",
            "57M\t/content/drive/MyDrive/MnistResults/vggfine_best_weights4.hdf5\n",
            "57M\t/content/drive/MyDrive/MnistResults/vggfine_latest_weights1.hdf5\n",
            "263K\t/content/drive/MyDrive/MnistResults/vggfine_latest_weights2.hdf5\n",
            "57M\t/content/drive/MyDrive/MnistResults/vggfine_latest_weights4.hdf5\n",
            "2.5K\t/content/drive/MyDrive/MnistResults/vggfine_mylogs1.csv\n",
            "512\t/content/drive/MyDrive/MnistResults/vggfine_mylogs2.csv\n",
            "4.5K\t/content/drive/MyDrive/MnistResults/vggfine_mylogs4.csv\n",
            "158M\t/content/drive/MyDrive/MnistResults/vggfine_save_basemodel4.tf\n",
            "59M\t/content/drive/MyDrive/MnistResults/vggfine_save_basemodel.tf\n"
          ],
          "name": "stdout"
        }
      ]
    },
    {
      "cell_type": "markdown",
      "metadata": {
        "id": "gnBa4RaGve0q"
      },
      "source": [
        "## Compression of VGG"
      ]
    },
    {
      "cell_type": "code",
      "metadata": {
        "id": "NQn4wGIHvd0o"
      },
      "source": [
        ""
      ],
      "execution_count": null,
      "outputs": []
    }
  ]
}
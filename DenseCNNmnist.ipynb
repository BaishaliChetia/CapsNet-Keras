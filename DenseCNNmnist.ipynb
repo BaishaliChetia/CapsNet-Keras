{
  "nbformat": 4,
  "nbformat_minor": 0,
  "metadata": {
    "colab": {
      "name": "DenseCNNmnist.ipynb",
      "provenance": [],
      "mount_file_id": "1UbajVYGCFEwEfpennFpQqlvvm4RtIPXc",
      "authorship_tag": "ABX9TyMd3aMwLu6OYQ4NOSoXLNq4",
      "include_colab_link": true
    },
    "kernelspec": {
      "name": "python3",
      "display_name": "Python 3"
    },
    "language_info": {
      "name": "python"
    },
    "accelerator": "GPU"
  },
  "cells": [
    {
      "cell_type": "markdown",
      "metadata": {
        "id": "view-in-github",
        "colab_type": "text"
      },
      "source": [
        "<a href=\"https://colab.research.google.com/github/BaishaliChetia/CapsNet-Keras/blob/master/DenseCNNmnist.ipynb\" target=\"_parent\"><img src=\"https://colab.research.google.com/assets/colab-badge.svg\" alt=\"Open In Colab\"/></a>"
      ]
    },
    {
      "cell_type": "code",
      "metadata": {
        "colab": {
          "base_uri": "https://localhost:8080/"
        },
        "id": "vKBYGxcU_lxA",
        "outputId": "ef28bcbd-eb11-4a8c-a336-e7919151edfb"
      },
      "source": [
        "import tempfile\n",
        "import os\n",
        "\n",
        "import tensorflow as tf\n",
        "import numpy as np\n",
        "\n",
        "from tensorflow import keras\n",
        "\n",
        "%load_ext tensorboard\n",
        "tf.random.set_seed(500000)"
      ],
      "execution_count": 18,
      "outputs": [
        {
          "output_type": "stream",
          "text": [
            "The tensorboard extension is already loaded. To reload it, use:\n",
            "  %reload_ext tensorboard\n"
          ],
          "name": "stdout"
        }
      ]
    },
    {
      "cell_type": "code",
      "metadata": {
        "id": "zS5qbNcg_v5I"
      },
      "source": [
        "from keras.callbacks import ModelCheckpoint, CSVLogger\n",
        "#comparison_metric = MyAccuracy()\n",
        "#checkpoint_filepath = \"/content/drive/MyDrive/Weights/weights-improvement-{epoch:02d}-{val_my_accuracy:.2f}.hdf5\"\n",
        "model_checkpoint_callback = tf.keras.callbacks.ModelCheckpoint(\n",
        "        filepath = \"/content/drive/MyDrive/MnistResults/dense_best_weights1.hdf5\",\n",
        "        save_weights_only=True,\n",
        "        monitor=\"val_accuracy\",\n",
        "        #monitor=\"val_my_accuracy_19\",\n",
        "        mode='max',\n",
        "        save_best_only=True)\n",
        "model_checkpoint_callback2 = tf.keras.callbacks.ModelCheckpoint(\n",
        "        filepath = \"/content/drive/MyDrive/MnistResults/dense_latest_weights1.hdf5\",\n",
        "        save_weights_only=True,\n",
        "        monitor=\"val_accuracy\",\n",
        "        mode='max',\n",
        "        save_best_only=False)\n",
        "log_csv = CSVLogger(\"/content/drive/MyDrive/MnistResults/dense_mylogs1.csv\", separator = \",\", append = False)\n",
        "callback_list = [model_checkpoint_callback, model_checkpoint_callback2, log_csv]"
      ],
      "execution_count": 19,
      "outputs": []
    },
    {
      "cell_type": "code",
      "metadata": {
        "id": "1Qo9o0Rv__xI"
      },
      "source": [
        "# Load MNIST dataset\n",
        "mnist = keras.datasets.mnist\n",
        "(train_images, train_labels), (test_images, test_labels) = mnist.load_data()\n",
        "\n",
        "# Normalize the input image so that each pixel value is between 0 and 1.\n",
        "train_images = train_images / 255.0\n",
        "test_images = test_images / 255.0"
      ],
      "execution_count": 20,
      "outputs": []
    },
    {
      "cell_type": "code",
      "metadata": {
        "colab": {
          "base_uri": "https://localhost:8080/"
        },
        "id": "DROd08fQAEhY",
        "outputId": "f2b60e5d-c737-4f30-a18d-cfd2a3dd8d1f"
      },
      "source": [
        "\n",
        "# Define the model architecture.\n",
        "model = keras.Sequential([\n",
        "  keras.layers.InputLayer(input_shape=(28, 28)),\n",
        "  keras.layers.Reshape(target_shape=(28, 28, 1)),\n",
        "  keras.layers.Conv2D(filters=12, kernel_size=(3, 3), activation='relu'),\n",
        "  keras.layers.MaxPooling2D(pool_size=(2, 2)),\n",
        "  keras.layers.Flatten(),\n",
        "  keras.layers.Dense(2000, activation='relu'),\n",
        "  keras.layers.Dense(512, activation = 'relu'),\n",
        "  keras.layers.Dense(512, activation = 'relu'),\n",
        "  keras.layers.Dense(250, activation='relu'),\n",
        "  keras.layers.Dense(10, activation='softmax')\n",
        "])\n",
        "\n",
        "model.summary()\n",
        "\n"
      ],
      "execution_count": 21,
      "outputs": [
        {
          "output_type": "stream",
          "text": [
            "Model: \"sequential_4\"\n",
            "_________________________________________________________________\n",
            "Layer (type)                 Output Shape              Param #   \n",
            "=================================================================\n",
            "reshape_4 (Reshape)          (None, 28, 28, 1)         0         \n",
            "_________________________________________________________________\n",
            "conv2d_4 (Conv2D)            (None, 26, 26, 12)        120       \n",
            "_________________________________________________________________\n",
            "max_pooling2d_4 (MaxPooling2 (None, 13, 13, 12)        0         \n",
            "_________________________________________________________________\n",
            "flatten_4 (Flatten)          (None, 2028)              0         \n",
            "_________________________________________________________________\n",
            "dense_19 (Dense)             (None, 2000)              4058000   \n",
            "_________________________________________________________________\n",
            "dense_20 (Dense)             (None, 512)               1024512   \n",
            "_________________________________________________________________\n",
            "dense_21 (Dense)             (None, 512)               262656    \n",
            "_________________________________________________________________\n",
            "dense_22 (Dense)             (None, 250)               128250    \n",
            "_________________________________________________________________\n",
            "dense_23 (Dense)             (None, 10)                2510      \n",
            "=================================================================\n",
            "Total params: 5,476,048\n",
            "Trainable params: 5,476,048\n",
            "Non-trainable params: 0\n",
            "_________________________________________________________________\n"
          ],
          "name": "stdout"
        }
      ]
    },
    {
      "cell_type": "code",
      "metadata": {
        "colab": {
          "base_uri": "https://localhost:8080/"
        },
        "id": "0efJhbZwDFGC",
        "outputId": "719677b7-6e41-4d30-ebb8-e66f6806b13d"
      },
      "source": [
        "#Train the digit classification model\n",
        "model.compile(optimizer='adam',\n",
        "              loss=tf.keras.losses.SparseCategoricalCrossentropy(from_logits=True),\n",
        "              metrics=['accuracy'])\n",
        "\n",
        "history = model.fit(\n",
        "  train_images,\n",
        "  train_labels,\n",
        "  epochs= 10,\n",
        "  validation_split=0.1, callbacks = callback_list\n",
        ")"
      ],
      "execution_count": 12,
      "outputs": [
        {
          "output_type": "stream",
          "text": [
            "Epoch 1/10\n"
          ],
          "name": "stdout"
        },
        {
          "output_type": "stream",
          "text": [
            "/usr/local/lib/python3.7/dist-packages/tensorflow/python/keras/backend.py:4930: UserWarning: \"`sparse_categorical_crossentropy` received `from_logits=True`, but the `output` argument was produced by a sigmoid or softmax activation and thus does not represent logits. Was this intended?\"\n",
            "  '\"`sparse_categorical_crossentropy` received `from_logits=True`, but '\n"
          ],
          "name": "stderr"
        },
        {
          "output_type": "stream",
          "text": [
            "1688/1688 [==============================] - 6s 3ms/step - loss: 0.1621 - accuracy: 0.9515 - val_loss: 0.0684 - val_accuracy: 0.9817\n",
            "Epoch 2/10\n",
            "1688/1688 [==============================] - 5s 3ms/step - loss: 0.0663 - accuracy: 0.9817 - val_loss: 0.0641 - val_accuracy: 0.9840\n",
            "Epoch 3/10\n",
            "1688/1688 [==============================] - 5s 3ms/step - loss: 0.0420 - accuracy: 0.9881 - val_loss: 0.0665 - val_accuracy: 0.9872\n",
            "Epoch 4/10\n",
            "1688/1688 [==============================] - 5s 3ms/step - loss: 0.0315 - accuracy: 0.9915 - val_loss: 0.0764 - val_accuracy: 0.9852\n",
            "Epoch 5/10\n",
            "1688/1688 [==============================] - 5s 3ms/step - loss: 0.0258 - accuracy: 0.9933 - val_loss: 0.0661 - val_accuracy: 0.9853\n",
            "Epoch 6/10\n",
            "1688/1688 [==============================] - 5s 3ms/step - loss: 0.0210 - accuracy: 0.9947 - val_loss: 0.0753 - val_accuracy: 0.9850\n",
            "Epoch 7/10\n",
            "1688/1688 [==============================] - 5s 3ms/step - loss: 0.0150 - accuracy: 0.9958 - val_loss: 0.0958 - val_accuracy: 0.9888\n",
            "Epoch 8/10\n",
            "1688/1688 [==============================] - 5s 3ms/step - loss: 0.0168 - accuracy: 0.9961 - val_loss: 0.1238 - val_accuracy: 0.9798\n",
            "Epoch 9/10\n",
            "1688/1688 [==============================] - 5s 3ms/step - loss: 0.0146 - accuracy: 0.9969 - val_loss: 0.0571 - val_accuracy: 0.9870\n",
            "Epoch 10/10\n",
            "1688/1688 [==============================] - 5s 3ms/step - loss: 0.0134 - accuracy: 0.9969 - val_loss: 0.0853 - val_accuracy: 0.9885\n"
          ],
          "name": "stdout"
        }
      ]
    },
    {
      "cell_type": "code",
      "metadata": {
        "colab": {
          "base_uri": "https://localhost:8080/"
        },
        "id": "ubLwD9nVD6DN",
        "outputId": "20f074f6-2042-4cf6-851a-b32ff848a19b"
      },
      "source": [
        "print(f'Best Validation Accuracy = {np.max(history.history[\"val_accuracy\"])}')\n",
        "print(f'Best Training   Accuracy = {np.max(history.history[\"accuracy\"])}')"
      ],
      "execution_count": 13,
      "outputs": [
        {
          "output_type": "stream",
          "text": [
            "Best Validation Accuracy = 0.9888333082199097\n",
            "Best Training   Accuracy = 0.996925950050354\n"
          ],
          "name": "stdout"
        }
      ]
    },
    {
      "cell_type": "markdown",
      "metadata": {
        "id": "TDDUea45Hghq"
      },
      "source": [
        "# Trying CNN on fashion mnist"
      ]
    },
    {
      "cell_type": "code",
      "metadata": {
        "colab": {
          "base_uri": "https://localhost:8080/"
        },
        "id": "e8eUmljAHHQ2",
        "outputId": "22bbc007-d82b-424f-d682-8320052c209d"
      },
      "source": [
        "#fashion mnist \n",
        "# Load dataset\n",
        "fashion_mnist = keras.datasets.fashion_mnist\n",
        "(train_images, train_labels), (test_images, test_labels) = fashion_mnist.load_data()\n",
        "\n",
        "# Normalize the input image so that each pixel value is between 0 and 1.\n",
        "train_images = train_images / 255.0\n",
        "test_images = test_images / 255.0\n",
        "\n",
        "#Train the classification model\n",
        "model.compile(optimizer='adam',\n",
        "              loss=tf.keras.losses.SparseCategoricalCrossentropy(from_logits=True),\n",
        "              metrics=['accuracy'])\n",
        "\n",
        "history = model.fit(\n",
        "  train_images,\n",
        "  train_labels,\n",
        "  epochs= 50,\n",
        "  validation_split=0.1, callbacks = callback_list\n",
        ")"
      ],
      "execution_count": 22,
      "outputs": [
        {
          "output_type": "stream",
          "text": [
            "Epoch 1/50\n"
          ],
          "name": "stdout"
        },
        {
          "output_type": "stream",
          "text": [
            "/usr/local/lib/python3.7/dist-packages/tensorflow/python/keras/backend.py:4930: UserWarning: \"`sparse_categorical_crossentropy` received `from_logits=True`, but the `output` argument was produced by a sigmoid or softmax activation and thus does not represent logits. Was this intended?\"\n",
            "  '\"`sparse_categorical_crossentropy` received `from_logits=True`, but '\n"
          ],
          "name": "stderr"
        },
        {
          "output_type": "stream",
          "text": [
            "1688/1688 [==============================] - 6s 3ms/step - loss: 0.4115 - accuracy: 0.8509 - val_loss: 0.3607 - val_accuracy: 0.8713\n",
            "Epoch 2/50\n",
            "1688/1688 [==============================] - 5s 3ms/step - loss: 0.2697 - accuracy: 0.9027 - val_loss: 0.2900 - val_accuracy: 0.9002\n",
            "Epoch 3/50\n",
            "1688/1688 [==============================] - 5s 3ms/step - loss: 0.2168 - accuracy: 0.9211 - val_loss: 0.2660 - val_accuracy: 0.9062\n",
            "Epoch 4/50\n",
            "1688/1688 [==============================] - 5s 3ms/step - loss: 0.1773 - accuracy: 0.9355 - val_loss: 0.2801 - val_accuracy: 0.9127\n",
            "Epoch 5/50\n",
            "1688/1688 [==============================] - 5s 3ms/step - loss: 0.1453 - accuracy: 0.9471 - val_loss: 0.2829 - val_accuracy: 0.9127\n",
            "Epoch 6/50\n",
            "1688/1688 [==============================] - 5s 3ms/step - loss: 0.1181 - accuracy: 0.9580 - val_loss: 0.3162 - val_accuracy: 0.9097\n",
            "Epoch 7/50\n",
            "1688/1688 [==============================] - 5s 3ms/step - loss: 0.1017 - accuracy: 0.9631 - val_loss: 0.3667 - val_accuracy: 0.9148\n",
            "Epoch 8/50\n",
            "1688/1688 [==============================] - 5s 3ms/step - loss: 0.0833 - accuracy: 0.9700 - val_loss: 0.3629 - val_accuracy: 0.9062\n",
            "Epoch 9/50\n",
            "1688/1688 [==============================] - 5s 3ms/step - loss: 0.0701 - accuracy: 0.9757 - val_loss: 0.4177 - val_accuracy: 0.9085\n",
            "Epoch 10/50\n",
            "1688/1688 [==============================] - 5s 3ms/step - loss: 0.0647 - accuracy: 0.9781 - val_loss: 0.4009 - val_accuracy: 0.9147\n",
            "Epoch 11/50\n",
            "1688/1688 [==============================] - 5s 3ms/step - loss: 0.0537 - accuracy: 0.9819 - val_loss: 0.4861 - val_accuracy: 0.9173\n",
            "Epoch 12/50\n",
            "1688/1688 [==============================] - 5s 3ms/step - loss: 0.0433 - accuracy: 0.9843 - val_loss: 0.5456 - val_accuracy: 0.9153\n",
            "Epoch 13/50\n",
            "1688/1688 [==============================] - 6s 3ms/step - loss: 0.0455 - accuracy: 0.9845 - val_loss: 0.5360 - val_accuracy: 0.9113\n",
            "Epoch 14/50\n",
            "1688/1688 [==============================] - 6s 3ms/step - loss: 0.0391 - accuracy: 0.9872 - val_loss: 0.5190 - val_accuracy: 0.9157\n",
            "Epoch 15/50\n",
            "1688/1688 [==============================] - 5s 3ms/step - loss: 0.0373 - accuracy: 0.9880 - val_loss: 0.5897 - val_accuracy: 0.9148\n",
            "Epoch 16/50\n",
            "1688/1688 [==============================] - 6s 3ms/step - loss: 0.0326 - accuracy: 0.9893 - val_loss: 0.4674 - val_accuracy: 0.9173\n",
            "Epoch 17/50\n",
            "1688/1688 [==============================] - 5s 3ms/step - loss: 0.0346 - accuracy: 0.9893 - val_loss: 0.6060 - val_accuracy: 0.9108\n",
            "Epoch 18/50\n",
            "1688/1688 [==============================] - 5s 3ms/step - loss: 0.0340 - accuracy: 0.9897 - val_loss: 0.7136 - val_accuracy: 0.9093\n",
            "Epoch 19/50\n",
            "1688/1688 [==============================] - 5s 3ms/step - loss: 0.0270 - accuracy: 0.9917 - val_loss: 0.6244 - val_accuracy: 0.9037\n",
            "Epoch 20/50\n",
            "1688/1688 [==============================] - 5s 3ms/step - loss: 0.0283 - accuracy: 0.9915 - val_loss: 0.5450 - val_accuracy: 0.9110\n",
            "Epoch 21/50\n",
            "1688/1688 [==============================] - 5s 3ms/step - loss: 0.0268 - accuracy: 0.9923 - val_loss: 0.6762 - val_accuracy: 0.9135\n",
            "Epoch 22/50\n",
            "1688/1688 [==============================] - 5s 3ms/step - loss: 0.0265 - accuracy: 0.9926 - val_loss: 0.7040 - val_accuracy: 0.9155\n",
            "Epoch 23/50\n",
            "1688/1688 [==============================] - 5s 3ms/step - loss: 0.0151 - accuracy: 0.9950 - val_loss: 0.7474 - val_accuracy: 0.9063\n",
            "Epoch 24/50\n",
            "1688/1688 [==============================] - 5s 3ms/step - loss: 0.0244 - accuracy: 0.9930 - val_loss: 0.6199 - val_accuracy: 0.9063\n",
            "Epoch 25/50\n",
            "1688/1688 [==============================] - 5s 3ms/step - loss: 0.0204 - accuracy: 0.9943 - val_loss: 0.7394 - val_accuracy: 0.9117\n",
            "Epoch 26/50\n",
            "1688/1688 [==============================] - 5s 3ms/step - loss: 0.0264 - accuracy: 0.9930 - val_loss: 0.7826 - val_accuracy: 0.9075\n",
            "Epoch 27/50\n",
            "1688/1688 [==============================] - 5s 3ms/step - loss: 0.0210 - accuracy: 0.9939 - val_loss: 0.8035 - val_accuracy: 0.9095\n",
            "Epoch 28/50\n",
            "1688/1688 [==============================] - 5s 3ms/step - loss: 0.0204 - accuracy: 0.9946 - val_loss: 0.9197 - val_accuracy: 0.9072\n",
            "Epoch 29/50\n",
            "1688/1688 [==============================] - 6s 3ms/step - loss: 0.0228 - accuracy: 0.9949 - val_loss: 0.8360 - val_accuracy: 0.9088\n",
            "Epoch 30/50\n",
            "1688/1688 [==============================] - 5s 3ms/step - loss: 0.0143 - accuracy: 0.9959 - val_loss: 1.0624 - val_accuracy: 0.9092\n",
            "Epoch 31/50\n",
            "1688/1688 [==============================] - 5s 3ms/step - loss: 0.0176 - accuracy: 0.9952 - val_loss: 0.8131 - val_accuracy: 0.9082\n",
            "Epoch 32/50\n",
            "1688/1688 [==============================] - 5s 3ms/step - loss: 0.0164 - accuracy: 0.9953 - val_loss: 1.2210 - val_accuracy: 0.9092\n",
            "Epoch 33/50\n",
            "1688/1688 [==============================] - 5s 3ms/step - loss: 0.0347 - accuracy: 0.9925 - val_loss: 0.7230 - val_accuracy: 0.9102\n",
            "Epoch 34/50\n",
            "1688/1688 [==============================] - 5s 3ms/step - loss: 0.0101 - accuracy: 0.9974 - val_loss: 0.9046 - val_accuracy: 0.9065\n",
            "Epoch 35/50\n",
            "1688/1688 [==============================] - 5s 3ms/step - loss: 0.0116 - accuracy: 0.9973 - val_loss: 1.2547 - val_accuracy: 0.9115\n",
            "Epoch 36/50\n",
            "1688/1688 [==============================] - 5s 3ms/step - loss: 0.0227 - accuracy: 0.9950 - val_loss: 0.8837 - val_accuracy: 0.9058\n",
            "Epoch 37/50\n",
            "1688/1688 [==============================] - 5s 3ms/step - loss: 0.0165 - accuracy: 0.9960 - val_loss: 0.8700 - val_accuracy: 0.9142\n",
            "Epoch 38/50\n",
            "1688/1688 [==============================] - 6s 3ms/step - loss: 0.0142 - accuracy: 0.9963 - val_loss: 0.9418 - val_accuracy: 0.9147\n",
            "Epoch 39/50\n",
            "1688/1688 [==============================] - 6s 3ms/step - loss: 0.0121 - accuracy: 0.9971 - val_loss: 0.9291 - val_accuracy: 0.9092\n",
            "Epoch 40/50\n",
            "1688/1688 [==============================] - 6s 3ms/step - loss: 0.0146 - accuracy: 0.9962 - val_loss: 0.9752 - val_accuracy: 0.9078\n",
            "Epoch 41/50\n",
            "1688/1688 [==============================] - 5s 3ms/step - loss: 0.0130 - accuracy: 0.9969 - val_loss: 1.1157 - val_accuracy: 0.9103\n",
            "Epoch 42/50\n",
            "1688/1688 [==============================] - 5s 3ms/step - loss: 0.0245 - accuracy: 0.9955 - val_loss: 0.9395 - val_accuracy: 0.9108\n",
            "Epoch 43/50\n",
            "1688/1688 [==============================] - 5s 3ms/step - loss: 0.0079 - accuracy: 0.9979 - val_loss: 0.8442 - val_accuracy: 0.9102\n",
            "Epoch 44/50\n",
            "1688/1688 [==============================] - 5s 3ms/step - loss: 0.0111 - accuracy: 0.9970 - val_loss: 1.2632 - val_accuracy: 0.9115\n",
            "Epoch 45/50\n",
            "1688/1688 [==============================] - 5s 3ms/step - loss: 0.0216 - accuracy: 0.9951 - val_loss: 0.9997 - val_accuracy: 0.9092\n",
            "Epoch 46/50\n",
            "1688/1688 [==============================] - 5s 3ms/step - loss: 0.0177 - accuracy: 0.9959 - val_loss: 1.2350 - val_accuracy: 0.9127\n",
            "Epoch 47/50\n",
            "1688/1688 [==============================] - 5s 3ms/step - loss: 0.0139 - accuracy: 0.9967 - val_loss: 0.8548 - val_accuracy: 0.9110\n",
            "Epoch 48/50\n",
            "1688/1688 [==============================] - 5s 3ms/step - loss: 0.0140 - accuracy: 0.9970 - val_loss: 0.8042 - val_accuracy: 0.9018\n",
            "Epoch 49/50\n",
            "1688/1688 [==============================] - 5s 3ms/step - loss: 0.0084 - accuracy: 0.9978 - val_loss: 0.9805 - val_accuracy: 0.9157\n",
            "Epoch 50/50\n",
            "1688/1688 [==============================] - 5s 3ms/step - loss: 0.0099 - accuracy: 0.9973 - val_loss: 0.9562 - val_accuracy: 0.9123\n"
          ],
          "name": "stdout"
        }
      ]
    },
    {
      "cell_type": "code",
      "metadata": {
        "colab": {
          "base_uri": "https://localhost:8080/"
        },
        "id": "EAbG_fpeH4Rg",
        "outputId": "ce1cb76b-fb94-44bf-ccca-2706f5492d23"
      },
      "source": [
        "_, baseline_model_accuracy = model.evaluate(\n",
        "    test_images, test_labels, verbose=1)"
      ],
      "execution_count": 23,
      "outputs": [
        {
          "output_type": "stream",
          "text": [
            "313/313 [==============================] - 1s 2ms/step - loss: 0.8800 - accuracy: 0.9051\n"
          ],
          "name": "stdout"
        }
      ]
    }
  ]
}
{
  "nbformat": 4,
  "nbformat_minor": 0,
  "metadata": {
    "kernelspec": {
      "display_name": "Python 3",
      "language": "python",
      "name": "python3"
    },
    "language_info": {
      "codemirror_mode": {
        "name": "ipython",
        "version": 3
      },
      "file_extension": ".py",
      "mimetype": "text/x-python",
      "name": "python",
      "nbconvert_exporter": "python",
      "pygments_lexer": "ipython3",
      "version": "3.8.10"
    },
    "colab": {
      "name": "32X32CapsMnist.ipynb",
      "provenance": [],
      "collapsed_sections": [],
      "include_colab_link": true
    },
    "accelerator": "GPU"
  },
  "cells": [
    {
      "cell_type": "markdown",
      "metadata": {
        "id": "view-in-github",
        "colab_type": "text"
      },
      "source": [
        "<a href=\"https://colab.research.google.com/github/BaishaliChetia/CapsNet-Keras/blob/master/32X32CapsMnist.ipynb\" target=\"_parent\"><img src=\"https://colab.research.google.com/assets/colab-badge.svg\" alt=\"Open In Colab\"/></a>"
      ]
    },
    {
      "cell_type": "markdown",
      "metadata": {
        "id": "jeoBe9bpMlPR"
      },
      "source": [
        "Original implementation at:\n",
        "\n",
        "https://github.com/ageron/handson-ml/blob/master/extra_capsnets.ipynb\n",
        "\n",
        "Geron's model doesn't use the keras functional API. In the keras functional API, you don't need to give the batchsize. \n",
        "\n",
        "When you print the model, you get this:\n",
        "\n",
        "```\n",
        "Layer (type)                 Output Shape              Param #   \n",
        "_________________________________________________________________\n",
        "input (InputLayer)           [(None, 28, 28, 1)]       0         \n",
        "_________________________________________________________________\n",
        "conv_layer_1 (Conv2D)        (None, 20, 20, 256)       20992     \n",
        "_________________________________________________________________\n",
        "conv_layer_2 (Conv2D)        (None, 6, 6, 256)         5308672   \n",
        "_________________________________________________________________\n",
        "reshape_layer_1 (Reshape)    (None, 1, 1152, 8)        0         \n",
        "_________________________________________________________________\n",
        "caps1_output_layer (SquashLa (None, 1, 1152, 8)        0         \n",
        "_________________________________________________________________\n",
        "Total params: 5,329,664\n",
        "Trainable params: 5,329,664\n",
        "Non-trainable params: 0\n",
        "```\n",
        "\n",
        "Notice that the Input-layer has shape (None, 28, 28, 1), but we only specified (28, 28, 1). It added None implicitly and that takes care of the batch.\n",
        "\n",
        "So for anywhere Geron uses the batch size explicitly, you don't need to do anything and tensorflow will take care of.\n",
        "\n",
        "Also note that tensorflow 1 APIs are still provided with the compat layer. I used the reduce_sum from TF1 in the squash layer, that allowed me to use Geron's code.\n",
        "\n",
        "Documentation on how to migrate from TF1 to TF2 can be found here:\n",
        "\n",
        "https://www.tensorflow.org/guide/migrate\n"
      ]
    },
    {
      "cell_type": "code",
      "metadata": {
        "colab": {
          "base_uri": "https://localhost:8080/"
        },
        "id": "sY0OS1x1qLp2",
        "outputId": "a6b33a6e-2044-47f3-d1af-e06662fdb216"
      },
      "source": [
        "from google.colab import drive\n",
        "drive.mount('/content/drive')"
      ],
      "execution_count": 19,
      "outputs": [
        {
          "output_type": "stream",
          "text": [
            "Drive already mounted at /content/drive; to attempt to forcibly remount, call drive.mount(\"/content/drive\", force_remount=True).\n"
          ],
          "name": "stdout"
        }
      ]
    },
    {
      "cell_type": "code",
      "metadata": {
        "colab": {
          "base_uri": "https://localhost:8080/"
        },
        "id": "W34CwC1gwKbg",
        "outputId": "70c4e6e1-a1a3-4489-8d11-8658b62bccde"
      },
      "source": [
        "from google.colab import drive\n",
        "drive.mount('/content/drive')"
      ],
      "execution_count": 20,
      "outputs": [
        {
          "output_type": "stream",
          "text": [
            "Drive already mounted at /content/drive; to attempt to forcibly remount, call drive.mount(\"/content/drive\", force_remount=True).\n"
          ],
          "name": "stdout"
        }
      ]
    },
    {
      "cell_type": "code",
      "metadata": {
        "id": "KCCmDd7lMlPU"
      },
      "source": [
        "import numpy as np\n",
        "import tensorflow as tf\n",
        "import pandas as pd\n",
        "import tensorflow.keras as K\n",
        "#import tensorflow_model_optimization as tfmot"
      ],
      "execution_count": 3,
      "outputs": []
    },
    {
      "cell_type": "code",
      "metadata": {
        "id": "qJ1DIPu4B-Tz",
        "colab": {
          "base_uri": "https://localhost:8080/"
        },
        "outputId": "c5a56462-2f9a-485e-f9a1-2ad80c22d9fd"
      },
      "source": [
        "pip install -q tensorflow-model-optimization"
      ],
      "execution_count": 4,
      "outputs": [
        {
          "output_type": "stream",
          "text": [
            "\u001b[?25l\r\u001b[K     |█▌                              | 10 kB 35.1 MB/s eta 0:00:01\r\u001b[K     |███                             | 20 kB 32.6 MB/s eta 0:00:01\r\u001b[K     |████▋                           | 30 kB 19.5 MB/s eta 0:00:01\r\u001b[K     |██████▏                         | 40 kB 16.2 MB/s eta 0:00:01\r\u001b[K     |███████▊                        | 51 kB 8.6 MB/s eta 0:00:01\r\u001b[K     |█████████▎                      | 61 kB 8.6 MB/s eta 0:00:01\r\u001b[K     |██████████▉                     | 71 kB 8.9 MB/s eta 0:00:01\r\u001b[K     |████████████▍                   | 81 kB 9.9 MB/s eta 0:00:01\r\u001b[K     |██████████████                  | 92 kB 10.2 MB/s eta 0:00:01\r\u001b[K     |███████████████▌                | 102 kB 8.3 MB/s eta 0:00:01\r\u001b[K     |█████████████████               | 112 kB 8.3 MB/s eta 0:00:01\r\u001b[K     |██████████████████▋             | 122 kB 8.3 MB/s eta 0:00:01\r\u001b[K     |████████████████████▏           | 133 kB 8.3 MB/s eta 0:00:01\r\u001b[K     |█████████████████████▊          | 143 kB 8.3 MB/s eta 0:00:01\r\u001b[K     |███████████████████████▎        | 153 kB 8.3 MB/s eta 0:00:01\r\u001b[K     |████████████████████████▉       | 163 kB 8.3 MB/s eta 0:00:01\r\u001b[K     |██████████████████████████▍     | 174 kB 8.3 MB/s eta 0:00:01\r\u001b[K     |████████████████████████████    | 184 kB 8.3 MB/s eta 0:00:01\r\u001b[K     |█████████████████████████████▌  | 194 kB 8.3 MB/s eta 0:00:01\r\u001b[K     |███████████████████████████████ | 204 kB 8.3 MB/s eta 0:00:01\r\u001b[K     |████████████████████████████████| 211 kB 8.3 MB/s \n",
            "\u001b[?25h"
          ],
          "name": "stdout"
        }
      ]
    },
    {
      "cell_type": "code",
      "metadata": {
        "id": "kQG4QHY-CKYm"
      },
      "source": [
        "import tensorflow_model_optimization as tfmot"
      ],
      "execution_count": 5,
      "outputs": []
    },
    {
      "cell_type": "code",
      "metadata": {
        "id": "-UydL5gJMlPV"
      },
      "source": [
        "caps1_n_maps = 32\n",
        "caps1_n_caps = caps1_n_maps * 8 * 8  # 1152 primary capsules\n",
        "caps1_n_dims = 8\n",
        "caps2_n_caps = 10\n",
        "caps2_n_dims = 16\n",
        "\n",
        "tf.random.set_seed(500000)"
      ],
      "execution_count": 6,
      "outputs": []
    },
    {
      "cell_type": "code",
      "metadata": {
        "id": "sukwGEY4MlPV"
      },
      "source": [
        "#class SquashLayer(K.layers.Layer, tfmot.sparsity.keras.PrunableLayer):\n",
        "class SquashLayer(K.layers.Layer):\n",
        "  def __init__(self, axis=-1, **kwargs):\n",
        "    super(SquashLayer, self).__init__(**kwargs)\n",
        "    self.axis = axis\n",
        "    \n",
        "  def build(self, input_shapes):\n",
        "    pass\n",
        "\n",
        "  \"\"\"\n",
        "  def get_prunable_weights(self):\n",
        "    return []\n",
        "  \"\"\"\n",
        "\n",
        "  def call(self, inputs):\n",
        "    EPSILON = 1.0e-9\n",
        "    squared_norm = tf.compat.v1.reduce_sum(tf.square(inputs),\\\n",
        "                                           axis=self.axis,\\\n",
        "                                           keepdims=True)\n",
        "    safe_norm = tf.sqrt(squared_norm + EPSILON)\n",
        "    squash_factor = squared_norm / (1. + squared_norm)\n",
        "    unit_vector = inputs / safe_norm\n",
        "    return squash_factor * unit_vector\n",
        "\n",
        "  def get_config(self):\n",
        "    config = super(SquashLayer, self).get_config()\n",
        "    config.update({\"axis\": self.axis})\n",
        "    return config\n",
        "\n",
        " \n",
        "#class SafeNorm(K.layers.Layer, tfmot.sparsity.keras.PrunableLayer):\n",
        "class SafeNorm(K.layers.Layer):\n",
        "  \n",
        "  def __init__(self, axis=-1, keep_dims = False,  **kwargs):\n",
        "    super(SafeNorm, self).__init__(**kwargs)\n",
        "    self.axis = axis\n",
        "    self.keep_dims = keep_dims\n",
        "\n",
        "  def build(self, input_shapes):\n",
        "    pass\n",
        "\n",
        "  \"\"\"\n",
        "  def get_prunable_weights(self):\n",
        "    return []\n",
        "  \"\"\"\n",
        "\n",
        "  def call(self, input):\n",
        "    EPSILON = 1.0e-9\n",
        "    squared_norm = tf.compat.v1.reduce_sum(tf.square(inputs),\\\n",
        "                                           axis=self.axis,\\\n",
        "                                           keepdims= self.keep_dims)\n",
        "    safe_norm = tf.sqrt(squared_norm + EPSILON)\n",
        "    return safe_norm\n",
        "\n",
        "  def get_config(self):\n",
        "    config = super(SafeNorm, self).get_config()\n",
        "    config.update({\"axis\": self.axis, \"keep_dims\": self.keep_dims})\n",
        "    return config\n",
        "  \n",
        "# This should be the part where the digit layer, and where we tile things\n",
        "# This is incomplete, and work in progress\n",
        "# TODO: Complete this\n",
        "class MyDigitCapsLayer(K.layers.Layer, tfmot.sparsity.keras.PrunableLayer):\n",
        "  def __init__(self, **kwargs):\n",
        "    super(MyDigitCapsLayer, self).__init__(**kwargs)\n",
        "  \n",
        "  def get_config(self):\n",
        "    config =  super(MyDigitCapsLayer, self).get_config()\n",
        "    return config\n",
        "  \n",
        "\n",
        "  def build(self, input_shapes):\n",
        "    init_sigma = 0.1  # TODO: use\n",
        "    self.kernel = self.add_weight(\\\n",
        "                      \"kernel\",\\\n",
        "                      (caps1_n_caps, caps2_n_caps, caps2_n_dims, caps1_n_dims),\\\n",
        "                      initializer=\"random_normal\",\\\n",
        "                      dtype=tf.float32)\n",
        "\n",
        "  \n",
        "  # To debug this function, I used prints to print the shape\n",
        "  # expand_dims just adds an exis, so if you say expand_dims(inshape=(5, 3), -1),\n",
        "  # you get the output shape (5, 3, 1), it just adds an axis at the end\n",
        "  # Then tile just multiplies one of the dimensions (that is it stacks along that direction N times)\n",
        "  # so tile(inshape=(5, 3, 1), [1, 1, 1000]) will yield a shape (5, 3, 1000)\n",
        "  #\n",
        "  # Notice I didn't tile in build, but in call, Most probaly this is the right thing to do\n",
        "  # but we'll only figure out when we actually train\n",
        "  def get_prunable_weights(self):\n",
        "    return [self.kernel]\n",
        "  \n",
        "  def call(self, inputs):\n",
        "    # Add a dimension at the end\n",
        "    exp1 = tf.expand_dims(inputs, -1, name=\"caps1_output_expanded\")\n",
        "    # add a dimension along 3rd axis\n",
        "    exp1 = tf.expand_dims(exp1, 2, name=\"caps2_output_espanced\")\n",
        "    # tile along 3rd axis\n",
        "    tile = tf.tile(exp1, [1, 1, caps2_n_caps, 1, 1], name=\"caps1_output_tiled\")\n",
        "    caps2_predicted = tf.matmul(self.kernel, tile, name=\"caps2_predicted\")\n",
        "    return caps2_predicted\n",
        "\n",
        "# https://www.tensorflow.org/api_docs/python/tf/keras/losses/Loss\n",
        "class MarginLoss(K.losses.Loss):\n",
        "    def __init__(self, **kwargs):\n",
        "      super(MarginLoss, self).__init__(**kwargs)\n",
        "\n",
        "  \n",
        "    def get_config(self):\n",
        "      config = super(MarginLoss, self).get_config()\n",
        "      return config\n",
        "    \n",
        "    def safe_norm(self, input, axis=-2, epsilon=1e-5, keep_dims=False, name=None):\n",
        "      squared_norm = tf.reduce_sum(tf.square(input), axis=axis,\n",
        "                                     keepdims=keep_dims)\n",
        "      return tf.sqrt(squared_norm + epsilon)\n",
        "\n",
        "    \"\"\"\n",
        "    def get_prunable_weights(self):\n",
        "      return []\n",
        "    \"\"\"\n",
        "\n",
        "    def call(self,y_true, input):\n",
        "      # print(f\"y_true.shape = {y_true.shape}, y_pred.shape = {y_pred.shape}\")\n",
        "      # return K.losses.MeanSquaredError()(y_true, y_pred)\n",
        "\n",
        "      #y_true = K.Input(shape=[], dtype=tf.int64, name=\"y\")\n",
        "      m_plus = 0.9\n",
        "      m_minus = 0.1\n",
        "      lambda_ = 0.5 \n",
        "      \n",
        "      #y_true one hot encode y_train\n",
        "      T = tf.one_hot(y_true, depth=caps2_n_caps, name=\"T\")\n",
        "      \n",
        "      caps2_output_norm = self.safe_norm(input, keep_dims = True)\n",
        "\n",
        "      present_error_raw = tf.square(\\\n",
        "                                    tf.maximum(0., m_plus - caps2_output_norm),\n",
        "                                    name=\"present_error_raw\")\n",
        "      present_error = tf.reshape(\\\n",
        "                                    present_error_raw, shape=(-1, 10),\n",
        "                                    name=\"present_error\")  \n",
        "  \n",
        "      absent_error_raw = tf.square(\\\n",
        "                                    tf.maximum(0., caps2_output_norm - m_minus),\n",
        "                                    name=\"absent_error_raw\")\n",
        "      absent_error = tf.reshape(\\\n",
        "                                    absent_error_raw, shape=(-1, 10),\n",
        "                                    name=\"absent_error\")\n",
        "  \n",
        "      L = tf.add(\\\n",
        "                  T * present_error,\\\n",
        "                  lambda_ * (1.0 - T) * absent_error,\n",
        "                  name=\"L\")\n",
        "      marginLoss = tf.reduce_mean(\\\n",
        "                                  tf.reduce_sum(L, axis=1),\\\n",
        "                                  name=\"margin_loss\")\n",
        "      return marginLoss\n",
        "\n",
        "\n",
        "#class RoutingByAgreement(K.layers.Layer, tfmot.sparsity.keras.PrunableLayer):\n",
        "class RoutingByAgreement(K.layers.Layer):\n",
        "  def __init__(self, round_number=-1, **kwargs):\n",
        "    super(RoutingByAgreement, self).__init__(**kwargs)\n",
        "    self.round_number = round_number \n",
        "\n",
        "  def get_config(self):\n",
        "    config = super(RoutingByAgreement, self).get_config()\n",
        "    config.update({\"round_number\": self.round_number})\n",
        "    return config\n",
        " \n",
        "\n",
        "  def build(self, input_shapes):\n",
        "    self.raw_weights_1 = self.add_weight(\"raw_weights\", \\\n",
        "                                         (caps1_n_caps, caps2_n_caps, 1, 1), \\\n",
        "                                         initializer = \"zeros\", \\\n",
        "                                         dtype=tf.float32,)\n",
        "    \n",
        "    #print(\"Routing layer: self.raw_weights = \", self.raw_weights.shape, \"input_shape = \", input_shapes)\n",
        "\n",
        "  \n",
        "  def get_prunable_weights(self):\n",
        "    return [self.raw_weights_1]\n",
        "\n",
        "\n",
        "  @staticmethod\n",
        "  def squash(inputs):\n",
        "    EPSILON = 1.0e-5\n",
        "    squared_norm = tf.compat.v1.reduce_sum(tf.square(inputs),\\\n",
        "                                           keepdims=True)\n",
        "    safe_norm = tf.sqrt(squared_norm + EPSILON)\n",
        "    squash_factor = squared_norm / (1. + squared_norm)\n",
        "    unit_vector = inputs / safe_norm\n",
        "    return squash_factor * unit_vector\n",
        "\n",
        "  def single_round_routing(self, inputs, raw_weights, agreement):\n",
        "    raw_weights = tf.add(raw_weights, agreement)\n",
        "    routing_wt = tf.nn.softmax(raw_weights, axis=2)\n",
        "    wt_predictions = tf.multiply(routing_wt, inputs)\n",
        "    wt_sum = tf.reduce_sum(wt_predictions, axis=1, keepdims=True)\n",
        "    return wt_sum\n",
        "\n",
        "  def call(self, inputs):\n",
        "    agreement = tf.zeros(shape=self.raw_weights_1.shape)\n",
        "    sqsh_wt_sum = None\n",
        "    x = inputs\n",
        "    for i in range(2):\n",
        "      wt_sum = self.single_round_routing(inputs, self.raw_weights_1, agreement)\n",
        "      sqsh_wt_sum = RoutingByAgreement.squash(wt_sum)\n",
        "      sqsh_wt_sum_tiled = tf.tile(\\\n",
        "                          sqsh_wt_sum ,\\\n",
        "                          [1, caps1_n_caps, 1, 1, 1],\\\n",
        "                          name=\"caps2_output_round_1_tiled\")\n",
        "      agreement = tf.matmul(\\\n",
        "                            x, \\\n",
        "                            sqsh_wt_sum_tiled,\\\n",
        "                            transpose_a=True,\\\n",
        "                            name=\"agreement\")\n",
        "    return sqsh_wt_sum\n",
        "\n",
        "class MyAccuracy(K.metrics.Metric):\n",
        "  def __init__(self, **kwargs):\n",
        "    super(MyAccuracy, self).__init__(**kwargs)\n",
        "    self.acc_obj = K.metrics.Accuracy()\n",
        "    self.state = 0\n",
        "  \n",
        "\n",
        "  def get_config(self):\n",
        "    config = super(MyAccuracy, self).get_config()\n",
        "    config.update({\"acc_obj\": None, \"state\": self.state})\n",
        "    return config\n",
        "  \n",
        "\n",
        "  def safe_norm(self, input, axis=-2, epsilon=1e-5, keep_dims=True, name=None):\n",
        "      squared_norm = tf.reduce_sum(tf.square(input), axis=axis,\n",
        "                                     keepdims=keep_dims)\n",
        "      return tf.sqrt(squared_norm + epsilon)\n",
        "\n",
        "  def update_state(self, y_true, input, sample_weight=None):\n",
        "    if self.acc_obj is None:\n",
        "      self.acc_obj = K.metrics.Accuracy()\n",
        "    y_proba = self.safe_norm(input, axis=-2)\n",
        "    y_proba_argmax = tf.argmax(y_proba, axis=2)\n",
        "    y_pred = tf.squeeze(y_proba_argmax, axis=[1,2], name=\"y_pred\")\n",
        "    #y_true = tf.reshape(y_true, (y_true.shape[0], ))\n",
        "    y_true = tf.cast(y_true, dtype=tf.int64)\n",
        "    self.acc_obj.update_state(y_true, y_pred, sample_weight)\n",
        "\n",
        "  def reset_state(self):\n",
        "    self.acc_obj.reset_state()\n",
        "\n",
        "  def result(self):\n",
        "    return self.acc_obj.result()\n",
        "\n",
        "class MyReshapeLayer(K.layers.Layer):\n",
        "  def __init__(self, axis=-1, keep_dims = False,  **kwargs):\n",
        "    super(MyReshapeLayer, self).__init__(**kwargs)\n",
        "\n",
        "  def build(self, input_shapes):\n",
        "    pass\n",
        "\n",
        "  def safe_norm(self, input, axis=-2, epsilon=1e-5, keep_dims=True, name=None):\n",
        "      squared_norm = tf.reduce_sum(tf.square(input), axis=axis,\n",
        "                                     keepdims=keep_dims)\n",
        "      return tf.sqrt(squared_norm + epsilon)\n",
        "\n",
        "  def call(self, input):\n",
        "    print('printing shapes ------------------- ')\n",
        "    EPSILON = 1.0e-9\n",
        "    print(input)\n",
        "    y_proba = self.safe_norm(input, axis=-2)\n",
        "    print(y_proba)\n",
        "    y_proba_argmax = tf.argmax(y_proba, axis=2)\n",
        "    print(y_proba_argmax)\n",
        "    y_pred = tf.squeeze(y_proba_argmax, axis=[1,2], name=\"y_pred\")\n",
        "    print(y_pred)\n",
        "    return tf.cast(y_pred, tf.int64)\n",
        "\n",
        "  def get_config(self):\n",
        "    config = super(MyReshapeLayer, self).get_config()\n",
        "    return config\n",
        "  "
      ],
      "execution_count": 7,
      "outputs": []
    },
    {
      "cell_type": "code",
      "metadata": {
        "id": "aSEe-231jn49",
        "colab": {
          "base_uri": "https://localhost:8080/"
        },
        "outputId": "b0e4e86e-5a20-47dc-edb4-1de9d10c2279"
      },
      "source": [
        "(x_train, y_train,), (x_test, y_test) = K.datasets.mnist.load_data()\n",
        "#print(x_train.shape, x_test.shape)\n",
        "x_train = x_train/255.0\n",
        "x_test = x_test/255.0"
      ],
      "execution_count": 8,
      "outputs": [
        {
          "output_type": "stream",
          "text": [
            "Downloading data from https://storage.googleapis.com/tensorflow/tf-keras-datasets/mnist.npz\n",
            "11493376/11490434 [==============================] - 0s 0us/step\n",
            "11501568/11490434 [==============================] - 0s 0us/step\n"
          ],
          "name": "stdout"
        }
      ]
    },
    {
      "cell_type": "code",
      "metadata": {
        "colab": {
          "base_uri": "https://localhost:8080/"
        },
        "id": "4yJdSBsVyfKk",
        "outputId": "0b23063a-85f8-458b-b319-3a364afda8ec"
      },
      "source": [
        "x_train.shape"
      ],
      "execution_count": 9,
      "outputs": [
        {
          "output_type": "execute_result",
          "data": {
            "text/plain": [
              "(60000, 28, 28)"
            ]
          },
          "metadata": {},
          "execution_count": 9
        }
      ]
    },
    {
      "cell_type": "code",
      "metadata": {
        "id": "s14lYnU2yn2O"
      },
      "source": [
        "import keras\n",
        "tf.random.set_seed(500000)\n",
        "# Load MNIST dataset\n",
        "mnist = keras.datasets.mnist\n",
        "(train_images, train_labels), (test_images, test_labels) = K.datasets.mnist.load_data()\n",
        "\n",
        "# Normalize the input image so that each pixel value is between 0 and 1.\n",
        "train_images = train_images / 255.0\n",
        "test_images = test_images / 255.0\n",
        "train_X =[]\n",
        "\n",
        "for i in range(train_images.shape[0]):\n",
        "  train_pad = np.pad(train_images[i], pad_width=2 , mode= 'edge')\n",
        "  #print(train_pad)\n",
        "  train_X.append(train_pad)\n",
        "#PADDING test images\n",
        "test_X = []\n",
        "for i in range(test_images.shape[0]):\n",
        "  test_pad = np.pad(test_images[i], pad_width=2 , mode= 'edge')\n",
        "  #print(train_pad)\n",
        "  test_X.append(test_pad)\n",
        "train_X = np.array(train_X)\n",
        "test_X = np.array(test_X)"
      ],
      "execution_count": 10,
      "outputs": []
    },
    {
      "cell_type": "code",
      "metadata": {
        "colab": {
          "base_uri": "https://localhost:8080/"
        },
        "id": "G0XI-cJ32O0c",
        "outputId": "cec118d1-097c-4245-ca06-f41db3292696"
      },
      "source": [
        "train_X.shape, test_X.shape"
      ],
      "execution_count": 11,
      "outputs": [
        {
          "output_type": "execute_result",
          "data": {
            "text/plain": [
              "((60000, 32, 32), (10000, 32, 32))"
            ]
          },
          "metadata": {},
          "execution_count": 11
        }
      ]
    },
    {
      "cell_type": "code",
      "metadata": {
        "colab": {
          "base_uri": "https://localhost:8080/"
        },
        "id": "u-_FPWy0y-uh",
        "outputId": "addb73a4-9001-4b41-8553-e3761c96a0ad"
      },
      "source": [
        "x_train = train_X\n",
        "x_test = test_X\n",
        "x_train.shape, x_test.shape"
      ],
      "execution_count": 12,
      "outputs": [
        {
          "output_type": "execute_result",
          "data": {
            "text/plain": [
              "((60000, 32, 32), (10000, 32, 32))"
            ]
          },
          "metadata": {},
          "execution_count": 12
        }
      ]
    },
    {
      "cell_type": "code",
      "metadata": {
        "scrolled": true,
        "colab": {
          "base_uri": "https://localhost:8080/"
        },
        "id": "UnmSudqTMlPX",
        "outputId": "7c9977eb-9254-4ee1-a7df-018df772b10c"
      },
      "source": [
        "class Model:\n",
        "    @staticmethod\n",
        "    def build(inshape=(32, 32, 1)):\n",
        "        inp = K.Input(shape=inshape, dtype=tf.float32, name='input')\n",
        "        \n",
        "        # Primary capsules\n",
        "        # For each digit in the batch\n",
        "        # 32 maps, each 6x6 grid of 8 dimensional vectors\n",
        "        \n",
        "        # First Conv layer\n",
        "        conv1_params = \\\n",
        "        {\n",
        "            \"filters\": 256,\n",
        "            \"kernel_size\": 9,\n",
        "            \"strides\": 1,\n",
        "            \"padding\": \"valid\",\n",
        "            \"activation\": tf.nn.relu,\n",
        "        }\n",
        "        x = K.layers.Conv2D(**conv1_params, name=\"conv_layer_1\")(inp)\n",
        "        \n",
        "        # Second conv layer\n",
        "        conv2_params = \\\n",
        "        {\n",
        "            \"filters\": caps1_n_maps * caps1_n_dims, # 256 convolutional filters\n",
        "            \"kernel_size\": 9,\n",
        "            \"strides\": 2,\n",
        "            \"padding\": \"valid\",\n",
        "            \"activation\": tf.nn.relu\n",
        "        }\n",
        "        x = K.layers.Conv2D(**conv2_params, name=\"conv_layer_2\")(x)\n",
        "        \n",
        "        # Reshape\n",
        "        x = K.layers.Reshape(\\\n",
        "                             (caps1_n_caps, caps1_n_dims),\\\n",
        "                             name=\"reshape_layer_1\")(x)\n",
        "                             \n",
        "        x = SquashLayer(name=\"caps1_output_layer\")(x)\n",
        "        \n",
        "        x = MyDigitCapsLayer(name = \"caps2_predicted\")(x)\n",
        "        caps2_predicted = x # Save this value for later\n",
        "        \n",
        "        #routing by agreement (2 rounds)\n",
        "        x = RoutingByAgreement(name=\"routing1\", round_number=2)(x)\n",
        "        \n",
        "        return K.Model(inputs=inp, outputs=x, name='my')\n",
        "    \n",
        "m = Model.build()\n",
        "print(m.summary())\n"
      ],
      "execution_count": 13,
      "outputs": [
        {
          "output_type": "stream",
          "text": [
            "Model: \"my\"\n",
            "_________________________________________________________________\n",
            "Layer (type)                 Output Shape              Param #   \n",
            "=================================================================\n",
            "input (InputLayer)           [(None, 32, 32, 1)]       0         \n",
            "_________________________________________________________________\n",
            "conv_layer_1 (Conv2D)        (None, 24, 24, 256)       20992     \n",
            "_________________________________________________________________\n",
            "conv_layer_2 (Conv2D)        (None, 8, 8, 256)         5308672   \n",
            "_________________________________________________________________\n",
            "reshape_layer_1 (Reshape)    (None, 2048, 8)           0         \n",
            "_________________________________________________________________\n",
            "caps1_output_layer (SquashLa (None, 2048, 8)           0         \n",
            "_________________________________________________________________\n",
            "caps2_predicted (MyDigitCaps (None, 2048, 10, 16, 1)   2621440   \n",
            "_________________________________________________________________\n",
            "routing1 (RoutingByAgreement (None, 1, 10, 16, 1)      20480     \n",
            "=================================================================\n",
            "Total params: 7,971,584\n",
            "Trainable params: 7,971,584\n",
            "Non-trainable params: 0\n",
            "_________________________________________________________________\n",
            "None\n"
          ],
          "name": "stdout"
        }
      ]
    },
    {
      "cell_type": "code",
      "metadata": {
        "id": "lw3j_zWQMlPZ"
      },
      "source": [
        "# y_train_train = tf.one_hot(y_train, depth=caps2_n_caps, name=\"T\")\n",
        "# print(y_train_train.shape)\n",
        "# #print(y_train)"
      ],
      "execution_count": null,
      "outputs": []
    },
    {
      "cell_type": "code",
      "metadata": {
        "id": "ohNmlixkrAek"
      },
      "source": [
        "from keras.callbacks import ModelCheckpoint, CSVLogger\n",
        "comparison_metric = MyAccuracy()\n",
        "#checkpoint_filepath = \"/content/drive/MyDrive/Weights/weights-improvement-{epoch:02d}-{val_my_accuracy:.2f}.hdf5\"\n",
        "model_checkpoint_callback = tf.keras.callbacks.ModelCheckpoint(\n",
        "        filepath = \"/content/drive/MyDrive/MnistResults/caps32X32_best_weights5.hdf5\",\n",
        "        save_weights_only=True,\n",
        "        #monitor=f\"val_{comparison_metric.name}\",\n",
        "        monitor=\"val_my_accuracy_5\",\n",
        "        mode='max',\n",
        "        save_best_only=True)\n",
        "model_checkpoint_callback2 = tf.keras.callbacks.ModelCheckpoint(\n",
        "        filepath = \"/content/drive/MyDrive/MnistResults/latest_weights5.hdf5\",\n",
        "        save_weights_only=True,\n",
        "        monitor=f\"val_{comparison_metric.name}\",\n",
        "        mode='max',\n",
        "        save_best_only=False)\n",
        "log_csv = CSVLogger(\"/content/drive/MyDrive/MnistResults/caps32X32mylogs5.csv\", separator = \",\", append = False)\n",
        "callback_list = [model_checkpoint_callback,log_csv]"
      ],
      "execution_count": 24,
      "outputs": []
    },
    {
      "cell_type": "code",
      "metadata": {
        "colab": {
          "base_uri": "https://localhost:8080/",
          "height": 35
        },
        "id": "-mb3hJfK4YnA",
        "outputId": "3864d310-4fc7-48c4-aa2f-e52216921576"
      },
      "source": [
        "comparison_metric.name"
      ],
      "execution_count": null,
      "outputs": [
        {
          "output_type": "execute_result",
          "data": {
            "application/vnd.google.colaboratory.intrinsic+json": {
              "type": "string"
            },
            "text/plain": [
              "'my_accuracy'"
            ]
          },
          "metadata": {
            "tags": []
          },
          "execution_count": 11
        }
      ]
    },
    {
      "cell_type": "code",
      "metadata": {
        "id": "cZFYZzGt4YXz"
      },
      "source": [
        "m.compile(optimizer='adam', loss=MarginLoss(), metrics=[MyAccuracy()])\n"
      ],
      "execution_count": 22,
      "outputs": []
    },
    {
      "cell_type": "code",
      "metadata": {
        "id": "cahMgtOqMlPa",
        "colab": {
          "base_uri": "https://localhost:8080/"
        },
        "outputId": "0a27a439-4925-459e-e117-44f134c85e61"
      },
      "source": [
        "m.compile(optimizer='adam', loss=MarginLoss(), metrics=[MyAccuracy()])\n",
        "history = m.fit(x_train, y_train, batch_size=32, epochs=50, verbose= 1, validation_split=0.1, callbacks= callback_list)\n"
      ],
      "execution_count": 25,
      "outputs": [
        {
          "output_type": "stream",
          "text": [
            "Epoch 1/50\n",
            "1688/1688 [==============================] - 222s 131ms/step - loss: 2.2799 - my_accuracy_5: 0.2366 - val_loss: 2.2762 - val_my_accuracy_5: 0.4755\n",
            "Epoch 2/50\n",
            "1688/1688 [==============================] - 222s 132ms/step - loss: 2.2789 - my_accuracy_5: 0.5361 - val_loss: 2.2761 - val_my_accuracy_5: 0.7740\n",
            "Epoch 3/50\n",
            "1688/1688 [==============================] - 215s 127ms/step - loss: 2.2786 - my_accuracy_5: 0.6670 - val_loss: 2.2760 - val_my_accuracy_5: 0.8867\n",
            "Epoch 4/50\n",
            "1688/1688 [==============================] - 217s 129ms/step - loss: 2.2784 - my_accuracy_5: 0.6974 - val_loss: 2.2756 - val_my_accuracy_5: 0.8900\n",
            "Epoch 5/50\n",
            "1688/1688 [==============================] - 214s 126ms/step - loss: 2.2783 - my_accuracy_5: 0.7738 - val_loss: 2.2757 - val_my_accuracy_5: 0.9065\n",
            "Epoch 6/50\n",
            "1688/1688 [==============================] - 214s 127ms/step - loss: 2.2782 - my_accuracy_5: 0.8085 - val_loss: 2.2760 - val_my_accuracy_5: 0.8132\n",
            "Epoch 7/50\n",
            "1688/1688 [==============================] - 215s 127ms/step - loss: 2.2782 - my_accuracy_5: 0.8019 - val_loss: 2.2756 - val_my_accuracy_5: 0.9335\n",
            "Epoch 8/50\n",
            "1688/1688 [==============================] - 226s 134ms/step - loss: 2.2781 - my_accuracy_5: 0.8414 - val_loss: 2.2760 - val_my_accuracy_5: 0.8502\n",
            "Epoch 9/50\n",
            "1688/1688 [==============================] - 229s 135ms/step - loss: 2.2781 - my_accuracy_5: 0.8496 - val_loss: 2.2756 - val_my_accuracy_5: 0.9443\n",
            "Epoch 10/50\n",
            "1688/1688 [==============================] - 224s 133ms/step - loss: 2.2781 - my_accuracy_5: 0.8561 - val_loss: 2.2762 - val_my_accuracy_5: 0.7023\n",
            "Epoch 11/50\n",
            "1688/1688 [==============================] - 224s 133ms/step - loss: 2.2781 - my_accuracy_5: 0.8623 - val_loss: 2.2757 - val_my_accuracy_5: 0.8730\n",
            "Epoch 12/50\n",
            "1688/1688 [==============================] - 229s 136ms/step - loss: 2.2780 - my_accuracy_5: 0.8716 - val_loss: 2.2765 - val_my_accuracy_5: 0.5675\n",
            "Epoch 13/50\n",
            "1688/1688 [==============================] - 222s 131ms/step - loss: 2.2780 - my_accuracy_5: 0.8842 - val_loss: 2.2754 - val_my_accuracy_5: 0.9427\n",
            "Epoch 14/50\n",
            "1688/1688 [==============================] - 226s 134ms/step - loss: 2.2779 - my_accuracy_5: 0.8799 - val_loss: 2.2761 - val_my_accuracy_5: 0.9380\n",
            "Epoch 15/50\n",
            "1688/1688 [==============================] - 233s 138ms/step - loss: 2.2780 - my_accuracy_5: 0.8888 - val_loss: 2.2755 - val_my_accuracy_5: 0.9723\n",
            "Epoch 16/50\n",
            "1688/1688 [==============================] - 235s 139ms/step - loss: 2.2780 - my_accuracy_5: 0.8943 - val_loss: 2.2758 - val_my_accuracy_5: 0.8215\n",
            "Epoch 17/50\n",
            "1688/1688 [==============================] - 234s 139ms/step - loss: 2.2779 - my_accuracy_5: 0.8928 - val_loss: 2.2756 - val_my_accuracy_5: 0.9245\n",
            "Epoch 18/50\n",
            "1688/1688 [==============================] - 222s 132ms/step - loss: 2.2779 - my_accuracy_5: 0.8873 - val_loss: 2.2758 - val_my_accuracy_5: 0.8330\n",
            "Epoch 19/50\n",
            "1688/1688 [==============================] - 232s 138ms/step - loss: 2.2780 - my_accuracy_5: 0.9041 - val_loss: 2.2754 - val_my_accuracy_5: 0.9670\n",
            "Epoch 20/50\n",
            "1688/1688 [==============================] - 235s 139ms/step - loss: 2.2779 - my_accuracy_5: 0.9124 - val_loss: 2.2761 - val_my_accuracy_5: 0.7788\n",
            "Epoch 21/50\n",
            "1688/1688 [==============================] - 226s 134ms/step - loss: 2.2779 - my_accuracy_5: 0.9083 - val_loss: 2.2757 - val_my_accuracy_5: 0.8985\n",
            "Epoch 22/50\n",
            "1688/1688 [==============================] - 229s 135ms/step - loss: 2.2780 - my_accuracy_5: 0.9061 - val_loss: 2.2756 - val_my_accuracy_5: 0.8792\n",
            "Epoch 23/50\n",
            "1688/1688 [==============================] - 238s 141ms/step - loss: 2.2779 - my_accuracy_5: 0.8956 - val_loss: 2.2756 - val_my_accuracy_5: 0.9210\n",
            "Epoch 24/50\n",
            "1688/1688 [==============================] - 234s 138ms/step - loss: 2.2779 - my_accuracy_5: 0.9247 - val_loss: 2.2755 - val_my_accuracy_5: 0.8863\n",
            "Epoch 25/50\n",
            "1688/1688 [==============================] - 223s 132ms/step - loss: 2.2779 - my_accuracy_5: 0.8971 - val_loss: 2.2756 - val_my_accuracy_5: 0.9675\n",
            "Epoch 26/50\n",
            "1688/1688 [==============================] - 238s 141ms/step - loss: 2.2779 - my_accuracy_5: 0.9173 - val_loss: 2.2754 - val_my_accuracy_5: 0.9660\n",
            "Epoch 27/50\n",
            "1688/1688 [==============================] - 218s 129ms/step - loss: 2.2779 - my_accuracy_5: 0.9263 - val_loss: 2.2758 - val_my_accuracy_5: 0.9417\n",
            "Epoch 28/50\n",
            "1688/1688 [==============================] - 216s 128ms/step - loss: 2.2779 - my_accuracy_5: 0.9231 - val_loss: 2.2756 - val_my_accuracy_5: 0.9167\n",
            "Epoch 29/50\n",
            "1688/1688 [==============================] - 222s 131ms/step - loss: 2.2779 - my_accuracy_5: 0.9179 - val_loss: 2.2755 - val_my_accuracy_5: 0.8857\n",
            "Epoch 30/50\n",
            "1688/1688 [==============================] - 221s 131ms/step - loss: 2.2779 - my_accuracy_5: 0.9104 - val_loss: 2.2755 - val_my_accuracy_5: 0.9653\n",
            "Epoch 31/50\n",
            "1688/1688 [==============================] - 219s 130ms/step - loss: 2.2778 - my_accuracy_5: 0.9382 - val_loss: 2.2756 - val_my_accuracy_5: 0.9653\n",
            "Epoch 32/50\n",
            "1688/1688 [==============================] - 221s 131ms/step - loss: 2.2779 - my_accuracy_5: 0.9379 - val_loss: 2.2756 - val_my_accuracy_5: 0.9280\n",
            "Epoch 33/50\n",
            "1688/1688 [==============================] - 224s 132ms/step - loss: 2.2779 - my_accuracy_5: 0.9233 - val_loss: 2.2755 - val_my_accuracy_5: 0.9437\n",
            "Epoch 34/50\n",
            "1688/1688 [==============================] - 221s 131ms/step - loss: 2.2779 - my_accuracy_5: 0.9299 - val_loss: 2.2754 - val_my_accuracy_5: 0.9780\n",
            "Epoch 35/50\n",
            "1688/1688 [==============================] - 226s 134ms/step - loss: 2.2778 - my_accuracy_5: 0.9336 - val_loss: 2.2756 - val_my_accuracy_5: 0.9585\n",
            "Epoch 36/50\n",
            "1688/1688 [==============================] - 223s 132ms/step - loss: 2.2778 - my_accuracy_5: 0.9316 - val_loss: 2.2756 - val_my_accuracy_5: 0.8663\n",
            "Epoch 37/50\n",
            "1688/1688 [==============================] - 225s 133ms/step - loss: 2.2778 - my_accuracy_5: 0.9324 - val_loss: 2.2756 - val_my_accuracy_5: 0.9370\n",
            "Epoch 38/50\n",
            "1688/1688 [==============================] - 242s 144ms/step - loss: 2.2778 - my_accuracy_5: 0.9309 - val_loss: 2.2758 - val_my_accuracy_5: 0.8555\n",
            "Epoch 39/50\n",
            "1688/1688 [==============================] - 229s 135ms/step - loss: 2.2778 - my_accuracy_5: 0.9159 - val_loss: 2.2753 - val_my_accuracy_5: 0.9703\n",
            "Epoch 40/50\n",
            "1688/1688 [==============================] - 229s 136ms/step - loss: 2.2778 - my_accuracy_5: 0.9465 - val_loss: 2.2755 - val_my_accuracy_5: 0.9562\n",
            "Epoch 41/50\n",
            "1688/1688 [==============================] - 224s 133ms/step - loss: 2.2779 - my_accuracy_5: 0.9380 - val_loss: 2.2757 - val_my_accuracy_5: 0.9503\n",
            "Epoch 42/50\n",
            "1688/1688 [==============================] - 223s 132ms/step - loss: 2.2778 - my_accuracy_5: 0.9374 - val_loss: 2.2754 - val_my_accuracy_5: 0.9662\n",
            "Epoch 43/50\n",
            "1688/1688 [==============================] - 226s 134ms/step - loss: 2.2778 - my_accuracy_5: 0.9323 - val_loss: 2.2755 - val_my_accuracy_5: 0.9430\n",
            "Epoch 44/50\n",
            "1688/1688 [==============================] - 223s 132ms/step - loss: 2.2779 - my_accuracy_5: 0.9426 - val_loss: 2.2757 - val_my_accuracy_5: 0.9250\n",
            "Epoch 45/50\n",
            "1688/1688 [==============================] - 228s 135ms/step - loss: 2.2778 - my_accuracy_5: 0.9419 - val_loss: 2.2754 - val_my_accuracy_5: 0.9782\n",
            "Epoch 46/50\n",
            "1688/1688 [==============================] - 226s 134ms/step - loss: 2.2778 - my_accuracy_5: 0.9358 - val_loss: 2.2755 - val_my_accuracy_5: 0.9772\n",
            "Epoch 47/50\n",
            "1688/1688 [==============================] - 226s 134ms/step - loss: 2.2778 - my_accuracy_5: 0.9466 - val_loss: 2.2756 - val_my_accuracy_5: 0.9565\n",
            "Epoch 48/50\n",
            "1688/1688 [==============================] - 227s 134ms/step - loss: 2.2778 - my_accuracy_5: 0.9440 - val_loss: 2.2755 - val_my_accuracy_5: 0.9573\n",
            "Epoch 49/50\n",
            "1688/1688 [==============================] - 216s 128ms/step - loss: 2.2778 - my_accuracy_5: 0.9481 - val_loss: 2.2755 - val_my_accuracy_5: 0.9683\n",
            "Epoch 50/50\n",
            "1688/1688 [==============================] - 221s 131ms/step - loss: 2.2779 - my_accuracy_5: 0.9431 - val_loss: 2.2753 - val_my_accuracy_5: 0.9725\n"
          ],
          "name": "stdout"
        }
      ]
    },
    {
      "cell_type": "code",
      "metadata": {
        "id": "sb3YmJZs0q9u"
      },
      "source": [
        "# import time\n",
        "# class TimeHistory(K.callbacks.Callback):\n",
        "#     def on_train_begin(self, logs={}):\n",
        "#         self.times = []\n",
        "\n",
        "#     def on_epoch_begin(self, batch, logs={}):\n",
        "#         self.epoch_time_start = time.time()\n",
        "\n",
        "#     def on_epoch_end(self, batch, logs={}):\n",
        "#         self.times.append(time.time() - self.epoch_time_start)\n",
        "# time_callback = TimeHistory()\n",
        "# history = m.fit(x_train, y_train, batch_size=32, epochs=50, verbose= 1, validation_split=0.1, callbacks = [time_callback, model_checkpoint_callback, log_csv])\n",
        "# times = time_callback.times\n",
        "# print(times)"
      ],
      "execution_count": null,
      "outputs": []
    },
    {
      "cell_type": "code",
      "metadata": {
        "id": "IQTzxAGxQ_ru",
        "colab": {
          "base_uri": "https://localhost:8080/"
        },
        "outputId": "dbea5b23-71ba-473e-d954-9e30e942cd8e"
      },
      "source": [
        "x_train.shape"
      ],
      "execution_count": 35,
      "outputs": [
        {
          "output_type": "execute_result",
          "data": {
            "text/plain": [
              "(60000, 32, 32)"
            ]
          },
          "metadata": {},
          "execution_count": 35
        }
      ]
    },
    {
      "cell_type": "code",
      "metadata": {
        "id": "8bnBQabNNKLH",
        "colab": {
          "base_uri": "https://localhost:8080/"
        },
        "outputId": "d8dcc803-bfb5-40cd-855c-58bba6eb455a"
      },
      "source": [
        "print(f'Best Validation Accuracy = {np.max(history.history[\"val_my_accuracy_5\"])}')\n",
        "print(f'Best Training   Accuracy = {np.max(history.history[\"my_accuracy_5\"])}')"
      ],
      "execution_count": 26,
      "outputs": [
        {
          "output_type": "stream",
          "text": [
            "Best Validation Accuracy = 0.9781666398048401\n",
            "Best Training   Accuracy = 0.9480925798416138\n"
          ],
          "name": "stdout"
        }
      ]
    },
    {
      "cell_type": "code",
      "metadata": {
        "colab": {
          "base_uri": "https://localhost:8080/",
          "height": 602
        },
        "id": "ONBDXxVa2Bvc",
        "outputId": "424b6ea5-61e8-4bb9-f66a-bd6c6e8661ab"
      },
      "source": [
        "\n",
        "import matplotlib.pyplot as plt\n",
        "\n",
        "plt.rcParams[\"figure.figsize\"] = (30, 10)\n",
        "plt.rcParams[\"font.size\"] = 20\n",
        "\n",
        "fig, ax = plt.subplots(1, 2)\n",
        "\n",
        "ax[0].plot(history.history['my_accuracy_5'])\n",
        "ax[0].plot(history.history['val_my_accuracy_5'])\n",
        "ax[0].set_title('Model Accuracy')\n",
        "ax[0].set_ylabel('Accuracy')\n",
        "ax[0].set_xlabel('Epoch')\n",
        "ax[0].legend(['Training Accuracy', 'Validation Accuracy'], loc='best')\n",
        "\n",
        "ax[1].plot(history.history['loss'])\n",
        "ax[1].plot(history.history['val_loss'])\n",
        "ax[1].set_title('Model Loss')\n",
        "ax[1].set_ylabel('Loss')\n",
        "ax[1].set_xlabel('Epoch')\n",
        "ax[1].legend(['Training Loss', 'Validation Loss'], loc='best')\n",
        "plt.show()"
      ],
      "execution_count": 27,
      "outputs": [
        {
          "output_type": "display_data",
          "data": {
            "image/png": "[encoded data removed]",
            "text/plain": [
              "<Figure size 2160x720 with 2 Axes>"
            ]
          },
          "metadata": {
            "needs_background": "light"
          }
        }
      ]
    },
    {
      "cell_type": "code",
      "metadata": {
        "colab": {
          "base_uri": "https://localhost:8080/"
        },
        "id": "4SM-gwDR2FtA",
        "outputId": "97c514ef-9715-4658-f18a-c2a24efb7eff"
      },
      "source": [
        "m.load_weights(\"/content/drive/MyDrive/MnistResults/caps32X32_best_weights5.hdf5\")\n",
        "m.save(\"/content/drive/MyDrive/MnistResults/caps32X32_basemodel_1.tf\", save_format='tf')\n"
      ],
      "execution_count": 30,
      "outputs": [
        {
          "output_type": "stream",
          "text": [
            "INFO:tensorflow:Assets written to: /content/drive/MyDrive/MnistResults/caps32X32_basemodel_1.tf/assets\n"
          ],
          "name": "stdout"
        }
      ]
    },
    {
      "cell_type": "markdown",
      "metadata": {
        "id": "zUgpAEIBfon_"
      },
      "source": [
        "# Caps 32X32 base model size .tf = 92M"
      ]
    },
    {
      "cell_type": "code",
      "metadata": {
        "colab": {
          "base_uri": "https://localhost:8080/"
        },
        "id": "c2hz865ofoSf",
        "outputId": "652bea48-6e2a-45fd-e6b8-62480dd07625"
      },
      "source": [
        "m.evaluate(test_X, test_labels, verbose = 1)"
      ],
      "execution_count": 31,
      "outputs": [
        {
          "output_type": "stream",
          "text": [
            "313/313 [==============================] - 19s 60ms/step - loss: 2.2765 - my_accuracy_5: 0.9745\n"
          ],
          "name": "stdout"
        },
        {
          "output_type": "execute_result",
          "data": {
            "text/plain": [
              "[2.276534080505371, 0.9745000004768372]"
            ]
          },
          "metadata": {},
          "execution_count": 31
        }
      ]
    },
    {
      "cell_type": "code",
      "metadata": {
        "colab": {
          "base_uri": "https://localhost:8080/"
        },
        "id": "3_SL3v4OjqvG",
        "outputId": "edb3b2e5-dcaf-4725-91b3-4361cd8ffc17"
      },
      "source": [
        "print(\"time for caps model evaluation: \" + str((19/test_X.shape[0])*1000) + \"ms\")"
      ],
      "execution_count": 37,
      "outputs": [
        {
          "output_type": "stream",
          "text": [
            "time for caps model evaluation: 1.9ms\n"
          ],
          "name": "stdout"
        }
      ]
    },
    {
      "cell_type": "markdown",
      "metadata": {
        "id": "5qkBBzCPkEkE"
      },
      "source": [
        "# time for caps model evaluation: 1.9ms"
      ]
    },
    {
      "cell_type": "code",
      "metadata": {
        "id": "WLeqoVJkjPKB"
      },
      "source": [
        "#Extra layer for evaluate\n",
        "class DimensionCorrection(K.layers.Layer):\n",
        "    def __init__(self, **kwargs):\n",
        "      super(DimensionCorrection, self).__init__(**kwargs)\n",
        "    \n",
        "    def safe_norm(self, input, axis=-2, epsilon=1e-7, keep_dims=False, name=None):\n",
        "      squared_norm = tf.reduce_sum(tf.square(input), axis=axis,\n",
        "                                     keepdims=keep_dims)\n",
        "      return tf.sqrt(squared_norm + epsilon)\n",
        "\n",
        "    def call(self,y_pred):\n",
        "      y_proba = self.safe_norm(y_pred, axis=-2)\n",
        "      y_proba_argmax = tf.argmax(y_proba, axis=2)\n",
        "      y_pred = tf.squeeze(y_proba_argmax, axis=[1,2], name=\"y_pred\")\n",
        "      return y_pred\n",
        "\n"
      ],
      "execution_count": 32,
      "outputs": []
    },
    {
      "cell_type": "code",
      "metadata": {
        "id": "R3s5KL2po5FN"
      },
      "source": [
        "# y_test = tf.cast(y_test, dtype= tf.int64)\n",
        "# print(y_test.shape)"
      ],
      "execution_count": null,
      "outputs": []
    },
    {
      "cell_type": "code",
      "metadata": {
        "colab": {
          "base_uri": "https://localhost:8080/"
        },
        "id": "8cJcH3YlsAVt",
        "outputId": "893345f9-b7a3-4123-c522-afac62e92060"
      },
      "source": [
        "m = Model.build()\n",
        "m.load_weights('/content/drive/MyDrive/MnistResults/caps32X32_best_weights5.hdf5')\n",
        "m.compile(optimizer='Adam', loss=MarginLoss)\n",
        "newmodel = K.models.Sequential(\\\n",
        "            [\\\n",
        "            m,\\\n",
        "            DimensionCorrection(),\\\n",
        "            ]\\\n",
        ")\n",
        "newmodel.summary()\n",
        "m.trainable = False\n",
        "newmodel.compile(optimizer='adam')\n",
        "\n",
        "y_pred = newmodel.predict(x_test)\n",
        "\n",
        "import sklearn\n",
        "from sklearn.metrics import confusion_matrix, accuracy_score, roc_auc_score\n",
        "print(confusion_matrix(y_test, y_pred))\n",
        "print(f\"accuracy = {accuracy_score(y_test, y_pred)}\")"
      ],
      "execution_count": 34,
      "outputs": [
        {
          "output_type": "stream",
          "text": [
            "Model: \"sequential\"\n",
            "_________________________________________________________________\n",
            "Layer (type)                 Output Shape              Param #   \n",
            "=================================================================\n",
            "my (Functional)              (None, 1, 10, 16, 1)      7971584   \n",
            "_________________________________________________________________\n",
            "dimension_correction (Dimens (None,)                   0         \n",
            "=================================================================\n",
            "Total params: 7,971,584\n",
            "Trainable params: 7,971,584\n",
            "Non-trainable params: 0\n",
            "_________________________________________________________________\n",
            "[[ 975    2    1    0    0    0    1    1    0    0]\n",
            " [   0 1130    4    0    0    0    0    1    0    0]\n",
            " [   0    2 1018    0    0    0    0   11    1    0]\n",
            " [   0    1    2  991    0    1    0   10    4    1]\n",
            " [   1    8    0    0  932    0    5    5    3   28]\n",
            " [   2   41    1   24    0  800    3   11    8    2]\n",
            " [   6   10    0    0    0    0  941    0    1    0]\n",
            " [   0    5    6    0    0    0    0 1016    0    1]\n",
            " [   2    1    3    0    0    0    0    5  961    2]\n",
            " [   1    6    1    3    2    0    0   14    1  981]]\n",
            "accuracy = 0.9745\n"
          ],
          "name": "stdout"
        }
      ]
    },
    {
      "cell_type": "code",
      "metadata": {
        "id": "B5u3nyfMlj4g"
      },
      "source": [
        "mm = m"
      ],
      "execution_count": 38,
      "outputs": []
    },
    {
      "cell_type": "code",
      "metadata": {
        "id": "h9vf-xeFUcgi"
      },
      "source": [
        "converter = tf.lite.TFLiteConverter.from_keras_model(m)"
      ],
      "execution_count": 40,
      "outputs": []
    },
    {
      "cell_type": "markdown",
      "metadata": {
        "id": "H1Dq_06YHPJn"
      },
      "source": [
        ""
      ]
    },
    {
      "cell_type": "code",
      "metadata": {
        "colab": {
          "base_uri": "https://localhost:8080/"
        },
        "id": "zi_HoD2mlyzV",
        "outputId": "9dad8434-8f08-49dd-b79b-3f905c991abf"
      },
      "source": [
        "# Create the .tflite file\n",
        "tflite_model_file = \"/content/drive/MyDrive/MnistResults/caps32X32_compressedB.tflite\"\n",
        "converter = tf.lite.TFLiteConverter.from_keras_model(mm)\n",
        "converter.optimizations = [tf.lite.Optimize.DEFAULT]\n",
        "\n",
        "converter.target_spec.supported_ops = [\n",
        "  tf.lite.OpsSet.TFLITE_BUILTINS, # enable TensorFlow Lite ops.\n",
        "  tf.lite.OpsSet.SELECT_TF_OPS # enable TensorFlow ops.\n",
        "]\n",
        "\n",
        "tflite_model = converter.convert()\n",
        "with open(tflite_model_file, \"wb\") as f:\n",
        "    f.write(tflite_model)"
      ],
      "execution_count": 42,
      "outputs": [
        {
          "output_type": "stream",
          "text": [
            "INFO:tensorflow:Assets written to: /tmp/tmp62gwulbv/assets\n"
          ],
          "name": "stdout"
        },
        {
          "output_type": "stream",
          "text": [
            "INFO:tensorflow:Assets written to: /tmp/tmp62gwulbv/assets\n"
          ],
          "name": "stderr"
        }
      ]
    },
    {
      "cell_type": "markdown",
      "metadata": {
        "id": "tfnmJTV5mJe_"
      },
      "source": [
        "# Capsule 32X32 on compression without pruning = 16M"
      ]
    },
    {
      "cell_type": "code",
      "metadata": {
        "id": "WWt9eE4hpaDy"
      },
      "source": [
        "!du -sh /content/drive/MyDrive/MnistResults/*"
      ],
      "execution_count": null,
      "outputs": []
    },
    {
      "cell_type": "markdown",
      "metadata": {
        "id": "F1c026FiF3Hb"
      },
      "source": [
        ""
      ]
    },
    {
      "cell_type": "markdown",
      "metadata": {
        "id": "cTzAAQHpL51b"
      },
      "source": [
        "# Use this tutorial for pruning\n",
        "quantization has already been done earlier\n",
        "\n",
        "https://www.tensorflow.org/model_optimization/guide/pruning/pruning_with_keras\n"
      ]
    },
    {
      "cell_type": "markdown",
      "metadata": {
        "id": "-p6-45tPmdc4"
      },
      "source": [
        "# Pruning of 32X32 Capsule Network "
      ]
    },
    {
      "cell_type": "markdown",
      "metadata": {
        "id": "qUQtzXdBqPh6"
      },
      "source": [
        "# testing all pruning percentage first\n"
      ]
    },
    {
      "cell_type": "code",
      "metadata": {
        "colab": {
          "base_uri": "https://localhost:8080/"
        },
        "id": "lteK7dfUKM8M",
        "outputId": "e8ffc3f5-c3e2-46c0-a2f4-1c3528ff85a6"
      },
      "source": [
        "import tensorflow_model_optimization as tfmot\n",
        "\n",
        "prune_low_magnitude = tfmot.sparsity.keras.prune_low_magnitude\n",
        "\n",
        "# Compute end step to finish pruning after 2 epochs.\n",
        "batch_size = 128\n",
        "epochs = 2\n",
        "validation_split = 0.1 # 10% of training set will be used for validation set. \n",
        "\n",
        "num_images = train_images.shape[0] * (1 - validation_split)\n",
        "end_step = np.ceil(num_images / batch_size).astype(np.int32) * epochs\n",
        "\n",
        "list_accuracy0 = []\n",
        "finalSparsity = 0.05\n",
        "while finalSparsity <= 0.95:\n",
        "  mm = m\n",
        "  mm.load_weights('/content/drive/MyDrive/MnistResults/caps32X32_best_weights5.hdf5')\n",
        "\n",
        " \n",
        "  pruning_params = {\n",
        "        'pruning_schedule': tfmot.sparsity.keras.PolynomialDecay(initial_sparsity=0.0,\n",
        "                                                                final_sparsity=finalSparsity,\n",
        "                                                                begin_step=0,\n",
        "                                                                end_step=end_step)\n",
        "  }\n",
        "\n",
        "\n",
        "  ######################################################################\n",
        "  logdir = tempfile.mkdtemp()\n",
        "\n",
        "  callbacks = [\n",
        "    tfmot.sparsity.keras.UpdatePruningStep(),\n",
        "    tfmot.sparsity.keras.PruningSummaries(log_dir=logdir),\n",
        "  ]\n",
        "\n",
        "  # Helper function uses `prune_low_magnitude` to make only the \n",
        "  # Dense layers train with pruning.\n",
        "  def apply_pruning_to_layers(layer):\n",
        "    #print(\"called\")\n",
        "    if isinstance(layer, MyDigitCapsLayer):\n",
        "      print(f\"Layer {layer} {layer.name} slated for pruning\")\n",
        "      return tfmot.sparsity.keras.prune_low_magnitude(layer, **pruning_params)\n",
        "    elif layer.name == \"conv_layer_2\":\n",
        "      print(f\"Layer {layer} {layer.name} slated for pruning\")\n",
        "      return tfmot.sparsity.keras.prune_low_magnitude(layer, **pruning_params)\n",
        "    elif layer.name == \"routing1\":\n",
        "      print(f\"Layer {layer} {layer.name} slated for pruning\")\n",
        "      return tfmot.sparsity.keras.prune_low_magnitude(layer, **pruning_params)\n",
        "    elif layer.name == \"conv_layer_1\":\n",
        "      print(f\"Layer {layer} {layer.name} slated for pruning\")\n",
        "      return tfmot.sparsity.keras.prune_low_magnitude(layer, **pruning_params)\n",
        "\n",
        "\n",
        "    print(f\"Layer {layer} {layer.name} unchanged\")\n",
        "    return layer\n",
        "\n",
        "  # Use `tf.keras.models.clone_model` to apply `apply_pruning_to_layers` \n",
        "  # to the layers of the model.\n",
        "  model_for_pruning = tf.keras.models.clone_model(\n",
        "      mm,\n",
        "      clone_function=apply_pruning_to_layers,\n",
        "  )\n",
        "  #print(model_for_pruning.summary())\n",
        "\n",
        "  \"\"\"\n",
        "  model_for_pruning = K.models.Sequential(\\\n",
        "                [\\\n",
        "                  model_for_pruning,\\\n",
        "                  MyReshapeLayer(),\\\n",
        "                ]\\\n",
        "  )\n",
        "  \"\"\"\n",
        "\n",
        "\n",
        "  model_for_pruning.compile(optimizer='adam', loss=MarginLoss(), metrics=[MyAccuracy()])\n",
        "  #model_for_pruning.compile(optimizer='adam', loss=MarginLoss())\n",
        "\n",
        "  model_for_pruning.fit(x_train, y_train,\n",
        "                    batch_size=32, epochs=2, validation_split=validation_split,\n",
        "                    callbacks=callbacks)\n",
        "  _, model_for_pruning_accuracy = model_for_pruning.evaluate(x_test, y_test, verbose=1)\n",
        "  \n",
        "  list_accuracy0.append(model_for_pruning_accuracy)\n",
        "  print(f\"prunned accuracy at final sparsity {finalSparsity} is {model_for_pruning_accuracy}\")\n",
        "  finalSparsity+= 0.05\n",
        "  list_accuracy0.append(model_for_pruning_accuracy)\n",
        "print(\"accuracy list: \", list_accuracy0)"
      ],
      "execution_count": 48,
      "outputs": [
        {
          "output_type": "stream",
          "text": [
            "Layer <keras.layers.convolutional.Conv2D object at 0x7faf52da3750> conv_layer_1 slated for pruning\n",
            "Layer <keras.layers.convolutional.Conv2D object at 0x7faf52da3b90> conv_layer_2 slated for pruning\n",
            "Layer <keras.layers.core.Reshape object at 0x7faf52dacb50> reshape_layer_1 unchanged\n",
            "Layer <__main__.SquashLayer object at 0x7faf52dad190> caps1_output_layer unchanged\n",
            "Layer <__main__.MyDigitCapsLayer object at 0x7faf7c23e250> caps2_predicted slated for pruning\n",
            "Layer <__main__.RoutingByAgreement object at 0x7faf52da4210> routing1 slated for pruning\n"
          ],
          "name": "stdout"
        },
        {
          "output_type": "stream",
          "text": [
            "/usr/local/lib/python3.7/dist-packages/keras/engine/base_layer.py:2223: UserWarning: `layer.add_variable` is deprecated and will be removed in a future version. Please use `layer.add_weight` method instead.\n",
            "  warnings.warn('`layer.add_variable` is deprecated and '\n"
          ],
          "name": "stderr"
        },
        {
          "output_type": "stream",
          "text": [
            "Epoch 1/2\n",
            "1688/1688 [==============================] - 125s 73ms/step - loss: 2.2777 - my_accuracy_10: 0.9738 - val_loss: 2.2754 - val_my_accuracy_10: 0.9780\n",
            "Epoch 2/2\n",
            "1688/1688 [==============================] - 124s 73ms/step - loss: 2.2777 - my_accuracy_10: 0.9738 - val_loss: 2.2754 - val_my_accuracy_10: 0.9780\n",
            "313/313 [==============================] - 18s 59ms/step - loss: 2.2765 - my_accuracy_10: 0.9745\n",
            "prunned accuracy at final sparsity 0.05 is 0.9745000004768372\n",
            "Layer <keras.layers.convolutional.Conv2D object at 0x7faf52da3750> conv_layer_1 slated for pruning\n",
            "Layer <keras.layers.convolutional.Conv2D object at 0x7faf52da3b90> conv_layer_2 slated for pruning\n",
            "Layer <keras.layers.core.Reshape object at 0x7faf52dacb50> reshape_layer_1 unchanged\n",
            "Layer <__main__.SquashLayer object at 0x7faf52dad190> caps1_output_layer unchanged\n",
            "Layer <__main__.MyDigitCapsLayer object at 0x7faf7c23e250> caps2_predicted slated for pruning\n",
            "Layer <__main__.RoutingByAgreement object at 0x7faf52da4210> routing1 slated for pruning\n",
            "Epoch 1/2\n",
            "1688/1688 [==============================] - 127s 74ms/step - loss: 2.2777 - my_accuracy_11: 0.9738 - val_loss: 2.2754 - val_my_accuracy_11: 0.9780\n",
            "Epoch 2/2\n",
            "1688/1688 [==============================] - 135s 80ms/step - loss: 2.2777 - my_accuracy_11: 0.9739 - val_loss: 2.2754 - val_my_accuracy_11: 0.9780\n",
            "313/313 [==============================] - 19s 60ms/step - loss: 2.2765 - my_accuracy_11: 0.9746\n",
            "prunned accuracy at final sparsity 0.1 is 0.9746000170707703\n",
            "Layer <keras.layers.convolutional.Conv2D object at 0x7faf52da3750> conv_layer_1 slated for pruning\n",
            "Layer <keras.layers.convolutional.Conv2D object at 0x7faf52da3b90> conv_layer_2 slated for pruning\n",
            "Layer <keras.layers.core.Reshape object at 0x7faf52dacb50> reshape_layer_1 unchanged\n",
            "Layer <__main__.SquashLayer object at 0x7faf52dad190> caps1_output_layer unchanged\n",
            "Layer <__main__.MyDigitCapsLayer object at 0x7faf7c23e250> caps2_predicted slated for pruning\n",
            "Layer <__main__.RoutingByAgreement object at 0x7faf52da4210> routing1 slated for pruning\n",
            "Epoch 1/2\n",
            "1688/1688 [==============================] - 125s 73ms/step - loss: 2.2777 - my_accuracy_12: 0.9739 - val_loss: 2.2754 - val_my_accuracy_12: 0.9777\n",
            "Epoch 2/2\n",
            "1688/1688 [==============================] - 123s 73ms/step - loss: 2.2777 - my_accuracy_12: 0.9738 - val_loss: 2.2754 - val_my_accuracy_12: 0.9777\n",
            "313/313 [==============================] - 18s 59ms/step - loss: 2.2765 - my_accuracy_12: 0.9744\n",
            "prunned accuracy at final sparsity 0.15000000000000002 is 0.974399983882904\n",
            "Layer <keras.layers.convolutional.Conv2D object at 0x7faf52da3750> conv_layer_1 slated for pruning\n",
            "Layer <keras.layers.convolutional.Conv2D object at 0x7faf52da3b90> conv_layer_2 slated for pruning\n",
            "Layer <keras.layers.core.Reshape object at 0x7faf52dacb50> reshape_layer_1 unchanged\n",
            "Layer <__main__.SquashLayer object at 0x7faf52dad190> caps1_output_layer unchanged\n",
            "Layer <__main__.MyDigitCapsLayer object at 0x7faf7c23e250> caps2_predicted slated for pruning\n",
            "Layer <__main__.RoutingByAgreement object at 0x7faf52da4210> routing1 slated for pruning\n",
            "Epoch 1/2\n",
            "1688/1688 [==============================] - 125s 73ms/step - loss: 2.2777 - my_accuracy_13: 0.9739 - val_loss: 2.2754 - val_my_accuracy_13: 0.9778\n",
            "Epoch 2/2\n",
            "1688/1688 [==============================] - 124s 73ms/step - loss: 2.2777 - my_accuracy_13: 0.9739 - val_loss: 2.2754 - val_my_accuracy_13: 0.9778\n",
            "313/313 [==============================] - 19s 59ms/step - loss: 2.2765 - my_accuracy_13: 0.9747\n",
            "prunned accuracy at final sparsity 0.2 is 0.9746999740600586\n",
            "Layer <keras.layers.convolutional.Conv2D object at 0x7faf52da3750> conv_layer_1 slated for pruning\n",
            "Layer <keras.layers.convolutional.Conv2D object at 0x7faf52da3b90> conv_layer_2 slated for pruning\n",
            "Layer <keras.layers.core.Reshape object at 0x7faf52dacb50> reshape_layer_1 unchanged\n",
            "Layer <__main__.SquashLayer object at 0x7faf52dad190> caps1_output_layer unchanged\n",
            "Layer <__main__.MyDigitCapsLayer object at 0x7faf7c23e250> caps2_predicted slated for pruning\n",
            "Layer <__main__.RoutingByAgreement object at 0x7faf52da4210> routing1 slated for pruning\n",
            "Epoch 1/2\n",
            "1688/1688 [==============================] - 122s 71ms/step - loss: 2.2777 - my_accuracy_14: 0.9742 - val_loss: 2.2754 - val_my_accuracy_14: 0.9777\n",
            "Epoch 2/2\n",
            "1688/1688 [==============================] - 120s 71ms/step - loss: 2.2777 - my_accuracy_14: 0.9742 - val_loss: 2.2754 - val_my_accuracy_14: 0.9777\n",
            "313/313 [==============================] - 18s 57ms/step - loss: 2.2765 - my_accuracy_14: 0.9749\n",
            "prunned accuracy at final sparsity 0.25 is 0.9749000072479248\n",
            "Layer <keras.layers.convolutional.Conv2D object at 0x7faf52da3750> conv_layer_1 slated for pruning\n",
            "Layer <keras.layers.convolutional.Conv2D object at 0x7faf52da3b90> conv_layer_2 slated for pruning\n",
            "Layer <keras.layers.core.Reshape object at 0x7faf52dacb50> reshape_layer_1 unchanged\n",
            "Layer <__main__.SquashLayer object at 0x7faf52dad190> caps1_output_layer unchanged\n",
            "Layer <__main__.MyDigitCapsLayer object at 0x7faf7c23e250> caps2_predicted slated for pruning\n",
            "Layer <__main__.RoutingByAgreement object at 0x7faf52da4210> routing1 slated for pruning\n",
            "Epoch 1/2\n",
            "1688/1688 [==============================] - 121s 71ms/step - loss: 2.2777 - my_accuracy_15: 0.9744 - val_loss: 2.2754 - val_my_accuracy_15: 0.9777\n",
            "Epoch 2/2\n",
            "1688/1688 [==============================] - 120s 71ms/step - loss: 2.2777 - my_accuracy_15: 0.9746 - val_loss: 2.2754 - val_my_accuracy_15: 0.9777\n",
            "313/313 [==============================] - 18s 58ms/step - loss: 2.2765 - my_accuracy_15: 0.9751\n",
            "prunned accuracy at final sparsity 0.3 is 0.9750999808311462\n",
            "Layer <keras.layers.convolutional.Conv2D object at 0x7faf52da3750> conv_layer_1 slated for pruning\n",
            "Layer <keras.layers.convolutional.Conv2D object at 0x7faf52da3b90> conv_layer_2 slated for pruning\n",
            "Layer <keras.layers.core.Reshape object at 0x7faf52dacb50> reshape_layer_1 unchanged\n",
            "Layer <__main__.SquashLayer object at 0x7faf52dad190> caps1_output_layer unchanged\n",
            "Layer <__main__.MyDigitCapsLayer object at 0x7faf7c23e250> caps2_predicted slated for pruning\n",
            "Layer <__main__.RoutingByAgreement object at 0x7faf52da4210> routing1 slated for pruning\n",
            "Epoch 1/2\n",
            "1688/1688 [==============================] - 123s 72ms/step - loss: 2.2777 - my_accuracy_16: 0.9743 - val_loss: 2.2754 - val_my_accuracy_16: 0.9765\n",
            "Epoch 2/2\n",
            "1688/1688 [==============================] - 120s 71ms/step - loss: 2.2777 - my_accuracy_16: 0.9743 - val_loss: 2.2754 - val_my_accuracy_16: 0.9765\n",
            "313/313 [==============================] - 18s 58ms/step - loss: 2.2765 - my_accuracy_16: 0.9748\n",
            "prunned accuracy at final sparsity 0.35 is 0.9747999906539917\n",
            "Layer <keras.layers.convolutional.Conv2D object at 0x7faf52da3750> conv_layer_1 slated for pruning\n",
            "Layer <keras.layers.convolutional.Conv2D object at 0x7faf52da3b90> conv_layer_2 slated for pruning\n",
            "Layer <keras.layers.core.Reshape object at 0x7faf52dacb50> reshape_layer_1 unchanged\n",
            "Layer <__main__.SquashLayer object at 0x7faf52dad190> caps1_output_layer unchanged\n",
            "Layer <__main__.MyDigitCapsLayer object at 0x7faf7c23e250> caps2_predicted slated for pruning\n",
            "Layer <__main__.RoutingByAgreement object at 0x7faf52da4210> routing1 slated for pruning\n",
            "Epoch 1/2\n",
            "1688/1688 [==============================] - 124s 72ms/step - loss: 2.2777 - my_accuracy_17: 0.9744 - val_loss: 2.2754 - val_my_accuracy_17: 0.9767\n",
            "Epoch 2/2\n",
            "1688/1688 [==============================] - 121s 71ms/step - loss: 2.2777 - my_accuracy_17: 0.9745 - val_loss: 2.2754 - val_my_accuracy_17: 0.9767\n",
            "313/313 [==============================] - 18s 58ms/step - loss: 2.2765 - my_accuracy_17: 0.9751\n",
            "prunned accuracy at final sparsity 0.39999999999999997 is 0.9750999808311462\n",
            "Layer <keras.layers.convolutional.Conv2D object at 0x7faf52da3750> conv_layer_1 slated for pruning\n",
            "Layer <keras.layers.convolutional.Conv2D object at 0x7faf52da3b90> conv_layer_2 slated for pruning\n",
            "Layer <keras.layers.core.Reshape object at 0x7faf52dacb50> reshape_layer_1 unchanged\n",
            "Layer <__main__.SquashLayer object at 0x7faf52dad190> caps1_output_layer unchanged\n",
            "Layer <__main__.MyDigitCapsLayer object at 0x7faf7c23e250> caps2_predicted slated for pruning\n",
            "Layer <__main__.RoutingByAgreement object at 0x7faf52da4210> routing1 slated for pruning\n",
            "Epoch 1/2\n",
            "1688/1688 [==============================] - 124s 73ms/step - loss: 2.2777 - my_accuracy_18: 0.9736 - val_loss: 2.2754 - val_my_accuracy_18: 0.9767\n",
            "Epoch 2/2\n",
            "1688/1688 [==============================] - 124s 73ms/step - loss: 2.2777 - my_accuracy_18: 0.9736 - val_loss: 2.2754 - val_my_accuracy_18: 0.9767\n",
            "313/313 [==============================] - 18s 59ms/step - loss: 2.2765 - my_accuracy_18: 0.9748\n",
            "prunned accuracy at final sparsity 0.44999999999999996 is 0.9747999906539917\n",
            "Layer <keras.layers.convolutional.Conv2D object at 0x7faf52da3750> conv_layer_1 slated for pruning\n",
            "Layer <keras.layers.convolutional.Conv2D object at 0x7faf52da3b90> conv_layer_2 slated for pruning\n",
            "Layer <keras.layers.core.Reshape object at 0x7faf52dacb50> reshape_layer_1 unchanged\n",
            "Layer <__main__.SquashLayer object at 0x7faf52dad190> caps1_output_layer unchanged\n",
            "Layer <__main__.MyDigitCapsLayer object at 0x7faf7c23e250> caps2_predicted slated for pruning\n",
            "Layer <__main__.RoutingByAgreement object at 0x7faf52da4210> routing1 slated for pruning\n",
            "Epoch 1/2\n",
            "1688/1688 [==============================] - 127s 74ms/step - loss: 2.2777 - my_accuracy_19: 0.9737 - val_loss: 2.2753 - val_my_accuracy_19: 0.9765\n",
            "Epoch 2/2\n",
            "1688/1688 [==============================] - 126s 75ms/step - loss: 2.2777 - my_accuracy_19: 0.9736 - val_loss: 2.2753 - val_my_accuracy_19: 0.9765\n",
            "313/313 [==============================] - 19s 61ms/step - loss: 2.2765 - my_accuracy_19: 0.9745\n",
            "prunned accuracy at final sparsity 0.49999999999999994 is 0.9745000004768372\n",
            "Layer <keras.layers.convolutional.Conv2D object at 0x7faf52da3750> conv_layer_1 slated for pruning\n",
            "Layer <keras.layers.convolutional.Conv2D object at 0x7faf52da3b90> conv_layer_2 slated for pruning\n",
            "Layer <keras.layers.core.Reshape object at 0x7faf52dacb50> reshape_layer_1 unchanged\n",
            "Layer <__main__.SquashLayer object at 0x7faf52dad190> caps1_output_layer unchanged\n",
            "Layer <__main__.MyDigitCapsLayer object at 0x7faf7c23e250> caps2_predicted slated for pruning\n",
            "Layer <__main__.RoutingByAgreement object at 0x7faf52da4210> routing1 slated for pruning\n",
            "Epoch 1/2\n",
            "1688/1688 [==============================] - 128s 75ms/step - loss: 2.2778 - my_accuracy_20: 0.9729 - val_loss: 2.2753 - val_my_accuracy_20: 0.9762\n",
            "Epoch 2/2\n",
            "1688/1688 [==============================] - 128s 76ms/step - loss: 2.2777 - my_accuracy_20: 0.9720 - val_loss: 2.2753 - val_my_accuracy_20: 0.9762\n",
            "313/313 [==============================] - 19s 61ms/step - loss: 2.2765 - my_accuracy_20: 0.9737\n",
            "prunned accuracy at final sparsity 0.5499999999999999 is 0.9736999869346619\n",
            "Layer <keras.layers.convolutional.Conv2D object at 0x7faf52da3750> conv_layer_1 slated for pruning\n",
            "Layer <keras.layers.convolutional.Conv2D object at 0x7faf52da3b90> conv_layer_2 slated for pruning\n",
            "Layer <keras.layers.core.Reshape object at 0x7faf52dacb50> reshape_layer_1 unchanged\n",
            "Layer <__main__.SquashLayer object at 0x7faf52dad190> caps1_output_layer unchanged\n",
            "Layer <__main__.MyDigitCapsLayer object at 0x7faf7c23e250> caps2_predicted slated for pruning\n",
            "Layer <__main__.RoutingByAgreement object at 0x7faf52da4210> routing1 slated for pruning\n",
            "Epoch 1/2\n",
            "1688/1688 [==============================] - 125s 73ms/step - loss: 2.2778 - my_accuracy_21: 0.9699 - val_loss: 2.2754 - val_my_accuracy_21: 0.9725\n",
            "Epoch 2/2\n",
            "1688/1688 [==============================] - 124s 74ms/step - loss: 2.2778 - my_accuracy_21: 0.9670 - val_loss: 2.2754 - val_my_accuracy_21: 0.9725\n",
            "313/313 [==============================] - 18s 59ms/step - loss: 2.2766 - my_accuracy_21: 0.9701\n",
            "prunned accuracy at final sparsity 0.6 is 0.9700999855995178\n",
            "Layer <keras.layers.convolutional.Conv2D object at 0x7faf52da3750> conv_layer_1 slated for pruning\n",
            "Layer <keras.layers.convolutional.Conv2D object at 0x7faf52da3b90> conv_layer_2 slated for pruning\n",
            "Layer <keras.layers.core.Reshape object at 0x7faf52dacb50> reshape_layer_1 unchanged\n",
            "Layer <__main__.SquashLayer object at 0x7faf52dad190> caps1_output_layer unchanged\n",
            "Layer <__main__.MyDigitCapsLayer object at 0x7faf7c23e250> caps2_predicted slated for pruning\n",
            "Layer <__main__.RoutingByAgreement object at 0x7faf52da4210> routing1 slated for pruning\n",
            "Epoch 1/2\n",
            "1688/1688 [==============================] - 129s 75ms/step - loss: 2.2780 - my_accuracy_22: 0.9601 - val_loss: 2.2755 - val_my_accuracy_22: 0.9623\n",
            "Epoch 2/2\n",
            "1688/1688 [==============================] - 125s 74ms/step - loss: 2.2781 - my_accuracy_22: 0.9521 - val_loss: 2.2755 - val_my_accuracy_22: 0.9623\n",
            "313/313 [==============================] - 19s 61ms/step - loss: 2.2767 - my_accuracy_22: 0.9572\n",
            "prunned accuracy at final sparsity 0.65 is 0.9571999907493591\n",
            "Layer <keras.layers.convolutional.Conv2D object at 0x7faf52da3750> conv_layer_1 slated for pruning\n",
            "Layer <keras.layers.convolutional.Conv2D object at 0x7faf52da3b90> conv_layer_2 slated for pruning\n",
            "Layer <keras.layers.core.Reshape object at 0x7faf52dacb50> reshape_layer_1 unchanged\n",
            "Layer <__main__.SquashLayer object at 0x7faf52dad190> caps1_output_layer unchanged\n",
            "Layer <__main__.MyDigitCapsLayer object at 0x7faf7c23e250> caps2_predicted slated for pruning\n",
            "Layer <__main__.RoutingByAgreement object at 0x7faf52da4210> routing1 slated for pruning\n",
            "Epoch 1/2\n",
            "1688/1688 [==============================] - 127s 74ms/step - loss: 2.2782 - my_accuracy_23: 0.9158 - val_loss: 2.2759 - val_my_accuracy_23: 0.9032\n",
            "Epoch 2/2\n",
            "1688/1688 [==============================] - 126s 74ms/step - loss: 2.2784 - my_accuracy_23: 0.8826 - val_loss: 2.2759 - val_my_accuracy_23: 0.9032\n",
            "313/313 [==============================] - 19s 60ms/step - loss: 2.2771 - my_accuracy_23: 0.8926\n",
            "prunned accuracy at final sparsity 0.7000000000000001 is 0.8925999999046326\n",
            "Layer <keras.layers.convolutional.Conv2D object at 0x7faf52da3750> conv_layer_1 slated for pruning\n",
            "Layer <keras.layers.convolutional.Conv2D object at 0x7faf52da3b90> conv_layer_2 slated for pruning\n",
            "Layer <keras.layers.core.Reshape object at 0x7faf52dacb50> reshape_layer_1 unchanged\n",
            "Layer <__main__.SquashLayer object at 0x7faf52dad190> caps1_output_layer unchanged\n",
            "Layer <__main__.MyDigitCapsLayer object at 0x7faf7c23e250> caps2_predicted slated for pruning\n",
            "Layer <__main__.RoutingByAgreement object at 0x7faf52da4210> routing1 slated for pruning\n",
            "Epoch 1/2\n",
            "1688/1688 [==============================] - 137s 80ms/step - loss: 2.2789 - my_accuracy_24: 0.7226 - val_loss: 2.2767 - val_my_accuracy_24: 0.6055\n",
            "Epoch 2/2\n",
            "1688/1688 [==============================] - 127s 75ms/step - loss: 2.2794 - my_accuracy_24: 0.5774 - val_loss: 2.2767 - val_my_accuracy_24: 0.6055\n",
            "313/313 [==============================] - 19s 60ms/step - loss: 2.2779 - my_accuracy_24: 0.5854\n",
            "prunned accuracy at final sparsity 0.7500000000000001 is 0.5853999853134155\n",
            "Layer <keras.layers.convolutional.Conv2D object at 0x7faf52da3750> conv_layer_1 slated for pruning\n",
            "Layer <keras.layers.convolutional.Conv2D object at 0x7faf52da3b90> conv_layer_2 slated for pruning\n",
            "Layer <keras.layers.core.Reshape object at 0x7faf52dacb50> reshape_layer_1 unchanged\n",
            "Layer <__main__.SquashLayer object at 0x7faf52dad190> caps1_output_layer unchanged\n",
            "Layer <__main__.MyDigitCapsLayer object at 0x7faf7c23e250> caps2_predicted slated for pruning\n",
            "Layer <__main__.RoutingByAgreement object at 0x7faf52da4210> routing1 slated for pruning\n",
            "Epoch 1/2\n",
            "1688/1688 [==============================] - 128s 75ms/step - loss: 2.2800 - my_accuracy_25: 0.5318 - val_loss: 2.2782 - val_my_accuracy_25: 0.3313\n",
            "Epoch 2/2\n",
            "1688/1688 [==============================] - 126s 75ms/step - loss: 2.2810 - my_accuracy_25: 0.3179 - val_loss: 2.2782 - val_my_accuracy_25: 0.3313\n",
            "313/313 [==============================] - 19s 60ms/step - loss: 2.2793 - my_accuracy_25: 0.3239\n",
            "prunned accuracy at final sparsity 0.8000000000000002 is 0.3239000141620636\n",
            "Layer <keras.layers.convolutional.Conv2D object at 0x7faf52da3750> conv_layer_1 slated for pruning\n",
            "Layer <keras.layers.convolutional.Conv2D object at 0x7faf52da3b90> conv_layer_2 slated for pruning\n",
            "Layer <keras.layers.core.Reshape object at 0x7faf52dacb50> reshape_layer_1 unchanged\n",
            "Layer <__main__.SquashLayer object at 0x7faf52dad190> caps1_output_layer unchanged\n",
            "Layer <__main__.MyDigitCapsLayer object at 0x7faf7c23e250> caps2_predicted slated for pruning\n",
            "Layer <__main__.RoutingByAgreement object at 0x7faf52da4210> routing1 slated for pruning\n",
            "Epoch 1/2\n",
            "1688/1688 [==============================] - 128s 75ms/step - loss: 2.2823 - my_accuracy_26: 0.4147 - val_loss: 2.2815 - val_my_accuracy_26: 0.1903\n",
            "Epoch 2/2\n",
            "1688/1688 [==============================] - 138s 81ms/step - loss: 2.2844 - my_accuracy_26: 0.1780 - val_loss: 2.2815 - val_my_accuracy_26: 0.1903\n",
            "313/313 [==============================] - 19s 62ms/step - loss: 2.2823 - my_accuracy_26: 0.1846\n",
            "prunned accuracy at final sparsity 0.8500000000000002 is 0.18459999561309814\n",
            "Layer <keras.layers.convolutional.Conv2D object at 0x7faf52da3750> conv_layer_1 slated for pruning\n",
            "Layer <keras.layers.convolutional.Conv2D object at 0x7faf52da3b90> conv_layer_2 slated for pruning\n",
            "Layer <keras.layers.core.Reshape object at 0x7faf52dacb50> reshape_layer_1 unchanged\n",
            "Layer <__main__.SquashLayer object at 0x7faf52dad190> caps1_output_layer unchanged\n",
            "Layer <__main__.MyDigitCapsLayer object at 0x7faf7c23e250> caps2_predicted slated for pruning\n",
            "Layer <__main__.RoutingByAgreement object at 0x7faf52da4210> routing1 slated for pruning\n",
            "Epoch 1/2\n",
            "1688/1688 [==============================] - 129s 75ms/step - loss: 2.2857 - my_accuracy_27: 0.3527 - val_loss: 2.2866 - val_my_accuracy_27: 0.1392\n",
            "Epoch 2/2\n",
            "1688/1688 [==============================] - 127s 75ms/step - loss: 2.2895 - my_accuracy_27: 0.1322 - val_loss: 2.2866 - val_my_accuracy_27: 0.1392\n",
            "313/313 [==============================] - 19s 60ms/step - loss: 2.2873 - my_accuracy_27: 0.1372\n",
            "prunned accuracy at final sparsity 0.9000000000000002 is 0.1371999979019165\n",
            "accuracy list:  [0.9745000004768372, 0.9745000004768372, 0.9746000170707703, 0.9746000170707703, 0.974399983882904, 0.974399983882904, 0.9746999740600586, 0.9746999740600586, 0.9749000072479248, 0.9749000072479248, 0.9750999808311462, 0.9750999808311462, 0.9747999906539917, 0.9747999906539917, 0.9750999808311462, 0.9750999808311462, 0.9747999906539917, 0.9747999906539917, 0.9745000004768372, 0.9745000004768372, 0.9736999869346619, 0.9736999869346619, 0.9700999855995178, 0.9700999855995178, 0.9571999907493591, 0.9571999907493591, 0.8925999999046326, 0.8925999999046326, 0.5853999853134155, 0.5853999853134155, 0.3239000141620636, 0.3239000141620636, 0.18459999561309814, 0.18459999561309814, 0.1371999979019165, 0.1371999979019165]\n"
          ],
          "name": "stdout"
        }
      ]
    },
    {
      "cell_type": "code",
      "metadata": {
        "colab": {
          "base_uri": "https://localhost:8080/"
        },
        "id": "wsL3Ga20C5oF",
        "outputId": "e9d73557-f66d-4a73-bdb5-67587ede7215"
      },
      "source": [
        "print(len(list_accuracy0))"
      ],
      "execution_count": 49,
      "outputs": [
        {
          "output_type": "stream",
          "text": [
            "36\n"
          ],
          "name": "stdout"
        }
      ]
    },
    {
      "cell_type": "markdown",
      "metadata": {
        "id": "5v_kPZofFTBe"
      },
      "source": [
        "# Now Pruning 65% of weights"
      ]
    },
    {
      "cell_type": "code",
      "metadata": {
        "colab": {
          "base_uri": "https://localhost:8080/"
        },
        "id": "F_Kw5ejamtt0",
        "outputId": "e62fea8c-ab89-4458-ca70-b84dce9aca45"
      },
      "source": [
        "import tensorflow_model_optimization as tfmot\n",
        "import tempfile\n",
        "\n",
        "prune_low_magnitude = tfmot.sparsity.keras.prune_low_magnitude\n",
        "\n",
        "# TODO: Remove this line\n",
        "#m.load_weights('/content/drive/MyDrive/MnistResults/best_weights4.hdf5')\n",
        "\n",
        "# print(\"ORIGINAL MODEL\")\n",
        "# print(mm.summary())\n",
        "# print('-' * 80)\n",
        "\n",
        "# Compute end step to finish pruning after 2 epochs.\n",
        "batch_size = 128\n",
        "epochs = 2\n",
        "validation_split = 0.1 # 10% of training set will be used for validation set. \n",
        "\n",
        "num_images = x_train.shape[0] * (1 - validation_split)\n",
        "end_step = np.ceil(num_images / batch_size).astype(np.int32) * epochs\n",
        "\n",
        "mm = m\n",
        "mm.load_weights('/content/drive/MyDrive/MnistResults/caps32X32_best_weights5.hdf5')\n",
        "\n",
        "# Define model for pruning.\n",
        "# pruning_params = {\n",
        "#       'pruning_schedule': tfmot.sparsity.keras.PolynomialDecay(initial_sparsity=0.50,\n",
        "#                                                                final_sparsity=0.80,\n",
        "#                                                                begin_step=0,\n",
        "#                                                                end_step=end_step)\n",
        "# }\n",
        "\n",
        "pruning_params = {\n",
        "      'pruning_schedule': tfmot.sparsity.keras.PolynomialDecay(initial_sparsity=0.20,\n",
        "                                                              final_sparsity=0.65,\n",
        "                                                              begin_step=0,\n",
        "                                                              end_step=end_step)\n",
        "}\n",
        "\n",
        "\"\"\"\n",
        "model_for_pruning = prune_low_magnitude(mm, **pruning_params)\n",
        "\n",
        "# `prune_low_magnitude` requires a recompile.\n",
        "model_for_pruning.compile(optimizer='adam',\n",
        "              loss=MarginLoss(), metrics=[MyAccuracy()])\n",
        "\n",
        "model_for_pruning.summary()\n",
        "\n",
        "\"\"\"\n",
        "\n",
        "\n",
        "######################################################################\n",
        "logdir = tempfile.mkdtemp()\n",
        "\n",
        "callbacks = [\n",
        "  tfmot.sparsity.keras.UpdatePruningStep(),\n",
        "  tfmot.sparsity.keras.PruningSummaries(log_dir=logdir),\n",
        "]\n",
        "\n",
        "# Helper function uses `prune_low_magnitude` to make only the \n",
        "# Dense layers train with pruning.\n",
        "def apply_pruning_to_layers(layer):\n",
        "  #print(\"called\")\n",
        "  if isinstance(layer, MyDigitCapsLayer):\n",
        "    print(f\"Layer {layer} {layer.name} slated for pruning\")\n",
        "    return tfmot.sparsity.keras.prune_low_magnitude(layer, **pruning_params)\n",
        "  elif layer.name == \"conv_layer_2\":\n",
        "    print(f\"Layer {layer} {layer.name} slated for pruning\")\n",
        "    return tfmot.sparsity.keras.prune_low_magnitude(layer, **pruning_params)\n",
        "  elif layer.name == \"routing1\":\n",
        "    print(f\"Layer {layer} {layer.name} slated for pruning\")\n",
        "    return tfmot.sparsity.keras.prune_low_magnitude(layer, **pruning_params)\n",
        "  elif layer.name == \"conv_layer_1\":\n",
        "    print(f\"Layer {layer} {layer.name} slated for pruning\")\n",
        "    return tfmot.sparsity.keras.prune_low_magnitude(layer, **pruning_params)\n",
        "\n",
        "\n",
        "  print(f\"Layer {layer} {layer.name} unchanged\")\n",
        "  return layer\n",
        "\n",
        "# Use `tf.keras.models.clone_model` to apply `apply_pruning_to_layers` \n",
        "# to the layers of the model.\n",
        "model_for_pruning = tf.keras.models.clone_model(\n",
        "    mm,\n",
        "    clone_function=apply_pruning_to_layers,\n",
        ")\n",
        "#print(model_for_pruning.summary())\n",
        "\n",
        "\"\"\"\n",
        "model_for_pruning = K.models.Sequential(\\\n",
        "              [\\\n",
        "                model_for_pruning,\\\n",
        "                MyReshapeLayer(),\\\n",
        "              ]\\\n",
        ")\n",
        "\"\"\"\n",
        "\n",
        "\n",
        "model_for_pruning.compile(optimizer='adam', loss=MarginLoss(), metrics=[MyAccuracy()])\n",
        "#model_for_pruning.compile(optimizer='adam', loss=MarginLoss())\n",
        "\n",
        "model_for_pruning.fit(x_train, y_train,\n",
        "                  batch_size=32, epochs=2, validation_split=validation_split,\n",
        "                  callbacks=callbacks, verbose = 1)\n",
        "_, model_for_pruning_accuracy = model_for_pruning.evaluate(x_test, y_test, verbose=1)"
      ],
      "execution_count": 50,
      "outputs": [
        {
          "output_type": "stream",
          "text": [
            "Layer <keras.layers.convolutional.Conv2D object at 0x7faf52da3750> conv_layer_1 slated for pruning\n",
            "Layer <keras.layers.convolutional.Conv2D object at 0x7faf52da3b90> conv_layer_2 slated for pruning\n",
            "Layer <keras.layers.core.Reshape object at 0x7faf52dacb50> reshape_layer_1 unchanged\n",
            "Layer <__main__.SquashLayer object at 0x7faf52dad190> caps1_output_layer unchanged\n",
            "Layer <__main__.MyDigitCapsLayer object at 0x7faf7c23e250> caps2_predicted slated for pruning\n",
            "Layer <__main__.RoutingByAgreement object at 0x7faf52da4210> routing1 slated for pruning\n"
          ],
          "name": "stdout"
        },
        {
          "output_type": "stream",
          "text": [
            "/usr/local/lib/python3.7/dist-packages/keras/engine/base_layer.py:2223: UserWarning: `layer.add_variable` is deprecated and will be removed in a future version. Please use `layer.add_weight` method instead.\n",
            "  warnings.warn('`layer.add_variable` is deprecated and '\n"
          ],
          "name": "stderr"
        },
        {
          "output_type": "stream",
          "text": [
            "Epoch 1/2\n",
            "1688/1688 [==============================] - 135s 79ms/step - loss: 2.2780 - my_accuracy_28: 0.9594 - val_loss: 2.2755 - val_my_accuracy_28: 0.9623\n",
            "Epoch 2/2\n",
            "1688/1688 [==============================] - 124s 73ms/step - loss: 2.2781 - my_accuracy_28: 0.9521 - val_loss: 2.2755 - val_my_accuracy_28: 0.9623\n",
            "313/313 [==============================] - 18s 59ms/step - loss: 2.2767 - my_accuracy_28: 0.9572\n"
          ],
          "name": "stdout"
        }
      ]
    },
    {
      "cell_type": "code",
      "metadata": {
        "colab": {
          "base_uri": "https://localhost:8080/"
        },
        "id": "sDiuaawSGkVb",
        "outputId": "1567a764-5027-4a00-bca4-ee70e3b586b6"
      },
      "source": [
        "_, model_for_pruning_accuracy = model_for_pruning.evaluate(x_test, y_test, verbose=1)"
      ],
      "execution_count": 51,
      "outputs": [
        {
          "output_type": "stream",
          "text": [
            "313/313 [==============================] - 19s 59ms/step - loss: 2.2767 - my_accuracy_28: 0.9572\n"
          ],
          "name": "stdout"
        }
      ]
    },
    {
      "cell_type": "code",
      "metadata": {
        "colab": {
          "base_uri": "https://localhost:8080/"
        },
        "id": "ek6YRgHKGqfX",
        "outputId": "d97f192d-c11e-45ca-860d-2f6c3de4e653"
      },
      "source": [
        "print(\"evaluation time for prunned model : \" +str((19/x_test.shape[0])*1000) + \"ms\")"
      ],
      "execution_count": 52,
      "outputs": [
        {
          "output_type": "stream",
          "text": [
            "evaluation time for prunned model : 1.9ms\n"
          ],
          "name": "stdout"
        }
      ]
    },
    {
      "cell_type": "markdown",
      "metadata": {
        "id": "AG0_17-oG5Fs"
      },
      "source": [
        "# Prune model accuracy = 0.9572 and pruned model evaluation time = 1.9ms"
      ]
    },
    {
      "cell_type": "code",
      "metadata": {
        "colab": {
          "base_uri": "https://localhost:8080/"
        },
        "id": "rU7MOJdAOcud",
        "outputId": "1cf5bc67-7a9a-4fa4-f6c0-be285dd59323"
      },
      "source": [
        "model_for_export = tfmot.sparsity.keras.strip_pruning(model_for_pruning)\n",
        "model_for_export.summary()\n",
        "pruned_keras_file = \"/content/drive/MyDrive/MnistResults/caps32X32pruned_fileB.tf\"\n",
        "tf.keras.models.save_model(model_for_export, pruned_keras_file, include_optimizer=False)\n",
        "print('Saved pruned Keras model to:', pruned_keras_file)"
      ],
      "execution_count": 55,
      "outputs": [
        {
          "output_type": "stream",
          "text": [
            "Model: \"my\"\n",
            "_________________________________________________________________\n",
            "Layer (type)                 Output Shape              Param #   \n",
            "=================================================================\n",
            "input (InputLayer)           [(None, 32, 32, 1)]       0         \n",
            "_________________________________________________________________\n",
            "conv_layer_1 (Conv2D)        (None, 24, 24, 256)       20992     \n",
            "_________________________________________________________________\n",
            "conv_layer_2 (Conv2D)        (None, 8, 8, 256)         5308672   \n",
            "_________________________________________________________________\n",
            "reshape_layer_1 (Reshape)    (None, 2048, 8)           0         \n",
            "_________________________________________________________________\n",
            "caps1_output_layer (SquashLa (None, 2048, 8)           0         \n",
            "_________________________________________________________________\n",
            "caps2_predicted (MyDigitCaps (None, 2048, 10, 16, 1)   2621440   \n",
            "_________________________________________________________________\n",
            "routing1 (RoutingByAgreement (None, 1, 10, 16, 1)      20480     \n",
            "=================================================================\n",
            "Total params: 7,971,584\n",
            "Trainable params: 0\n",
            "Non-trainable params: 7,971,584\n",
            "_________________________________________________________________\n",
            "WARNING:tensorflow:Compiled the loaded model, but the compiled metrics have yet to be built. `model.compile_metrics` will be empty until you train or evaluate the model.\n"
          ],
          "name": "stdout"
        },
        {
          "output_type": "stream",
          "text": [
            "WARNING:tensorflow:Compiled the loaded model, but the compiled metrics have yet to be built. `model.compile_metrics` will be empty until you train or evaluate the model.\n"
          ],
          "name": "stderr"
        },
        {
          "output_type": "stream",
          "text": [
            "INFO:tensorflow:Assets written to: /content/drive/MyDrive/MnistResults/caps32X32pruned_fileB.tf/assets\n"
          ],
          "name": "stdout"
        },
        {
          "output_type": "stream",
          "text": [
            "INFO:tensorflow:Assets written to: /content/drive/MyDrive/MnistResults/caps32X32pruned_fileB.tf/assets\n"
          ],
          "name": "stderr"
        },
        {
          "output_type": "stream",
          "text": [
            "Saved pruned Keras model to: /content/drive/MyDrive/MnistResults/caps32X32pruned_fileB.tf\n"
          ],
          "name": "stdout"
        }
      ]
    },
    {
      "cell_type": "markdown",
      "metadata": {
        "id": "O2Jko4bxHh3r"
      },
      "source": [
        "# size of Caps Pruned file = 31M"
      ]
    },
    {
      "cell_type": "markdown",
      "metadata": {
        "id": "XRkrWBBaIy-r"
      },
      "source": [
        ""
      ]
    },
    {
      "cell_type": "markdown",
      "metadata": {
        "id": "x7Hg4TE5I2Pw"
      },
      "source": [
        "# Now compression after pruning"
      ]
    },
    {
      "cell_type": "code",
      "metadata": {
        "colab": {
          "base_uri": "https://localhost:8080/"
        },
        "id": "vta_AsVTIsz7",
        "outputId": "6bca3ae0-7269-4be6-9ecb-6b4fd9090807"
      },
      "source": [
        "#converter = tf.lite.TFLiteConverter.from_keras_model(model_for_export)\n",
        "tflite_model_file = \"/content/drive/MyDrive/MnistResults/caps32X32_P&Q_1.tflite\"\n",
        "converter = tf.lite.TFLiteConverter.from_keras_model(model_for_export)\n",
        "converter.optimizations = [tf.lite.Optimize.DEFAULT]\n",
        "\n",
        "converter.target_spec.supported_ops = [\n",
        "  tf.lite.OpsSet.TFLITE_BUILTINS, # enable TensorFlow Lite ops.\n",
        "  tf.lite.OpsSet.SELECT_TF_OPS # enable TensorFlow ops.\n",
        "]\n",
        "\n",
        "tflite_model = converter.convert()\n",
        "with open(tflite_model_file, \"wb\") as f:\n",
        "    f.write(tflite_model)"
      ],
      "execution_count": 61,
      "outputs": [
        {
          "output_type": "stream",
          "text": [
            "WARNING:tensorflow:Compiled the loaded model, but the compiled metrics have yet to be built. `model.compile_metrics` will be empty until you train or evaluate the model.\n"
          ],
          "name": "stdout"
        },
        {
          "output_type": "stream",
          "text": [
            "WARNING:tensorflow:Compiled the loaded model, but the compiled metrics have yet to be built. `model.compile_metrics` will be empty until you train or evaluate the model.\n"
          ],
          "name": "stderr"
        },
        {
          "output_type": "stream",
          "text": [
            "INFO:tensorflow:Assets written to: /tmp/tmpwsg6s5ia/assets\n"
          ],
          "name": "stdout"
        },
        {
          "output_type": "stream",
          "text": [
            "INFO:tensorflow:Assets written to: /tmp/tmpwsg6s5ia/assets\n"
          ],
          "name": "stderr"
        }
      ]
    },
    {
      "cell_type": "code",
      "metadata": {
        "id": "jHPYGxnGJMBb"
      },
      "source": [
        "def get_gzipped_model_size(file):\n",
        "  # Returns size of gzipped model, in bytes.\n",
        "  import os\n",
        "  import zipfile\n",
        "\n",
        "  _, zipped_file = tempfile.mkstemp('.zip')\n",
        "  with zipfile.ZipFile(zipped_file, 'w', compression=zipfile.ZIP_DEFLATED) as f:\n",
        "    f.write(file)\n",
        "\n",
        "  return os.path.getsize(zipped_file)"
      ],
      "execution_count": 58,
      "outputs": []
    },
    {
      "cell_type": "code",
      "metadata": {
        "id": "z7zi0rYV-538",
        "colab": {
          "base_uri": "https://localhost:8080/",
          "height": 197
        },
        "outputId": "b0014144-c616-48f0-f639-de4f83a03411"
      },
      "source": [
        "print(\"Size of gzipped baseline Keras model: %.2f bytes\" % (get_gzipped_model_size(\"/content/drive/MyDrive/MnistResults/caps32X32_basemodel_1.tf\")))\n",
        "print(\"Size of gzipped pruned Keras model: %.2f bytes\" % (get_gzipped_model_size(pruned_keras_file)))\n",
        "print(\"Size of gzipped pruned TFlite model: %.2f bytes\" % (get_gzipped_model_size(tflite_model_file)))"
      ],
      "execution_count": 2,
      "outputs": [
        {
          "output_type": "error",
          "ename": "NameError",
          "evalue": "ignored",
          "traceback": [
            "\u001b[0;31m---------------------------------------------------------------------------\u001b[0m",
            "\u001b[0;31mNameError\u001b[0m                                 Traceback (most recent call last)",
            "\u001b[0;32m<ipython-input-2-aa605399ea24>\u001b[0m in \u001b[0;36m<module>\u001b[0;34m()\u001b[0m\n\u001b[1;32m      1\u001b[0m \u001b[0;31m#print(\"Size of gzipped baseline Keras model: %.2f bytes\" % (get_gzipped_model_size(\"/content/drive/MyDrive/MnistResults/caps32X32_basemodel_1.tf\")))\u001b[0m\u001b[0;34m\u001b[0m\u001b[0;34m\u001b[0m\u001b[0;34m\u001b[0m\u001b[0m\n\u001b[0;32m----> 2\u001b[0;31m \u001b[0mprint\u001b[0m\u001b[0;34m(\u001b[0m\u001b[0;34m\"Size of gzipped pruned Keras model: %.2f bytes\"\u001b[0m \u001b[0;34m%\u001b[0m \u001b[0;34m(\u001b[0m\u001b[0mget_gzipped_model_size\u001b[0m\u001b[0;34m(\u001b[0m\u001b[0mpruned_keras_file\u001b[0m\u001b[0;34m)\u001b[0m\u001b[0;34m)\u001b[0m\u001b[0;34m)\u001b[0m\u001b[0;34m\u001b[0m\u001b[0;34m\u001b[0m\u001b[0m\n\u001b[0m\u001b[1;32m      3\u001b[0m \u001b[0mprint\u001b[0m\u001b[0;34m(\u001b[0m\u001b[0;34m\"Size of gzipped pruned TFlite model: %.2f bytes\"\u001b[0m \u001b[0;34m%\u001b[0m \u001b[0;34m(\u001b[0m\u001b[0mget_gzipped_model_size\u001b[0m\u001b[0;34m(\u001b[0m\u001b[0mtflite_model_file\u001b[0m\u001b[0;34m)\u001b[0m\u001b[0;34m)\u001b[0m\u001b[0;34m)\u001b[0m\u001b[0;34m\u001b[0m\u001b[0;34m\u001b[0m\u001b[0m\n",
            "\u001b[0;31mNameError\u001b[0m: name 'get_gzipped_model_size' is not defined"
          ]
        }
      ]
    },
    {
      "cell_type": "code",
      "metadata": {
        "colab": {
          "base_uri": "https://localhost:8080/"
        },
        "id": "9eMozsubJUcH",
        "outputId": "bedfe552-1000-4c69-9b1e-25fc316182b9"
      },
      "source": [
        "tflite_model_file = \"/content/drive/MyDrive/MnistResults/caps32X32_P&Q_1_noZip.tflite\"\n",
        "converter = tf.lite.TFLiteConverter.from_keras_model(model_for_export)\n",
        "converter.optimizations = [tf.lite.Optimize.DEFAULT]\n",
        "\n",
        "converter.target_spec.supported_ops = [\n",
        "  tf.lite.OpsSet.TFLITE_BUILTINS, # enable TensorFlow Lite ops.\n",
        "  tf.lite.OpsSet.SELECT_TF_OPS # enable TensorFlow ops.\n",
        "]\n",
        "\n",
        "tflite_model = converter.convert()\n",
        "with open(tflite_model_file, \"wb\") as f:\n",
        "    f.write(tflite_model)"
      ],
      "execution_count": 63,
      "outputs": [
        {
          "output_type": "stream",
          "text": [
            "WARNING:tensorflow:Compiled the loaded model, but the compiled metrics have yet to be built. `model.compile_metrics` will be empty until you train or evaluate the model.\n"
          ],
          "name": "stdout"
        },
        {
          "output_type": "stream",
          "text": [
            "WARNING:tensorflow:Compiled the loaded model, but the compiled metrics have yet to be built. `model.compile_metrics` will be empty until you train or evaluate the model.\n"
          ],
          "name": "stderr"
        },
        {
          "output_type": "stream",
          "text": [
            "INFO:tensorflow:Assets written to: /tmp/tmpv1z816sm/assets\n"
          ],
          "name": "stdout"
        },
        {
          "output_type": "stream",
          "text": [
            "INFO:tensorflow:Assets written to: /tmp/tmpv1z816sm/assets\n"
          ],
          "name": "stderr"
        }
      ]
    },
    {
      "cell_type": "markdown",
      "metadata": {
        "id": "hWct67PbKkCW"
      },
      "source": [
        "Model size, pruned and quantized, no zip = 16M\n",
        "# Model size, pruned, quantized and zipped = 6.6M"
      ]
    },
    {
      "cell_type": "code",
      "metadata": {
        "colab": {
          "base_uri": "https://localhost:8080/"
        },
        "id": "nwtrQhuA9ezQ",
        "outputId": "525cfda9-6212-4480-c09a-37ac201aba7e"
      },
      "source": [
        "!du -sh /content/drive/MyDrive/MnistResults/*"
      ],
      "execution_count": 64,
      "outputs": [
        {
          "output_type": "stream",
          "text": [
            "27M\t/content/drive/MyDrive/MnistResults/best_weights4.hdf5\n",
            "27M\t/content/drive/MyDrive/MnistResults/best_weights5.hdf5\n",
            "92M\t/content/drive/MyDrive/MnistResults/caps32X32_basemodel_1.tf\n",
            "31M\t/content/drive/MyDrive/MnistResults/caps32X32_best_weights5.hdf5\n",
            "16M\t/content/drive/MyDrive/MnistResults/caps32X32_compressedB.tflite\n",
            "4.0K\t/content/drive/MyDrive/MnistResults/caps32X32mylogs5.csv\n",
            "16M\t/content/drive/MyDrive/MnistResults/caps32X32_P&Q_1_noZip.tflite\n",
            "16M\t/content/drive/MyDrive/MnistResults/caps32X32_P&Q_1.tflite\n",
            "31M\t/content/drive/MyDrive/MnistResults/caps32X32pruned_fileB.h5\n",
            "31M\t/content/drive/MyDrive/MnistResults/caps32X32pruned_fileB.tf\n",
            "3.0K\t/content/drive/MyDrive/MnistResults/caps48X48mylogs5.csv\n",
            "27M\t/content/drive/MyDrive/MnistResults/caps_basemodel28X28_1.h5\n",
            "1.0K\t/content/drive/MyDrive/MnistResults/caps_basemodelA.h5\n",
            "27M\t/content/drive/MyDrive/MnistResults/caps_basemodelA.tf\n",
            "27M\t/content/drive/MyDrive/MnistResults/caps_basemodelB.tf\n",
            "27M\t/content/drive/MyDrive/MnistResults/caps_best_weightsA.hdf5\n",
            "11M\t/content/drive/MyDrive/MnistResults/caps_compressedA.tflite\n",
            "11M\t/content/drive/MyDrive/MnistResults/caps_compressedB.tflite\n",
            "27M\t/content/drive/MyDrive/MnistResults/caps_latest_weightsA.hdf5\n",
            "4.0K\t/content/drive/MyDrive/MnistResults/caps_mylogsA.csv\n",
            "11M\t/content/drive/MyDrive/MnistResults/caps_P&Q_1_noZip.tflite\n",
            "11M\t/content/drive/MyDrive/MnistResults/caps_P&Q_1.tflite\n",
            "27M\t/content/drive/MyDrive/MnistResults/caps_pruned_fileA.h5\n",
            "27M\t/content/drive/MyDrive/MnistResults/caps_pruned_fileB.h5\n",
            "27M\t/content/drive/MyDrive/MnistResults/caps_save_basemodelA.tf\n",
            "95K\t/content/drive/MyDrive/MnistResults/cnn_best_weights4.hdf5\n",
            "95K\t/content/drive/MyDrive/MnistResults/cnn_latest_weights4.hdf5\n",
            "1.0K\t/content/drive/MyDrive/MnistResults/cnn_mylogs4.csv\n",
            "367K\t/content/drive/MyDrive/MnistResults/cnn_save_basemodel4.tf\n",
            "11M\t/content/drive/MyDrive/MnistResults/compressed1.tflite\n",
            "21M\t/content/drive/MyDrive/MnistResults/dense_best_weights1.hdf5\n",
            "21M\t/content/drive/MyDrive/MnistResults/dense_latest_weights1.hdf5\n",
            "4.0K\t/content/drive/MyDrive/MnistResults/dense_mylogs1.csv\n",
            "27M\t/content/drive/MyDrive/MnistResults/latest_weights1.hdf5\n",
            "27M\t/content/drive/MyDrive/MnistResults/latest_weights2.hdf5\n",
            "27M\t/content/drive/MyDrive/MnistResults/latest_weights3.hdf5\n",
            "27M\t/content/drive/MyDrive/MnistResults/latest_weights4.hdf5\n",
            "27M\t/content/drive/MyDrive/MnistResults/latest_weights5.hdf5\n",
            "512\t/content/drive/MyDrive/MnistResults/mylogs1.csv\n",
            "512\t/content/drive/MyDrive/MnistResults/mylogs2.csv\n",
            "512\t/content/drive/MyDrive/MnistResults/mylogs3.csv\n",
            "5.5K\t/content/drive/MyDrive/MnistResults/mylogs4.csv\n",
            "5.5K\t/content/drive/MyDrive/MnistResults/mylogs5.csv\n",
            "27M\t/content/drive/MyDrive/MnistResults/pruned_file1.h5\n",
            "27M\t/content/drive/MyDrive/MnistResults/pruned_file2.h5\n",
            "27M\t/content/drive/MyDrive/MnistResults/pruned_file4_30.h5\n",
            "27M\t/content/drive/MyDrive/MnistResults/pruned_file4_60.h5\n",
            "79M\t/content/drive/MyDrive/MnistResults/save_basemode2.tf\n",
            "79M\t/content/drive/MyDrive/MnistResults/save_basemode3.tf\n",
            "79M\t/content/drive/MyDrive/MnistResults/save_basemodel4.tf\n",
            "79M\t/content/drive/MyDrive/MnistResults/save_basemodel5.tf\n",
            "79M\t/content/drive/MyDrive/MnistResults/save_basemodel.tf\n",
            "57M\t/content/drive/MyDrive/MnistResults/vgg32X32basemodel.h5\n",
            "15M\t/content/drive/MyDrive/MnistResults/vgg32X32_P&Q_1_noZip.tflite\n",
            "57M\t/content/drive/MyDrive/MnistResults/vgg_basemodel32X32_1.h5\n",
            "58M\t/content/drive/MyDrive/MnistResults/vgg_basemodel32X32_1.tf\n",
            "58M\t/content/drive/MyDrive/MnistResults/vgg_basemodel32X32_withWeights.tf\n",
            "57M\t/content/drive/MyDrive/MnistResults/vgg_best_weightsB.hdf5\n",
            "15M\t/content/drive/MyDrive/MnistResults/vgg_compressed32X32_1.tflite\n",
            "57M\t/content/drive/MyDrive/MnistResults/vggfine_best_weights1.hdf5\n",
            "263K\t/content/drive/MyDrive/MnistResults/vggfine_best_weights2.hdf5\n",
            "57M\t/content/drive/MyDrive/MnistResults/vggfine_best_weights4.hdf5\n",
            "57M\t/content/drive/MyDrive/MnistResults/vggfine_latest_weights1.hdf5\n",
            "263K\t/content/drive/MyDrive/MnistResults/vggfine_latest_weights2.hdf5\n",
            "57M\t/content/drive/MyDrive/MnistResults/vggfine_latest_weights4.hdf5\n",
            "2.5K\t/content/drive/MyDrive/MnistResults/vggfine_mylogs1.csv\n",
            "512\t/content/drive/MyDrive/MnistResults/vggfine_mylogs2.csv\n",
            "4.5K\t/content/drive/MyDrive/MnistResults/vggfine_mylogs4.csv\n",
            "158M\t/content/drive/MyDrive/MnistResults/vggfine_save_basemodel4.tf\n",
            "59M\t/content/drive/MyDrive/MnistResults/vggfine_save_basemodel.tf\n",
            "58M\t/content/drive/MyDrive/MnistResults/vgg_pruned32X32_1.tf\n",
            "57M\t/content/drive/MyDrive/MnistResults/vggtrain_best_weights1.hdf5\n",
            "57M\t/content/drive/MyDrive/MnistResults/vggtrain_best_weights2.hdf5\n",
            "57M\t/content/drive/MyDrive/MnistResults/vggtrain_latest_weights1.hdf5\n",
            "57M\t/content/drive/MyDrive/MnistResults/vggtrain_latest_weights2.hdf5\n",
            "0\t/content/drive/MyDrive/MnistResults/vggtrain_mylogs1 (1).csv\n",
            "1.5K\t/content/drive/MyDrive/MnistResults/vggtrain_mylogs1.csv\n",
            "4.5K\t/content/drive/MyDrive/MnistResults/vggtrain_mylogs2.csv\n",
            "231M\t/content/drive/MyDrive/MnistResults/vggtrain_pruned_model2.tf\n",
            "58M\t/content/drive/MyDrive/MnistResults/vggtrain_prunedStripped_basemodel2.tf\n",
            "171M\t/content/drive/MyDrive/MnistResults/vggtrain_save_basemodel2.tf\n"
          ],
          "name": "stdout"
        }
      ]
    },
    {
      "cell_type": "code",
      "metadata": {
        "colab": {
          "base_uri": "https://localhost:8080/"
        },
        "id": "F5yFQWwf-ae-",
        "outputId": "2a86ddda-1c02-43ea-8be1-de4b1dc3bbd6"
      },
      "source": [
        "from tensorflow.keras.models import load_model\n",
        "\n",
        "model = model_for_export\n",
        "import numpy as np\n",
        "\n",
        "for i, w in enumerate(model.get_weights()):\n",
        "  print(\"{} -- Total:{}, Zeros: {:.2f}%\".format(model.weights[i].name, w.size, np.sum(w == 0) / w.size * 100))\n",
        "    "
      ],
      "execution_count": 60,
      "outputs": [
        {
          "output_type": "stream",
          "text": [
            "conv_layer_1/kernel:0 -- Total:20736, Zeros: 64.99%\n",
            "conv_layer_1/bias:0 -- Total:256, Zeros: 0.00%\n",
            "conv_layer_2/kernel:0 -- Total:5308416, Zeros: 64.99%\n",
            "conv_layer_2/bias:0 -- Total:256, Zeros: 0.00%\n",
            "caps2_predicted/kernel:0 -- Total:2621440, Zeros: 64.99%\n",
            "routing1/raw_weights:0 -- Total:20480, Zeros: 65.00%\n"
          ],
          "name": "stdout"
        }
      ]
    },
    {
      "cell_type": "markdown",
      "metadata": {
        "id": "dcGSgMOPpQLp"
      },
      "source": [
        "tyoes of post training quantization\n",
        "https://www.tensorflow.org/lite/performance/post_training_quantization"
      ]
    },
    {
      "cell_type": "code",
      "metadata": {
        "colab": {
          "base_uri": "https://localhost:8080/"
        },
        "id": "H4MlkccdMeoL",
        "outputId": "57fb8008-d170-4e77-a763-30f4a55137ed"
      },
      "source": [
        "!cat /proc/cpuinfo"
      ],
      "execution_count": 65,
      "outputs": [
        {
          "output_type": "stream",
          "text": [
            "processor\t: 0\n",
            "vendor_id\t: GenuineIntel\n",
            "cpu family\t: 6\n",
            "model\t\t: 85\n",
            "model name\t: Intel(R) Xeon(R) CPU @ 2.00GHz\n",
            "stepping\t: 3\n",
            "microcode\t: 0x1\n",
            "cpu MHz\t\t: 2000.190\n",
            "cache size\t: 39424 KB\n",
            "physical id\t: 0\n",
            "siblings\t: 2\n",
            "core id\t\t: 0\n",
            "cpu cores\t: 1\n",
            "apicid\t\t: 0\n",
            "initial apicid\t: 0\n",
            "fpu\t\t: yes\n",
            "fpu_exception\t: yes\n",
            "cpuid level\t: 13\n",
            "wp\t\t: yes\n",
            "flags\t\t: fpu vme de pse tsc msr pae mce cx8 apic sep mtrr pge mca cmov pat pse36 clflush mmx fxsr sse sse2 ss ht syscall nx pdpe1gb rdtscp lm constant_tsc rep_good nopl xtopology nonstop_tsc cpuid tsc_known_freq pni pclmulqdq ssse3 fma cx16 pcid sse4_1 sse4_2 x2apic movbe popcnt aes xsave avx f16c rdrand hypervisor lahf_lm abm 3dnowprefetch invpcid_single ssbd ibrs ibpb stibp fsgsbase tsc_adjust bmi1 hle avx2 smep bmi2 erms invpcid rtm mpx avx512f avx512dq rdseed adx smap clflushopt clwb avx512cd avx512bw avx512vl xsaveopt xsavec xgetbv1 xsaves arat md_clear arch_capabilities\n",
            "bugs\t\t: cpu_meltdown spectre_v1 spectre_v2 spec_store_bypass l1tf mds swapgs taa\n",
            "bogomips\t: 4000.38\n",
            "clflush size\t: 64\n",
            "cache_alignment\t: 64\n",
            "address sizes\t: 46 bits physical, 48 bits virtual\n",
            "power management:\n",
            "\n",
            "processor\t: 1\n",
            "vendor_id\t: GenuineIntel\n",
            "cpu family\t: 6\n",
            "model\t\t: 85\n",
            "model name\t: Intel(R) Xeon(R) CPU @ 2.00GHz\n",
            "stepping\t: 3\n",
            "microcode\t: 0x1\n",
            "cpu MHz\t\t: 2000.190\n",
            "cache size\t: 39424 KB\n",
            "physical id\t: 0\n",
            "siblings\t: 2\n",
            "core id\t\t: 0\n",
            "cpu cores\t: 1\n",
            "apicid\t\t: 1\n",
            "initial apicid\t: 1\n",
            "fpu\t\t: yes\n",
            "fpu_exception\t: yes\n",
            "cpuid level\t: 13\n",
            "wp\t\t: yes\n",
            "flags\t\t: fpu vme de pse tsc msr pae mce cx8 apic sep mtrr pge mca cmov pat pse36 clflush mmx fxsr sse sse2 ss ht syscall nx pdpe1gb rdtscp lm constant_tsc rep_good nopl xtopology nonstop_tsc cpuid tsc_known_freq pni pclmulqdq ssse3 fma cx16 pcid sse4_1 sse4_2 x2apic movbe popcnt aes xsave avx f16c rdrand hypervisor lahf_lm abm 3dnowprefetch invpcid_single ssbd ibrs ibpb stibp fsgsbase tsc_adjust bmi1 hle avx2 smep bmi2 erms invpcid rtm mpx avx512f avx512dq rdseed adx smap clflushopt clwb avx512cd avx512bw avx512vl xsaveopt xsavec xgetbv1 xsaves arat md_clear arch_capabilities\n",
            "bugs\t\t: cpu_meltdown spectre_v1 spectre_v2 spec_store_bypass l1tf mds swapgs taa\n",
            "bogomips\t: 4000.38\n",
            "clflush size\t: 64\n",
            "cache_alignment\t: 64\n",
            "address sizes\t: 46 bits physical, 48 bits virtual\n",
            "power management:\n",
            "\n"
          ],
          "name": "stdout"
        }
      ]
    },
    {
      "cell_type": "code",
      "metadata": {
        "colab": {
          "base_uri": "https://localhost:8080/"
        },
        "id": "VSpoSX7MMqjq",
        "outputId": "21683ea8-f4cc-471f-fabc-3b06bce75f57"
      },
      "source": [
        "!df -h"
      ],
      "execution_count": 66,
      "outputs": [
        {
          "output_type": "stream",
          "text": [
            "Filesystem      Size  Used Avail Use% Mounted on\n",
            "overlay         148G   38G  110G  26% /\n",
            "tmpfs            64M     0   64M   0% /dev\n",
            "tmpfs           6.4G     0  6.4G   0% /sys/fs/cgroup\n",
            "shm             5.8G     0  5.8G   0% /dev/shm\n",
            "tmpfs           6.4G  184K  6.4G   1% /var/colab\n",
            "/dev/sda1       154G   41G  113G  27% /opt/bin/.nvidia\n",
            "tmpfs           6.4G     0  6.4G   0% /proc/acpi\n",
            "tmpfs           6.4G     0  6.4G   0% /proc/scsi\n",
            "tmpfs           6.4G     0  6.4G   0% /sys/firmware\n",
            "drive            15G  7.7G  7.4G  51% /content/drive\n"
          ],
          "name": "stdout"
        }
      ]
    },
    {
      "cell_type": "code",
      "metadata": {
        "colab": {
          "base_uri": "https://localhost:8080/"
        },
        "id": "pPzAcKuoMvAw",
        "outputId": "5fc2e218-51d5-42a0-e5b9-a1753f7dada2"
      },
      "source": [
        "!cat /proc/meminfo"
      ],
      "execution_count": 67,
      "outputs": [
        {
          "output_type": "stream",
          "text": [
            "MemTotal:       13302916 kB\n",
            "MemFree:          159924 kB\n",
            "MemAvailable:   10183588 kB\n",
            "Buffers:          223612 kB\n",
            "Cached:          6213900 kB\n",
            "SwapCached:            0 kB\n",
            "Active:          3432676 kB\n",
            "Inactive:        9172856 kB\n",
            "Active(anon):    2438920 kB\n",
            "Inactive(anon):    14812 kB\n",
            "Active(file):     993756 kB\n",
            "Inactive(file):  9158044 kB\n",
            "Unevictable:           0 kB\n",
            "Mlocked:               0 kB\n",
            "SwapTotal:             0 kB\n",
            "SwapFree:              0 kB\n",
            "Dirty:               468 kB\n",
            "Writeback:             0 kB\n",
            "AnonPages:       6168112 kB\n",
            "Mapped:          1669512 kB\n",
            "Shmem:             15668 kB\n",
            "KReclaimable:     197916 kB\n",
            "Slab:             264860 kB\n",
            "SReclaimable:     197916 kB\n",
            "SUnreclaim:        66944 kB\n",
            "KernelStack:        6204 kB\n",
            "PageTables:        23808 kB\n",
            "NFS_Unstable:          0 kB\n",
            "Bounce:                0 kB\n",
            "WritebackTmp:          0 kB\n",
            "CommitLimit:     6651456 kB\n",
            "Committed_AS:    9627868 kB\n",
            "VmallocTotal:   34359738367 kB\n",
            "VmallocUsed:       52480 kB\n",
            "VmallocChunk:          0 kB\n",
            "Percpu:             1424 kB\n",
            "AnonHugePages:   2170880 kB\n",
            "ShmemHugePages:        0 kB\n",
            "ShmemPmdMapped:        0 kB\n",
            "FileHugePages:         0 kB\n",
            "FilePmdMapped:         0 kB\n",
            "CmaTotal:              0 kB\n",
            "CmaFree:               0 kB\n",
            "HugePages_Total:       0\n",
            "HugePages_Free:        0\n",
            "HugePages_Rsvd:        0\n",
            "HugePages_Surp:        0\n",
            "Hugepagesize:       2048 kB\n",
            "Hugetlb:               0 kB\n",
            "DirectMap4k:      207680 kB\n",
            "DirectMap2M:     7129088 kB\n",
            "DirectMap1G:     8388608 kB\n"
          ],
          "name": "stdout"
        }
      ]
    },
    {
      "cell_type": "code",
      "metadata": {
        "colab": {
          "base_uri": "https://localhost:8080/"
        },
        "id": "7-_0luv6M0Sd",
        "outputId": "99413667-afef-48b9-a503-14daf1bfebe6"
      },
      "source": [
        "!nvidia-smi\n",
        "print()\n",
        "print()\n",
        "print('=' * 80)\n",
        "print()\n",
        "print()\n",
        "!df -h\n",
        "print()\n",
        "print()\n",
        "print('=' * 80)\n",
        "print()\n",
        "print()\n",
        "!free -m\n",
        "print()\n",
        "print()\n",
        "print('=' * 80)\n",
        "print()\n",
        "print()\n",
        "!lscpu\n",
        "print()\n",
        "print()\n",
        "print('=' * 80)\n",
        "print()\n",
        "print()\n",
        "! ps -eo pmem,pcpu,vsize,pid,cmd | sort -k 1 -nr | head -5"
      ],
      "execution_count": 68,
      "outputs": [
        {
          "output_type": "stream",
          "text": [
            "Wed Aug 25 16:44:57 2021       \n",
            "+-----------------------------------------------------------------------------+\n",
            "| NVIDIA-SMI 470.57.02    Driver Version: 460.32.03    CUDA Version: 11.2     |\n",
            "|-------------------------------+----------------------+----------------------+\n",
            "| GPU  Name        Persistence-M| Bus-Id        Disp.A | Volatile Uncorr. ECC |\n",
            "| Fan  Temp  Perf  Pwr:Usage/Cap|         Memory-Usage | GPU-Util  Compute M. |\n",
            "|                               |                      |               MIG M. |\n",
            "|===============================+======================+======================|\n",
            "|   0  Tesla T4            Off  | 00000000:00:04.0 Off |                    0 |\n",
            "| N/A   52C    P0    27W /  70W |   4962MiB / 15109MiB |      0%      Default |\n",
            "|                               |                      |                  N/A |\n",
            "+-------------------------------+----------------------+----------------------+\n",
            "                                                                               \n",
            "+-----------------------------------------------------------------------------+\n",
            "| Processes:                                                                  |\n",
            "|  GPU   GI   CI        PID   Type   Process name                  GPU Memory |\n",
            "|        ID   ID                                                   Usage      |\n",
            "|=============================================================================|\n",
            "|  No running processes found                                                 |\n",
            "+-----------------------------------------------------------------------------+\n",
            "\n",
            "\n",
            "================================================================================\n",
            "\n",
            "\n",
            "Filesystem      Size  Used Avail Use% Mounted on\n",
            "overlay         148G   38G  110G  26% /\n",
            "tmpfs            64M     0   64M   0% /dev\n",
            "tmpfs           6.4G     0  6.4G   0% /sys/fs/cgroup\n",
            "shm             5.8G     0  5.8G   0% /dev/shm\n",
            "tmpfs           6.4G  184K  6.4G   1% /var/colab\n",
            "/dev/sda1       154G   41G  113G  27% /opt/bin/.nvidia\n",
            "tmpfs           6.4G     0  6.4G   0% /proc/acpi\n",
            "tmpfs           6.4G     0  6.4G   0% /proc/scsi\n",
            "tmpfs           6.4G     0  6.4G   0% /sys/firmware\n",
            "drive            15G  7.7G  7.4G  51% /content/drive\n",
            "\n",
            "\n",
            "================================================================================\n",
            "\n",
            "\n",
            "              total        used        free      shared  buff/cache   available\n",
            "Mem:          12991        6343         181          15        6466        9944\n",
            "Swap:             0           0           0\n",
            "\n",
            "\n",
            "================================================================================\n",
            "\n",
            "\n",
            "Architecture:        x86_64\n",
            "CPU op-mode(s):      32-bit, 64-bit\n",
            "Byte Order:          Little Endian\n",
            "CPU(s):              2\n",
            "On-line CPU(s) list: 0,1\n",
            "Thread(s) per core:  2\n",
            "Core(s) per socket:  1\n",
            "Socket(s):           1\n",
            "NUMA node(s):        1\n",
            "Vendor ID:           GenuineIntel\n",
            "CPU family:          6\n",
            "Model:               85\n",
            "Model name:          Intel(R) Xeon(R) CPU @ 2.00GHz\n",
            "Stepping:            3\n",
            "CPU MHz:             2000.190\n",
            "BogoMIPS:            4000.38\n",
            "Hypervisor vendor:   KVM\n",
            "Virtualization type: full\n",
            "L1d cache:           32K\n",
            "L1i cache:           32K\n",
            "L2 cache:            1024K\n",
            "L3 cache:            39424K\n",
            "NUMA node0 CPU(s):   0,1\n",
            "Flags:               fpu vme de pse tsc msr pae mce cx8 apic sep mtrr pge mca cmov pat pse36 clflush mmx fxsr sse sse2 ss ht syscall nx pdpe1gb rdtscp lm constant_tsc rep_good nopl xtopology nonstop_tsc cpuid tsc_known_freq pni pclmulqdq ssse3 fma cx16 pcid sse4_1 sse4_2 x2apic movbe popcnt aes xsave avx f16c rdrand hypervisor lahf_lm abm 3dnowprefetch invpcid_single ssbd ibrs ibpb stibp fsgsbase tsc_adjust bmi1 hle avx2 smep bmi2 erms invpcid rtm mpx avx512f avx512dq rdseed adx smap clflushopt clwb avx512cd avx512bw avx512vl xsaveopt xsavec xgetbv1 xsaves arat md_clear arch_capabilities\n",
            "\n",
            "\n",
            "================================================================================\n",
            "\n",
            "\n",
            "53.1 60.8 19753328    75 /usr/bin/python3 -m ipykernel_launcher -f /root/.local/share/jupyter/runtime/kernel-cd65120b-971a-4a87-bad6-9ee83c9f4f9d.json\n",
            " 0.5  0.6 354408       1 /tools/node/bin/node /datalab/web/app.js\n",
            " 0.5  0.1 2581168    265 /opt/google/drive/drive --features=fuse_max_background:1000,max_read_qps:1000,max_write_qps:1000,max_operation_batch_size:15,max_parallel_push_task_instances:10,opendir_timeout_ms:120000,virtual_folders_omit_spaces:true --inet_family=IPV4_ONLY --preferences=trusted_root_certs_file_path:/opt/google/drive/roots.pem,mount_point_path:/content/drive --console_auth --auto_restart_count=1 --first_auto_restart_timestamp=0 --single_process --parent_version=49.0.9.0 --crash_handler_token=dummy_crash_token\n",
            " 0.4  1.4 198260      64 /usr/bin/python2 /usr/local/bin/jupyter-notebook --ip=\"172.28.0.2\" --port=9000 --FileContentsManager.root_dir=\"/\" --MappingKernelManager.root_dir=\"/content\"\n",
            " 0.1  0.3 129948      95 /usr/bin/python3 /usr/local/lib/python3.7/dist-packages/debugpy/adapter --for-server 40673 --host 127.0.0.1 --port 19127 --server-access-token d35552628adefe6223e2fefb2b4420f7d272e9263fa7729a246c074731bf32f8\n"
          ],
          "name": "stdout"
        }
      ]
    }
  ]
}
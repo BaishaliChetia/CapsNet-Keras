{
  "nbformat": 4,
  "nbformat_minor": 0,
  "metadata": {
    "colab": {
      "name": "VGGmnist.ipynb",
      "provenance": [],
      "collapsed_sections": [],
      "authorship_tag": "ABX9TyN/dn5koT7hpM4lGaZu78/3",
      "include_colab_link": true
    },
    "kernelspec": {
      "name": "python3",
      "display_name": "Python 3"
    },
    "language_info": {
      "name": "python"
    },
    "accelerator": "GPU"
  },
  "cells": [
    {
      "cell_type": "markdown",
      "metadata": {
        "id": "view-in-github",
        "colab_type": "text"
      },
      "source": [
        "<a href=\"https://colab.research.google.com/github/BaishaliChetia/CapsNet-Keras/blob/master/VGGmnist.ipynb\" target=\"_parent\"><img src=\"https://colab.research.google.com/assets/colab-badge.svg\" alt=\"Open In Colab\"/></a>"
      ]
    },
    {
      "cell_type": "code",
      "metadata": {
        "id": "OROC3I4_AvuJ"
      },
      "source": [
        "import tensorflow as tf\n",
        "import keras\n",
        "import numpy as np\n",
        "import pandas as pd\n",
        "import matplotlib.pyplot as plt\n",
        "#from keras.datasets import fashion_mnist\n",
        "from sklearn.model_selection import train_test_split\n",
        "\n",
        "#from keras.utils import to_categorical\n",
        "from keras.models import Sequential\n",
        "from keras.layers import Conv2D, MaxPooling2D\n",
        "from keras.layers import Dense, Dropout, Flatten\n",
        "#from keras.layers.advanced_activations import LeakyReLU\n",
        "from keras.preprocessing.image import ImageDataGenerator\n",
        "#from keras.applications import VGG16;\n",
        "#from keras.applications.vgg16 import preprocess_input"
      ],
      "execution_count": 1,
      "outputs": []
    },
    {
      "cell_type": "code",
      "metadata": {
        "id": "s557QfIKBWfB"
      },
      "source": [
        "#width , height = 150, 150\n",
        "\n",
        "\n",
        "# Load MNIST dataset\n",
        "mnist = tf.keras.datasets.mnist\n",
        "(train_images, train_labels), (test_images, test_labels) = mnist.load_data()\n",
        "\n",
        "# Normalize the input image so that each pixel value is between 0 and 1.\n",
        "train_images = train_images / 255.0\n",
        "test_images = test_images / 255.0"
      ],
      "execution_count": 2,
      "outputs": []
    },
    {
      "cell_type": "code",
      "metadata": {
        "id": "obtGBAe4CJ8J"
      },
      "source": [
        "#PADDING train images\n",
        "train_X =[]\n",
        "\n",
        "for i in range(train_images.shape[0]):\n",
        "  train_pad = np.pad(train_images[i], pad_width=10 , mode= 'edge')\n",
        "  #print(train_pad)\n",
        "  train_X.append(train_pad)\n",
        "  \n"
      ],
      "execution_count": 3,
      "outputs": []
    },
    {
      "cell_type": "code",
      "metadata": {
        "id": "RPCwyPG_y9Ht"
      },
      "source": [
        "#PADDING test images\n",
        "test_X = []\n",
        "for i in range(test_images.shape[0]):\n",
        "  test_pad = np.pad(test_images[i], pad_width=10 , mode= 'edge')\n",
        "  #print(train_pad)\n",
        "  test_X.append(test_pad)"
      ],
      "execution_count": 4,
      "outputs": []
    },
    {
      "cell_type": "code",
      "metadata": {
        "colab": {
          "base_uri": "https://localhost:8080/"
        },
        "id": "Ubj0KHvNzafB",
        "outputId": "943656ca-0115-4f1d-9531-9794a370551e"
      },
      "source": [
        "train_X = np.array(train_X)\n",
        "test_X = np.array(test_X)\n",
        "train_X.shape, test_X.shape"
      ],
      "execution_count": 5,
      "outputs": [
        {
          "output_type": "execute_result",
          "data": {
            "text/plain": [
              "((60000, 48, 48), (10000, 48, 48))"
            ]
          },
          "metadata": {
            "tags": []
          },
          "execution_count": 5
        }
      ]
    },
    {
      "cell_type": "code",
      "metadata": {
        "id": "j3agGySrEHKD"
      },
      "source": [
        "# mnist2 = tf.keras.datasets.fashion_mnist\n",
        "# (train_images2, train_labels2), (test_images2, test_labels2) = mnist2.load_data()"
      ],
      "execution_count": 6,
      "outputs": []
    },
    {
      "cell_type": "code",
      "metadata": {
        "colab": {
          "base_uri": "https://localhost:8080/"
        },
        "id": "ERmkMjLAEPcd",
        "outputId": "0efd4a00-8337-4e62-a72b-592ed70733dd"
      },
      "source": [
        "classes = np.unique(train_labels)\n",
        "num_classes = len(classes)\n",
        "num_classes"
      ],
      "execution_count": 7,
      "outputs": [
        {
          "output_type": "execute_result",
          "data": {
            "text/plain": [
              "10"
            ]
          },
          "metadata": {
            "tags": []
          },
          "execution_count": 7
        }
      ]
    },
    {
      "cell_type": "code",
      "metadata": {
        "colab": {
          "base_uri": "https://localhost:8080/"
        },
        "id": "sfbEpH-xEv6c",
        "outputId": "858fdd40-e8c0-4757-c6f0-05eafdecd416"
      },
      "source": [
        "train_X=np.dstack([train_X] * 3)\n",
        "test_X=np.dstack([test_X]*3)\n",
        "train_X.shape,test_X.shape"
      ],
      "execution_count": 8,
      "outputs": [
        {
          "output_type": "execute_result",
          "data": {
            "text/plain": [
              "((60000, 48, 144), (10000, 48, 144))"
            ]
          },
          "metadata": {
            "tags": []
          },
          "execution_count": 8
        }
      ]
    },
    {
      "cell_type": "code",
      "metadata": {
        "colab": {
          "base_uri": "https://localhost:8080/"
        },
        "id": "F2NkLYEzF1h6",
        "outputId": "48e4ea59-a185-4bda-ef0b-b8cd7c218b60"
      },
      "source": [
        "train_X = train_X.reshape(-1, 48,48,3)\n",
        "test_X= test_X.reshape (-1,48,48,3)\n",
        "train_X.shape,test_X.shape"
      ],
      "execution_count": 9,
      "outputs": [
        {
          "output_type": "execute_result",
          "data": {
            "text/plain": [
              "((60000, 48, 48, 3), (10000, 48, 48, 3))"
            ]
          },
          "metadata": {
            "tags": []
          },
          "execution_count": 9
        }
      ]
    },
    {
      "cell_type": "code",
      "metadata": {
        "id": "dlzlHn-uUQgS"
      },
      "source": [
        ""
      ],
      "execution_count": 9,
      "outputs": []
    },
    {
      "cell_type": "code",
      "metadata": {
        "id": "x1xzaIabGBZd"
      },
      "source": [
        "# # Resize the images 48*48 as required by VGG16\n",
        "# from keras.preprocessing.image import img_to_array, array_to_img\n",
        "# train_X = np.asarray([img_to_array(array_to_img(im, scale=False).resize((48,48))) for im in train_X])\n",
        "# test_X = np.asarray([img_to_array(array_to_img(im, scale=False).resize((48,48))) for im in test_X])\n",
        "# #train_x = preprocess_input(x)\n",
        "# train_X.shape, test_X.shape"
      ],
      "execution_count": 10,
      "outputs": []
    },
    {
      "cell_type": "code",
      "metadata": {
        "id": "-fn1ZFVmGMU9"
      },
      "source": [
        "\n",
        "train_X = train_X.astype('float32')\n",
        "test_X = test_X.astype('float32')"
      ],
      "execution_count": 11,
      "outputs": []
    },
    {
      "cell_type": "code",
      "metadata": {
        "id": "XaaXhWqWGXh8"
      },
      "source": [
        "# Converting Labels to one hot encoded format\n",
        "from tensorflow.keras.utils import to_categorical\n",
        "train_Y_one_hot = to_categorical(train_labels)\n",
        "test_Y_one_hot = to_categorical(test_labels)"
      ],
      "execution_count": 12,
      "outputs": []
    },
    {
      "cell_type": "code",
      "metadata": {
        "id": "s1aOvF-nHV4p"
      },
      "source": [
        "# Splitting train data as train and validation data\n",
        "train_X,valid_X,train_label,valid_label = train_test_split(train_X,\n",
        "                                                           train_Y_one_hot,\n",
        "                                                           test_size=0.1,\n",
        "                                                           random_state=13\n",
        "                                                           )"
      ],
      "execution_count": 13,
      "outputs": []
    },
    {
      "cell_type": "code",
      "metadata": {
        "colab": {
          "base_uri": "https://localhost:8080/"
        },
        "id": "zvIIaRvoHiLw",
        "outputId": "abd4ce00-ce0b-444b-899b-9db6dc46c862"
      },
      "source": [
        "train_X.shape,valid_X.shape,train_label.shape,valid_label.shape"
      ],
      "execution_count": 14,
      "outputs": [
        {
          "output_type": "execute_result",
          "data": {
            "text/plain": [
              "((54000, 48, 48, 3), (6000, 48, 48, 3), (54000, 10), (6000, 10))"
            ]
          },
          "metadata": {
            "tags": []
          },
          "execution_count": 14
        }
      ]
    },
    {
      "cell_type": "code",
      "metadata": {
        "id": "QSmJk5-8HlrI"
      },
      "source": [
        "# Define the parameters for instanitaing VGG16 model. \n",
        "IMG_WIDTH = 48\n",
        "IMG_HEIGHT = 48\n",
        "IMG_DEPTH = 3\n",
        "BATCH_SIZE = 16"
      ],
      "execution_count": 15,
      "outputs": []
    },
    {
      "cell_type": "code",
      "metadata": {
        "id": "UPGC0__KH2wp"
      },
      "source": [
        "#from keras.layers.advanced_activations import LeakyReLU\n",
        "from keras.preprocessing.image import ImageDataGenerator\n",
        "from tensorflow.keras.applications import VGG16;\n",
        "from keras.applications.vgg16 import preprocess_input\n",
        "import os"
      ],
      "execution_count": 16,
      "outputs": []
    },
    {
      "cell_type": "code",
      "metadata": {
        "id": "-RmO0-v5HsQk"
      },
      "source": [
        "# Preprocessing the input \n",
        "train_X = preprocess_input(train_X)\n",
        "valid_X = preprocess_input(valid_X)\n",
        "test_X  = preprocess_input (test_X)"
      ],
      "execution_count": 17,
      "outputs": []
    },
    {
      "cell_type": "code",
      "metadata": {
        "colab": {
          "base_uri": "https://localhost:8080/"
        },
        "id": "PAuz-yVpA_hQ",
        "outputId": "527c79ff-5f5f-4be6-9fc1-474b6df39285"
      },
      "source": [
        "vggModel = tf.keras.applications.VGG16(weights='imagenet', include_top= False, input_shape= (IMG_HEIGHT, IMG_WIDTH, IMG_DEPTH))\n",
        "vggModel.summary()"
      ],
      "execution_count": 18,
      "outputs": [
        {
          "output_type": "stream",
          "text": [
            "Model: \"vgg16\"\n",
            "_________________________________________________________________\n",
            "Layer (type)                 Output Shape              Param #   \n",
            "=================================================================\n",
            "input_1 (InputLayer)         [(None, 48, 48, 3)]       0         \n",
            "_________________________________________________________________\n",
            "block1_conv1 (Conv2D)        (None, 48, 48, 64)        1792      \n",
            "_________________________________________________________________\n",
            "block1_conv2 (Conv2D)        (None, 48, 48, 64)        36928     \n",
            "_________________________________________________________________\n",
            "block1_pool (MaxPooling2D)   (None, 24, 24, 64)        0         \n",
            "_________________________________________________________________\n",
            "block2_conv1 (Conv2D)        (None, 24, 24, 128)       73856     \n",
            "_________________________________________________________________\n",
            "block2_conv2 (Conv2D)        (None, 24, 24, 128)       147584    \n",
            "_________________________________________________________________\n",
            "block2_pool (MaxPooling2D)   (None, 12, 12, 128)       0         \n",
            "_________________________________________________________________\n",
            "block3_conv1 (Conv2D)        (None, 12, 12, 256)       295168    \n",
            "_________________________________________________________________\n",
            "block3_conv2 (Conv2D)        (None, 12, 12, 256)       590080    \n",
            "_________________________________________________________________\n",
            "block3_conv3 (Conv2D)        (None, 12, 12, 256)       590080    \n",
            "_________________________________________________________________\n",
            "block3_pool (MaxPooling2D)   (None, 6, 6, 256)         0         \n",
            "_________________________________________________________________\n",
            "block4_conv1 (Conv2D)        (None, 6, 6, 512)         1180160   \n",
            "_________________________________________________________________\n",
            "block4_conv2 (Conv2D)        (None, 6, 6, 512)         2359808   \n",
            "_________________________________________________________________\n",
            "block4_conv3 (Conv2D)        (None, 6, 6, 512)         2359808   \n",
            "_________________________________________________________________\n",
            "block4_pool (MaxPooling2D)   (None, 3, 3, 512)         0         \n",
            "_________________________________________________________________\n",
            "block5_conv1 (Conv2D)        (None, 3, 3, 512)         2359808   \n",
            "_________________________________________________________________\n",
            "block5_conv2 (Conv2D)        (None, 3, 3, 512)         2359808   \n",
            "_________________________________________________________________\n",
            "block5_conv3 (Conv2D)        (None, 3, 3, 512)         2359808   \n",
            "_________________________________________________________________\n",
            "block5_pool (MaxPooling2D)   (None, 1, 1, 512)         0         \n",
            "=================================================================\n",
            "Total params: 14,714,688\n",
            "Trainable params: 14,714,688\n",
            "Non-trainable params: 0\n",
            "_________________________________________________________________\n"
          ],
          "name": "stdout"
        }
      ]
    },
    {
      "cell_type": "code",
      "metadata": {
        "colab": {
          "base_uri": "https://localhost:8080/"
        },
        "id": "fJyUnRdSH9Sm",
        "outputId": "452ff374-9729-4c53-8cc0-18401142f23b"
      },
      "source": [
        "# Extracting features\n",
        "train_features = vggModel.predict(np.array(train_X), batch_size=BATCH_SIZE, verbose=1)\n",
        "test_features = vggModel.predict(np.array(test_X), batch_size=BATCH_SIZE, verbose=1)\n",
        "val_features = vggModel.predict(np.array(valid_X), batch_size=BATCH_SIZE, verbose=1)"
      ],
      "execution_count": 19,
      "outputs": [
        {
          "output_type": "stream",
          "text": [
            "3375/3375 [==============================] - 21s 5ms/step\n",
            "625/625 [==============================] - 3s 5ms/step\n",
            "375/375 [==============================] - 2s 5ms/step\n"
          ],
          "name": "stdout"
        }
      ]
    },
    {
      "cell_type": "code",
      "metadata": {
        "colab": {
          "base_uri": "https://localhost:8080/"
        },
        "id": "yIZpG_PsMpgw",
        "outputId": "e2043f13-f76d-45f0-cfad-f802b4090f5c"
      },
      "source": [
        "train_features.shape\n"
      ],
      "execution_count": 20,
      "outputs": [
        {
          "output_type": "execute_result",
          "data": {
            "text/plain": [
              "(54000, 1, 1, 512)"
            ]
          },
          "metadata": {
            "tags": []
          },
          "execution_count": 20
        }
      ]
    },
    {
      "cell_type": "code",
      "metadata": {
        "colab": {
          "base_uri": "https://localhost:8080/"
        },
        "id": "n6--nE-_PCEN",
        "outputId": "e5a0ca82-cf34-4914-d68f-31a921766659"
      },
      "source": [
        "val_features.shape"
      ],
      "execution_count": 21,
      "outputs": [
        {
          "output_type": "execute_result",
          "data": {
            "text/plain": [
              "(6000, 1, 1, 512)"
            ]
          },
          "metadata": {
            "tags": []
          },
          "execution_count": 21
        }
      ]
    },
    {
      "cell_type": "code",
      "metadata": {
        "id": "ypdA0XeiPCBJ"
      },
      "source": [
        ""
      ],
      "execution_count": 21,
      "outputs": []
    },
    {
      "cell_type": "code",
      "metadata": {
        "colab": {
          "base_uri": "https://localhost:8080/"
        },
        "id": "1VdGiVfOMuom",
        "outputId": "830eff74-ff93-464b-ba7d-7bac6e1dc985"
      },
      "source": [
        "train_features.reshape(train_features.shape[0], -1)\n",
        "train_features.shape"
      ],
      "execution_count": 22,
      "outputs": [
        {
          "output_type": "execute_result",
          "data": {
            "text/plain": [
              "(54000, 1, 1, 512)"
            ]
          },
          "metadata": {
            "tags": []
          },
          "execution_count": 22
        }
      ]
    },
    {
      "cell_type": "code",
      "metadata": {
        "colab": {
          "base_uri": "https://localhost:8080/"
        },
        "id": "vyNIJbQ0KURr",
        "outputId": "959297d9-65ba-479f-9d72-051439bc94f5"
      },
      "source": [
        "print(train_features.shape, \"\\n\",  test_features.shape, \"\\n\", val_features.shape)"
      ],
      "execution_count": 23,
      "outputs": [
        {
          "output_type": "stream",
          "text": [
            "(54000, 1, 1, 512) \n",
            " (10000, 1, 1, 512) \n",
            " (6000, 1, 1, 512)\n"
          ],
          "name": "stdout"
        }
      ]
    },
    {
      "cell_type": "code",
      "metadata": {
        "id": "AroX6nlOKYeN"
      },
      "source": [
        "# Flatten extracted features\n",
        "train_features_flat = np.reshape(train_features, (54000,512))\n",
        "test_features_flat = np.reshape(test_features, (10000,512))\n",
        "val_features_flat = np.reshape(val_features, (6000, 512))"
      ],
      "execution_count": 24,
      "outputs": []
    },
    {
      "cell_type": "code",
      "metadata": {
        "colab": {
          "base_uri": "https://localhost:8080/"
        },
        "id": "lUf_oZG1QGKy",
        "outputId": "133908e8-0963-4bee-9aa7-ea574baf2624"
      },
      "source": [
        "train_features.shape"
      ],
      "execution_count": 25,
      "outputs": [
        {
          "output_type": "execute_result",
          "data": {
            "text/plain": [
              "(54000, 1, 1, 512)"
            ]
          },
          "metadata": {
            "tags": []
          },
          "execution_count": 25
        }
      ]
    },
    {
      "cell_type": "code",
      "metadata": {
        "id": "NfLZhD9LKptf"
      },
      "source": [
        "from keras import models\n",
        "from keras.models import Model\n",
        "from keras import layers\n",
        "from keras import optimizers\n",
        "from keras import callbacks\n",
        "from keras.layers.advanced_activations import LeakyReLU"
      ],
      "execution_count": 26,
      "outputs": []
    },
    {
      "cell_type": "code",
      "metadata": {
        "id": "0m1F6fn_KxD0"
      },
      "source": [
        "# 7.0 Define the densely connected classifier followed by leakyrelu layer and finally dense layer for the number of classes\n",
        "NB_TRAIN_SAMPLES = train_features_flat.shape[0]\n",
        "NB_VALIDATION_SAMPLES = val_features_flat.shape[0]\n",
        "NB_EPOCHS = 100\n",
        "\n",
        "model = models.Sequential()\n",
        "model.add(layers.Dense(512, activation='relu', input_dim=(1*1*512)))\n",
        "#model.add(layers.LeakyReLU(alpha=0.1))\n",
        "model.add(layers.Dense(num_classes, activation='softmax'))\n"
      ],
      "execution_count": 49,
      "outputs": []
    },
    {
      "cell_type": "code",
      "metadata": {
        "id": "EW-XE7_X_-RP"
      },
      "source": [
        "\n",
        "# model = keras.Sequential([\n",
        "#                           vggModel,\n",
        "#                           keras.layers.Flatten(),\n",
        "#                           keras.layers.Dense(512, activation='relu', input_dim=(1*1*512)), \n",
        "#                           keras.layers.Dense(num_classes, activation= 'softmax')\n",
        "\n",
        "                          \n",
        "# ])\n"
      ],
      "execution_count": 43,
      "outputs": []
    },
    {
      "cell_type": "code",
      "metadata": {
        "id": "0HLRtREF_-OJ"
      },
      "source": [
        ""
      ],
      "execution_count": null,
      "outputs": []
    },
    {
      "cell_type": "code",
      "metadata": {
        "id": "zq2T5wovK1Uu"
      },
      "source": [
        "# Compile the model.\n",
        "model.compile(\n",
        "    loss='categorical_crossentropy',\n",
        "    optimizer=optimizers.Adam(),\n",
        "  # optimizer=optimizers.RMSprop(lr=2e-5),\n",
        "    metrics=['acc'])"
      ],
      "execution_count": 50,
      "outputs": []
    },
    {
      "cell_type": "code",
      "metadata": {
        "colab": {
          "base_uri": "https://localhost:8080/"
        },
        "id": "jDpJXH4LK8Ge",
        "outputId": "308cae23-3afc-4731-84a5-cc9344e46897"
      },
      "source": [
        "# Incorporating reduced learning and early stopping for callback\n",
        "reduce_learning = callbacks.ReduceLROnPlateau(\n",
        "    monitor='val_loss',\n",
        "    factor=0.2,\n",
        "    patience=2,\n",
        "    verbose=1,\n",
        "    mode='auto',\n",
        "    epsilon=0.0001,\n",
        "    cooldown=2,\n",
        "    min_lr=0)\n",
        "\n",
        "eary_stopping = callbacks.EarlyStopping(\n",
        "    monitor='val_loss',\n",
        "    min_delta=0,\n",
        "    patience=7,\n",
        "    verbose=1,\n",
        "    mode='auto')\n",
        "\n",
        "callbacks = [reduce_learning, eary_stopping]"
      ],
      "execution_count": 29,
      "outputs": [
        {
          "output_type": "stream",
          "text": [
            "WARNING:tensorflow:`epsilon` argument is deprecated and will be removed, use `min_delta` instead.\n"
          ],
          "name": "stdout"
        }
      ]
    },
    {
      "cell_type": "code",
      "metadata": {
        "colab": {
          "base_uri": "https://localhost:8080/"
        },
        "id": "UpYHbvZxBGQX",
        "outputId": "9102cc32-2028-458e-d9a6-a95dca6a97d4"
      },
      "source": [
        "valid_X.shape"
      ],
      "execution_count": 47,
      "outputs": [
        {
          "output_type": "execute_result",
          "data": {
            "text/plain": [
              "(6000, 48, 48, 3)"
            ]
          },
          "metadata": {
            "tags": []
          },
          "execution_count": 47
        }
      ]
    },
    {
      "cell_type": "code",
      "metadata": {
        "colab": {
          "base_uri": "https://localhost:8080/"
        },
        "id": "2zM4_9S3K_iW",
        "outputId": "a2b0fe76-736d-4899-c063-84c85c8788b5"
      },
      "source": [
        "# Train the the model\n",
        "history = model.fit(\n",
        "    train_features_flat,\n",
        "    train_label,\n",
        "    epochs=50,\n",
        "    validation_data=(val_features_flat, valid_label),\n",
        "   \n",
        ")"
      ],
      "execution_count": 51,
      "outputs": [
        {
          "output_type": "stream",
          "text": [
            "Epoch 1/50\n",
            "1688/1688 [==============================] - 18s 3ms/step - loss: 2.1708 - acc: 0.2358 - val_loss: 1.8099 - val_acc: 0.3633\n",
            "Epoch 2/50\n",
            "1688/1688 [==============================] - 6s 3ms/step - loss: 1.6455 - acc: 0.4045 - val_loss: 1.6035 - val_acc: 0.4060\n",
            "Epoch 3/50\n",
            "1688/1688 [==============================] - 6s 3ms/step - loss: 1.4859 - acc: 0.4714 - val_loss: 1.4478 - val_acc: 0.4845\n",
            "Epoch 4/50\n",
            "1688/1688 [==============================] - 6s 3ms/step - loss: 1.3782 - acc: 0.5155 - val_loss: 1.3718 - val_acc: 0.5185\n",
            "Epoch 5/50\n",
            "1688/1688 [==============================] - 5s 3ms/step - loss: 1.2836 - acc: 0.5623 - val_loss: 1.2426 - val_acc: 0.5738\n",
            "Epoch 6/50\n",
            "1688/1688 [==============================] - 6s 3ms/step - loss: 1.2223 - acc: 0.5855 - val_loss: 1.3606 - val_acc: 0.5265\n",
            "Epoch 7/50\n",
            "1688/1688 [==============================] - 5s 3ms/step - loss: 1.1811 - acc: 0.6012 - val_loss: 1.1295 - val_acc: 0.6153\n",
            "Epoch 8/50\n",
            "1688/1688 [==============================] - 6s 3ms/step - loss: 1.1355 - acc: 0.6189 - val_loss: 1.1770 - val_acc: 0.5953\n",
            "Epoch 9/50\n",
            "1688/1688 [==============================] - 6s 3ms/step - loss: 1.1186 - acc: 0.6245 - val_loss: 1.2054 - val_acc: 0.5903\n",
            "Epoch 10/50\n",
            "1688/1688 [==============================] - 6s 3ms/step - loss: 1.0988 - acc: 0.6344 - val_loss: 1.0077 - val_acc: 0.6708\n",
            "Epoch 11/50\n",
            "1688/1688 [==============================] - 6s 3ms/step - loss: 1.0613 - acc: 0.6444 - val_loss: 0.9979 - val_acc: 0.6857\n",
            "Epoch 12/50\n",
            "1688/1688 [==============================] - 6s 3ms/step - loss: 1.0477 - acc: 0.6515 - val_loss: 0.9978 - val_acc: 0.6938\n",
            "Epoch 13/50\n",
            "1688/1688 [==============================] - 5s 3ms/step - loss: 1.0060 - acc: 0.6702 - val_loss: 1.0373 - val_acc: 0.6552\n",
            "Epoch 14/50\n",
            "1688/1688 [==============================] - 6s 3ms/step - loss: 0.9868 - acc: 0.6758 - val_loss: 0.9958 - val_acc: 0.6900\n",
            "Epoch 15/50\n",
            "1688/1688 [==============================] - 6s 3ms/step - loss: 0.9746 - acc: 0.6829 - val_loss: 0.9265 - val_acc: 0.7003\n",
            "Epoch 16/50\n",
            "1688/1688 [==============================] - 5s 3ms/step - loss: 0.9437 - acc: 0.6914 - val_loss: 0.9393 - val_acc: 0.6943\n",
            "Epoch 17/50\n",
            "1688/1688 [==============================] - 6s 3ms/step - loss: 0.9465 - acc: 0.6890 - val_loss: 0.8890 - val_acc: 0.7168\n",
            "Epoch 18/50\n",
            "1688/1688 [==============================] - 5s 3ms/step - loss: 0.9238 - acc: 0.6999 - val_loss: 0.9313 - val_acc: 0.6945\n",
            "Epoch 19/50\n",
            "1688/1688 [==============================] - 6s 3ms/step - loss: 0.9316 - acc: 0.6947 - val_loss: 1.0190 - val_acc: 0.6537\n",
            "Epoch 20/50\n",
            "1688/1688 [==============================] - 5s 3ms/step - loss: 0.9180 - acc: 0.6974 - val_loss: 0.9226 - val_acc: 0.6900\n",
            "Epoch 21/50\n",
            "1688/1688 [==============================] - 6s 3ms/step - loss: 0.8927 - acc: 0.7080 - val_loss: 1.1150 - val_acc: 0.6290\n",
            "Epoch 22/50\n",
            "1688/1688 [==============================] - 5s 3ms/step - loss: 0.8945 - acc: 0.7084 - val_loss: 0.9626 - val_acc: 0.6798\n",
            "Epoch 23/50\n",
            "1688/1688 [==============================] - 6s 3ms/step - loss: 0.8844 - acc: 0.7111 - val_loss: 0.8539 - val_acc: 0.7298\n",
            "Epoch 24/50\n",
            "1688/1688 [==============================] - 5s 3ms/step - loss: 0.8851 - acc: 0.7074 - val_loss: 0.8558 - val_acc: 0.7183\n",
            "Epoch 25/50\n",
            "1688/1688 [==============================] - 5s 3ms/step - loss: 0.8701 - acc: 0.7137 - val_loss: 0.8523 - val_acc: 0.7287\n",
            "Epoch 26/50\n",
            "1688/1688 [==============================] - 6s 3ms/step - loss: 0.8566 - acc: 0.7209 - val_loss: 0.9027 - val_acc: 0.7137\n",
            "Epoch 27/50\n",
            "1688/1688 [==============================] - 5s 3ms/step - loss: 0.8504 - acc: 0.7220 - val_loss: 0.8807 - val_acc: 0.6992\n",
            "Epoch 28/50\n",
            "1688/1688 [==============================] - 6s 3ms/step - loss: 0.8594 - acc: 0.7160 - val_loss: 0.8425 - val_acc: 0.7355\n",
            "Epoch 29/50\n",
            "1688/1688 [==============================] - 5s 3ms/step - loss: 0.8335 - acc: 0.7283 - val_loss: 0.7799 - val_acc: 0.7608\n",
            "Epoch 30/50\n",
            "1688/1688 [==============================] - 6s 3ms/step - loss: 0.8399 - acc: 0.7260 - val_loss: 0.8340 - val_acc: 0.7295\n",
            "Epoch 31/50\n",
            "1688/1688 [==============================] - 5s 3ms/step - loss: 0.8295 - acc: 0.7294 - val_loss: 0.9154 - val_acc: 0.6927\n",
            "Epoch 32/50\n",
            "1688/1688 [==============================] - 6s 3ms/step - loss: 0.8443 - acc: 0.7211 - val_loss: 0.7775 - val_acc: 0.7462\n",
            "Epoch 33/50\n",
            "1688/1688 [==============================] - 5s 3ms/step - loss: 0.8215 - acc: 0.7320 - val_loss: 0.8392 - val_acc: 0.7257\n",
            "Epoch 34/50\n",
            "1688/1688 [==============================] - 6s 3ms/step - loss: 0.8241 - acc: 0.7293 - val_loss: 0.8163 - val_acc: 0.7460\n",
            "Epoch 35/50\n",
            "1688/1688 [==============================] - 5s 3ms/step - loss: 0.8126 - acc: 0.7325 - val_loss: 0.8998 - val_acc: 0.6972\n",
            "Epoch 36/50\n",
            "1688/1688 [==============================] - 6s 3ms/step - loss: 0.8240 - acc: 0.7306 - val_loss: 0.9871 - val_acc: 0.6665\n",
            "Epoch 37/50\n",
            "1688/1688 [==============================] - 6s 3ms/step - loss: 0.8094 - acc: 0.7346 - val_loss: 0.9060 - val_acc: 0.6927\n",
            "Epoch 38/50\n",
            "1688/1688 [==============================] - 6s 3ms/step - loss: 0.8059 - acc: 0.7393 - val_loss: 0.8799 - val_acc: 0.7215\n",
            "Epoch 39/50\n",
            "1688/1688 [==============================] - 6s 3ms/step - loss: 0.7971 - acc: 0.7408 - val_loss: 0.7515 - val_acc: 0.7587\n",
            "Epoch 40/50\n",
            "1688/1688 [==============================] - 6s 3ms/step - loss: 0.8037 - acc: 0.7374 - val_loss: 0.9586 - val_acc: 0.6830\n",
            "Epoch 41/50\n",
            "1688/1688 [==============================] - 6s 3ms/step - loss: 0.7889 - acc: 0.7433 - val_loss: 0.7778 - val_acc: 0.7440\n",
            "Epoch 42/50\n",
            "1688/1688 [==============================] - 6s 3ms/step - loss: 0.7923 - acc: 0.7412 - val_loss: 0.8613 - val_acc: 0.7175\n",
            "Epoch 43/50\n",
            "1688/1688 [==============================] - 5s 3ms/step - loss: 0.8029 - acc: 0.7366 - val_loss: 0.7698 - val_acc: 0.7558\n",
            "Epoch 44/50\n",
            "1688/1688 [==============================] - 6s 3ms/step - loss: 0.7754 - acc: 0.7457 - val_loss: 0.7791 - val_acc: 0.7542\n",
            "Epoch 45/50\n",
            "1688/1688 [==============================] - 6s 3ms/step - loss: 0.8018 - acc: 0.7375 - val_loss: 0.7449 - val_acc: 0.7708\n",
            "Epoch 46/50\n",
            "1688/1688 [==============================] - 6s 3ms/step - loss: 0.7787 - acc: 0.7444 - val_loss: 0.8056 - val_acc: 0.7365\n",
            "Epoch 47/50\n",
            "1688/1688 [==============================] - 5s 3ms/step - loss: 0.7919 - acc: 0.7423 - val_loss: 0.7755 - val_acc: 0.7442\n",
            "Epoch 48/50\n",
            "1688/1688 [==============================] - 6s 3ms/step - loss: 0.7795 - acc: 0.7462 - val_loss: 0.9075 - val_acc: 0.6988\n",
            "Epoch 49/50\n",
            "1688/1688 [==============================] - 5s 3ms/step - loss: 0.7760 - acc: 0.7498 - val_loss: 0.7703 - val_acc: 0.7523\n",
            "Epoch 50/50\n",
            "1688/1688 [==============================] - 6s 3ms/step - loss: 0.7830 - acc: 0.7455 - val_loss: 0.7905 - val_acc: 0.7392\n"
          ],
          "name": "stdout"
        }
      ]
    },
    {
      "cell_type": "code",
      "metadata": {
        "colab": {
          "base_uri": "https://localhost:8080/"
        },
        "id": "Kj80DAwY3qyU",
        "outputId": "f815c810-22ac-476e-8c79-10be3d1b836c"
      },
      "source": [
        "print(f'Best Validation Accuracy = {np.max(history.history[\"val_acc\"])}')\n",
        "print(f'Best Training   Accuracy = {np.max(history.history[\"acc\"])}')"
      ],
      "execution_count": 52,
      "outputs": [
        {
          "output_type": "stream",
          "text": [
            "Best Validation Accuracy = 0.7708333134651184\n",
            "Best Training   Accuracy = 0.7519444227218628\n"
          ],
          "name": "stdout"
        }
      ]
    },
    {
      "cell_type": "code",
      "metadata": {
        "colab": {
          "base_uri": "https://localhost:8080/"
        },
        "id": "jTSu-Q-n4ntV",
        "outputId": "104cbf5e-3366-4ab5-b1d4-b15254e7f1fc"
      },
      "source": [
        "vgg_basemodel_file = model.save(\"/content/drive/MyDrive/MnistResults/vgg_save_basemodel1.tf\", save_format='tf')"
      ],
      "execution_count": 32,
      "outputs": [
        {
          "output_type": "stream",
          "text": [
            "INFO:tensorflow:Assets written to: /content/drive/MyDrive/MnistResults/vgg_save_basemodel1.tf/assets\n"
          ],
          "name": "stdout"
        }
      ]
    },
    {
      "cell_type": "code",
      "metadata": {
        "colab": {
          "base_uri": "https://localhost:8080/"
        },
        "id": "ipaFSeMp_K-O",
        "outputId": "a503e933-2c10-4a0c-88ec-72884e454d73"
      },
      "source": [
        "model1 = keras.models.load_model(\"/content/drive/MyDrive/MnistResults/vgg_save_basemodel1.tf\")\n",
        "model1.summary()\n"
      ],
      "execution_count": 38,
      "outputs": [
        {
          "output_type": "stream",
          "text": [
            "Model: \"sequential\"\n",
            "_________________________________________________________________\n",
            "Layer (type)                 Output Shape              Param #   \n",
            "=================================================================\n",
            "dense (Dense)                (None, 512)               262656    \n",
            "_________________________________________________________________\n",
            "dense_1 (Dense)              (None, 10)                5130      \n",
            "=================================================================\n",
            "Total params: 267,786\n",
            "Trainable params: 267,786\n",
            "Non-trainable params: 0\n",
            "_________________________________________________________________\n"
          ],
          "name": "stdout"
        }
      ]
    },
    {
      "cell_type": "code",
      "metadata": {
        "colab": {
          "base_uri": "https://localhost:8080/",
          "height": 648
        },
        "id": "-KZGku9h5oGS",
        "outputId": "feb31aab-0d61-4f5f-d71d-b2451b5134e8"
      },
      "source": [
        "import matplotlib.pyplot as plt\n",
        "\n",
        "plt.rcParams[\"figure.figsize\"] = (30, 10)\n",
        "plt.rcParams[\"font.size\"] = 20\n",
        "\n",
        "fig, ax = plt.subplots(1, 2)\n",
        "\n",
        "ax[0].plot(history.history['acc'])\n",
        "ax[0].plot(history.history['val_acc'])\n",
        "ax[0].set_title('Model Accuracy')\n",
        "ax[0].set_ylabel('Accuracy')\n",
        "ax[0].set_xlabel('Epoch')\n",
        "ax[0].legend(['Training Accuracy', 'Validation Accuracy'], loc='best')\n",
        "\n",
        "ax[1].plot(history.history['loss'])\n",
        "ax[1].plot(history.history['val_loss'])\n",
        "ax[1].set_title('Model Loss')\n",
        "ax[1].set_ylabel('Loss')\n",
        "ax[1].set_xlabel('Epoch')\n",
        "ax[1].legend(['Training Loss', 'Validation Loss'], loc='best')\n",
        "plt.show()"
      ],
      "execution_count": 53,
      "outputs": [
        {
          "output_type": "display_data",
          "data": {
            "image/png": "[encoded data removed]",
            "text/plain": [
              "<Figure size 2160x720 with 2 Axes>"
            ]
          },
          "metadata": {
            "tags": [],
            "needs_background": "light"
          }
        }
      ]
    },
    {
      "cell_type": "code",
      "metadata": {
        "id": "mSRE1FVK7OtI"
      },
      "source": [
        "pip install -q tensorflow-model-optimization"
      ],
      "execution_count": 34,
      "outputs": []
    },
    {
      "cell_type": "code",
      "metadata": {
        "colab": {
          "base_uri": "https://localhost:8080/",
          "height": 370
        },
        "id": "ZRBlCdMI7WMo",
        "outputId": "5ca871c1-704b-4818-a241-7bea6ba2b37a"
      },
      "source": [
        "import tensorflow_model_optimization as tfmot\n",
        "\n",
        "prune_low_magnitude = tfmot.sparsity.keras.prune_low_magnitude\n",
        "\n",
        "# Compute end step to finish pruning after 2 epochs.\n",
        "batch_size = 128\n",
        "epochs = 2\n",
        "validation_split = 0.1 # 10% of training set will be used for validation set. \n",
        "\n",
        "num_images = train_X.shape[0] * (1 - validation_split)\n",
        "end_step = np.ceil(num_images / batch_size).astype(np.int32) * epochs\n",
        "finalSparsity = 0.55\n",
        "list_accuracy = []\n",
        "while finalSparsity <= 0.95:\n",
        "  #model1.load_weights('/content/drive/MyDrive/MnistResults/cnn_best_weights4.hdf5')\n",
        "  pruning_params = {\n",
        "        'pruning_schedule': tfmot.sparsity.keras.PolynomialDecay(initial_sparsity=0.50,\n",
        "                                                                final_sparsity=finalSparsity,\n",
        "                                                                begin_step=0,\n",
        "                                                                end_step=end_step)\n",
        "  }\n",
        "  \n",
        "  # Define model for pruning.\n",
        "  model_for_pruning = prune_low_magnitude(model, **pruning_params)\n",
        "\n",
        "  # `prune_low_magnitude` requires a recompile.\n",
        "  model_for_pruning.compile(optimizer='adam',\n",
        "                loss=tf.keras.losses.SparseCategoricalCrossentropy(from_logits=True),\n",
        "                metrics=['accuracy'])\n",
        "\n",
        "  #model_for_pruning.summary()\n",
        "  logdir = tempfile.mkdtemp()\n",
        "\n",
        "  callbacks = [\n",
        "    tfmot.sparsity.keras.UpdatePruningStep(),\n",
        "    tfmot.sparsity.keras.PruningSummaries(log_dir=logdir),\n",
        "  ]\n",
        "\n",
        "  model_for_pruning.fit(train_images, train_labels,\n",
        "                    batch_size=batch_size, epochs=epochs, validation_split=validation_split,\n",
        "                    callbacks=callbacks)\n",
        "  _, model_for_pruning_accuracy = model_for_pruning.evaluate(\n",
        "   test_images, test_labels, verbose=0)\n",
        "  print(f'Pruned test accuracy at final_sparsity: at {finalSparsity} is {model_for_pruning_accuracy}')\n",
        "  list_accuracy.append(model_for_pruning_accuracy)\n",
        "  finalSparsity += 0.05"
      ],
      "execution_count": 35,
      "outputs": [
        {
          "output_type": "error",
          "ename": "ValueError",
          "evalue": "ignored",
          "traceback": [
            "\u001b[0;31m---------------------------------------------------------------------------\u001b[0m",
            "\u001b[0;31mValueError\u001b[0m                                Traceback (most recent call last)",
            "\u001b[0;32m<ipython-input-35-2f8ab92abdcc>\u001b[0m in \u001b[0;36m<module>\u001b[0;34m()\u001b[0m\n\u001b[1;32m     22\u001b[0m \u001b[0;34m\u001b[0m\u001b[0m\n\u001b[1;32m     23\u001b[0m   \u001b[0;31m# Define model for pruning.\u001b[0m\u001b[0;34m\u001b[0m\u001b[0;34m\u001b[0m\u001b[0;34m\u001b[0m\u001b[0m\n\u001b[0;32m---> 24\u001b[0;31m   \u001b[0mmodel_for_pruning\u001b[0m \u001b[0;34m=\u001b[0m \u001b[0mprune_low_magnitude\u001b[0m\u001b[0;34m(\u001b[0m\u001b[0mmodel\u001b[0m\u001b[0;34m,\u001b[0m \u001b[0;34m**\u001b[0m\u001b[0mpruning_params\u001b[0m\u001b[0;34m)\u001b[0m\u001b[0;34m\u001b[0m\u001b[0;34m\u001b[0m\u001b[0m\n\u001b[0m\u001b[1;32m     25\u001b[0m \u001b[0;34m\u001b[0m\u001b[0m\n\u001b[1;32m     26\u001b[0m   \u001b[0;31m# `prune_low_magnitude` requires a recompile.\u001b[0m\u001b[0;34m\u001b[0m\u001b[0;34m\u001b[0m\u001b[0;34m\u001b[0m\u001b[0m\n",
            "\u001b[0;32m/usr/local/lib/python3.7/dist-packages/tensorflow_model_optimization/python/core/keras/metrics.py\u001b[0m in \u001b[0;36minner\u001b[0;34m(*args, **kwargs)\u001b[0m\n\u001b[1;32m     62\u001b[0m       \u001b[0;32mexcept\u001b[0m \u001b[0mException\u001b[0m \u001b[0;32mas\u001b[0m \u001b[0merror\u001b[0m\u001b[0;34m:\u001b[0m\u001b[0;34m\u001b[0m\u001b[0;34m\u001b[0m\u001b[0m\n\u001b[1;32m     63\u001b[0m         \u001b[0mself\u001b[0m\u001b[0;34m.\u001b[0m\u001b[0mbool_gauge\u001b[0m\u001b[0;34m.\u001b[0m\u001b[0mget_cell\u001b[0m\u001b[0;34m(\u001b[0m\u001b[0mMonitorBoolGauge\u001b[0m\u001b[0;34m.\u001b[0m\u001b[0m_FAILURE_LABEL\u001b[0m\u001b[0;34m)\u001b[0m\u001b[0;34m.\u001b[0m\u001b[0mset\u001b[0m\u001b[0;34m(\u001b[0m\u001b[0;32mTrue\u001b[0m\u001b[0;34m)\u001b[0m\u001b[0;34m\u001b[0m\u001b[0;34m\u001b[0m\u001b[0m\n\u001b[0;32m---> 64\u001b[0;31m         \u001b[0;32mraise\u001b[0m \u001b[0merror\u001b[0m\u001b[0;34m\u001b[0m\u001b[0;34m\u001b[0m\u001b[0m\n\u001b[0m\u001b[1;32m     65\u001b[0m \u001b[0;34m\u001b[0m\u001b[0m\n\u001b[1;32m     66\u001b[0m     \u001b[0;32mif\u001b[0m \u001b[0mself\u001b[0m\u001b[0;34m.\u001b[0m\u001b[0mbool_gauge\u001b[0m\u001b[0;34m:\u001b[0m\u001b[0;34m\u001b[0m\u001b[0;34m\u001b[0m\u001b[0m\n",
            "\u001b[0;32m/usr/local/lib/python3.7/dist-packages/tensorflow_model_optimization/python/core/keras/metrics.py\u001b[0m in \u001b[0;36minner\u001b[0;34m(*args, **kwargs)\u001b[0m\n\u001b[1;32m     57\u001b[0m     \u001b[0;32mdef\u001b[0m \u001b[0minner\u001b[0m\u001b[0;34m(\u001b[0m\u001b[0;34m*\u001b[0m\u001b[0margs\u001b[0m\u001b[0;34m,\u001b[0m \u001b[0;34m**\u001b[0m\u001b[0mkwargs\u001b[0m\u001b[0;34m)\u001b[0m\u001b[0;34m:\u001b[0m\u001b[0;34m\u001b[0m\u001b[0;34m\u001b[0m\u001b[0m\n\u001b[1;32m     58\u001b[0m       \u001b[0;32mtry\u001b[0m\u001b[0;34m:\u001b[0m\u001b[0;34m\u001b[0m\u001b[0;34m\u001b[0m\u001b[0m\n\u001b[0;32m---> 59\u001b[0;31m         \u001b[0mresults\u001b[0m \u001b[0;34m=\u001b[0m \u001b[0mfunc\u001b[0m\u001b[0;34m(\u001b[0m\u001b[0;34m*\u001b[0m\u001b[0margs\u001b[0m\u001b[0;34m,\u001b[0m \u001b[0;34m**\u001b[0m\u001b[0mkwargs\u001b[0m\u001b[0;34m)\u001b[0m\u001b[0;34m\u001b[0m\u001b[0;34m\u001b[0m\u001b[0m\n\u001b[0m\u001b[1;32m     60\u001b[0m         \u001b[0mself\u001b[0m\u001b[0;34m.\u001b[0m\u001b[0mbool_gauge\u001b[0m\u001b[0;34m.\u001b[0m\u001b[0mget_cell\u001b[0m\u001b[0;34m(\u001b[0m\u001b[0mMonitorBoolGauge\u001b[0m\u001b[0;34m.\u001b[0m\u001b[0m_SUCCESS_LABEL\u001b[0m\u001b[0;34m)\u001b[0m\u001b[0;34m.\u001b[0m\u001b[0mset\u001b[0m\u001b[0;34m(\u001b[0m\u001b[0;32mTrue\u001b[0m\u001b[0;34m)\u001b[0m\u001b[0;34m\u001b[0m\u001b[0;34m\u001b[0m\u001b[0m\n\u001b[1;32m     61\u001b[0m         \u001b[0;32mreturn\u001b[0m \u001b[0mresults\u001b[0m\u001b[0;34m\u001b[0m\u001b[0;34m\u001b[0m\u001b[0m\n",
            "\u001b[0;32m/usr/local/lib/python3.7/dist-packages/tensorflow_model_optimization/python/core/sparsity/keras/prune.py\u001b[0m in \u001b[0;36mprune_low_magnitude\u001b[0;34m(to_prune, pruning_schedule, block_size, block_pooling_type, pruning_policy, **kwargs)\u001b[0m\n\u001b[1;32m    211\u001b[0m         \u001b[0;34m'types: tf.keras.models.Sequential, tf.keras functional model, '\u001b[0m\u001b[0;34m\u001b[0m\u001b[0;34m\u001b[0m\u001b[0m\n\u001b[1;32m    212\u001b[0m         \u001b[0;34m'tf.keras.layers.Layer, list of tf.keras.layers.Layer. You passed '\u001b[0m\u001b[0;34m\u001b[0m\u001b[0;34m\u001b[0m\u001b[0m\n\u001b[0;32m--> 213\u001b[0;31m         'an object of type: {input}.'.format(input=to_prune.__class__.__name__))\n\u001b[0m\u001b[1;32m    214\u001b[0m \u001b[0;34m\u001b[0m\u001b[0m\n\u001b[1;32m    215\u001b[0m \u001b[0;34m\u001b[0m\u001b[0m\n",
            "\u001b[0;31mValueError\u001b[0m: `prune_low_magnitude` can only prune an object of the following types: tf.keras.models.Sequential, tf.keras functional model, tf.keras.layers.Layer, list of tf.keras.layers.Layer. You passed an object of type: Sequential."
          ]
        }
      ]
    },
    {
      "cell_type": "code",
      "metadata": {
        "id": "7EC5JxKp7WJk"
      },
      "source": [
        ""
      ],
      "execution_count": null,
      "outputs": []
    },
    {
      "cell_type": "markdown",
      "metadata": {
        "id": "JHRUKytx7OaG"
      },
      "source": [
        ""
      ]
    }
  ]
}
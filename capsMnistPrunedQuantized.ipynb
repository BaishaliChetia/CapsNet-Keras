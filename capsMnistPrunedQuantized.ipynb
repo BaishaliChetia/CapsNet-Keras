{
  "nbformat": 4,
  "nbformat_minor": 0,
  "metadata": {
    "kernelspec": {
      "display_name": "Python 3",
      "language": "python",
      "name": "python3"
    },
    "language_info": {
      "codemirror_mode": {
        "name": "ipython",
        "version": 3
      },
      "file_extension": ".py",
      "mimetype": "text/x-python",
      "name": "python",
      "nbconvert_exporter": "python",
      "pygments_lexer": "ipython3",
      "version": "3.8.10"
    },
    "colab": {
      "name": "capsMnistPrunedQuantized.ipynb",
      "provenance": [],
      "collapsed_sections": [],
      "include_colab_link": true
    },
    "accelerator": "GPU"
  },
  "cells": [
    {
      "cell_type": "markdown",
      "metadata": {
        "id": "view-in-github",
        "colab_type": "text"
      },
      "source": [
        "<a href=\"https://colab.research.google.com/github/BaishaliChetia/CapsNet-Keras/blob/master/capsMnistPrunedQuantized.ipynb\" target=\"_parent\"><img src=\"https://colab.research.google.com/assets/colab-badge.svg\" alt=\"Open In Colab\"/></a>"
      ]
    },
    {
      "cell_type": "markdown",
      "metadata": {
        "id": "jeoBe9bpMlPR"
      },
      "source": [
        "Original implementation at:\n",
        "\n",
        "https://github.com/ageron/handson-ml/blob/master/extra_capsnets.ipynb\n",
        "\n",
        "Geron's model doesn't use the keras functional API. In the keras functional API, you don't need to give the batchsize. \n",
        "\n",
        "When you print the model, you get this:\n",
        "\n",
        "```\n",
        "Layer (type)                 Output Shape              Param #   \n",
        "_________________________________________________________________\n",
        "input (InputLayer)           [(None, 28, 28, 1)]       0         \n",
        "_________________________________________________________________\n",
        "conv_layer_1 (Conv2D)        (None, 20, 20, 256)       20992     \n",
        "_________________________________________________________________\n",
        "conv_layer_2 (Conv2D)        (None, 6, 6, 256)         5308672   \n",
        "_________________________________________________________________\n",
        "reshape_layer_1 (Reshape)    (None, 1, 1152, 8)        0         \n",
        "_________________________________________________________________\n",
        "caps1_output_layer (SquashLa (None, 1, 1152, 8)        0         \n",
        "_________________________________________________________________\n",
        "Total params: 5,329,664\n",
        "Trainable params: 5,329,664\n",
        "Non-trainable params: 0\n",
        "```\n",
        "\n",
        "Notice that the Input-layer has shape (None, 28, 28, 1), but we only specified (28, 28, 1). It added None implicitly and that takes care of the batch.\n",
        "\n",
        "So for anywhere Geron uses the batch size explicitly, you don't need to do anything and tensorflow will take care of.\n",
        "\n",
        "Also note that tensorflow 1 APIs are still provided with the compat layer. I used the reduce_sum from TF1 in the squash layer, that allowed me to use Geron's code.\n",
        "\n",
        "Documentation on how to migrate from TF1 to TF2 can be found here:\n",
        "\n",
        "https://www.tensorflow.org/guide/migrate\n"
      ]
    },
    {
      "cell_type": "code",
      "metadata": {
        "colab": {
          "base_uri": "https://localhost:8080/"
        },
        "id": "sY0OS1x1qLp2",
        "outputId": "faf7be17-e69d-4f5b-e5f6-d797e54dca14"
      },
      "source": [
        "from google.colab import drive\n",
        "drive.mount('/content/drive')"
      ],
      "execution_count": 27,
      "outputs": [
        {
          "output_type": "stream",
          "text": [
            "Drive already mounted at /content/drive; to attempt to forcibly remount, call drive.mount(\"/content/drive\", force_remount=True).\n"
          ],
          "name": "stdout"
        }
      ]
    },
    {
      "cell_type": "code",
      "metadata": {
        "id": "KCCmDd7lMlPU"
      },
      "source": [
        "import numpy as np\n",
        "import tensorflow as tf\n",
        "import pandas as pd\n",
        "import tensorflow.keras as K\n",
        "#import tensorflow_model_optimization as tfmot"
      ],
      "execution_count": 28,
      "outputs": []
    },
    {
      "cell_type": "code",
      "metadata": {
        "id": "qJ1DIPu4B-Tz"
      },
      "source": [
        "pip install -q tensorflow-model-optimization"
      ],
      "execution_count": 29,
      "outputs": []
    },
    {
      "cell_type": "code",
      "metadata": {
        "id": "kQG4QHY-CKYm"
      },
      "source": [
        "import tensorflow_model_optimization as tfmot"
      ],
      "execution_count": 30,
      "outputs": []
    },
    {
      "cell_type": "code",
      "metadata": {
        "id": "-UydL5gJMlPV"
      },
      "source": [
        "caps1_n_maps = 32\n",
        "caps1_n_caps = caps1_n_maps * 6 * 6  # 1152 primary capsules\n",
        "caps1_n_dims = 8\n",
        "caps2_n_caps = 10\n",
        "caps2_n_dims = 16\n",
        "\n",
        "tf.random.set_seed(500000)"
      ],
      "execution_count": 32,
      "outputs": []
    },
    {
      "cell_type": "code",
      "metadata": {
        "id": "sukwGEY4MlPV"
      },
      "source": [
        "#class SquashLayer(K.layers.Layer, tfmot.sparsity.keras.PrunableLayer):\n",
        "class SquashLayer(K.layers.Layer):\n",
        "  def __init__(self, axis=-1, **kwargs):\n",
        "    super(SquashLayer, self).__init__(**kwargs)\n",
        "    self.axis = axis\n",
        "    \n",
        "  def build(self, input_shapes):\n",
        "    pass\n",
        "\n",
        "  \"\"\"\n",
        "  def get_prunable_weights(self):\n",
        "    return []\n",
        "  \"\"\"\n",
        "\n",
        "  def call(self, inputs):\n",
        "    EPSILON = 1.0e-9\n",
        "    squared_norm = tf.compat.v1.reduce_sum(tf.square(inputs),\\\n",
        "                                           axis=self.axis,\\\n",
        "                                           keepdims=True)\n",
        "    safe_norm = tf.sqrt(squared_norm + EPSILON)\n",
        "    squash_factor = squared_norm / (1. + squared_norm)\n",
        "    unit_vector = inputs / safe_norm\n",
        "    return squash_factor * unit_vector\n",
        "\n",
        "  def get_config(self):\n",
        "    config = super(SquashLayer, self).get_config()\n",
        "    config.update({\"axis\": self.axis})\n",
        "    return config\n"
      ],
      "execution_count": 33,
      "outputs": []
    },
    {
      "cell_type": "code",
      "metadata": {
        "id": "T_qIVI_u2i-s"
      },
      "source": [
        "#class SafeNorm(K.layers.Layer, tfmot.sparsity.keras.PrunableLayer):\n",
        "class SafeNorm(K.layers.Layer):\n",
        "  \n",
        "  def __init__(self, axis=-1, keep_dims = False,  **kwargs):\n",
        "    super(SafeNorm, self).__init__(**kwargs)\n",
        "    self.axis = axis\n",
        "    self.keep_dims = keep_dims\n",
        "\n",
        "  def build(self, input_shapes):\n",
        "    pass\n",
        "\n",
        "  \"\"\"\n",
        "  def get_prunable_weights(self):\n",
        "    return []\n",
        "  \"\"\"\n",
        "\n",
        "  def call(self, input):\n",
        "    EPSILON = 1.0e-9\n",
        "    squared_norm = tf.compat.v1.reduce_sum(tf.square(inputs),\\\n",
        "                                           axis=self.axis,\\\n",
        "                                           keepdims= self.keep_dims)\n",
        "    safe_norm = tf.sqrt(squared_norm + EPSILON)\n",
        "    return safe_norm\n",
        "\n",
        "  def get_config(self):\n",
        "    config = super(SafeNorm, self).get_config()\n",
        "    config.update({\"axis\": self.axis, \"keep_dims\": self.keep_dims})\n",
        "    return config\n",
        "\n"
      ],
      "execution_count": 34,
      "outputs": []
    },
    {
      "cell_type": "code",
      "metadata": {
        "id": "qECOObckMlPW"
      },
      "source": [
        "# This should be the part where the digit layer, and where we tile things\n",
        "# This is incomplete, and work in progress\n",
        "# TODO: Complete this\n",
        "class MyDigitCapsLayer(K.layers.Layer, tfmot.sparsity.keras.PrunableLayer):\n",
        "  def __init__(self, **kwargs):\n",
        "    super(MyDigitCapsLayer, self).__init__(**kwargs)\n",
        "  \n",
        "  def get_config(self):\n",
        "    config =  super(MyDigitCapsLayer, self).get_config()\n",
        "    return config\n",
        "\n",
        "  def build(self, input_shapes):\n",
        "    init_sigma = 0.1  # TODO: use\n",
        "    self.kernel = self.add_weight(\\\n",
        "                      \"kernel\",\\\n",
        "                      (caps1_n_caps, caps2_n_caps, caps2_n_dims, caps1_n_dims),\\\n",
        "                      initializer=\"random_normal\",\\\n",
        "                      dtype=tf.float32)\n",
        "\n",
        "  \n",
        "  # To debug this function, I used prints to print the shape\n",
        "  # expand_dims just adds an exis, so if you say expand_dims(inshape=(5, 3), -1),\n",
        "  # you get the output shape (5, 3, 1), it just adds an axis at the end\n",
        "  # Then tile just multiplies one of the dimensions (that is it stacks along that direction N times)\n",
        "  # so tile(inshape=(5, 3, 1), [1, 1, 1000]) will yield a shape (5, 3, 1000)\n",
        "  #\n",
        "  # Notice I didn't tile in build, but in call, Most probaly this is the right thing to do\n",
        "  # but we'll only figure out when we actually train\n",
        "  def get_prunable_weights(self):\n",
        "    return [self.kernel]\n",
        "  \n",
        "  def call(self, inputs):\n",
        "    # Add a dimension at the end\n",
        "    exp1 = tf.expand_dims(inputs, -1, name=\"caps1_output_expanded\")\n",
        "    # add a dimension along 3rd axis\n",
        "    exp1 = tf.expand_dims(exp1, 2, name=\"caps2_output_espanced\")\n",
        "    # tile along 3rd axis\n",
        "    tile = tf.tile(exp1, [1, 1, caps2_n_caps, 1, 1], name=\"caps1_output_tiled\")\n",
        "    caps2_predicted = tf.matmul(self.kernel, tile, name=\"caps2_predicted\")\n",
        "    return caps2_predicted\n",
        "\n",
        "  \n"
      ],
      "execution_count": 35,
      "outputs": []
    },
    {
      "cell_type": "code",
      "metadata": {
        "id": "Pg6qxAU3h0hv"
      },
      "source": [
        "# https://www.tensorflow.org/api_docs/python/tf/keras/losses/Loss\n",
        "class MarginLoss(K.losses.Loss):\n",
        "    def __init__(self, **kwargs):\n",
        "      super(MarginLoss, self).__init__(**kwargs)\n",
        "\n",
        "  \n",
        "    def get_config(self):\n",
        "      config = super(MarginLoss, self).get_config()\n",
        "      return config\n",
        "    \n",
        "    def safe_norm(self, input, axis=-2, epsilon=1e-5, keep_dims=False, name=None):\n",
        "      squared_norm = tf.reduce_sum(tf.square(input), axis=axis,\n",
        "                                     keepdims=keep_dims)\n",
        "      return tf.sqrt(squared_norm + epsilon)\n",
        "\n",
        "    \"\"\"\n",
        "    def get_prunable_weights(self):\n",
        "      return []\n",
        "    \"\"\"\n",
        "\n",
        "    def call(self,y_true, input):\n",
        "      # print(f\"y_true.shape = {y_true.shape}, y_pred.shape = {y_pred.shape}\")\n",
        "      # return K.losses.MeanSquaredError()(y_true, y_pred)\n",
        "\n",
        "      #y_true = K.Input(shape=[], dtype=tf.int64, name=\"y\")\n",
        "      m_plus = 0.9\n",
        "      m_minus = 0.1\n",
        "      lambda_ = 0.5 \n",
        "      \n",
        "      #y_true one hot encode y_train\n",
        "      T = tf.one_hot(y_true, depth=caps2_n_caps, name=\"T\")\n",
        "      \n",
        "      caps2_output_norm = self.safe_norm(input, keep_dims = True)\n",
        "\n",
        "      present_error_raw = tf.square(\\\n",
        "                                    tf.maximum(0., m_plus - caps2_output_norm),\n",
        "                                    name=\"present_error_raw\")\n",
        "      present_error = tf.reshape(\\\n",
        "                                    present_error_raw, shape=(-1, 10),\n",
        "                                    name=\"present_error\")  \n",
        "  \n",
        "      absent_error_raw = tf.square(\\\n",
        "                                    tf.maximum(0., caps2_output_norm - m_minus),\n",
        "                                    name=\"absent_error_raw\")\n",
        "      absent_error = tf.reshape(\\\n",
        "                                    absent_error_raw, shape=(-1, 10),\n",
        "                                    name=\"absent_error\")\n",
        "  \n",
        "      L = tf.add(\\\n",
        "                  T * present_error,\\\n",
        "                  lambda_ * (1.0 - T) * absent_error,\n",
        "                  name=\"L\")\n",
        "      marginLoss = tf.reduce_mean(\\\n",
        "                                  tf.reduce_sum(L, axis=1),\\\n",
        "                                  name=\"margin_loss\")\n",
        "      return marginLoss\n",
        "\n"
      ],
      "execution_count": 36,
      "outputs": []
    },
    {
      "cell_type": "code",
      "metadata": {
        "id": "kpXMBYOeWlDd"
      },
      "source": [
        "#class RoutingByAgreement(K.layers.Layer, tfmot.sparsity.keras.PrunableLayer):\n",
        "class RoutingByAgreement(K.layers.Layer):\n",
        "  def __init__(self, round_number=-1, **kwargs):\n",
        "    super(RoutingByAgreement, self).__init__(**kwargs)\n",
        "    self.round_number = round_number \n",
        "\n",
        "  def get_config(self):\n",
        "    config = super(RoutingByAgreement, self).get_config()\n",
        "    config.update({\"round_number\": self.round_number})\n",
        "    return config\n",
        "\n",
        "\n",
        "  def build(self, input_shapes):\n",
        "    self.raw_weights_1 = self.add_weight(\"raw_weights\", \\\n",
        "                                         (caps1_n_caps, caps2_n_caps, 1, 1), \\\n",
        "                                         initializer = \"zeros\", \\\n",
        "                                         dtype=tf.float32,)\n",
        "    \n",
        "    #print(\"Routing layer: self.raw_weights = \", self.raw_weights.shape, \"input_shape = \", input_shapes)\n",
        "\n",
        "  \"\"\"\n",
        "  def get_prunable_weights(self):\n",
        "    return [self.raw_weights_1]\n",
        "  \"\"\"\n",
        "\n",
        "  @staticmethod\n",
        "  def squash(inputs):\n",
        "    EPSILON = 1.0e-5\n",
        "    squared_norm = tf.compat.v1.reduce_sum(tf.square(inputs),\\\n",
        "                                           keepdims=True)\n",
        "    safe_norm = tf.sqrt(squared_norm + EPSILON)\n",
        "    squash_factor = squared_norm / (1. + squared_norm)\n",
        "    unit_vector = inputs / safe_norm\n",
        "    return squash_factor * unit_vector\n",
        "\n",
        "  def single_round_routing(self, inputs, raw_weights, agreement):\n",
        "    raw_weights = tf.add(raw_weights, agreement)\n",
        "    routing_wt = tf.nn.softmax(raw_weights, axis=2)\n",
        "    wt_predictions = tf.multiply(routing_wt, inputs)\n",
        "    wt_sum = tf.reduce_sum(wt_predictions, axis=1, keepdims=True)\n",
        "    return wt_sum\n",
        "\n",
        "  def call(self, inputs):\n",
        "    agreement = tf.zeros(shape=self.raw_weights_1.shape)\n",
        "    sqsh_wt_sum = None\n",
        "    x = inputs\n",
        "    for i in range(2):\n",
        "      wt_sum = self.single_round_routing(inputs, self.raw_weights_1, agreement)\n",
        "      sqsh_wt_sum = RoutingByAgreement.squash(wt_sum)\n",
        "      sqsh_wt_sum_tiled = tf.tile(\\\n",
        "                          sqsh_wt_sum ,\\\n",
        "                          [1, caps1_n_caps, 1, 1, 1],\\\n",
        "                          name=\"caps2_output_round_1_tiled\")\n",
        "      agreement = tf.matmul(\\\n",
        "                            x, \\\n",
        "                            sqsh_wt_sum_tiled,\\\n",
        "                            transpose_a=True,\\\n",
        "                            name=\"agreement\")\n",
        "    return sqsh_wt_sum                           \n"
      ],
      "execution_count": 37,
      "outputs": []
    },
    {
      "cell_type": "code",
      "metadata": {
        "id": "aSEe-231jn49",
        "colab": {
          "base_uri": "https://localhost:8080/"
        },
        "outputId": "130d2497-f6c4-49a9-c93e-d63bae060e9a"
      },
      "source": [
        "(x_train, y_train,), (x_test, y_test) = K.datasets.mnist.load_data()\n",
        "print(x_train.shape, x_test.shape)"
      ],
      "execution_count": 38,
      "outputs": [
        {
          "output_type": "stream",
          "text": [
            "(60000, 28, 28) (10000, 28, 28)\n"
          ],
          "name": "stdout"
        }
      ]
    },
    {
      "cell_type": "code",
      "metadata": {
        "id": "fcHaaMo8db4K"
      },
      "source": [
        "x_train = x_train/255.0\n",
        "x_test = x_test/255.0\n",
        "\n",
        "#print(x_train[500])"
      ],
      "execution_count": 39,
      "outputs": []
    },
    {
      "cell_type": "code",
      "metadata": {
        "scrolled": true,
        "colab": {
          "base_uri": "https://localhost:8080/"
        },
        "id": "UnmSudqTMlPX",
        "outputId": "bb2046d9-6c45-446b-e07f-94dd9e08d805"
      },
      "source": [
        "class Model:\n",
        "    @staticmethod\n",
        "    def build(inshape=(28, 28, 1)):\n",
        "        inp = K.Input(shape=inshape, dtype=tf.float32, name='input')\n",
        "        \n",
        "        # Primary capsules\n",
        "        # For each digit in the batch\n",
        "        # 32 maps, each 6x6 grid of 8 dimensional vectors\n",
        "        \n",
        "        # First Conv layer\n",
        "        conv1_params = \\\n",
        "        {\n",
        "            \"filters\": 256,\n",
        "            \"kernel_size\": 9,\n",
        "            \"strides\": 1,\n",
        "            \"padding\": \"valid\",\n",
        "            \"activation\": tf.nn.relu,\n",
        "        }\n",
        "        x = K.layers.Conv2D(**conv1_params, name=\"conv_layer_1\")(inp)\n",
        "        \n",
        "        # Second conv layer\n",
        "        conv2_params = \\\n",
        "        {\n",
        "            \"filters\": caps1_n_maps * caps1_n_dims, # 256 convolutional filters\n",
        "            \"kernel_size\": 9,\n",
        "            \"strides\": 2,\n",
        "            \"padding\": \"valid\",\n",
        "            \"activation\": tf.nn.relu\n",
        "        }\n",
        "        x = K.layers.Conv2D(**conv2_params, name=\"conv_layer_2\")(x)\n",
        "        \n",
        "        # Reshape\n",
        "        x = K.layers.Reshape(\\\n",
        "                             (caps1_n_caps, caps1_n_dims),\\\n",
        "                             name=\"reshape_layer_1\")(x)\n",
        "                             \n",
        "        x = SquashLayer(name=\"caps1_output_layer\")(x)\n",
        "        \n",
        "        x = MyDigitCapsLayer(name = \"caps2_predicted\")(x)\n",
        "        caps2_predicted = x # Save this value for later\n",
        "        \n",
        "        #routing by agreement (2 rounds)\n",
        "        x = RoutingByAgreement(name=\"routing1\", round_number=2)(x)\n",
        "        \n",
        "        return K.Model(inputs=inp, outputs=x, name='my')\n",
        "    \n",
        "m = Model.build()\n",
        "print(m.summary())\n"
      ],
      "execution_count": 40,
      "outputs": [
        {
          "output_type": "stream",
          "text": [
            "Model: \"my\"\n",
            "_________________________________________________________________\n",
            "Layer (type)                 Output Shape              Param #   \n",
            "=================================================================\n",
            "input (InputLayer)           [(None, 28, 28, 1)]       0         \n",
            "_________________________________________________________________\n",
            "conv_layer_1 (Conv2D)        (None, 20, 20, 256)       20992     \n",
            "_________________________________________________________________\n",
            "conv_layer_2 (Conv2D)        (None, 6, 6, 256)         5308672   \n",
            "_________________________________________________________________\n",
            "reshape_layer_1 (Reshape)    (None, 1152, 8)           0         \n",
            "_________________________________________________________________\n",
            "caps1_output_layer (SquashLa (None, 1152, 8)           0         \n",
            "_________________________________________________________________\n",
            "caps2_predicted (MyDigitCaps (None, 1152, 10, 16, 1)   1474560   \n",
            "_________________________________________________________________\n",
            "routing1 (RoutingByAgreement (None, 1, 10, 16, 1)      11520     \n",
            "=================================================================\n",
            "Total params: 6,815,744\n",
            "Trainable params: 6,815,744\n",
            "Non-trainable params: 0\n",
            "_________________________________________________________________\n",
            "None\n"
          ],
          "name": "stdout"
        }
      ]
    },
    {
      "cell_type": "code",
      "metadata": {
        "id": "lw3j_zWQMlPZ"
      },
      "source": [
        "# y_train_train = tf.one_hot(y_train, depth=caps2_n_caps, name=\"T\")\n",
        "# print(y_train_train.shape)\n",
        "# #print(y_train)"
      ],
      "execution_count": null,
      "outputs": []
    },
    {
      "cell_type": "code",
      "metadata": {
        "id": "6zxRXCYIz_HQ"
      },
      "source": [
        "class MyAccuracy(K.metrics.Metric):\n",
        "  def __init__(self, **kwargs):\n",
        "    super(MyAccuracy, self).__init__(**kwargs)\n",
        "    self.acc_obj = K.metrics.Accuracy()\n",
        "    self.state = 0\n",
        "  \n",
        "\n",
        "  def get_config(self):\n",
        "    config = super(MyAccuracy, self).get_config()\n",
        "    config.update({\"acc_obj\": None, \"state\": self.state})\n",
        "    return config\n",
        "\n",
        "\n",
        "  def safe_norm(self, input, axis=-2, epsilon=1e-5, keep_dims=True, name=None):\n",
        "      squared_norm = tf.reduce_sum(tf.square(input), axis=axis,\n",
        "                                     keepdims=keep_dims)\n",
        "      return tf.sqrt(squared_norm + epsilon)\n",
        "\n",
        "  def update_state(self, y_true, input, sample_weight=None):\n",
        "    if self.acc_obj is None:\n",
        "      self.acc_obj = K.metrics.Accuracy()\n",
        "    y_proba = self.safe_norm(input, axis=-2)\n",
        "    y_proba_argmax = tf.argmax(y_proba, axis=2)\n",
        "    y_pred = tf.squeeze(y_proba_argmax, axis=[1,2], name=\"y_pred\")\n",
        "    #y_true = tf.reshape(y_true, (y_true.shape[0], ))\n",
        "    y_true = tf.cast(y_true, dtype=tf.int64)\n",
        "    self.acc_obj.update_state(y_true, y_pred, sample_weight)\n",
        "\n",
        "  def reset_state(self):\n",
        "    self.acc_obj.reset_state()\n",
        "\n",
        "  def result(self):\n",
        "    return self.acc_obj.result()\n",
        "\n",
        "class MyReshapeLayer(K.layers.Layer):\n",
        "  def __init__(self, axis=-1, keep_dims = False,  **kwargs):\n",
        "    super(MyReshapeLayer, self).__init__(**kwargs)\n",
        "\n",
        "  def build(self, input_shapes):\n",
        "    pass\n",
        "\n",
        "  def safe_norm(self, input, axis=-2, epsilon=1e-5, keep_dims=True, name=None):\n",
        "      squared_norm = tf.reduce_sum(tf.square(input), axis=axis,\n",
        "                                     keepdims=keep_dims)\n",
        "      return tf.sqrt(squared_norm + epsilon)\n",
        "\n",
        "  def call(self, input):\n",
        "    print('printing shapes ------------------- ')\n",
        "    EPSILON = 1.0e-9\n",
        "    print(input)\n",
        "    y_proba = self.safe_norm(input, axis=-2)\n",
        "    print(y_proba)\n",
        "    y_proba_argmax = tf.argmax(y_proba, axis=2)\n",
        "    print(y_proba_argmax)\n",
        "    y_pred = tf.squeeze(y_proba_argmax, axis=[1,2], name=\"y_pred\")\n",
        "    print(y_pred)\n",
        "    return tf.cast(y_pred, tf.int64)\n",
        "\n",
        "  def get_config(self):\n",
        "    config = super(MyReshapeLayer, self).get_config()\n",
        "    return config"
      ],
      "execution_count": 41,
      "outputs": []
    },
    {
      "cell_type": "code",
      "metadata": {
        "id": "ohNmlixkrAek"
      },
      "source": [
        "from keras.callbacks import ModelCheckpoint, CSVLogger\n",
        "comparison_metric = MyAccuracy()\n",
        "#checkpoint_filepath = \"/content/drive/MyDrive/Weights/weights-improvement-{epoch:02d}-{val_my_accuracy:.2f}.hdf5\"\n",
        "model_checkpoint_callback = tf.keras.callbacks.ModelCheckpoint(\n",
        "        filepath = \"/content/drive/MyDrive/MnistResults/best_weights4.hdf5\",\n",
        "        save_weights_only=True,\n",
        "        #monitor=f\"val_{comparison_metric.name}\",\n",
        "        monitor=\"val_my_accuracy_19\",\n",
        "        mode='max',\n",
        "        save_best_only=True)\n",
        "model_checkpoint_callback2 = tf.keras.callbacks.ModelCheckpoint(\n",
        "        filepath = \"/content/drive/MyDrive/MnistResults/latest_weights4.hdf5\",\n",
        "        save_weights_only=True,\n",
        "        monitor=f\"val_{comparison_metric.name}\",\n",
        "        mode='max',\n",
        "        save_best_only=False)\n",
        "log_csv = CSVLogger(\"/content/drive/MyDrive/MnistResults/mylogs4.csv\", separator = \",\", append = False)\n",
        "callback_list = [model_checkpoint_callback, model_checkpoint_callback2, log_csv]"
      ],
      "execution_count": 65,
      "outputs": []
    },
    {
      "cell_type": "code",
      "metadata": {
        "colab": {
          "base_uri": "https://localhost:8080/",
          "height": 35
        },
        "id": "-mb3hJfK4YnA",
        "outputId": "4e3def8e-8f99-4f89-81cf-fda44c7345ae"
      },
      "source": [
        "comparison_metric.name"
      ],
      "execution_count": 60,
      "outputs": [
        {
          "output_type": "execute_result",
          "data": {
            "application/vnd.google.colaboratory.intrinsic+json": {
              "type": "string"
            },
            "text/plain": [
              "'my_accuracy_13'"
            ]
          },
          "metadata": {
            "tags": []
          },
          "execution_count": 60
        }
      ]
    },
    {
      "cell_type": "code",
      "metadata": {
        "id": "cZFYZzGt4YXz"
      },
      "source": [
        ""
      ],
      "execution_count": null,
      "outputs": []
    },
    {
      "cell_type": "code",
      "metadata": {
        "id": "cahMgtOqMlPa",
        "colab": {
          "base_uri": "https://localhost:8080/"
        },
        "outputId": "cbaebdaa-49ce-410b-c407-e014df4a2e3a"
      },
      "source": [
        "m.compile(optimizer='adam', loss=MarginLoss(), metrics=[MyAccuracy()])\n",
        "history = m.fit(x_train, y_train, batch_size=32, epochs=70, verbose= 1, validation_split=0.2, callbacks = callback_list)\n"
      ],
      "execution_count": 66,
      "outputs": [
        {
          "output_type": "stream",
          "text": [
            "Epoch 1/70\n",
            "1500/1500 [==============================] - 129s 85ms/step - loss: 2.2787 - my_accuracy_19: 0.7409 - val_loss: 2.2791 - val_my_accuracy_19: 0.8343\n",
            "Epoch 2/70\n",
            "1500/1500 [==============================] - 127s 85ms/step - loss: 2.2788 - my_accuracy_19: 0.7597 - val_loss: 2.2792 - val_my_accuracy_19: 0.8918\n",
            "Epoch 3/70\n",
            "1500/1500 [==============================] - 128s 85ms/step - loss: 2.2786 - my_accuracy_19: 0.7999 - val_loss: 2.2790 - val_my_accuracy_19: 0.9206\n",
            "Epoch 4/70\n",
            "1500/1500 [==============================] - 119s 79ms/step - loss: 2.2785 - my_accuracy_19: 0.8297 - val_loss: 2.2787 - val_my_accuracy_19: 0.9182\n",
            "Epoch 5/70\n",
            "1500/1500 [==============================] - 128s 86ms/step - loss: 2.2784 - my_accuracy_19: 0.8230 - val_loss: 2.2792 - val_my_accuracy_19: 0.8745\n",
            "Epoch 6/70\n",
            "1500/1500 [==============================] - 128s 86ms/step - loss: 2.2785 - my_accuracy_19: 0.8640 - val_loss: 2.2790 - val_my_accuracy_19: 0.8483\n",
            "Epoch 7/70\n",
            "1500/1500 [==============================] - 127s 85ms/step - loss: 2.2784 - my_accuracy_19: 0.8521 - val_loss: 2.2793 - val_my_accuracy_19: 0.9006\n",
            "Epoch 8/70\n",
            "1500/1500 [==============================] - 127s 85ms/step - loss: 2.2784 - my_accuracy_19: 0.8787 - val_loss: 2.2793 - val_my_accuracy_19: 0.8329\n",
            "Epoch 9/70\n",
            "1500/1500 [==============================] - 127s 85ms/step - loss: 2.2784 - my_accuracy_19: 0.8737 - val_loss: 2.2789 - val_my_accuracy_19: 0.9193\n",
            "Epoch 10/70\n",
            "1500/1500 [==============================] - 126s 84ms/step - loss: 2.2784 - my_accuracy_19: 0.8869 - val_loss: 2.2791 - val_my_accuracy_19: 0.7832\n",
            "Epoch 11/70\n",
            "1500/1500 [==============================] - 125s 83ms/step - loss: 2.2784 - my_accuracy_19: 0.8703 - val_loss: 2.2788 - val_my_accuracy_19: 0.9638\n",
            "Epoch 12/70\n",
            "1500/1500 [==============================] - 115s 77ms/step - loss: 2.2784 - my_accuracy_19: 0.8884 - val_loss: 2.2796 - val_my_accuracy_19: 0.7788\n",
            "Epoch 13/70\n",
            "1500/1500 [==============================] - 115s 77ms/step - loss: 2.2784 - my_accuracy_19: 0.8882 - val_loss: 2.2791 - val_my_accuracy_19: 0.9218\n",
            "Epoch 14/70\n",
            "1500/1500 [==============================] - 116s 77ms/step - loss: 2.2783 - my_accuracy_19: 0.8768 - val_loss: 2.2788 - val_my_accuracy_19: 0.8723\n",
            "Epoch 15/70\n",
            "1500/1500 [==============================] - 126s 84ms/step - loss: 2.2783 - my_accuracy_19: 0.9052 - val_loss: 2.2790 - val_my_accuracy_19: 0.8827\n",
            "Epoch 16/70\n",
            "1500/1500 [==============================] - 126s 84ms/step - loss: 2.2783 - my_accuracy_19: 0.8987 - val_loss: 2.2789 - val_my_accuracy_19: 0.7646\n",
            "Epoch 17/70\n",
            "1500/1500 [==============================] - 116s 77ms/step - loss: 2.2783 - my_accuracy_19: 0.9076 - val_loss: 2.2789 - val_my_accuracy_19: 0.7758\n",
            "Epoch 18/70\n",
            "1500/1500 [==============================] - 126s 84ms/step - loss: 2.2783 - my_accuracy_19: 0.8995 - val_loss: 2.2788 - val_my_accuracy_19: 0.8845\n",
            "Epoch 19/70\n",
            "1500/1500 [==============================] - 127s 84ms/step - loss: 2.2782 - my_accuracy_19: 0.9027 - val_loss: 2.2790 - val_my_accuracy_19: 0.9628\n",
            "Epoch 20/70\n",
            "1500/1500 [==============================] - 125s 84ms/step - loss: 2.2783 - my_accuracy_19: 0.9242 - val_loss: 2.2792 - val_my_accuracy_19: 0.8253\n",
            "Epoch 21/70\n",
            "1500/1500 [==============================] - 126s 84ms/step - loss: 2.2782 - my_accuracy_19: 0.9133 - val_loss: 2.2790 - val_my_accuracy_19: 0.9096\n",
            "Epoch 22/70\n",
            "1500/1500 [==============================] - 127s 85ms/step - loss: 2.2782 - my_accuracy_19: 0.9071 - val_loss: 2.2789 - val_my_accuracy_19: 0.9323\n",
            "Epoch 23/70\n",
            "1500/1500 [==============================] - 125s 84ms/step - loss: 2.2782 - my_accuracy_19: 0.9127 - val_loss: 2.2788 - val_my_accuracy_19: 0.9506\n",
            "Epoch 24/70\n",
            "1500/1500 [==============================] - 126s 84ms/step - loss: 2.2782 - my_accuracy_19: 0.9253 - val_loss: 2.2790 - val_my_accuracy_19: 0.9718\n",
            "Epoch 25/70\n",
            "1500/1500 [==============================] - 126s 84ms/step - loss: 2.2782 - my_accuracy_19: 0.9148 - val_loss: 2.2788 - val_my_accuracy_19: 0.9562\n",
            "Epoch 26/70\n",
            "1500/1500 [==============================] - 117s 78ms/step - loss: 2.2782 - my_accuracy_19: 0.9120 - val_loss: 2.2789 - val_my_accuracy_19: 0.9492\n",
            "Epoch 27/70\n",
            "1500/1500 [==============================] - 117s 78ms/step - loss: 2.2782 - my_accuracy_19: 0.9353 - val_loss: 2.2789 - val_my_accuracy_19: 0.8922\n",
            "Epoch 28/70\n",
            "1500/1500 [==============================] - 127s 84ms/step - loss: 2.2782 - my_accuracy_19: 0.9161 - val_loss: 2.2787 - val_my_accuracy_19: 0.9580\n",
            "Epoch 29/70\n",
            "1500/1500 [==============================] - 117s 78ms/step - loss: 2.2781 - my_accuracy_19: 0.9291 - val_loss: 2.2790 - val_my_accuracy_19: 0.8823\n",
            "Epoch 30/70\n",
            "1500/1500 [==============================] - 127s 84ms/step - loss: 2.2782 - my_accuracy_19: 0.9258 - val_loss: 2.2787 - val_my_accuracy_19: 0.9545\n",
            "Epoch 31/70\n",
            "1500/1500 [==============================] - 126s 84ms/step - loss: 2.2782 - my_accuracy_19: 0.9281 - val_loss: 2.2788 - val_my_accuracy_19: 0.9475\n",
            "Epoch 32/70\n",
            "1500/1500 [==============================] - 127s 84ms/step - loss: 2.2782 - my_accuracy_19: 0.9337 - val_loss: 2.2788 - val_my_accuracy_19: 0.9422\n",
            "Epoch 33/70\n",
            "1500/1500 [==============================] - 125s 84ms/step - loss: 2.2782 - my_accuracy_19: 0.9312 - val_loss: 2.2788 - val_my_accuracy_19: 0.9718\n",
            "Epoch 34/70\n",
            "1500/1500 [==============================] - 126s 84ms/step - loss: 2.2782 - my_accuracy_19: 0.9323 - val_loss: 2.2788 - val_my_accuracy_19: 0.9713\n",
            "Epoch 35/70\n",
            "1500/1500 [==============================] - 127s 85ms/step - loss: 2.2782 - my_accuracy_19: 0.9326 - val_loss: 2.2789 - val_my_accuracy_19: 0.9373\n",
            "Epoch 36/70\n",
            "1500/1500 [==============================] - 126s 84ms/step - loss: 2.2782 - my_accuracy_19: 0.9252 - val_loss: 2.2789 - val_my_accuracy_19: 0.8751\n",
            "Epoch 37/70\n",
            "1500/1500 [==============================] - 126s 84ms/step - loss: 2.2782 - my_accuracy_19: 0.9310 - val_loss: 2.2785 - val_my_accuracy_19: 0.9754\n",
            "Epoch 38/70\n",
            "1500/1500 [==============================] - 127s 84ms/step - loss: 2.2781 - my_accuracy_19: 0.9449 - val_loss: 2.2789 - val_my_accuracy_19: 0.9701\n",
            "Epoch 39/70\n",
            "1500/1500 [==============================] - 127s 84ms/step - loss: 2.2781 - my_accuracy_19: 0.9509 - val_loss: 2.2787 - val_my_accuracy_19: 0.9380\n",
            "Epoch 40/70\n",
            "1500/1500 [==============================] - 127s 84ms/step - loss: 2.2781 - my_accuracy_19: 0.9304 - val_loss: 2.2787 - val_my_accuracy_19: 0.9758\n",
            "Epoch 41/70\n",
            "1500/1500 [==============================] - 126s 84ms/step - loss: 2.2782 - my_accuracy_19: 0.9383 - val_loss: 2.2788 - val_my_accuracy_19: 0.9573\n",
            "Epoch 42/70\n",
            "1500/1500 [==============================] - 126s 84ms/step - loss: 2.2781 - my_accuracy_19: 0.9226 - val_loss: 2.2787 - val_my_accuracy_19: 0.9376\n",
            "Epoch 43/70\n",
            "1500/1500 [==============================] - 117s 78ms/step - loss: 2.2781 - my_accuracy_19: 0.9344 - val_loss: 2.2788 - val_my_accuracy_19: 0.9757\n",
            "Epoch 44/70\n",
            "1500/1500 [==============================] - 126s 84ms/step - loss: 2.2782 - my_accuracy_19: 0.9383 - val_loss: 2.2788 - val_my_accuracy_19: 0.9352\n",
            "Epoch 45/70\n",
            "1500/1500 [==============================] - 127s 85ms/step - loss: 2.2781 - my_accuracy_19: 0.9277 - val_loss: 2.2789 - val_my_accuracy_19: 0.9129\n",
            "Epoch 46/70\n",
            "1500/1500 [==============================] - 127s 84ms/step - loss: 2.2781 - my_accuracy_19: 0.9204 - val_loss: 2.2786 - val_my_accuracy_19: 0.9763\n",
            "Epoch 47/70\n",
            "1500/1500 [==============================] - 126s 84ms/step - loss: 2.2782 - my_accuracy_19: 0.9559 - val_loss: 2.2787 - val_my_accuracy_19: 0.9504\n",
            "Epoch 48/70\n",
            "1500/1500 [==============================] - 126s 84ms/step - loss: 2.2782 - my_accuracy_19: 0.9435 - val_loss: 2.2787 - val_my_accuracy_19: 0.9388\n",
            "Epoch 49/70\n",
            "1500/1500 [==============================] - 117s 78ms/step - loss: 2.2782 - my_accuracy_19: 0.9387 - val_loss: 2.2794 - val_my_accuracy_19: 0.5377\n",
            "Epoch 50/70\n",
            "1500/1500 [==============================] - 126s 84ms/step - loss: 2.2782 - my_accuracy_19: 0.9367 - val_loss: 2.2786 - val_my_accuracy_19: 0.9634\n",
            "Epoch 51/70\n",
            "1500/1500 [==============================] - 126s 84ms/step - loss: 2.2781 - my_accuracy_19: 0.9191 - val_loss: 2.2786 - val_my_accuracy_19: 0.9835\n",
            "Epoch 52/70\n",
            "1500/1500 [==============================] - 126s 84ms/step - loss: 2.2782 - my_accuracy_19: 0.9503 - val_loss: 2.2787 - val_my_accuracy_19: 0.9480\n",
            "Epoch 53/70\n",
            "1500/1500 [==============================] - 117s 78ms/step - loss: 2.2782 - my_accuracy_19: 0.9467 - val_loss: 2.2788 - val_my_accuracy_19: 0.9629\n",
            "Epoch 54/70\n",
            "1500/1500 [==============================] - 126s 84ms/step - loss: 2.2782 - my_accuracy_19: 0.9490 - val_loss: 2.2787 - val_my_accuracy_19: 0.9526\n",
            "Epoch 55/70\n",
            "1500/1500 [==============================] - 126s 84ms/step - loss: 2.2781 - my_accuracy_19: 0.9419 - val_loss: 2.2788 - val_my_accuracy_19: 0.9032\n",
            "Epoch 56/70\n",
            "1500/1500 [==============================] - 127s 85ms/step - loss: 2.2781 - my_accuracy_19: 0.9458 - val_loss: 2.2789 - val_my_accuracy_19: 0.9605\n",
            "Epoch 57/70\n",
            "1500/1500 [==============================] - 126s 84ms/step - loss: 2.2782 - my_accuracy_19: 0.9340 - val_loss: 2.2788 - val_my_accuracy_19: 0.9588\n",
            "Epoch 58/70\n",
            "1500/1500 [==============================] - 126s 84ms/step - loss: 2.2781 - my_accuracy_19: 0.9500 - val_loss: 2.2787 - val_my_accuracy_19: 0.9743\n",
            "Epoch 59/70\n",
            "1500/1500 [==============================] - 127s 85ms/step - loss: 2.2781 - my_accuracy_19: 0.9360 - val_loss: 2.2788 - val_my_accuracy_19: 0.9675\n",
            "Epoch 60/70\n",
            "1500/1500 [==============================] - 127s 85ms/step - loss: 2.2781 - my_accuracy_19: 0.9299 - val_loss: 2.2787 - val_my_accuracy_19: 0.9717\n",
            "Epoch 61/70\n",
            "1500/1500 [==============================] - 127s 85ms/step - loss: 2.2781 - my_accuracy_19: 0.9462 - val_loss: 2.2786 - val_my_accuracy_19: 0.9758\n",
            "Epoch 62/70\n",
            "1500/1500 [==============================] - 127s 84ms/step - loss: 2.2781 - my_accuracy_19: 0.9575 - val_loss: 2.2786 - val_my_accuracy_19: 0.9707\n",
            "Epoch 63/70\n",
            "1500/1500 [==============================] - 127s 84ms/step - loss: 2.2781 - my_accuracy_19: 0.9557 - val_loss: 2.2789 - val_my_accuracy_19: 0.9208\n",
            "Epoch 64/70\n",
            "1500/1500 [==============================] - 118s 79ms/step - loss: 2.2781 - my_accuracy_19: 0.9501 - val_loss: 2.2789 - val_my_accuracy_19: 0.9007\n",
            "Epoch 65/70\n",
            "1500/1500 [==============================] - 126s 84ms/step - loss: 2.2780 - my_accuracy_19: 0.9597 - val_loss: 2.2791 - val_my_accuracy_19: 0.8162\n",
            "Epoch 66/70\n",
            "1500/1500 [==============================] - 127s 85ms/step - loss: 2.2781 - my_accuracy_19: 0.9535 - val_loss: 2.2789 - val_my_accuracy_19: 0.9103\n",
            "Epoch 67/70\n",
            "1500/1500 [==============================] - 127s 84ms/step - loss: 2.2781 - my_accuracy_19: 0.9570 - val_loss: 2.2788 - val_my_accuracy_19: 0.9535\n",
            "Epoch 68/70\n",
            "1500/1500 [==============================] - 126s 84ms/step - loss: 2.2781 - my_accuracy_19: 0.9519 - val_loss: 2.2787 - val_my_accuracy_19: 0.9739\n",
            "Epoch 69/70\n",
            "1500/1500 [==============================] - 127s 85ms/step - loss: 2.2781 - my_accuracy_19: 0.9506 - val_loss: 2.2787 - val_my_accuracy_19: 0.9665\n",
            "Epoch 70/70\n",
            "1500/1500 [==============================] - 127s 85ms/step - loss: 2.2781 - my_accuracy_19: 0.9446 - val_loss: 2.2789 - val_my_accuracy_19: 0.9431\n"
          ],
          "name": "stdout"
        }
      ]
    },
    {
      "cell_type": "code",
      "metadata": {
        "id": "8bnBQabNNKLH",
        "colab": {
          "base_uri": "https://localhost:8080/"
        },
        "outputId": "542c2168-38fa-42af-ec43-179aab4929f7"
      },
      "source": [
        "print(f'Best Validation Accuracy = {np.max(history.history[\"val_my_accuracy_19\"])}')\n",
        "print(f'Best Training   Accuracy = {np.max(history.history[\"my_accuracy_19\"])}')"
      ],
      "execution_count": 67,
      "outputs": [
        {
          "output_type": "stream",
          "text": [
            "Best Validation Accuracy = 0.9835000038146973\n",
            "Best Training   Accuracy = 0.9597083330154419\n"
          ],
          "name": "stdout"
        }
      ]
    },
    {
      "cell_type": "code",
      "metadata": {
        "colab": {
          "base_uri": "https://localhost:8080/",
          "height": 648
        },
        "id": "ONBDXxVa2Bvc",
        "outputId": "4b0fdfc3-e7ce-4f0c-d8ce-9b13ab497b68"
      },
      "source": [
        "\n",
        "import matplotlib.pyplot as plt\n",
        "\n",
        "plt.rcParams[\"figure.figsize\"] = (30, 10)\n",
        "plt.rcParams[\"font.size\"] = 20\n",
        "\n",
        "fig, ax = plt.subplots(1, 2)\n",
        "\n",
        "ax[0].plot(history.history['my_accuracy_19'])\n",
        "ax[0].plot(history.history['val_my_accuracy_19'])\n",
        "ax[0].set_title('Model Accuracy')\n",
        "ax[0].set_ylabel('Accuracy')\n",
        "ax[0].set_xlabel('Epoch')\n",
        "ax[0].legend(['Training Accuracy', 'Validation Accuracy'], loc='best')\n",
        "\n",
        "ax[1].plot(history.history['loss'])\n",
        "ax[1].plot(history.history['val_loss'])\n",
        "ax[1].set_title('Model Loss')\n",
        "ax[1].set_ylabel('Loss')\n",
        "ax[1].set_xlabel('Epoch')\n",
        "ax[1].legend(['Training Loss', 'Validation Loss'], loc='best')\n",
        "plt.show()"
      ],
      "execution_count": 72,
      "outputs": [
        {
          "output_type": "display_data",
          "data": {
            "image/png": "[encoded data removed]",
            "text/plain": [
              "<Figure size 2160x720 with 2 Axes>"
            ]
          },
          "metadata": {
            "tags": [],
            "needs_background": "light"
          }
        }
      ]
    },
    {
      "cell_type": "code",
      "metadata": {
        "id": "9pOcuSJGSvLY",
        "colab": {
          "base_uri": "https://localhost:8080/"
        },
        "outputId": "a7e6f7dc-2644-4816-b15e-16ccbece03d3"
      },
      "source": [
        "#m.save(\"/content/drive/MyDrive/WeightsMnist/save.tf\", save_format='tf')\n",
        "\n",
        "# \n",
        "#!rm -f \"/content/drive/MyDrive/WeightsMnist/save3.tf\""
      ],
      "execution_count": null,
      "outputs": [
        {
          "output_type": "stream",
          "text": [
            "rm: cannot remove '/content/drive/MyDrive/WeightsMnist/save3.tf': Is a directory\n"
          ],
          "name": "stdout"
        }
      ]
    },
    {
      "cell_type": "code",
      "metadata": {
        "colab": {
          "base_uri": "https://localhost:8080/"
        },
        "id": "4SM-gwDR2FtA",
        "outputId": "3777d4f2-3b79-4f0b-c920-f965c80aa569"
      },
      "source": [
        "basemodel_file = m.save(\"/content/drive/MyDrive/MnistResults/save_basemodel4.tf\", save_format='tf')\n"
      ],
      "execution_count": 68,
      "outputs": [
        {
          "output_type": "stream",
          "text": [
            "INFO:tensorflow:Assets written to: /content/drive/MyDrive/MnistResults/save_basemodel4.tf/assets\n"
          ],
          "name": "stdout"
        }
      ]
    },
    {
      "cell_type": "code",
      "metadata": {
        "id": "WLeqoVJkjPKB"
      },
      "source": [
        "#Extra layer for evaluate\n",
        "class DimensionCorrection(K.layers.Layer):\n",
        "    def __init__(self, **kwargs):\n",
        "      super(DimensionCorrection, self).__init__(**kwargs)\n",
        "    \n",
        "    def safe_norm(self, input, axis=-2, epsilon=1e-7, keep_dims=False, name=None):\n",
        "      squared_norm = tf.reduce_sum(tf.square(input), axis=axis,\n",
        "                                     keepdims=keep_dims)\n",
        "      return tf.sqrt(squared_norm + epsilon)\n",
        "\n",
        "    def call(self,y_pred):\n",
        "      y_proba = self.safe_norm(y_pred, axis=-2)\n",
        "      y_proba_argmax = tf.argmax(y_proba, axis=2)\n",
        "      y_pred = tf.squeeze(y_proba_argmax, axis=[1,2], name=\"y_pred\")\n",
        "      return y_pred\n",
        "\n"
      ],
      "execution_count": 69,
      "outputs": []
    },
    {
      "cell_type": "code",
      "metadata": {
        "id": "R3s5KL2po5FN"
      },
      "source": [
        "# y_test = tf.cast(y_test, dtype= tf.int64)\n",
        "# print(y_test.shape)"
      ],
      "execution_count": null,
      "outputs": []
    },
    {
      "cell_type": "code",
      "metadata": {
        "colab": {
          "base_uri": "https://localhost:8080/"
        },
        "id": "8cJcH3YlsAVt",
        "outputId": "628352e1-7b04-4cca-c40a-d9a666c561a2"
      },
      "source": [
        "m = Model.build()\n",
        "m.load_weights('/content/drive/MyDrive/MnistResults/best_weights4.hdf5')\n",
        "m.compile(optimizer='Adam', loss=MarginLoss)\n",
        "newmodel = K.models.Sequential(\\\n",
        "            [\\\n",
        "            m,\\\n",
        "            DimensionCorrection(),\\\n",
        "            ]\\\n",
        ")\n",
        "newmodel.summary()\n",
        "m.trainable = False\n",
        "newmodel.compile(optimizer='adam')\n",
        "\n",
        "y_pred = newmodel.predict(x_test)\n",
        "\n",
        "import sklearn\n",
        "from sklearn.metrics import confusion_matrix, accuracy_score, roc_auc_score\n",
        "print(confusion_matrix(y_test, y_pred))\n",
        "print(f\"accuracy = {accuracy_score(y_test, y_pred)}\")"
      ],
      "execution_count": 71,
      "outputs": [
        {
          "output_type": "stream",
          "text": [
            "Model: \"sequential_2\"\n",
            "_________________________________________________________________\n",
            "Layer (type)                 Output Shape              Param #   \n",
            "=================================================================\n",
            "my (Functional)              (None, 1, 10, 16, 1)      6815744   \n",
            "_________________________________________________________________\n",
            "dimension_correction_2 (Dime (None,)                   0         \n",
            "=================================================================\n",
            "Total params: 6,815,744\n",
            "Trainable params: 6,815,744\n",
            "Non-trainable params: 0\n",
            "_________________________________________________________________\n",
            "[[ 973    1    1    0    0    0    3    1    1    0]\n",
            " [   0 1120    2    3    0    0    1    2    7    0]\n",
            " [   0    0 1027    0    0    0    0    4    1    0]\n",
            " [   0    0    3  999    0    1    0    4    3    0]\n",
            " [   1    0    1    0  954    0    5    1    2   18]\n",
            " [   1    0    2   20    0  857    7    2    3    0]\n",
            " [   5    2    0    0    1    1  948    0    1    0]\n",
            " [   0    3   13    2    0    0    0 1006    1    3]\n",
            " [   2    0    2    1    1    0    0    1  966    1]\n",
            " [   2    3    1    3    4    0    1    7    1  987]]\n",
            "accuracy = 0.9837\n"
          ],
          "name": "stdout"
        }
      ]
    },
    {
      "cell_type": "code",
      "metadata": {
        "id": "aJLicHf3J1G-"
      },
      "source": [
        "# mm = K.models.load_model('/content/drive/MyDrive/WeightsMnist/save2.tf',\\\n",
        "#                          custom_objects=\\\n",
        "#                           {\\\n",
        "#                               \"SquashLayer\": SquashLayer,\\\n",
        "#                               \"SafeNorm\": SafeNorm,\\\n",
        "#                               \"MyDigitCapsLayer\": MyDigitCapsLayer,\\\n",
        "#                               \"RoutingByAgreement\": RoutingByAgreement,\\\n",
        "#                               \"MyAccuracy\": MyAccuracy,\\\n",
        "#                               \"MarginLoss\": MarginLoss,\\\n",
        "#                           })\n"
      ],
      "execution_count": null,
      "outputs": []
    },
    {
      "cell_type": "code",
      "metadata": {
        "id": "_lbZNCJZkZ46"
      },
      "source": [
        "# y_pred_eval = DimensionCorrection()\n",
        "# m2 = Model.build()\n",
        "# m2.load_weights('/content/drive/MyDrive/WeightsMnist/latest_weights1.hdf5')\n",
        "\n",
        "\n",
        "\n"
      ],
      "execution_count": null,
      "outputs": []
    },
    {
      "cell_type": "code",
      "metadata": {
        "id": "N-vE6yGAoBPI"
      },
      "source": [
        "# m3 = K.models.Sequential()\n",
        "# m3.add(m2)\n",
        "# m3.add(y_pred_eval)\n",
        "# m3.build()\n",
        "# m3.compile(optimizer='adam', loss=MarginLoss(), metrics=[MyAccuracy()])\n",
        "# m3.evaluate(x_test, y_test, batch_size= 32, verbose= 1)\n",
        "\n",
        "# #m3.evaluate(x_test, y_test, batch_size= 32, verbose= 1)"
      ],
      "execution_count": null,
      "outputs": []
    },
    {
      "cell_type": "code",
      "metadata": {
        "id": "h9vf-xeFUcgi"
      },
      "source": [
        "#converter = tf.lite.TFLiteConverter.from_keras_model(m)"
      ],
      "execution_count": null,
      "outputs": []
    },
    {
      "cell_type": "markdown",
      "metadata": {
        "id": "H1Dq_06YHPJn"
      },
      "source": [
        ""
      ]
    },
    {
      "cell_type": "code",
      "metadata": {
        "id": "VuULPnldermd"
      },
      "source": [
        ""
      ],
      "execution_count": null,
      "outputs": []
    },
    {
      "cell_type": "code",
      "metadata": {
        "id": "wdrYq9SwUr-N"
      },
      "source": [
        "# converter.optimizations = [tf.lite.Optimize.DEFAULT]\n",
        "# converter.target_spec.supported_types = [tf.float16]\n",
        "# quantize_model = converter.convert()"
      ],
      "execution_count": null,
      "outputs": []
    },
    {
      "cell_type": "code",
      "metadata": {
        "id": "WWt9eE4hpaDy"
      },
      "source": [
        ""
      ],
      "execution_count": null,
      "outputs": []
    },
    {
      "cell_type": "code",
      "metadata": {
        "id": "d5Vm_QpbUry8"
      },
      "source": [
        "# mm = K.models.load_model('/content/drive/MyDrive/WeightsMnist/save2.tf',\\\n",
        "#                          custom_objects=\\\n",
        "#                           {\\\n",
        "#                               \"SquashLayer\": SquashLayer,\\\n",
        "#                               \"SafeNorm\": SafeNorm,\\\n",
        "#                               \"MyDigitCapsLayer\": MyDigitCapsLayer,\\\n",
        "#                               \"RoutingByAgreement\": RoutingByAgreement,\\\n",
        "#                               \"MyAccuracy\": MyAccuracy,\\\n",
        "#                               \"MarginLoss\": MarginLoss,\\\n",
        "#                           })\n",
        "# print(type(mm), mm.summary())\n",
        "# print(mm.weights[0][0][0][0][0:5])\n",
        "# e = mm.load_weights('/content/drive/MyDrive/WeightsMnist/latest_weights1.hdf5')\n",
        "# print(mm.weights[0][0][0][0][0:5])\n",
        "\n",
        "\n",
        "# Create the .tflite file\n",
        "# tflite_model_file = \"/content/drive/MyDrive/WeightsMnist/compressed.tflite\"\n",
        "# converter = tf.lite.TFLiteConverter.from_keras_model(mm)\n",
        "# converter.optimizations = [tf.lite.Optimize.DEFAULT]\n",
        "\n",
        "# converter.target_spec.supported_ops = [\n",
        "#   tf.lite.OpsSet.TFLITE_BUILTINS, # enable TensorFlow Lite ops.\n",
        "#   tf.lite.OpsSet.SELECT_TF_OPS # enable TensorFlow ops.\n",
        "# ]\n",
        "\n",
        "# tflite_model = converter.convert()\n",
        "# with open(tflite_model_file, \"wb\") as f:\n",
        "#     f.write(tflite_model)"
      ],
      "execution_count": null,
      "outputs": []
    },
    {
      "cell_type": "code",
      "metadata": {
        "colab": {
          "base_uri": "https://localhost:8080/"
        },
        "id": "UjFKKcxw2gVo",
        "outputId": "fca24614-4a15-4ef2-82c9-1863e29bab82"
      },
      "source": [
        "#checking for model 4\n",
        "!du -sh /content/drive/MyDrive/MnistResults/*"
      ],
      "execution_count": 73,
      "outputs": [
        {
          "output_type": "stream",
          "text": [
            "27M\t/content/drive/MyDrive/MnistResults/best_weights4.hdf5\n",
            "11M\t/content/drive/MyDrive/MnistResults/compressed1.tflite\n",
            "27M\t/content/drive/MyDrive/MnistResults/latest_weights1.hdf5\n",
            "27M\t/content/drive/MyDrive/MnistResults/latest_weights2.hdf5\n",
            "27M\t/content/drive/MyDrive/MnistResults/latest_weights3.hdf5\n",
            "27M\t/content/drive/MyDrive/MnistResults/latest_weights4.hdf5\n",
            "512\t/content/drive/MyDrive/MnistResults/mylogs1.csv\n",
            "512\t/content/drive/MyDrive/MnistResults/mylogs2.csv\n",
            "512\t/content/drive/MyDrive/MnistResults/mylogs3.csv\n",
            "5.5K\t/content/drive/MyDrive/MnistResults/mylogs4.csv\n",
            "27M\t/content/drive/MyDrive/MnistResults/pruned_file1.h5\n",
            "27M\t/content/drive/MyDrive/MnistResults/pruned_file2.h5\n",
            "79M\t/content/drive/MyDrive/MnistResults/save_basemode2.tf\n",
            "79M\t/content/drive/MyDrive/MnistResults/save_basemode3.tf\n",
            "79M\t/content/drive/MyDrive/MnistResults/save_basemodel4.tf\n",
            "79M\t/content/drive/MyDrive/MnistResults/save_basemodel.tf\n"
          ],
          "name": "stdout"
        }
      ]
    },
    {
      "cell_type": "markdown",
      "metadata": {
        "id": "F1c026FiF3Hb"
      },
      "source": [
        ""
      ]
    },
    {
      "cell_type": "markdown",
      "metadata": {
        "id": "cTzAAQHpL51b"
      },
      "source": [
        "# Use this tutorial for pruning\n",
        "quantization has already been done earlier\n",
        "\n",
        "https://www.tensorflow.org/model_optimization/guide/pruning/pruning_with_keras\n"
      ]
    },
    {
      "cell_type": "markdown",
      "metadata": {
        "id": "qUQtzXdBqPh6"
      },
      "source": [
        "PRUNING\n"
      ]
    },
    {
      "cell_type": "code",
      "metadata": {
        "id": "PAVk1mxJqykT"
      },
      "source": [
        "# pip install -q tensorflow-model-optimization"
      ],
      "execution_count": null,
      "outputs": []
    },
    {
      "cell_type": "code",
      "metadata": {
        "colab": {
          "base_uri": "https://localhost:8080/"
        },
        "id": "T_DKdw7nqBI5",
        "outputId": "517ff9f6-d6b9-4173-bf4d-b1910dd480c9"
      },
      "source": [
        "import tensorflow_model_optimization as tfmot\n",
        "import tempfile\n",
        "\n",
        "prune_low_magnitude = tfmot.sparsity.keras.prune_low_magnitude\n",
        "\n",
        "# TODO: Remove this line\n",
        "#m.load_weights('/content/drive/MyDrive/MnistResults/best_weights4.hdf5')\n",
        "mm = m\n",
        "mm.load_weights('/content/drive/MyDrive/MnistResults/best_weights4.hdf5')\n",
        "print(\"ORIGINAL MODEL\")\n",
        "print(mm.summary())\n",
        "print('-' * 80)\n",
        "\n",
        "# Compute end step to finish pruning after 2 epochs.\n",
        "batch_size = 128\n",
        "epochs = 2\n",
        "validation_split = 0.1 # 10% of training set will be used for validation set. \n",
        "\n",
        "num_images = x_train.shape[0] * (1 - validation_split)\n",
        "end_step = np.ceil(num_images / batch_size).astype(np.int32) * epochs\n",
        "\n",
        "# Define model for pruning.\n",
        "# pruning_params = {\n",
        "#       'pruning_schedule': tfmot.sparsity.keras.PolynomialDecay(initial_sparsity=0.50,\n",
        "#                                                                final_sparsity=0.80,\n",
        "#                                                                begin_step=0,\n",
        "#                                                                end_step=end_step)\n",
        "# }\n",
        "\n",
        "pruning_params = {\n",
        "      'pruning_schedule': tfmot.sparsity.keras.PolynomialDecay(initial_sparsity=0.0,\n",
        "                                                               final_sparsity=0.9,\n",
        "                                                               begin_step=0,\n",
        "                                                               end_step=end_step)\n",
        "}\n",
        "\n",
        "\"\"\"\n",
        "model_for_pruning = prune_low_magnitude(mm, **pruning_params)\n",
        "\n",
        "# `prune_low_magnitude` requires a recompile.\n",
        "model_for_pruning.compile(optimizer='adam',\n",
        "              loss=MarginLoss(), metrics=[MyAccuracy()])\n",
        "\n",
        "model_for_pruning.summary()\n",
        "\n",
        "\"\"\"\n",
        "\n",
        "\n",
        "######################################################################\n",
        "logdir = tempfile.mkdtemp()\n",
        "\n",
        "callbacks = [\n",
        "  tfmot.sparsity.keras.UpdatePruningStep(),\n",
        "  tfmot.sparsity.keras.PruningSummaries(log_dir=logdir),\n",
        "]\n",
        "\n",
        "# Helper function uses `prune_low_magnitude` to make only the \n",
        "# Dense layers train with pruning.\n",
        "def apply_pruning_to_layers(layer):\n",
        "  #print(\"called\")\n",
        "  if isinstance(layer, MyDigitCapsLayer):\n",
        "    print(f\"Layer {layer} {layer.name} slated for pruning\")\n",
        "    return tfmot.sparsity.keras.prune_low_magnitude(layer, **pruning_params)\n",
        "  elif layer.name == \"conv_layer_2\":\n",
        "    print(f\"Layer {layer} {layer.name} slated for pruning\")\n",
        "    return tfmot.sparsity.keras.prune_low_magnitude(layer, **pruning_params)\n",
        "\n",
        "  print(f\"Layer {layer} {layer.name} unchanged\")\n",
        "  return layer\n",
        "\n",
        "# Use `tf.keras.models.clone_model` to apply `apply_pruning_to_layers` \n",
        "# to the layers of the model.\n",
        "model_for_pruning = tf.keras.models.clone_model(\n",
        "    mm,\n",
        "    clone_function=apply_pruning_to_layers,\n",
        ")\n",
        "print(model_for_pruning.summary())\n",
        "\n",
        "\"\"\"\n",
        "model_for_pruning = K.models.Sequential(\\\n",
        "              [\\\n",
        "                model_for_pruning,\\\n",
        "                MyReshapeLayer(),\\\n",
        "              ]\\\n",
        ")\n",
        "\"\"\"\n",
        "\n",
        "\n",
        "model_for_pruning.compile(optimizer='adam', loss=MarginLoss(), metrics=[MyAccuracy()])\n",
        "#model_for_pruning.compile(optimizer='adam', loss=MarginLoss())\n",
        "\n",
        "model_for_pruning.fit(x_train, y_train,\n",
        "                  batch_size=32, epochs=2, validation_split=validation_split,\n",
        "                  callbacks=callbacks)"
      ],
      "execution_count": null,
      "outputs": [
        {
          "output_type": "stream",
          "text": [
            "ORIGINAL MODEL\n",
            "Model: \"my\"\n",
            "_________________________________________________________________\n",
            "Layer (type)                 Output Shape              Param #   \n",
            "=================================================================\n",
            "input (InputLayer)           [(None, 28, 28, 1)]       0         \n",
            "_________________________________________________________________\n",
            "conv_layer_1 (Conv2D)        (None, 20, 20, 256)       20992     \n",
            "_________________________________________________________________\n",
            "conv_layer_2 (Conv2D)        (None, 6, 6, 256)         5308672   \n",
            "_________________________________________________________________\n",
            "reshape_layer_1 (Reshape)    (None, 1152, 8)           0         \n",
            "_________________________________________________________________\n",
            "caps1_output_layer (SquashLa (None, 1152, 8)           0         \n",
            "_________________________________________________________________\n",
            "caps2_predicted (MyDigitCaps (None, 1152, 10, 16, 1)   1474560   \n",
            "_________________________________________________________________\n",
            "routing1 (RoutingByAgreement (None, 1, 10, 16, 1)      11520     \n",
            "=================================================================\n",
            "Total params: 6,815,744\n",
            "Trainable params: 0\n",
            "Non-trainable params: 6,815,744\n",
            "_________________________________________________________________\n",
            "None\n",
            "--------------------------------------------------------------------------------\n",
            "Layer <tensorflow.python.keras.layers.convolutional.Conv2D object at 0x7fa7f51dba50> conv_layer_1 unchanged\n",
            "Layer <tensorflow.python.keras.layers.convolutional.Conv2D object at 0x7fa7f52ab910> conv_layer_2 slated for pruning\n",
            "Layer <tensorflow.python.keras.layers.core.Reshape object at 0x7fa7f5140c90> reshape_layer_1 unchanged\n",
            "Layer <__main__.SquashLayer object at 0x7fa7f5172b10> caps1_output_layer unchanged\n",
            "Layer <__main__.MyDigitCapsLayer object at 0x7fa7f52b2790> caps2_predicted slated for pruning\n",
            "Layer <__main__.RoutingByAgreement object at 0x7fa7f5258c50> routing1 unchanged\n",
            "Model: \"my\"\n",
            "_________________________________________________________________\n",
            "Layer (type)                 Output Shape              Param #   \n",
            "=================================================================\n",
            "input (InputLayer)           [(None, 28, 28, 1)]       0         \n",
            "_________________________________________________________________\n",
            "conv_layer_1 (Conv2D)        (None, 20, 20, 256)       20992     \n",
            "_________________________________________________________________\n",
            "prune_low_magnitude_conv_lay (None, 6, 6, 256)         10617090  \n",
            "_________________________________________________________________\n",
            "reshape_layer_1 (Reshape)    (None, 1152, 8)           0         \n",
            "_________________________________________________________________\n",
            "caps1_output_layer (SquashLa (None, 1152, 8)           0         \n",
            "_________________________________________________________________\n",
            "prune_low_magnitude_caps2_pr (None, 1152, 10, 16, 1)   2949122   \n",
            "_________________________________________________________________\n",
            "routing1 (RoutingByAgreement (None, 1, 10, 16, 1)      11520     \n",
            "=================================================================\n",
            "Total params: 13,598,724\n",
            "Trainable params: 0\n",
            "Non-trainable params: 13,598,724\n",
            "_________________________________________________________________\n",
            "None\n"
          ],
          "name": "stdout"
        },
        {
          "output_type": "stream",
          "text": [
            "/usr/local/lib/python3.7/dist-packages/tensorflow/python/keras/engine/base_layer.py:2191: UserWarning: `layer.add_variable` is deprecated and will be removed in a future version. Please use `layer.add_weight` method instead.\n",
            "  warnings.warn('`layer.add_variable` is deprecated and '\n"
          ],
          "name": "stderr"
        },
        {
          "output_type": "stream",
          "text": [
            "Epoch 1/2\n",
            "   5/1688 [..............................] - ETA: 4:28 - loss: 2.2782 - my_accuracy_51: 1.0000WARNING:tensorflow:Callback method `on_train_batch_end` is slow compared to the batch time (batch time: 0.0370s vs `on_train_batch_end` time: 0.0457s). Check your callbacks.\n",
            "1688/1688 [==============================] - ETA: 0s - loss: 2.2892 - my_accuracy_51: 0.7080"
          ],
          "name": "stdout"
        }
      ]
    },
    {
      "cell_type": "markdown",
      "metadata": {
        "id": "nZ8YDxRv9r8N"
      },
      "source": [
        "\n",
        "#explanation for increase in parameters after pruning\n",
        "\n",
        "https://www.dlology.com/blog/how-to-compress-your-keras-model-x5-smaller-with-tensorflow-model-optimization/"
      ]
    },
    {
      "cell_type": "code",
      "metadata": {
        "colab": {
          "base_uri": "https://localhost:8080/"
        },
        "id": "yD9aZWk2D5Bh",
        "outputId": "4694c42a-5ba4-4c21-a998-ee02db5f88c0"
      },
      "source": [
        "_, model_for_pruning_accuracy = model_for_pruning.evaluate(\n",
        "   x_test, y_test, verbose=1)"
      ],
      "execution_count": 139,
      "outputs": [
        {
          "output_type": "stream",
          "text": [
            "313/313 [==============================] - 11s 35ms/step - loss: 2.3035 - my_accuracy_49: 0.8768\n"
          ],
          "name": "stdout"
        }
      ]
    },
    {
      "cell_type": "code",
      "metadata": {
        "colab": {
          "base_uri": "https://localhost:8080/"
        },
        "id": "rU7MOJdAOcud",
        "outputId": "369ef251-bacc-41f1-b397-d425e4319e72"
      },
      "source": [
        "model_for_export = tfmot.sparsity.keras.strip_pruning(model_for_pruning)\n",
        "model_for_export.summary()\n",
        "pruned_keras_file = \"/content/drive/MyDrive/MnistResults/pruned_file4_60.h5\"\n",
        "tf.keras.models.save_model(model_for_export, pruned_keras_file, include_optimizer=False)\n",
        "print('Saved pruned Keras model to:', pruned_keras_file)"
      ],
      "execution_count": 90,
      "outputs": [
        {
          "output_type": "stream",
          "text": [
            "Model: \"my\"\n",
            "_________________________________________________________________\n",
            "Layer (type)                 Output Shape              Param #   \n",
            "=================================================================\n",
            "input (InputLayer)           [(None, 28, 28, 1)]       0         \n",
            "_________________________________________________________________\n",
            "conv_layer_1 (Conv2D)        (None, 20, 20, 256)       20992     \n",
            "_________________________________________________________________\n",
            "conv_layer_2 (Conv2D)        (None, 6, 6, 256)         5308672   \n",
            "_________________________________________________________________\n",
            "reshape_layer_1 (Reshape)    (None, 1152, 8)           0         \n",
            "_________________________________________________________________\n",
            "caps1_output_layer (SquashLa (None, 1152, 8)           0         \n",
            "_________________________________________________________________\n",
            "caps2_predicted (MyDigitCaps (None, 1152, 10, 16, 1)   1474560   \n",
            "_________________________________________________________________\n",
            "routing1 (RoutingByAgreement (None, 1, 10, 16, 1)      11520     \n",
            "=================================================================\n",
            "Total params: 6,815,744\n",
            "Trainable params: 0\n",
            "Non-trainable params: 6,815,744\n",
            "_________________________________________________________________\n",
            "WARNING:tensorflow:Compiled the loaded model, but the compiled metrics have yet to be built. `model.compile_metrics` will be empty until you train or evaluate the model.\n",
            "Saved pruned Keras model to: /content/drive/MyDrive/MnistResults/pruned_file4_60.h5\n"
          ],
          "name": "stdout"
        }
      ]
    },
    {
      "cell_type": "code",
      "metadata": {
        "colab": {
          "base_uri": "https://localhost:8080/"
        },
        "id": "nwtrQhuA9ezQ",
        "outputId": "0522b25e-59e3-4892-8b1a-ed60c18f18ce"
      },
      "source": [
        "!du -sh /content/drive/MyDrive/MnistResults/*"
      ],
      "execution_count": 91,
      "outputs": [
        {
          "output_type": "stream",
          "text": [
            "27M\t/content/drive/MyDrive/MnistResults/best_weights4.hdf5\n",
            "11M\t/content/drive/MyDrive/MnistResults/compressed1.tflite\n",
            "27M\t/content/drive/MyDrive/MnistResults/latest_weights1.hdf5\n",
            "27M\t/content/drive/MyDrive/MnistResults/latest_weights2.hdf5\n",
            "27M\t/content/drive/MyDrive/MnistResults/latest_weights3.hdf5\n",
            "27M\t/content/drive/MyDrive/MnistResults/latest_weights4.hdf5\n",
            "512\t/content/drive/MyDrive/MnistResults/mylogs1.csv\n",
            "512\t/content/drive/MyDrive/MnistResults/mylogs2.csv\n",
            "512\t/content/drive/MyDrive/MnistResults/mylogs3.csv\n",
            "5.5K\t/content/drive/MyDrive/MnistResults/mylogs4.csv\n",
            "27M\t/content/drive/MyDrive/MnistResults/pruned_file1.h5\n",
            "27M\t/content/drive/MyDrive/MnistResults/pruned_file2.h5\n",
            "27M\t/content/drive/MyDrive/MnistResults/pruned_file4_30.h5\n",
            "27M\t/content/drive/MyDrive/MnistResults/pruned_file4_60.h5\n",
            "79M\t/content/drive/MyDrive/MnistResults/save_basemode2.tf\n",
            "79M\t/content/drive/MyDrive/MnistResults/save_basemode3.tf\n",
            "79M\t/content/drive/MyDrive/MnistResults/save_basemodel4.tf\n",
            "79M\t/content/drive/MyDrive/MnistResults/save_basemodel.tf\n"
          ],
          "name": "stdout"
        }
      ]
    },
    {
      "cell_type": "code",
      "metadata": {
        "colab": {
          "base_uri": "https://localhost:8080/"
        },
        "id": "F5yFQWwf-ae-",
        "outputId": "8b68e789-bb2e-4dfb-99c8-92c9071b5edd"
      },
      "source": [
        "from tensorflow.keras.models import load_model\n",
        "\n",
        "model = model_for_export\n",
        "import numpy as np\n",
        "\n",
        "for i, w in enumerate(model.get_weights()):\n",
        "  print(\"{} -- Total:{}, Zeros: {:.2f}%\".format(model.weights[i].name, w.size, np.sum(w == 0) / w.size * 100))\n",
        "    "
      ],
      "execution_count": null,
      "outputs": [
        {
          "output_type": "stream",
          "text": [
            "conv_layer_1/kernel:0 -- Total:20736, Zeros: 0.00%\n",
            "conv_layer_1/bias:0 -- Total:256, Zeros: 0.00%\n",
            "conv_layer_2/kernel:0 -- Total:5308416, Zeros: 80.00%\n",
            "conv_layer_2/bias:0 -- Total:256, Zeros: 0.00%\n",
            "caps2_predicted/kernel:0 -- Total:1474560, Zeros: 80.00%\n",
            "routing1/raw_weights:0 -- Total:11520, Zeros: 0.00%\n"
          ],
          "name": "stdout"
        }
      ]
    },
    {
      "cell_type": "code",
      "metadata": {
        "colab": {
          "base_uri": "https://localhost:8080/"
        },
        "id": "HgDI-tWRAR6j",
        "outputId": "e78771d2-0567-45d4-821b-b78cdaf4874e"
      },
      "source": [
        "converter = tf.lite.TFLiteConverter.from_keras_model(model_for_export)\n",
        "converter.optimizations = [tf.lite.Optimize.DEFAULT]\n",
        "\n",
        "converter.target_spec.supported_ops = [\n",
        "  tf.lite.OpsSet.TFLITE_BUILTINS, # enable TensorFlow Lite ops.\n",
        "  tf.lite.OpsSet.SELECT_TF_OPS # enable TensorFlow ops.\n",
        "]\n",
        "\n",
        "tflite_model = converter.convert()\n"
      ],
      "execution_count": null,
      "outputs": [
        {
          "output_type": "stream",
          "text": [
            "WARNING:tensorflow:Compiled the loaded model, but the compiled metrics have yet to be built. `model.compile_metrics` will be empty until you train or evaluate the model.\n",
            "INFO:tensorflow:Assets written to: /tmp/tmpkdyfje3e/assets\n"
          ],
          "name": "stdout"
        }
      ]
    },
    {
      "cell_type": "code",
      "metadata": {
        "colab": {
          "base_uri": "https://localhost:8080/",
          "height": 163
        },
        "id": "Btf00j9rAWGg",
        "outputId": "1a06b4c1-ca5f-4c9f-e9c9-c7e22f7b8135"
      },
      "source": [
        ""
      ],
      "execution_count": null,
      "outputs": [
        {
          "output_type": "error",
          "ename": "AttributeError",
          "evalue": "ignored",
          "traceback": [
            "\u001b[0;31m---------------------------------------------------------------------------\u001b[0m",
            "\u001b[0;31mAttributeError\u001b[0m                            Traceback (most recent call last)",
            "\u001b[0;32m<ipython-input-36-5912c478d548>\u001b[0m in \u001b[0;36m<module>\u001b[0;34m()\u001b[0m\n\u001b[0;32m----> 1\u001b[0;31m \u001b[0m_\u001b[0m\u001b[0;34m,\u001b[0m \u001b[0mcompressed_score\u001b[0m \u001b[0;34m=\u001b[0m \u001b[0mtflite_model\u001b[0m\u001b[0;34m.\u001b[0m\u001b[0mevaluate\u001b[0m\u001b[0;34m(\u001b[0m\u001b[0mx_test\u001b[0m\u001b[0;34m,\u001b[0m \u001b[0my_test\u001b[0m\u001b[0;34m,\u001b[0m \u001b[0mverbose\u001b[0m\u001b[0;34m=\u001b[0m\u001b[0;36m1\u001b[0m\u001b[0;34m)\u001b[0m\u001b[0;34m\u001b[0m\u001b[0;34m\u001b[0m\u001b[0m\n\u001b[0m",
            "\u001b[0;31mAttributeError\u001b[0m: 'bytes' object has no attribute 'evaluate'"
          ]
        }
      ]
    },
    {
      "cell_type": "markdown",
      "metadata": {
        "id": "dcGSgMOPpQLp"
      },
      "source": [
        "tyoes of post training quantization\n",
        "https://www.tensorflow.org/lite/performance/post_training_quantization"
      ]
    },
    {
      "cell_type": "code",
      "metadata": {
        "id": "1FnrEOrH4vC8",
        "colab": {
          "base_uri": "https://localhost:8080/"
        },
        "outputId": "37d083a9-e1e7-4a39-bdc6-d1e4db65a5a4"
      },
      "source": [
        "#converter = tf.lite.TFLiteConverter.from_keras_model(model_for_export)\n",
        "tflite_model_file = \"/content/drive/MyDrive/MnistResults/compressed2.tflite\"\n",
        "converter = tf.lite.TFLiteConverter.from_keras_model(model_for_export)\n",
        "converter.optimizations = [tf.lite.Optimize.DEFAULT]\n",
        "\n",
        "converter.target_spec.supported_ops = [\n",
        "  tf.lite.OpsSet.TFLITE_BUILTINS, # enable TensorFlow Lite ops.\n",
        "  tf.lite.OpsSet.SELECT_TF_OPS # enable TensorFlow ops.\n",
        "]\n",
        "\n",
        "tflite_model = converter.convert()\n",
        "with open(tflite_model_file, \"wb\") as f:\n",
        "    f.write(tflite_model)\n",
        "\n"
      ],
      "execution_count": null,
      "outputs": [
        {
          "output_type": "stream",
          "text": [
            "WARNING:tensorflow:Compiled the loaded model, but the compiled metrics have yet to be built. `model.compile_metrics` will be empty until you train or evaluate the model.\n",
            "INFO:tensorflow:Assets written to: /tmp/tmpb1h9c4wq/assets\n"
          ],
          "name": "stdout"
        }
      ]
    },
    {
      "cell_type": "code",
      "metadata": {
        "id": "q2cMII_O-ctp"
      },
      "source": [
        "def get_gzipped_model_size(file):\n",
        "  # Returns size of gzipped model, in bytes.\n",
        "  import os\n",
        "  import zipfile\n",
        "\n",
        "  _, zipped_file = tempfile.mkstemp('.zip')\n",
        "  with zipfile.ZipFile(zipped_file, 'w', compression=zipfile.ZIP_DEFLATED) as f:\n",
        "    f.write(file)\n",
        "\n",
        "  return os.path.getsize(zipped_file)"
      ],
      "execution_count": null,
      "outputs": []
    },
    {
      "cell_type": "code",
      "metadata": {
        "id": "z7zi0rYV-538",
        "colab": {
          "base_uri": "https://localhost:8080/"
        },
        "outputId": "7c32922c-1f44-4430-ca41-3508106b7208"
      },
      "source": [
        "#print(\"Size of gzipped baseline Keras model: %.2f bytes\" % (get_gzipped_model_size(basemodel_file)))\n",
        "print(\"Size of gzipped pruned Keras model: %.2f bytes\" % (get_gzipped_model_size(pruned_keras_file)))\n",
        "print(\"Size of gzipped pruned TFlite model: %.2f bytes\" % (get_gzipped_model_size(tflite_model_file)))"
      ],
      "execution_count": null,
      "outputs": [
        {
          "output_type": "stream",
          "text": [
            "Size of gzipped pruned Keras model: 8135771.00 bytes\n",
            "Size of gzipped pruned TFlite model: 3345362.00 bytes\n"
          ],
          "name": "stdout"
        }
      ]
    },
    {
      "cell_type": "code",
      "metadata": {
        "id": "y_K-JJUr_tyT",
        "colab": {
          "base_uri": "https://localhost:8080/"
        },
        "outputId": "ca9f466b-1b1a-4fbc-c6f9-e0cb2ef93201"
      },
      "source": [
        "!du -sh /content/drive/MyDrive/MnistResults/*"
      ],
      "execution_count": null,
      "outputs": [
        {
          "output_type": "stream",
          "text": [
            "11M\t/content/drive/MyDrive/MnistResults/compressed1.tflite\n",
            "27M\t/content/drive/MyDrive/MnistResults/latest_weights1.hdf5\n",
            "512\t/content/drive/MyDrive/MnistResults/mylogs1.csv\n",
            "27M\t/content/drive/MyDrive/MnistResults/pruned_file1.h5\n",
            "79M\t/content/drive/MyDrive/MnistResults/save_basemodel.tf\n"
          ],
          "name": "stdout"
        }
      ]
    }
  ]
}
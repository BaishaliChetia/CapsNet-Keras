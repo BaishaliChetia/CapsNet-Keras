{
  "nbformat": 4,
  "nbformat_minor": 0,
  "metadata": {
    "colab": {
      "name": "ML_models_comparison.ipynb",
      "provenance": [],
      "collapsed_sections": [],
      "include_colab_link": true
    },
    "kernelspec": {
      "name": "python3",
      "display_name": "Python 3"
    },
    "language_info": {
      "name": "python"
    },
    "accelerator": "GPU"
  },
  "cells": [
    {
      "cell_type": "markdown",
      "metadata": {
        "id": "view-in-github",
        "colab_type": "text"
      },
      "source": [
        "<a href=\"https://colab.research.google.com/github/BaishaliChetia/CapsNet-Keras/blob/master/MachineLEarning/ML_models_comparison/ML_models_comparison.ipynb\" target=\"_parent\"><img src=\"https://colab.research.google.com/assets/colab-badge.svg\" alt=\"Open In Colab\"/></a>"
      ]
    },
    {
      "cell_type": "code",
      "source": [
        "from sklearn import model_selection\n",
        "from sklearn.neighbors import KNeighborsClassifier\n",
        "from sklearn.preprocessing import StandardScaler\n",
        "from sklearn.preprocessing import MinMaxScaler\n",
        "from sklearn.ensemble import RandomForestClassifier\n",
        "from sklearn import tree\n",
        "import matplotlib.pyplot as plt\n",
        "import numpy as np\n",
        "import pandas as pd\n",
        "from sklearn import metrics\n",
        "from sklearn.svm import SVC\n",
        "from sklearn.pipeline import Pipeline\n",
        "from sklearn.decomposition import PCA\n",
        "from sklearn.model_selection import cross_val_score\n",
        "from sklearn.model_selection import GridSearchCV\n",
        "from sklearn.model_selection import StratifiedKFold\n",
        "from sklearn.model_selection import ShuffleSplit\n",
        "from sklearn.model_selection import learning_curve\n",
        "from sklearn.metrics import classification_report\n",
        "from sklearn.model_selection import cross_val_predict\n",
        "from sklearn.feature_selection import f_classif\n",
        "from sklearn.feature_selection import SelectKBest\n",
        "from sklearn.metrics import classification_report"
      ],
      "metadata": {
        "id": "tPTIlJxVuQkz"
      },
      "execution_count": 1,
      "outputs": []
    },
    {
      "cell_type": "code",
      "source": [
        "from google.colab import drive\n",
        "drive.mount('/content/drive')"
      ],
      "metadata": {
        "colab": {
          "base_uri": "https://localhost:8080/"
        },
        "id": "YNvrh2dmveG6",
        "outputId": "18cc005e-ee25-4ae0-f0f7-a4a21ede5af1"
      },
      "execution_count": 7,
      "outputs": [
        {
          "output_type": "stream",
          "name": "stdout",
          "text": [
            "Mounted at /content/drive\n"
          ]
        }
      ]
    },
    {
      "cell_type": "code",
      "source": [
        "def svmClassifier(train_features, train_labels, test_features, test_labels):\n",
        "    svm = SVC()\n",
        "    svm = svm.fit(train_features, train_labels)\n",
        "    # predict the class for an unseen example\n",
        "    results= svm.predict(test_features)\n",
        "    return metrics.accuracy_score(results, test_labels)\n",
        "    \n",
        "\n",
        "def decisionTreeClassifier(train_features, train_labels, test_features, \\\n",
        "                           test_labels):\n",
        "    tree_clf = tree.DecisionTreeClassifier()\n",
        "    tree_clf.fit(train_features, train_labels)\n",
        "    results = tree_clf.predict(test_features)\n",
        "    return metrics.accuracy_score(results, test_labels)\n",
        "    \n",
        "\n",
        "def randomForestClassifier(train_features, train_labels, test_features,\\\n",
        "                           test_labels):\n",
        "    #rnf = RandomForestClassifier(n_estimators = 100, random_state = 0)\n",
        "    rnf = RandomForestClassifier(n_estimators=250, random_state=0)\n",
        "    rnf.fit(train_features, train_labels)\n",
        "    results = rnf.predict(test_features)\n",
        "    #print('Random forest without cross_validation',\\\n",
        "                              metrics.accuracy_score(results, test_labels))\n",
        "    return metrics.accuracy_score(results, test_labels)\n",
        "\n",
        "def knnClassifier(train_features, train_labels, test_features, test_labels):\n",
        "    clf = KNeighborsClassifier()\n",
        "    clf = clf.fit(train_features, train_labels)\n",
        "    # predict the class for an unseen example\n",
        "    results= clf.predict(test_features)\n",
        "    return metrics.accuracy_score(results, test_labels)"
      ],
      "metadata": {
        "id": "cZHwqVyNuT8G"
      },
      "execution_count": 2,
      "outputs": []
    },
    {
      "cell_type": "code",
      "source": [
        "def feature_selection_tree(classifier, X, Y):\n",
        "    #standarizing all data for feature selection\n",
        "    scaler = StandardScaler()\n",
        "    X = scaler.fit_transform(X)\n",
        "    train_features, test_features, train_labels, \\\n",
        "    test_labels = model_selection.train_test_split( X, Y, test_size=0.2, \\\n",
        "                                                   random_state=1)\n",
        "    # creating an extra tree classifier to be used for feature selection\n",
        "    forest = RandomForestClassifier(n_estimators=250, random_state=2)\n",
        "    forest.fit(X, Y)\n",
        "    # importances contains the feature importance value for each metric\n",
        "    importances = forest.feature_importances_\n",
        "    # argsort returns the indices that will sort the original array\n",
        "    sortedIndices = np.argsort(importances)\n",
        "    # iteratively remove the features with the lowest ranking and record accuracy\n",
        "    numberOfFeatures = []\n",
        "    accurClf = []\n",
        "    \n",
        "    for num in range(0, 50):\n",
        "        numberOfFeatures.append(num)\n",
        "        # obtain indices to delete by slicing the order indices from argsort function\n",
        "        indicesToDelete = sortedIndices[0:num+1]\n",
        "        # deleting identified indices\n",
        "        train_features_new = np.delete(train_features, indicesToDelete, axis = 1)\n",
        "        test_features_new = np.delete(test_features, indicesToDelete, axis = 1)\n",
        "        # running the model using updates feature training and test data\n",
        "        if classifier == 'knn':\n",
        "            accur = knnClassifier(train_features_new, train_labels, \\\n",
        "                                  test_features_new, test_labels)\n",
        "        if classifier == 'rnf':\n",
        "            accur = randomForestClassifier(train_features_new, \\\n",
        "                                           train_labels, test_features_new,\\\n",
        "                                           test_labels)\n",
        "        if classifier == 'd_tree':\n",
        "            accur = decisionTreeClassifier(train_features_new, \\\n",
        "                                           train_labels, test_features_new, \\\n",
        "                                           test_labels)\n",
        "        if classifier == 'svm':\n",
        "            accur = svmClassifier(train_features_new, train_labels,\\\n",
        "                                  test_features_new, test_labels)\n",
        "        accurClf.append(accur)\n",
        "    plt.figure()\n",
        "    plt.xlabel(\"Number of features removed\")\n",
        "    plt.ylabel(\"Cross validation score \")\n",
        "    plt.plot(numberOfFeatures, accurClf)\n",
        "    plt.show()\n",
        "\n",
        "def pipeline_and_crossfoldValidation(classifier, X, Y, train_features, \\\n",
        "                                     train_labels, test_features, test_labels):\n",
        "    pipe_lr = Pipeline([ ('scl', StandardScaler()),\\\n",
        "                        ('fs', SelectKBest(f_classif, k=110)),('clf', classifier)])\n",
        "    #pipe_lr = Pipeline([ ('mm', MinMaxScaler()),('clf', classifier)])\n",
        "    pipe_lr.fit(train_features, train_labels)\n",
        "    results_predicted = pipe_lr.predict(test_features)\n",
        "    print(\"accuracy without cross fold validation for\",classifier,\"is\",\\\n",
        "                     metrics.accuracy_score(results_predicted, test_labels))\n",
        "    results = cross_val_score(pipe_lr, X, Y, cv = 10)\n",
        "    print(\"accuracy with pipeline and 10 fold cross validation for \",\\\n",
        "                                            classifier, \"is\" ,  results.mean())\n",
        "    \n",
        "def gridSearch(classifier, X, Y):\n",
        "    scaler = StandardScaler()\n",
        "    X = scaler.fit_transform(X)\n",
        "    if classifier == 'knn':\n",
        "        param_grid = [{'n_neighbors':list(range(3, 40)), 'p':[1, 2, 3, 4, 5]}]\n",
        "        clf = GridSearchCV(KNeighborsClassifier(), param_grid, \\\n",
        "                           cv = 10, n_jobs = -1)#n_jobs = -1 is for cpu parallelization\n",
        "    if classifier =='d_tree':\n",
        "        param_grid = [{'max_depth': [2,4,6,8,10,12], \\\n",
        "                                             'criterion':['gini', 'entropy']}]\n",
        "        clf = GridSearchCV(tree.DecisionTreeClassifier(), \\\n",
        "                                             param_grid, cv = 10, n_jobs = -1)\n",
        "    if classifier == 'svm':\n",
        "        param_grid = [{'kernel': ['rbf', 'linear', 'poly'], 'C':range(1, 15)}]\n",
        "        clf = GridSearchCV(SVC(), param_grid, cv = 10, n_jobs = -1)\n",
        "    if classifier == 'rnf':\n",
        "        param_grid = {'n_estimators':[10, 50, 100, 500], \\\n",
        "                      'max_features': [2, 6, 10, 14]}\n",
        "        clf = GridSearchCV(RandomForestClassifier(),\\\n",
        "                                               param_grid, cv = 10, n_jobs = -1)\n",
        "        \n",
        "    clf.fit(X, Y)\n",
        "    return clf.best_params_, clf.best_score_\n",
        "\n",
        "def nestedCV_hyperParaOpt(X, Y, classifier):\n",
        "    # We use 10 fold as the outer loop for nested CV.\n",
        "    cv_outer = StratifiedKFold(n_splits =10, random_state =10, shuffle= True)\n",
        "    results = []\n",
        "    #This loop sepatates the training and testing data differently every iteration\n",
        "    for train_indices, test_indices in cv_outer.split(X, Y):\n",
        "    #separating data into test data and training data pulling out the idices\n",
        "        x_train, x_test = X.iloc[train_indices, :], X.iloc[test_indices, :]\n",
        "        y_train, y_test = Y.iloc[train_indices], Y.iloc[test_indices]\n",
        "    \n",
        "        #inner cross fold validation loop that separtes the \n",
        "        #validation set from the test set\n",
        "        cv_inner = StratifiedKFold(n_splits = 10, \\\n",
        "                                   random_state = 10, shuffle = True)\n",
        "       \n",
        "        if classifier == 'rnf':\n",
        "            param_grid = {'n_estimators':[10, 50, 100, 500], \\\n",
        "                                                'max_features': [2, 6, 10, 14]}\n",
        "            grid_search = GridSearchCV(RandomForestClassifier(random_state= 0),\\\n",
        "                          param_grid, scoring='accuracy', cv = cv_inner , \\\n",
        "                          refit=True, n_jobs=-1)#n_jobs = -1 is for cpu parallelization\n",
        "        if classifier == 'knn':\n",
        "            param_grid = [{'n_neighbors':list(range(3, 40)), 'p':[1, 2, 3, 4, 5]}]\n",
        "            grid_search= GridSearchCV(KNeighborsClassifier(),\\\n",
        "                          param_grid, scoring='accuracy', cv = cv_inner ,\\\n",
        "                           refit=True, n_jobs = -1)#n_jobs = -1 is for cpu parallelization\n",
        "        if classifier =='d_tree':\n",
        "            param_grid = [{'max_depth': [2,4,6,8,10,12], \\\n",
        "                                           'criterion':['gini', 'entropy']}]\n",
        "            grid_search = GridSearchCV(tree.DecisionTreeClassifier(), \\\n",
        "                                       param_grid, scoring='accuracy', \\\n",
        "                                       cv = cv_inner , refit=True, n_jobs = -1)\n",
        "        if classifier == 'svm':\n",
        "            param_grid = [{'kernel': ['rbf', 'linear', 'poly'], 'C':range(1, 15)}]\n",
        "            grid_search = GridSearchCV(SVC(), param_grid, \\\n",
        "                       scoring='accuracy', cv = cv_inner , refit=True, n_jobs = -1)\n",
        "        \n",
        "        result = grid_search.fit(x_train, y_train)\n",
        "        #returning the best performing model configuration fit on all training set\n",
        "        best_model = result.best_estimator_\n",
        "        #evaluation of the best model on original test set\n",
        "        accuracy = best_model.score(x_test, y_test)\n",
        "        #append the accuracy for each iteration of the outer loop\n",
        "        results.append(accuracy)\n",
        "        print(\"Best result: \", accuracy, \"with parameter\", result.best_params_)\n",
        "    #get the average accuracy of the ten iterations of the outer loop\n",
        "    print(\"Overall accuracy:\", np.mean(results))\n",
        "\n",
        "\n",
        "def learning_curve_generator(classifier, X,Y ):\n",
        "    #learning curve generated using the best parameters after hyper-parameter optimization\n",
        "    if classifier == 'knn':\n",
        "        estimator = KNeighborsClassifier(n_neighbors=3, p = 1)\n",
        "    if classifier == 'rnf':\n",
        "        #best features picked from nested cross-validtion and hyper-parameter optimization\n",
        "        estimator = RandomForestClassifier(n_estimators= 500, max_features= 6)\n",
        "    if classifier == 'd_tree':\n",
        "        #best features picked from nested cross-validtion and hyper-parameter optimization\n",
        "        estimator = tree.DecisionTreeClassifier(max_depth=12, criterion= 'gini') \n",
        "    if classifier == 'svm':\n",
        "        estimator = SVC(C= 13, kernel= 'rbf')\n",
        "    title = \"Learning Curve\"\n",
        "    plt.title(title)\n",
        "    ylim=(0.0, 1.01)\n",
        "    plt.ylim(ylim)\n",
        "    plt.xlabel(\"Training examples\")\n",
        "    plt.ylabel(\"Score\")\n",
        "    train_sizes1=np.linspace(.05, 1.0, 10)\n",
        "    custom_cv = ShuffleSplit(n_splits=30, test_size=0.1, random_state=0)\n",
        "    train_sizes, train_scores, test_scores = learning_curve(estimator,\\\n",
        "                                X, Y, train_sizes=train_sizes1, cv = custom_cv)\n",
        "            \n",
        "    # remember axis = 1 operates on the horizontal axis and calculates the mean below for      \n",
        "   # each row. Each row corresponds to one tick and each value returned in a row refer to the \n",
        "    # accuracy for that fold. \n",
        "    train_scores_mean = np.mean(train_scores, axis=1)\n",
        "    test_scores_mean = np.mean(test_scores, axis=1)\n",
        "    plt.grid()\n",
        "    \n",
        "    \n",
        "    plt.plot(train_sizes, train_scores_mean, 'o-', color=\"r\", \\\n",
        "             label=\"Training score\")\n",
        "    plt.plot(train_sizes, test_scores_mean, 'o-', color=\"g\", \\\n",
        "             label=\"Cross-validation score\")\n",
        "    \n",
        "    plt.legend(loc=\"best\")\n",
        "    plt.show()\n",
        "\n",
        "def performance_metrics(X, Y, classifier):\n",
        "    pipe_lr = Pipeline([('scl', StandardScaler()), ('clf', classifier)])\n",
        "    predicted_labels = cross_val_predict(pipe_lr, X, Y, cv = 10)\n",
        "    print(classification_report(Y, y_pred = predicted_labels))\n",
        "\n",
        "\n",
        "        "
      ],
      "metadata": {
        "id": "CEmK2q6BuqA-"
      },
      "execution_count": 3,
      "outputs": []
    },
    {
      "cell_type": "code",
      "source": [
        "\n",
        "# open the data file \n",
        "#data = np.genfromtxt(\"dataset-sat.csv\", delimiter=\",\")\n",
        "data = \\\n",
        "pd.read_csv(\"https://raw.githubusercontent.com/BaishaliChetia/MyProjects/main/MachineLearning/ML_models_comparison/dataset-sat.csv\",\\\n",
        "                                                               delimiter = ',')\n",
        "\n",
        "# split the data into training and class data\n",
        "Y = data.iloc[:, 1]\n",
        "X = data.iloc[:, 2:]\n",
        "\n"
      ],
      "metadata": {
        "id": "R34d1NF_u27T"
      },
      "execution_count": null,
      "outputs": []
    },
    {
      "cell_type": "markdown",
      "source": [
        "# Basic Evaluation"
      ],
      "metadata": {
        "id": "DLXN5r7F8ky9"
      }
    },
    {
      "cell_type": "code",
      "source": [
        "\"\"\"BASIC EVALUATION\"\"\"\n",
        "train_features,test_features, train_labels, test_labels =\\\n",
        "      model_selection.train_test_split(X , Y , test_size =0.3, random_state =3)\n",
        "accurknn = knnClassifier(train_features, train_labels, test_features, test_labels)\n",
        "print(\"Basic evaluation accuracy for knn\", accurknn)\n",
        "accurrnf = randomForestClassifier(train_features, train_labels, test_features, test_labels)\n",
        "print(\"Basic evaluation accuracy Random Forest\", accurrnf)\n",
        "accurD_tree = decisionTreeClassifier(train_features, train_labels, test_features, test_labels)\n",
        "print (\"Basic evaluation accuracy decision tree\", accurD_tree)\n",
        "accurSVM = svmClassifier(train_features, train_labels, test_features, test_labels)\n",
        "print (\"Basic evaluation accuracy SVM\", accurSVM)\n",
        "print(\"--\"*80) "
      ],
      "metadata": {
        "colab": {
          "base_uri": "https://localhost:8080/"
        },
        "id": "S2-7QNDU8jxc",
        "outputId": "bafdd991-79cb-49a2-ac9d-63aa9b5c6d52"
      },
      "execution_count": 36,
      "outputs": [
        {
          "output_type": "stream",
          "name": "stdout",
          "text": [
            "Basic evaluation accuracy for knn 0.5942857142857143\n",
            "Basic evaluation accuracy Random Forest 0.7714285714285715\n",
            "Basic evaluation accuracy decision tree 0.7628571428571429\n",
            "Basic evaluation accuracy SVM 0.4657142857142857\n",
            "----------------------------------------------------------------------------------------------------------------------------------------------------------------\n"
          ]
        }
      ]
    },
    {
      "cell_type": "markdown",
      "source": [
        "# Feature Selection"
      ],
      "metadata": {
        "id": "lEYRX2-R8rs9"
      }
    },
    {
      "cell_type": "code",
      "source": [
        "    \"\"\"TREE BASED FEATURE SELECTION\"\"\"\n",
        "    print(\"See plot for Tree-based feature-selection result \")\n",
        "    ##feature selection for decision tree\n",
        "    feature_selection_tree('d_tree', X, Y)\n",
        "    print(\"--\"*50)\n",
        "    #feature selection for SVM\n",
        "    print(\"plot for SVM based feature-selection result \")\n",
        "    feature_selection_tree('svm', X, Y)\n",
        "    print(\"--\"*50)\n",
        "    #feature selection for random forest\n",
        "    print(\"Random Forest feature-selection result \")\n",
        "    feature_selection_tree('rnf', X, Y)\n",
        "    print(\"--\"*50)\n",
        "    #feature selection for knn\n",
        "    print(\"k-nearest-neigbor feature-selection result \")\n",
        "    feature_selection_tree( 'knn', X, Y)\n",
        "    print(\"--\"*50)\n",
        "\n",
        "    "
      ],
      "metadata": {
        "colab": {
          "base_uri": "https://localhost:8080/",
          "height": 1000
        },
        "id": "zQzO4sftzITm",
        "outputId": "9654ee6a-1be5-447f-8e45-b98c5e804f3f"
      },
      "execution_count": 19,
      "outputs": [
        {
          "output_type": "stream",
          "name": "stdout",
          "text": [
            "See plot for Tree-based feature-selection result \n"
          ]
        },
        {
          "output_type": "display_data",
          "data": {
            "image/png": "[encoded data removed]",
            "text/plain": [
              "<Figure size 432x288 with 1 Axes>"
            ]
          },
          "metadata": {
            "needs_background": "light"
          }
        },
        {
          "output_type": "stream",
          "name": "stdout",
          "text": [
            "----------------------------------------------------------------------------------------------------\n",
            "plot for SVM based feature-selection result \n"
          ]
        },
        {
          "output_type": "display_data",
          "data": {
            "image/png": "[encoded data removed]",
            "text/plain": [
              "<Figure size 432x288 with 1 Axes>"
            ]
          },
          "metadata": {
            "needs_background": "light"
          }
        },
        {
          "output_type": "stream",
          "name": "stdout",
          "text": [
            "----------------------------------------------------------------------------------------------------\n",
            "Random Forest feature-selection result \n"
          ]
        },
        {
          "output_type": "display_data",
          "data": {
            "image/png": "[encoded data removed]",
            "text/plain": [
              "<Figure size 432x288 with 1 Axes>"
            ]
          },
          "metadata": {
            "needs_background": "light"
          }
        },
        {
          "output_type": "stream",
          "name": "stdout",
          "text": [
            "----------------------------------------------------------------------------------------------------\n",
            "k-nearest-neigbor feature-selection result \n"
          ]
        },
        {
          "output_type": "display_data",
          "data": {
            "image/png": "[encoded data removed]",
            "text/plain": [
              "<Figure size 432x288 with 1 Axes>"
            ]
          },
          "metadata": {
            "needs_background": "light"
          }
        },
        {
          "output_type": "stream",
          "name": "stdout",
          "text": [
            "----------------------------------------------------------------------------------------------------\n"
          ]
        }
      ]
    },
    {
      "cell_type": "markdown",
      "source": [
        "# PIPELINE(STANDARDIZATION &  UNIVARIATE FEATURE SELECTION ) AND CROSS_FOLD_VALIDATION"
      ],
      "metadata": {
        "id": "hyiK4EkX80SG"
      }
    },
    {
      "cell_type": "code",
      "source": [
        "knn_clf = KNeighborsClassifier()\n",
        "rnf_clf = RandomForestClassifier()\n",
        "d_tree_clf = tree.DecisionTreeClassifier()\n",
        "svm_clf = SVC()\n",
        "print(\"--\"*50)\n",
        "pipeline_and_crossfoldValidation(d_tree_clf, X, Y, train_features, train_labels, test_features, test_labels)\n",
        "pipeline_and_crossfoldValidation(knn_clf, X, Y, train_features, train_labels, test_features, test_labels)\n",
        "pipeline_and_crossfoldValidation(rnf_clf, X, Y, train_features, train_labels, test_features, test_labels)\n",
        "pipeline_and_crossfoldValidation(svm_clf, X, Y, train_features, train_labels, test_features, test_labels)\n",
        "print(\"--\"*50)\n",
        "    "
      ],
      "metadata": {
        "colab": {
          "base_uri": "https://localhost:8080/"
        },
        "id": "U18UT5at0XKZ",
        "outputId": "93083017-83be-4ad1-c124-6261c371401e"
      },
      "execution_count": 20,
      "outputs": [
        {
          "output_type": "stream",
          "name": "stdout",
          "text": [
            "----------------------------------------------------------------------------------------------------\n",
            "accuracy without cross fold validation for DecisionTreeClassifier() is 0.7428571428571429\n",
            "accuracy with pipeline and 10 fold cross validation for  DecisionTreeClassifier() is 0.7015915119363395\n",
            "accuracy without cross fold validation for KNeighborsClassifier() is 0.5885714285714285\n",
            "accuracy with pipeline and 10 fold cross validation for  KNeighborsClassifier() is 0.5720306513409961\n",
            "accuracy without cross fold validation for RandomForestClassifier() is 0.7571428571428571\n",
            "accuracy with pipeline and 10 fold cross validation for  RandomForestClassifier() is 0.7307618626584145\n",
            "accuracy without cross fold validation for SVC() is 0.4657142857142857\n",
            "accuracy with pipeline and 10 fold cross validation for  SVC() is 0.44941791924550545\n",
            "----------------------------------------------------------------------------------------------------\n"
          ]
        }
      ]
    },
    {
      "cell_type": "markdown",
      "source": [
        "# HYPER PARAMETER OPTIMISATION"
      ],
      "metadata": {
        "id": "7zXr7cS41cG0"
      }
    },
    {
      "cell_type": "code",
      "source": [
        " \n",
        "print(\"HYPER-PARAMETER OPTIMIZATION\")\n",
        "#Random Forest \n",
        "best_param, best_score = gridSearch('rnf', X, Y)\n",
        "print(\"Random Forest best parameters are: \", best_param, \"and  best accuracy \\\n",
        "                       score after hyper parameter optimization: \", best_score)\n"
      ],
      "metadata": {
        "colab": {
          "base_uri": "https://localhost:8080/"
        },
        "id": "Pw_jst4-0ibQ",
        "outputId": "5fdaf7da-5a16-46f0-9825-4db8d75994f5"
      },
      "execution_count": 21,
      "outputs": [
        {
          "output_type": "stream",
          "name": "stdout",
          "text": [
            "HYPER-PARAMETER OPTIMIZATION\n",
            "Random Forest best parameters are:  {'max_features': 2, 'n_estimators': 100} and  best accuracy score after hyper parameter optimization:  0.7436486884762747\n",
            "----------------------------------------------------------------------------------------------------\n"
          ]
        }
      ]
    },
    {
      "cell_type": "code",
      "source": [
        "\n",
        "#for decision tree hyper_parameter optimisation\n",
        "best_param, best_score = gridSearch('d_tree', X, Y)\n",
        "print(\"Decision tree best parameters are: \", best_param, \"and  best \\\n",
        "accuracy score after hyper parameter optimization: \", best_score)"
      ],
      "metadata": {
        "colab": {
          "base_uri": "https://localhost:8080/"
        },
        "id": "zYLkTDbt1J8B",
        "outputId": "2af259a5-9a32-4815-c6cd-a4e9f1d4ec4a"
      },
      "execution_count": 22,
      "outputs": [
        {
          "output_type": "stream",
          "name": "stdout",
          "text": [
            "Decision tree best parameters are:  {'criterion': 'gini', 'max_depth': 12} and  best accuracy score after hyper parameter optimization:  0.693847627468317\n",
            "----------------------------------------------------------------------------------------------------\n"
          ]
        }
      ]
    },
    {
      "cell_type": "code",
      "source": [
        "#for SVM hyperparameter tuning\n",
        "best_param, best_score = gridSearch('svm', X, Y)\n",
        "print(\"SVM best parameters are: \", best_param, \"and best accuracy \\\n",
        "            score after hyper parameter optimization: \", best_score)\n",
        "print(\"--\"*50)"
      ],
      "metadata": {
        "colab": {
          "base_uri": "https://localhost:8080/"
        },
        "id": "TlnrX14h2z3m",
        "outputId": "60c85aa3-a5b0-4bb5-aa9d-bc8085b54fa1"
      },
      "execution_count": 24,
      "outputs": [
        {
          "output_type": "stream",
          "name": "stdout",
          "text": [
            "SVM best parameters are:  {'C': 13, 'kernel': 'rbf'} and best accuracy             score after hyper parameter optimization:  0.5652298850574712\n",
            "----------------------------------------------------------------------------------------------------\n"
          ]
        }
      ]
    },
    {
      "cell_type": "markdown",
      "source": [
        "# NESTED CROSSFOLD VALIDATION AND HYPER_PARAMETER OPTIMIZATION."
      ],
      "metadata": {
        "id": "r72TvE1Z3vUf"
      }
    },
    {
      "cell_type": "code",
      "source": [
        "\"\"\" Commented out because computaionally intensive and time consuming. Please \n",
        "    see the pdf report for the results\"\"\"\n",
        "    ##Random Forest\n",
        "    #nestedCV_hyperParaOpt(X, Y, 'rnf')\n",
        "    \n",
        "    ##Decision Tree\n",
        "    #nestedCV_hyperParaOpt(X, Y, 'd_tree')\n",
        "    \n",
        "    ##KNN\n",
        "    #nestedCV_hyperParaOpt(X, Y, 'knn')\n",
        "    \n",
        "    ##SVM\n",
        "    #nestedCV_hyperParaOpt(X, Y, 'svm')"
      ],
      "metadata": {
        "id": "8sZ_S6gh3WIe"
      },
      "execution_count": null,
      "outputs": []
    },
    {
      "cell_type": "markdown",
      "source": [
        "# Learning Curve Analysis"
      ],
      "metadata": {
        "id": "o08rw5To3p72"
      }
    },
    {
      "cell_type": "code",
      "source": [
        "#SVM\n",
        "print(\"Learning-curve, SVM\")\n",
        "learning_curve_generator('svm', X,Y)"
      ],
      "metadata": {
        "colab": {
          "base_uri": "https://localhost:8080/",
          "height": 312
        },
        "id": "ajbrggwp3mNL",
        "outputId": "010a4b64-a60b-4d20-c486-8e09c2a003b9"
      },
      "execution_count": 25,
      "outputs": [
        {
          "output_type": "stream",
          "name": "stdout",
          "text": [
            "Learning-curve, SVM\n"
          ]
        },
        {
          "output_type": "display_data",
          "data": {
            "image/png": "[encoded data removed]",
            "text/plain": [
              "<Figure size 432x288 with 1 Axes>"
            ]
          },
          "metadata": {
            "needs_background": "light"
          }
        }
      ]
    },
    {
      "cell_type": "code",
      "source": [
        "#KNN\n",
        "print(\"Learning-curve, SVM\")\n",
        "learning_curve_generator('knn', X,Y)"
      ],
      "metadata": {
        "colab": {
          "base_uri": "https://localhost:8080/",
          "height": 312
        },
        "id": "kYB5hxF34HmU",
        "outputId": "45a4aaed-7248-48df-b0ea-2a39d6c3d0a7"
      },
      "execution_count": 26,
      "outputs": [
        {
          "output_type": "stream",
          "name": "stdout",
          "text": [
            "Learning-curve, SVM\n"
          ]
        },
        {
          "output_type": "display_data",
          "data": {
            "image/png": "[encoded data removed]",
            "text/plain": [
              "<Figure size 432x288 with 1 Axes>"
            ]
          },
          "metadata": {
            "needs_background": "light"
          }
        }
      ]
    },
    {
      "cell_type": "code",
      "source": [
        "#Decision Tree\n",
        "print(\"Learning-curve, Decision Tree\")\n",
        "learning_curve_generator('d_tree', X,Y)"
      ],
      "metadata": {
        "colab": {
          "base_uri": "https://localhost:8080/",
          "height": 312
        },
        "id": "4bfB1Ec-4T3D",
        "outputId": "88c46b98-a36c-4805-dc5f-fe3157545019"
      },
      "execution_count": 28,
      "outputs": [
        {
          "output_type": "stream",
          "name": "stdout",
          "text": [
            "Learning-curve, Decision Tree\n"
          ]
        },
        {
          "output_type": "display_data",
          "data": {
            "image/png": "[encoded data removed]",
            "text/plain": [
              "<Figure size 432x288 with 1 Axes>"
            ]
          },
          "metadata": {
            "needs_background": "light"
          }
        }
      ]
    },
    {
      "cell_type": "code",
      "source": [
        "#Random Forest, check report for result\n",
        "print(\"Learning-curve, Random forest\")\n",
        "learning_curve_generator('rnf', X,Y)"
      ],
      "metadata": {
        "id": "YmHLzADZ7I38"
      },
      "execution_count": null,
      "outputs": []
    },
    {
      "cell_type": "markdown",
      "source": [
        "# Performance Metrics"
      ],
      "metadata": {
        "id": "PrBzjNob46WV"
      }
    },
    {
      "cell_type": "code",
      "source": [
        "##Random Forest\n",
        "print(\"Performance Metrics, Random Forest\")\n",
        "performance_metrics(X, Y, rnf_clf)\n"
      ],
      "metadata": {
        "colab": {
          "base_uri": "https://localhost:8080/"
        },
        "id": "V80fW5gZ49yD",
        "outputId": "97a1e313-dd0e-45ed-eabd-f9963f0b8a7a"
      },
      "execution_count": 30,
      "outputs": [
        {
          "output_type": "stream",
          "name": "stdout",
          "text": [
            "Performance Metrics, Random Forest\n",
            "              precision    recall  f1-score   support\n",
            "\n",
            "           0       0.70      0.68      0.69       347\n",
            "           1       0.74      0.63      0.68       325\n",
            "           2       0.76      0.85      0.80       494\n",
            "\n",
            "    accuracy                           0.74      1166\n",
            "   macro avg       0.73      0.72      0.72      1166\n",
            "weighted avg       0.74      0.74      0.73      1166\n",
            "\n"
          ]
        }
      ]
    },
    {
      "cell_type": "code",
      "source": [
        "#SVM\n",
        "print(\"Performance Metrics, SVM\")\n",
        "performance_metrics(X, Y, svm_clf)"
      ],
      "metadata": {
        "colab": {
          "base_uri": "https://localhost:8080/"
        },
        "id": "3DO3h9cM5BL4",
        "outputId": "240a918b-e4c8-4734-8e9b-847b057e3197"
      },
      "execution_count": 31,
      "outputs": [
        {
          "output_type": "stream",
          "name": "stdout",
          "text": [
            "Performance Metrics, SVM\n",
            "              precision    recall  f1-score   support\n",
            "\n",
            "           0       0.40      0.28      0.33       347\n",
            "           1       0.48      0.16      0.24       325\n",
            "           2       0.52      0.85      0.65       494\n",
            "\n",
            "    accuracy                           0.49      1166\n",
            "   macro avg       0.47      0.43      0.41      1166\n",
            "weighted avg       0.47      0.49      0.44      1166\n",
            "\n"
          ]
        }
      ]
    },
    {
      "cell_type": "code",
      "source": [
        "#Decision Tree\n",
        "print(\"Performance Metrics, Decision Tree\")\n",
        "performance_metrics(X, Y, d_tree_clf)"
      ],
      "metadata": {
        "colab": {
          "base_uri": "https://localhost:8080/"
        },
        "id": "xEvN16LT5PAI",
        "outputId": "611fe021-cfc2-4480-b904-fdfdb353416a"
      },
      "execution_count": 32,
      "outputs": [
        {
          "output_type": "stream",
          "name": "stdout",
          "text": [
            "Performance Metrics, Decision Tree\n",
            "              precision    recall  f1-score   support\n",
            "\n",
            "           0       0.66      0.67      0.67       347\n",
            "           1       0.68      0.65      0.67       325\n",
            "           2       0.77      0.78      0.77       494\n",
            "\n",
            "    accuracy                           0.71      1166\n",
            "   macro avg       0.70      0.70      0.70      1166\n",
            "weighted avg       0.71      0.71      0.71      1166\n",
            "\n"
          ]
        }
      ]
    },
    {
      "cell_type": "code",
      "source": [
        "#KNN\n",
        "print(\"Performance Metrics, KNN\")\n",
        "performance_metrics(X, Y, knn_clf)"
      ],
      "metadata": {
        "colab": {
          "base_uri": "https://localhost:8080/"
        },
        "id": "LC60bMRv5WkV",
        "outputId": "8f2a5bfb-4f52-4324-8510-ae1105e0ee3b"
      },
      "execution_count": 33,
      "outputs": [
        {
          "output_type": "stream",
          "name": "stdout",
          "text": [
            "Performance Metrics, KNN\n",
            "              precision    recall  f1-score   support\n",
            "\n",
            "           0       0.50      0.52      0.51       347\n",
            "           1       0.49      0.46      0.47       325\n",
            "           2       0.69      0.70      0.69       494\n",
            "\n",
            "    accuracy                           0.58      1166\n",
            "   macro avg       0.56      0.56      0.56      1166\n",
            "weighted avg       0.58      0.58      0.58      1166\n",
            "\n"
          ]
        }
      ]
    }
  ]
}
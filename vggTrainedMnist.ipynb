{
  "nbformat": 4,
  "nbformat_minor": 0,
  "metadata": {
    "colab": {
      "name": "vggTrainedMnist.ipynb",
      "provenance": [],
      "collapsed_sections": [],
      "mount_file_id": "1XpW4ysIeQ-TZQQ6UMwSAMMXIaqp5FNFC",
      "authorship_tag": "ABX9TyM+1p/v3brqWhZ2NFw+AVX0",
      "include_colab_link": true
    },
    "kernelspec": {
      "name": "python3",
      "display_name": "Python 3"
    },
    "language_info": {
      "name": "python"
    },
    "accelerator": "GPU"
  },
  "cells": [
    {
      "cell_type": "markdown",
      "metadata": {
        "id": "view-in-github",
        "colab_type": "text"
      },
      "source": [
        "<a href=\"https://colab.research.google.com/github/BaishaliChetia/CapsNet-Keras/blob/master/vggTrainedMnist.ipynb\" target=\"_parent\"><img src=\"https://colab.research.google.com/assets/colab-badge.svg\" alt=\"Open In Colab\"/></a>"
      ]
    },
    {
      "cell_type": "code",
      "metadata": {
        "id": "fM8ug7-lWBu4"
      },
      "source": [
        "import tempfile\n",
        "import os\n",
        "\n",
        "import tensorflow as tf\n",
        "import numpy as np\n",
        "\n",
        "from tensorflow import keras\n",
        "import pandas as pd\n",
        "import matplotlib.pyplot as plt\n",
        "\n",
        "%load_ext tensorboard"
      ],
      "execution_count": null,
      "outputs": []
    },
    {
      "cell_type": "code",
      "metadata": {
        "id": "1MY9iR69WKYn",
        "colab": {
          "base_uri": "https://localhost:8080/"
        },
        "outputId": "be4c1960-612c-4eb5-aa77-8559dbf6f2a5"
      },
      "source": [
        "pip install -q tensorflow-model-optimization"
      ],
      "execution_count": null,
      "outputs": [
        {
          "output_type": "stream",
          "text": [
            "\u001b[?25l\r\u001b[K     |█▌                              | 10 kB 35.8 MB/s eta 0:00:01\r\u001b[K     |███                             | 20 kB 42.3 MB/s eta 0:00:01\r\u001b[K     |████▋                           | 30 kB 44.7 MB/s eta 0:00:01\r\u001b[K     |██████▏                         | 40 kB 27.4 MB/s eta 0:00:01\r\u001b[K     |███████▊                        | 51 kB 16.7 MB/s eta 0:00:01\r\u001b[K     |█████████▎                      | 61 kB 18.4 MB/s eta 0:00:01\r\u001b[K     |██████████▉                     | 71 kB 16.6 MB/s eta 0:00:01\r\u001b[K     |████████████▍                   | 81 kB 17.7 MB/s eta 0:00:01\r\u001b[K     |██████████████                  | 92 kB 13.8 MB/s eta 0:00:01\r\u001b[K     |███████████████▌                | 102 kB 14.8 MB/s eta 0:00:01\r\u001b[K     |█████████████████               | 112 kB 14.8 MB/s eta 0:00:01\r\u001b[K     |██████████████████▋             | 122 kB 14.8 MB/s eta 0:00:01\r\u001b[K     |████████████████████▏           | 133 kB 14.8 MB/s eta 0:00:01\r\u001b[K     |█████████████████████▊          | 143 kB 14.8 MB/s eta 0:00:01\r\u001b[K     |███████████████████████▎        | 153 kB 14.8 MB/s eta 0:00:01\r\u001b[K     |████████████████████████▉       | 163 kB 14.8 MB/s eta 0:00:01\r\u001b[K     |██████████████████████████▍     | 174 kB 14.8 MB/s eta 0:00:01\r\u001b[K     |████████████████████████████    | 184 kB 14.8 MB/s eta 0:00:01\r\u001b[K     |█████████████████████████████▌  | 194 kB 14.8 MB/s eta 0:00:01\r\u001b[K     |███████████████████████████████ | 204 kB 14.8 MB/s eta 0:00:01\r\u001b[K     |████████████████████████████████| 211 kB 14.8 MB/s \n",
            "\u001b[?25h"
          ],
          "name": "stdout"
        }
      ]
    },
    {
      "cell_type": "code",
      "metadata": {
        "id": "KOMlBA5FWM45"
      },
      "source": [
        "import tensorflow_model_optimization as tfmot"
      ],
      "execution_count": null,
      "outputs": []
    },
    {
      "cell_type": "code",
      "metadata": {
        "id": "1JLSdpM9WVAQ"
      },
      "source": [
        "tf.random.set_seed(500000)"
      ],
      "execution_count": null,
      "outputs": []
    },
    {
      "cell_type": "code",
      "metadata": {
        "id": "8_iw2ezZWR8N",
        "colab": {
          "base_uri": "https://localhost:8080/"
        },
        "outputId": "2f3b1f59-fa60-4640-a757-7b5616102716"
      },
      "source": [
        "# Load MNIST dataset\n",
        "mnist = keras.datasets.mnist\n",
        "(train_images, train_labels), (test_images, test_labels) = mnist.load_data()\n",
        "\n",
        "# Normalize the input image so that each pixel value is between 0 and 1.\n",
        "train_images = train_images / 255.0\n",
        "test_images = test_images / 255.0"
      ],
      "execution_count": null,
      "outputs": [
        {
          "output_type": "stream",
          "text": [
            "Downloading data from https://storage.googleapis.com/tensorflow/tf-keras-datasets/mnist.npz\n",
            "11493376/11490434 [==============================] - 0s 0us/step\n",
            "11501568/11490434 [==============================] - 0s 0us/step\n"
          ],
          "name": "stdout"
        }
      ]
    },
    {
      "cell_type": "code",
      "metadata": {
        "colab": {
          "base_uri": "https://localhost:8080/"
        },
        "id": "0-tu_fqlWVxN",
        "outputId": "2b10cf89-ec7e-4548-e711-fc7822aa748d"
      },
      "source": [
        "train_X =[]\n",
        "\n",
        "for i in range(train_images.shape[0]):\n",
        "  train_pad = np.pad(train_images[i], pad_width=10 , mode= 'edge')\n",
        "  #print(train_pad)\n",
        "  train_X.append(train_pad)\n",
        "#PADDING test images\n",
        "test_X = []\n",
        "for i in range(test_images.shape[0]):\n",
        "  test_pad = np.pad(test_images[i], pad_width=10 , mode= 'edge')\n",
        "  #print(train_pad)\n",
        "  test_X.append(test_pad)\n",
        "train_X = np.array(train_X)\n",
        "test_X = np.array(test_X)\n",
        "train_X.shape, test_X.shape"
      ],
      "execution_count": null,
      "outputs": [
        {
          "output_type": "execute_result",
          "data": {
            "text/plain": [
              "((60000, 48, 48), (10000, 48, 48))"
            ]
          },
          "metadata": {},
          "execution_count": 10
        }
      ]
    },
    {
      "cell_type": "code",
      "metadata": {
        "colab": {
          "base_uri": "https://localhost:8080/"
        },
        "id": "7zde-U3nWZJU",
        "outputId": "09efba70-a017-4be3-ed2a-bbb67283bec8"
      },
      "source": [
        "train_X=np.dstack([train_X] * 3)\n",
        "test_X=np.dstack([test_X]*3)\n",
        "train_X.shape,test_X.shape"
      ],
      "execution_count": null,
      "outputs": [
        {
          "output_type": "execute_result",
          "data": {
            "text/plain": [
              "((60000, 48, 144), (10000, 48, 144))"
            ]
          },
          "metadata": {},
          "execution_count": 11
        }
      ]
    },
    {
      "cell_type": "code",
      "metadata": {
        "colab": {
          "base_uri": "https://localhost:8080/"
        },
        "id": "1wel8xCmWbup",
        "outputId": "435738ae-0b4b-4b00-ddab-a11da7682d8e"
      },
      "source": [
        "train_X = train_X.reshape(-1, 48,48,3)\n",
        "test_X= test_X.reshape (-1,48,48,3)\n",
        "\n",
        "train_X = train_X.astype('float32')\n",
        "test_X = test_X.astype('float32')\n",
        "train_X.shape,test_X.shape"
      ],
      "execution_count": null,
      "outputs": [
        {
          "output_type": "execute_result",
          "data": {
            "text/plain": [
              "((60000, 48, 48, 3), (10000, 48, 48, 3))"
            ]
          },
          "metadata": {},
          "execution_count": 12
        }
      ]
    },
    {
      "cell_type": "code",
      "metadata": {
        "id": "MxkQ9a1ZWfR8"
      },
      "source": [
        "from keras.callbacks import ModelCheckpoint, CSVLogger\n",
        "#comparison_metric = MyAccuracy()\n",
        "#checkpoint_filepath = \"/content/drive/MyDrive/Weights/weights-improvement-{epoch:02d}-{val_my_accuracy:.2f}.hdf5\"\n",
        "model_checkpoint_callback = tf.keras.callbacks.ModelCheckpoint(\n",
        "        filepath = \"/content/drive/MyDrive/MnistResults/vggtrain_best_weights2.hdf5\",\n",
        "        save_weights_only=True,\n",
        "        monitor=\"val_accuracy\",\n",
        "        #monitor=\"val_my_accuracy_19\",\n",
        "        mode='max',\n",
        "        save_best_only=True)\n",
        "model_checkpoint_callback2 = tf.keras.callbacks.ModelCheckpoint(\n",
        "        filepath = \"/content/drive/MyDrive/MnistResults/vggtrain_latest_weights2.hdf5\",\n",
        "        save_weights_only=True,\n",
        "        monitor=\"val_accuracy\",\n",
        "        mode='max',\n",
        "        save_best_only=False)\n",
        "log_csv = CSVLogger(\"/content/drive/MyDrive/MnistResults/vggtrain_mylogs2.csv\", separator = \",\", append = False)\n",
        "callback_list = [model_checkpoint_callback, model_checkpoint_callback2, log_csv]"
      ],
      "execution_count": null,
      "outputs": []
    },
    {
      "cell_type": "code",
      "metadata": {
        "colab": {
          "base_uri": "https://localhost:8080/"
        },
        "id": "wA8yeFP-WCno",
        "outputId": "5dcb03fb-26f8-483d-d705-5a81a925c6ad"
      },
      "source": [
        "vggModel = tf.keras.applications.VGG16(weights='imagenet', include_top=False, input_shape=(48, 48, 3))\n",
        "vggModel.trainable = True\n",
        "model2 = keras.Sequential([\n",
        "  vggModel,\n",
        "  keras.layers.Flatten(),\n",
        "  tf.keras.layers.Dropout(0.5),\n",
        "  keras.layers.Dense(256, activation='relu'),\n",
        "  keras.layers.Dense(50, activation = 'relu'),\n",
        "  keras.layers.Dense(10, activation = 'softmax')\n",
        "])\n",
        "# Train the digit classification model\n",
        "model2.compile(optimizer='adam',\n",
        "              loss=tf.keras.losses.SparseCategoricalCrossentropy(from_logits=True),\n",
        "              metrics=['accuracy'])\n",
        "\n",
        "history = model2.fit(\n",
        "  train_X,\n",
        "  train_labels,\n",
        "  epochs= 50,\n",
        "  validation_split=0.1, callbacks = callback_list\n",
        ")\n"
      ],
      "execution_count": null,
      "outputs": [
        {
          "output_type": "stream",
          "text": [
            "Epoch 1/50\n"
          ],
          "name": "stdout"
        },
        {
          "output_type": "stream",
          "text": [
            "/usr/local/lib/python3.7/dist-packages/tensorflow/python/keras/backend.py:4930: UserWarning: \"`sparse_categorical_crossentropy` received `from_logits=True`, but the `output` argument was produced by a sigmoid or softmax activation and thus does not represent logits. Was this intended?\"\n",
            "  '\"`sparse_categorical_crossentropy` received `from_logits=True`, but '\n"
          ],
          "name": "stderr"
        },
        {
          "output_type": "stream",
          "text": [
            "1688/1688 [==============================] - 42s 25ms/step - loss: 0.7197 - accuracy: 0.7514 - val_loss: 0.2628 - val_accuracy: 0.9375\n",
            "Epoch 2/50\n",
            "1688/1688 [==============================] - 41s 24ms/step - loss: 0.2116 - accuracy: 0.9497 - val_loss: 0.0822 - val_accuracy: 0.9818\n",
            "Epoch 3/50\n",
            "1688/1688 [==============================] - 41s 25ms/step - loss: 0.3983 - accuracy: 0.8934 - val_loss: 0.0929 - val_accuracy: 0.9775\n",
            "Epoch 4/50\n",
            "1688/1688 [==============================] - 41s 24ms/step - loss: 0.1197 - accuracy: 0.9715 - val_loss: 0.0596 - val_accuracy: 0.9857\n",
            "Epoch 5/50\n",
            "1688/1688 [==============================] - 41s 25ms/step - loss: 0.0997 - accuracy: 0.9773 - val_loss: 0.0849 - val_accuracy: 0.9852\n",
            "Epoch 6/50\n",
            "1688/1688 [==============================] - 41s 25ms/step - loss: 0.0940 - accuracy: 0.9796 - val_loss: 0.0586 - val_accuracy: 0.9865\n",
            "Epoch 7/50\n",
            "1688/1688 [==============================] - 41s 25ms/step - loss: 0.1063 - accuracy: 0.9764 - val_loss: 0.0605 - val_accuracy: 0.9870\n",
            "Epoch 8/50\n",
            "1688/1688 [==============================] - 41s 24ms/step - loss: 0.0660 - accuracy: 0.9844 - val_loss: 0.0662 - val_accuracy: 0.9875\n",
            "Epoch 9/50\n",
            "1688/1688 [==============================] - 42s 25ms/step - loss: 0.0828 - accuracy: 0.9810 - val_loss: 0.0555 - val_accuracy: 0.9897\n",
            "Epoch 10/50\n",
            "1688/1688 [==============================] - 41s 25ms/step - loss: 0.0524 - accuracy: 0.9880 - val_loss: 0.0600 - val_accuracy: 0.9878\n",
            "Epoch 11/50\n",
            "1688/1688 [==============================] - 41s 25ms/step - loss: 0.0611 - accuracy: 0.9860 - val_loss: 0.0371 - val_accuracy: 0.9925\n",
            "Epoch 12/50\n",
            "1688/1688 [==============================] - 41s 25ms/step - loss: 0.0845 - accuracy: 0.9814 - val_loss: 0.0942 - val_accuracy: 0.9815\n",
            "Epoch 13/50\n",
            "1688/1688 [==============================] - 41s 25ms/step - loss: 0.0709 - accuracy: 0.9849 - val_loss: 0.0459 - val_accuracy: 0.9903\n",
            "Epoch 14/50\n",
            "1688/1688 [==============================] - 41s 25ms/step - loss: 0.0586 - accuracy: 0.9886 - val_loss: 0.0410 - val_accuracy: 0.9917\n",
            "Epoch 15/50\n",
            "1688/1688 [==============================] - 41s 25ms/step - loss: 0.0498 - accuracy: 0.9895 - val_loss: 0.0529 - val_accuracy: 0.9902\n",
            "Epoch 16/50\n",
            "1688/1688 [==============================] - 41s 25ms/step - loss: 0.0698 - accuracy: 0.9859 - val_loss: 0.0532 - val_accuracy: 0.9917\n",
            "Epoch 17/50\n",
            "1688/1688 [==============================] - 41s 25ms/step - loss: 0.0557 - accuracy: 0.9885 - val_loss: 0.0442 - val_accuracy: 0.9910\n",
            "Epoch 18/50\n",
            "1688/1688 [==============================] - 41s 24ms/step - loss: 0.0657 - accuracy: 0.9872 - val_loss: 0.0417 - val_accuracy: 0.9910\n",
            "Epoch 19/50\n",
            "1688/1688 [==============================] - 41s 24ms/step - loss: 0.0730 - accuracy: 0.9844 - val_loss: 0.0544 - val_accuracy: 0.9907\n",
            "Epoch 20/50\n",
            "1688/1688 [==============================] - 41s 24ms/step - loss: 0.0365 - accuracy: 0.9920 - val_loss: 0.0459 - val_accuracy: 0.9920\n",
            "Epoch 21/50\n",
            "1688/1688 [==============================] - 41s 24ms/step - loss: 0.0485 - accuracy: 0.9907 - val_loss: 0.0884 - val_accuracy: 0.9848\n",
            "Epoch 22/50\n",
            "1688/1688 [==============================] - 41s 24ms/step - loss: 0.0750 - accuracy: 0.9864 - val_loss: 0.0535 - val_accuracy: 0.9903\n",
            "Epoch 23/50\n",
            "1688/1688 [==============================] - 41s 24ms/step - loss: 0.0409 - accuracy: 0.9917 - val_loss: 0.0737 - val_accuracy: 0.9910\n",
            "Epoch 24/50\n",
            "1688/1688 [==============================] - 41s 24ms/step - loss: 0.0455 - accuracy: 0.9906 - val_loss: 0.0411 - val_accuracy: 0.9920\n",
            "Epoch 25/50\n",
            "1688/1688 [==============================] - 41s 24ms/step - loss: 0.0964 - accuracy: 0.9826 - val_loss: 0.0648 - val_accuracy: 0.9872\n",
            "Epoch 26/50\n",
            "1688/1688 [==============================] - 41s 24ms/step - loss: 0.0333 - accuracy: 0.9928 - val_loss: 0.0383 - val_accuracy: 0.9935\n",
            "Epoch 27/50\n",
            "1688/1688 [==============================] - 41s 24ms/step - loss: 0.0324 - accuracy: 0.9938 - val_loss: 0.0807 - val_accuracy: 0.9902\n",
            "Epoch 28/50\n",
            "1688/1688 [==============================] - 41s 24ms/step - loss: 0.0554 - accuracy: 0.9907 - val_loss: 0.0511 - val_accuracy: 0.9910\n",
            "Epoch 29/50\n",
            "1688/1688 [==============================] - 41s 24ms/step - loss: 0.0386 - accuracy: 0.9914 - val_loss: 0.0464 - val_accuracy: 0.9918\n",
            "Epoch 30/50\n",
            "1688/1688 [==============================] - 41s 24ms/step - loss: 0.1962 - accuracy: 0.9820 - val_loss: 0.0496 - val_accuracy: 0.9873\n",
            "Epoch 31/50\n",
            "1688/1688 [==============================] - 41s 24ms/step - loss: 0.0431 - accuracy: 0.9914 - val_loss: 0.0640 - val_accuracy: 0.9868\n",
            "Epoch 32/50\n",
            "1688/1688 [==============================] - 41s 24ms/step - loss: 0.0241 - accuracy: 0.9946 - val_loss: 0.0395 - val_accuracy: 0.9930\n",
            "Epoch 33/50\n",
            "1688/1688 [==============================] - 41s 24ms/step - loss: 0.0286 - accuracy: 0.9940 - val_loss: 0.0610 - val_accuracy: 0.9923\n",
            "Epoch 34/50\n",
            "1688/1688 [==============================] - 41s 24ms/step - loss: 0.1304 - accuracy: 0.9796 - val_loss: 0.0550 - val_accuracy: 0.9927\n",
            "Epoch 35/50\n",
            "1688/1688 [==============================] - 41s 24ms/step - loss: 0.0343 - accuracy: 0.9940 - val_loss: 0.0583 - val_accuracy: 0.9935\n",
            "Epoch 36/50\n",
            "1688/1688 [==============================] - 41s 24ms/step - loss: 0.0558 - accuracy: 0.9902 - val_loss: 0.0647 - val_accuracy: 0.9908\n",
            "Epoch 37/50\n",
            "1688/1688 [==============================] - 41s 24ms/step - loss: 0.0267 - accuracy: 0.9944 - val_loss: 0.0669 - val_accuracy: 0.9908\n",
            "Epoch 38/50\n",
            "1688/1688 [==============================] - 41s 24ms/step - loss: 0.0824 - accuracy: 0.9847 - val_loss: 0.0652 - val_accuracy: 0.9900\n",
            "Epoch 39/50\n",
            "1688/1688 [==============================] - 41s 24ms/step - loss: 0.0452 - accuracy: 0.9911 - val_loss: 0.0505 - val_accuracy: 0.9913\n",
            "Epoch 40/50\n",
            "1688/1688 [==============================] - 41s 24ms/step - loss: 0.0290 - accuracy: 0.9942 - val_loss: 0.0546 - val_accuracy: 0.9910\n",
            "Epoch 41/50\n",
            "1688/1688 [==============================] - 41s 24ms/step - loss: 0.0705 - accuracy: 0.9879 - val_loss: 0.0810 - val_accuracy: 0.9830\n",
            "Epoch 42/50\n",
            "1688/1688 [==============================] - 41s 24ms/step - loss: 0.0647 - accuracy: 0.9911 - val_loss: 0.0554 - val_accuracy: 0.9913\n",
            "Epoch 43/50\n",
            "1688/1688 [==============================] - 41s 24ms/step - loss: 0.0594 - accuracy: 0.9906 - val_loss: 0.0875 - val_accuracy: 0.9847\n",
            "Epoch 44/50\n",
            "1688/1688 [==============================] - 41s 25ms/step - loss: 0.0386 - accuracy: 0.9935 - val_loss: 0.0539 - val_accuracy: 0.9913\n",
            "Epoch 45/50\n",
            "1688/1688 [==============================] - 41s 24ms/step - loss: 0.0196 - accuracy: 0.9961 - val_loss: 0.0954 - val_accuracy: 0.9918\n",
            "Epoch 46/50\n",
            "1688/1688 [==============================] - 41s 24ms/step - loss: 0.2797 - accuracy: 0.9734 - val_loss: 0.1850 - val_accuracy: 0.9717\n",
            "Epoch 47/50\n",
            "1688/1688 [==============================] - 41s 25ms/step - loss: 0.1044 - accuracy: 0.9814 - val_loss: 0.0724 - val_accuracy: 0.9888\n",
            "Epoch 48/50\n",
            "1688/1688 [==============================] - 41s 24ms/step - loss: 0.9390 - accuracy: 0.9046 - val_loss: 1.1128 - val_accuracy: 0.5800\n",
            "Epoch 49/50\n",
            "1688/1688 [==============================] - 41s 24ms/step - loss: 0.4360 - accuracy: 0.8655 - val_loss: 0.1914 - val_accuracy: 0.9823\n",
            "Epoch 50/50\n",
            "1688/1688 [==============================] - 42s 25ms/step - loss: 0.1219 - accuracy: 0.9808 - val_loss: 0.1076 - val_accuracy: 0.9848\n"
          ],
          "name": "stdout"
        }
      ]
    },
    {
      "cell_type": "code",
      "metadata": {
        "id": "d_-gPAekb0Vg"
      },
      "source": [
        ""
      ],
      "execution_count": null,
      "outputs": []
    },
    {
      "cell_type": "code",
      "metadata": {
        "colab": {
          "base_uri": "https://localhost:8080/"
        },
        "id": "_U_Em3XzYzjP",
        "outputId": "aa9d04ed-dd5d-488b-ac6c-9485372e98f3"
      },
      "source": [
        "_, baseline_model_accuracy = model2.evaluate(\n",
        "    test_X, test_labels, verbose=1)"
      ],
      "execution_count": null,
      "outputs": [
        {
          "output_type": "stream",
          "text": [
            "313/313 [==============================] - 3s 9ms/step - loss: 0.1161 - accuracy: 0.9822\n"
          ],
          "name": "stdout"
        }
      ]
    },
    {
      "cell_type": "code",
      "metadata": {
        "colab": {
          "base_uri": "https://localhost:8080/"
        },
        "id": "Jtud7l3VY4uO",
        "outputId": "4fa13f43-8a53-49a8-e1c6-fed4539088f9"
      },
      "source": [
        "model2.summary()"
      ],
      "execution_count": null,
      "outputs": [
        {
          "output_type": "stream",
          "text": [
            "Model: \"sequential_2\"\n",
            "_________________________________________________________________\n",
            "Layer (type)                 Output Shape              Param #   \n",
            "=================================================================\n",
            "vgg16 (Functional)           (None, 1, 1, 512)         14714688  \n",
            "_________________________________________________________________\n",
            "flatten_2 (Flatten)          (None, 512)               0         \n",
            "_________________________________________________________________\n",
            "dropout_2 (Dropout)          (None, 512)               0         \n",
            "_________________________________________________________________\n",
            "dense_6 (Dense)              (None, 256)               131328    \n",
            "_________________________________________________________________\n",
            "dense_7 (Dense)              (None, 50)                12850     \n",
            "_________________________________________________________________\n",
            "dense_8 (Dense)              (None, 10)                510       \n",
            "=================================================================\n",
            "Total params: 14,859,376\n",
            "Trainable params: 14,859,376\n",
            "Non-trainable params: 0\n",
            "_________________________________________________________________\n"
          ],
          "name": "stdout"
        }
      ]
    },
    {
      "cell_type": "code",
      "metadata": {
        "colab": {
          "base_uri": "https://localhost:8080/"
        },
        "id": "CrZ5RGKQotnK",
        "outputId": "c3194b79-8020-4948-a27a-a92f18a8f1fa"
      },
      "source": [
        "vggfine_baseModel = model2.save(\"/content/drive/MyDrive/MnistResults/vggtrain_save_basemodel2.tf\", save_format='tf')"
      ],
      "execution_count": null,
      "outputs": [
        {
          "output_type": "stream",
          "text": [
            "INFO:tensorflow:Assets written to: /content/drive/MyDrive/MnistResults/vggtrain_save_basemodel2.tf/assets\n"
          ],
          "name": "stdout"
        }
      ]
    },
    {
      "cell_type": "code",
      "metadata": {
        "colab": {
          "base_uri": "https://localhost:8080/",
          "height": 602
        },
        "id": "VMIdHvioYrIU",
        "outputId": "2f120b45-8014-4c58-97a2-d1eaf06ffee1"
      },
      "source": [
        "import matplotlib.pyplot as plt\n",
        "\n",
        "plt.rcParams[\"figure.figsize\"] = (30, 10)\n",
        "plt.rcParams[\"font.size\"] = 20\n",
        "\n",
        "fig, ax = plt.subplots(1, 2)\n",
        "\n",
        "ax[0].plot(history.history['accuracy'])\n",
        "ax[0].plot(history.history['val_accuracy'])\n",
        "ax[0].set_title('Model Accuracy')\n",
        "ax[0].set_ylabel('Accuracy')\n",
        "ax[0].set_xlabel('Epoch')\n",
        "ax[0].legend(['Training Accuracy', 'Validation Accuracy'], loc='best')\n",
        "\n",
        "ax[1].plot(history.history['loss'])\n",
        "ax[1].plot(history.history['val_loss'])\n",
        "ax[1].set_title('Model Loss')\n",
        "ax[1].set_ylabel('Loss')\n",
        "ax[1].set_xlabel('Epoch')\n",
        "ax[1].legend(['Training Loss', 'Validation Loss'], loc='best')\n",
        "plt.show()"
      ],
      "execution_count": null,
      "outputs": [
        {
          "output_type": "display_data",
          "data": {
            "image/png": "[encoded data removed]",
            "text/plain": [
              "<Figure size 2160x720 with 2 Axes>"
            ]
          },
          "metadata": {
            "tags": [],
            "needs_background": "light"
          }
        }
      ]
    },
    {
      "cell_type": "code",
      "metadata": {
        "colab": {
          "base_uri": "https://localhost:8080/"
        },
        "id": "zorzcBAHpbqb",
        "outputId": "767652c8-ba4f-4d8d-96ef-9a8b4be538cc"
      },
      "source": [
        "import tensorflow_model_optimization as tfmot\n",
        "\n",
        "prune_low_magnitude = tfmot.sparsity.keras.prune_low_magnitude\n",
        "\n",
        "# Compute end step to finish pruning after 2 epochs.\n",
        "batch_size = 128\n",
        "epochs = 2\n",
        "validation_split = 0.1 # 10% of training set will be used for validation set. \n",
        "\n",
        "num_images = train_images.shape[0] * (1 - validation_split)\n",
        "end_step = np.ceil(num_images / batch_size).astype(np.int32) * epochs\n",
        "\n",
        "finalSparsity = 0.05\n",
        "list_accuracy0 = []\n",
        "while finalSparsity <= 0.95:\n",
        "  model2.load_weights('/content/drive/MyDrive/MnistResults/vggtrain_best_weights2.hdf5')\n",
        "  pruning_params = {\n",
        "        'pruning_schedule': tfmot.sparsity.keras.PolynomialDecay(initial_sparsity=0.0,\n",
        "                                                                final_sparsity=finalSparsity,\n",
        "                                                                begin_step=0,\n",
        "                                                                end_step=end_step)\n",
        "  }\n",
        "  \n",
        "  # Define model for pruning.\n",
        "  model_for_pruning = prune_low_magnitude(model2, **pruning_params)\n",
        "\n",
        "  # `prune_low_magnitude` requires a recompile.\n",
        "  model_for_pruning.compile(optimizer='adam',\n",
        "                loss=tf.keras.losses.SparseCategoricalCrossentropy(from_logits=True),\n",
        "                metrics=['accuracy'])\n",
        "\n",
        "  #model_for_pruning.summary()\n",
        "  logdir = tempfile.mkdtemp()\n",
        "\n",
        "  callbacks = [\n",
        "    tfmot.sparsity.keras.UpdatePruningStep(),\n",
        "    tfmot.sparsity.keras.PruningSummaries(log_dir=logdir),\n",
        "  ]\n",
        "\n",
        "  model_for_pruning.fit(train_X, train_labels,\n",
        "                    batch_size=batch_size, epochs=epochs, validation_split=validation_split,\n",
        "                    callbacks=callbacks)\n",
        "  _, model_for_pruning_accuracy = model_for_pruning.evaluate(\n",
        "   test_X, test_labels, verbose=0)\n",
        "  print(f'Pruned test accuracy at final_sparsity: at {finalSparsity} is {model_for_pruning_accuracy}')\n",
        "  list_accuracy0.append(model_for_pruning_accuracy)\n",
        "  finalSparsity += 0.05\n",
        "print(list_accuracy0)"
      ],
      "execution_count": null,
      "outputs": [
        {
          "output_type": "stream",
          "text": [
            "/usr/local/lib/python3.7/dist-packages/tensorflow/python/keras/engine/base_layer.py:2191: UserWarning: `layer.add_variable` is deprecated and will be removed in a future version. Please use `layer.add_weight` method instead.\n",
            "  warnings.warn('`layer.add_variable` is deprecated and '\n"
          ],
          "name": "stderr"
        },
        {
          "output_type": "stream",
          "text": [
            "Epoch 1/2\n",
            "WARNING:tensorflow:From /usr/local/lib/python3.7/dist-packages/tensorflow/python/ops/array_ops.py:5049: calling gather (from tensorflow.python.ops.array_ops) with validate_indices is deprecated and will be removed in a future version.\n",
            "Instructions for updating:\n",
            "The `validate_indices` argument has no effect. Indices are always validated on CPU and never validated on GPU.\n"
          ],
          "name": "stdout"
        },
        {
          "output_type": "stream",
          "text": [
            "/usr/local/lib/python3.7/dist-packages/tensorflow/python/keras/backend.py:4930: UserWarning: \"`sparse_categorical_crossentropy` received `from_logits=True`, but the `output` argument was produced by a sigmoid or softmax activation and thus does not represent logits. Was this intended?\"\n",
            "  '\"`sparse_categorical_crossentropy` received `from_logits=True`, but '\n"
          ],
          "name": "stderr"
        },
        {
          "output_type": "stream",
          "text": [
            "  6/422 [..............................] - ETA: 1:18 - loss: 0.0033 - accuracy: 0.9987WARNING:tensorflow:Callback method `on_train_batch_end` is slow compared to the batch time (batch time: 0.0337s vs `on_train_batch_end` time: 0.0982s). Check your callbacks.\n",
            "422/422 [==============================] - 39s 75ms/step - loss: 0.0324 - accuracy: 0.9951 - val_loss: 0.0825 - val_accuracy: 0.9900\n",
            "Epoch 2/2\n",
            "422/422 [==============================] - 30s 71ms/step - loss: 0.0277 - accuracy: 0.9948 - val_loss: 0.0495 - val_accuracy: 0.9910\n",
            "Pruned test accuracy at final_sparsity: at 0.05 is 0.9876999855041504\n",
            "Epoch 1/2\n",
            "  6/422 [..............................] - ETA: 1:41 - loss: 0.0033 - accuracy: 0.9987WARNING:tensorflow:Callback method `on_train_batch_end` is slow compared to the batch time (batch time: 0.0309s vs `on_train_batch_end` time: 0.1504s). Check your callbacks.\n",
            "422/422 [==============================] - 37s 74ms/step - loss: 0.0297 - accuracy: 0.9949 - val_loss: 0.0475 - val_accuracy: 0.9942\n",
            "Epoch 2/2\n",
            "422/422 [==============================] - 30s 70ms/step - loss: 0.0366 - accuracy: 0.9950 - val_loss: 0.0343 - val_accuracy: 0.9945\n",
            "Pruned test accuracy at final_sparsity: at 0.1 is 0.9919999837875366\n",
            "Epoch 1/2\n",
            "  6/422 [..............................] - ETA: 1:40 - loss: 0.0033 - accuracy: 0.9987WARNING:tensorflow:Callback method `on_train_batch_end` is slow compared to the batch time (batch time: 0.0325s vs `on_train_batch_end` time: 0.1480s). Check your callbacks.\n",
            "422/422 [==============================] - 37s 73ms/step - loss: 0.0338 - accuracy: 0.9946 - val_loss: 0.0412 - val_accuracy: 0.9928\n",
            "Epoch 2/2\n",
            "422/422 [==============================] - 30s 70ms/step - loss: 0.0143 - accuracy: 0.9972 - val_loss: 0.0548 - val_accuracy: 0.9937\n",
            "Pruned test accuracy at final_sparsity: at 0.15000000000000002 is 0.9933000206947327\n",
            "Epoch 1/2\n",
            "  6/422 [..............................] - ETA: 1:42 - loss: 0.0033 - accuracy: 0.9987WARNING:tensorflow:Callback method `on_train_batch_end` is slow compared to the batch time (batch time: 0.0327s vs `on_train_batch_end` time: 0.1503s). Check your callbacks.\n",
            "422/422 [==============================] - 36s 73ms/step - loss: 0.0322 - accuracy: 0.9948 - val_loss: 0.0574 - val_accuracy: 0.9918\n",
            "Epoch 2/2\n",
            "422/422 [==============================] - 30s 70ms/step - loss: 0.0175 - accuracy: 0.9967 - val_loss: 0.0493 - val_accuracy: 0.9938\n",
            "Pruned test accuracy at final_sparsity: at 0.2 is 0.9922000169754028\n",
            "Epoch 1/2\n",
            "  6/422 [..............................] - ETA: 1:47 - loss: 0.0033 - accuracy: 0.9987WARNING:tensorflow:Callback method `on_train_batch_end` is slow compared to the batch time (batch time: 0.0352s vs `on_train_batch_end` time: 0.1570s). Check your callbacks.\n",
            "422/422 [==============================] - 37s 74ms/step - loss: 0.0296 - accuracy: 0.9948 - val_loss: 0.0666 - val_accuracy: 0.9923\n",
            "Epoch 2/2\n",
            "422/422 [==============================] - 30s 71ms/step - loss: 0.0273 - accuracy: 0.9948 - val_loss: 0.0376 - val_accuracy: 0.9940\n",
            "Pruned test accuracy at final_sparsity: at 0.25 is 0.9919000267982483\n",
            "Epoch 1/2\n",
            "  6/422 [..............................] - ETA: 1:42 - loss: 0.0033 - accuracy: 0.9987WARNING:tensorflow:Callback method `on_train_batch_end` is slow compared to the batch time (batch time: 0.0321s vs `on_train_batch_end` time: 0.1526s). Check your callbacks.\n",
            "422/422 [==============================] - 37s 73ms/step - loss: 0.0975 - accuracy: 0.9661 - val_loss: 0.2543 - val_accuracy: 0.8937\n",
            "Epoch 2/2\n",
            "422/422 [==============================] - 30s 70ms/step - loss: 0.1808 - accuracy: 0.9739 - val_loss: 0.1731 - val_accuracy: 0.9902\n",
            "Pruned test accuracy at final_sparsity: at 0.3 is 0.9886000156402588\n",
            "Epoch 1/2\n",
            "  6/422 [..............................] - ETA: 1:36 - loss: 0.0033 - accuracy: 0.9987WARNING:tensorflow:Callback method `on_train_batch_end` is slow compared to the batch time (batch time: 0.0306s vs `on_train_batch_end` time: 0.1418s). Check your callbacks.\n",
            "422/422 [==============================] - 36s 73ms/step - loss: 0.0316 - accuracy: 0.9947 - val_loss: 0.0443 - val_accuracy: 0.9933\n",
            "Epoch 2/2\n",
            "422/422 [==============================] - 30s 70ms/step - loss: 0.2276 - accuracy: 0.9322 - val_loss: 0.1468 - val_accuracy: 0.9917\n",
            "Pruned test accuracy at final_sparsity: at 0.35 is 0.989799976348877\n",
            "Epoch 1/2\n",
            "  6/422 [..............................] - ETA: 1:42 - loss: 0.0033 - accuracy: 0.9987WARNING:tensorflow:Callback method `on_train_batch_end` is slow compared to the batch time (batch time: 0.0331s vs `on_train_batch_end` time: 0.1514s). Check your callbacks.\n",
            "422/422 [==============================] - 37s 74ms/step - loss: 0.0454 - accuracy: 0.9897 - val_loss: 0.1620 - val_accuracy: 0.8905\n",
            "Epoch 2/2\n",
            "422/422 [==============================] - 30s 72ms/step - loss: 0.0348 - accuracy: 0.9917 - val_loss: 0.0799 - val_accuracy: 0.9732\n",
            "Pruned test accuracy at final_sparsity: at 0.39999999999999997 is 0.9724000096321106\n",
            "Epoch 1/2\n",
            "  6/422 [..............................] - ETA: 1:40 - loss: 0.0033 - accuracy: 0.9987WARNING:tensorflow:Callback method `on_train_batch_end` is slow compared to the batch time (batch time: 0.0356s vs `on_train_batch_end` time: 0.1466s). Check your callbacks.\n",
            "422/422 [==============================] - 37s 74ms/step - loss: 0.0461 - accuracy: 0.9895 - val_loss: 0.2868 - val_accuracy: 0.8928\n",
            "Epoch 2/2\n",
            "422/422 [==============================] - 30s 72ms/step - loss: 0.0572 - accuracy: 0.9823 - val_loss: 0.0502 - val_accuracy: 0.9933\n",
            "Pruned test accuracy at final_sparsity: at 0.44999999999999996 is 0.9919999837875366\n",
            "Epoch 1/2\n",
            "  6/422 [..............................] - ETA: 1:43 - loss: 0.0033 - accuracy: 0.9987WARNING:tensorflow:Callback method `on_train_batch_end` is slow compared to the batch time (batch time: 0.0332s vs `on_train_batch_end` time: 0.1511s). Check your callbacks.\n",
            "422/422 [==============================] - 37s 74ms/step - loss: 0.0475 - accuracy: 0.9893 - val_loss: 0.2622 - val_accuracy: 0.8930\n",
            "Epoch 2/2\n",
            "422/422 [==============================] - 30s 72ms/step - loss: 0.0445 - accuracy: 0.9810 - val_loss: 0.0527 - val_accuracy: 0.9922\n",
            "Pruned test accuracy at final_sparsity: at 0.49999999999999994 is 0.991100013256073\n",
            "Epoch 1/2\n",
            "  6/422 [..............................] - ETA: 1:39 - loss: 0.0033 - accuracy: 0.9987WARNING:tensorflow:Callback method `on_train_batch_end` is slow compared to the batch time (batch time: 0.0332s vs `on_train_batch_end` time: 0.1452s). Check your callbacks.\n",
            "422/422 [==============================] - 36s 74ms/step - loss: 0.0640 - accuracy: 0.9813 - val_loss: 0.0953 - val_accuracy: 0.9775\n",
            "Epoch 2/2\n",
            "422/422 [==============================] - 30s 72ms/step - loss: 0.2010 - accuracy: 0.9488 - val_loss: 0.0403 - val_accuracy: 0.9942\n",
            "Pruned test accuracy at final_sparsity: at 0.5499999999999999 is 0.9921000003814697\n",
            "Epoch 1/2\n",
            "  6/422 [..............................] - ETA: 1:43 - loss: 0.0033 - accuracy: 0.9987WARNING:tensorflow:Callback method `on_train_batch_end` is slow compared to the batch time (batch time: 0.0327s vs `on_train_batch_end` time: 0.1530s). Check your callbacks.\n",
            "422/422 [==============================] - 37s 74ms/step - loss: 0.0894 - accuracy: 0.9760 - val_loss: 0.1223 - val_accuracy: 0.9740\n",
            "Epoch 2/2\n",
            "422/422 [==============================] - 30s 71ms/step - loss: 0.1736 - accuracy: 0.9403 - val_loss: 0.0553 - val_accuracy: 0.9932\n",
            "Pruned test accuracy at final_sparsity: at 0.6 is 0.991100013256073\n",
            "Epoch 1/2\n",
            "  6/422 [..............................] - ETA: 1:39 - loss: 0.0033 - accuracy: 0.9987WARNING:tensorflow:Callback method `on_train_batch_end` is slow compared to the batch time (batch time: 0.0322s vs `on_train_batch_end` time: 0.1468s). Check your callbacks.\n",
            "422/422 [==============================] - 37s 75ms/step - loss: 0.2225 - accuracy: 0.9038 - val_loss: 0.7335 - val_accuracy: 0.6252\n",
            "Epoch 2/2\n",
            "422/422 [==============================] - 30s 72ms/step - loss: 0.1977 - accuracy: 0.9373 - val_loss: 0.0617 - val_accuracy: 0.9892\n",
            "Pruned test accuracy at final_sparsity: at 0.65 is 0.987500011920929\n",
            "Epoch 1/2\n",
            "  6/422 [..............................] - ETA: 1:42 - loss: 0.0033 - accuracy: 0.9987WARNING:tensorflow:Callback method `on_train_batch_end` is slow compared to the batch time (batch time: 0.0315s vs `on_train_batch_end` time: 0.1523s). Check your callbacks.\n",
            "422/422 [==============================] - 37s 74ms/step - loss: 0.2176 - accuracy: 0.9255 - val_loss: 0.5030 - val_accuracy: 0.7828\n",
            "Epoch 2/2\n",
            "422/422 [==============================] - 30s 72ms/step - loss: 0.1313 - accuracy: 0.9315 - val_loss: 0.0459 - val_accuracy: 0.9928\n",
            "Pruned test accuracy at final_sparsity: at 0.7000000000000001 is 0.9915000200271606\n",
            "Epoch 1/2\n",
            "  6/422 [..............................] - ETA: 1:37 - loss: 0.0033 - accuracy: 0.9987WARNING:tensorflow:Callback method `on_train_batch_end` is slow compared to the batch time (batch time: 0.0318s vs `on_train_batch_end` time: 0.1430s). Check your callbacks.\n",
            "422/422 [==============================] - 37s 75ms/step - loss: 0.3076 - accuracy: 0.8966 - val_loss: 0.2760 - val_accuracy: 0.8912\n",
            "Epoch 2/2\n",
            "422/422 [==============================] - 30s 71ms/step - loss: 0.1582 - accuracy: 0.9401 - val_loss: 0.0395 - val_accuracy: 0.9908\n",
            "Pruned test accuracy at final_sparsity: at 0.7500000000000001 is 0.9861999750137329\n",
            "Epoch 1/2\n",
            "  6/422 [..............................] - ETA: 1:43 - loss: 0.0033 - accuracy: 0.9987WARNING:tensorflow:Callback method `on_train_batch_end` is slow compared to the batch time (batch time: 0.0327s vs `on_train_batch_end` time: 0.1526s). Check your callbacks.\n",
            "422/422 [==============================] - 38s 75ms/step - loss: 0.3799 - accuracy: 0.8663 - val_loss: 0.6405 - val_accuracy: 0.7868\n",
            "Epoch 2/2\n",
            "422/422 [==============================] - 30s 71ms/step - loss: 0.2872 - accuracy: 0.8853 - val_loss: 0.0462 - val_accuracy: 0.9905\n",
            "Pruned test accuracy at final_sparsity: at 0.8000000000000002 is 0.9876000285148621\n",
            "Epoch 1/2\n",
            "  6/422 [..............................] - ETA: 1:39 - loss: 0.0033 - accuracy: 0.9987WARNING:tensorflow:Callback method `on_train_batch_end` is slow compared to the batch time (batch time: 0.0319s vs `on_train_batch_end` time: 0.1465s). Check your callbacks.\n",
            "422/422 [==============================] - 37s 74ms/step - loss: 0.3526 - accuracy: 0.8677 - val_loss: 0.5877 - val_accuracy: 0.8820\n",
            "Epoch 2/2\n",
            "422/422 [==============================] - 30s 71ms/step - loss: 0.1678 - accuracy: 0.9506 - val_loss: 0.0531 - val_accuracy: 0.9898\n",
            "Pruned test accuracy at final_sparsity: at 0.8500000000000002 is 0.9890000224113464\n",
            "Epoch 1/2\n",
            "  6/422 [..............................] - ETA: 1:42 - loss: 0.0033 - accuracy: 0.9987WARNING:tensorflow:Callback method `on_train_batch_end` is slow compared to the batch time (batch time: 0.0320s vs `on_train_batch_end` time: 0.1513s). Check your callbacks.\n",
            "422/422 [==============================] - 37s 74ms/step - loss: 0.3916 - accuracy: 0.8408 - val_loss: 0.8582 - val_accuracy: 0.6560\n",
            "Epoch 2/2\n",
            "422/422 [==============================] - 30s 71ms/step - loss: 0.5082 - accuracy: 0.8407 - val_loss: 0.1318 - val_accuracy: 0.9833\n",
            "Pruned test accuracy at final_sparsity: at 0.9000000000000002 is 0.9810000061988831\n",
            "[0.9876999855041504, 0.9919999837875366, 0.9933000206947327, 0.9922000169754028, 0.9919000267982483, 0.9886000156402588, 0.989799976348877, 0.9724000096321106, 0.9919999837875366, 0.991100013256073, 0.9921000003814697, 0.991100013256073, 0.987500011920929, 0.9915000200271606, 0.9861999750137329, 0.9876000285148621, 0.9890000224113464, 0.9810000061988831]\n"
          ],
          "name": "stdout"
        }
      ]
    },
    {
      "cell_type": "code",
      "metadata": {
        "colab": {
          "base_uri": "https://localhost:8080/"
        },
        "id": "ikvxiihWvs4l",
        "outputId": "83254a92-bad0-41b4-d316-4a97bfcb6116"
      },
      "source": [
        "print(list_accuracy0)\n",
        "print(len(list_accuracy0))"
      ],
      "execution_count": null,
      "outputs": [
        {
          "output_type": "stream",
          "text": [
            "[0.9876999855041504, 0.9919999837875366, 0.9933000206947327, 0.9922000169754028, 0.9919000267982483, 0.9886000156402588, 0.989799976348877, 0.9724000096321106, 0.9919999837875366, 0.991100013256073, 0.9921000003814697, 0.991100013256073, 0.987500011920929, 0.9915000200271606, 0.9861999750137329, 0.9876000285148621, 0.9890000224113464, 0.9810000061988831]\n",
            "18\n"
          ],
          "name": "stdout"
        }
      ]
    },
    {
      "cell_type": "code",
      "metadata": {
        "colab": {
          "base_uri": "https://localhost:8080/"
        },
        "id": "YrES7Uwq5UPM",
        "outputId": "7fdc8972-d991-4596-a772-0ccb9a90f4cc"
      },
      "source": [
        "model1 =  keras.models.load_model(\"/content/drive/MyDrive/MnistResults/vggtrain_save_basemodel2.tf\")\n",
        "model1.summary()"
      ],
      "execution_count": null,
      "outputs": [
        {
          "output_type": "stream",
          "text": [
            "Model: \"sequential_2\"\n",
            "_________________________________________________________________\n",
            "Layer (type)                 Output Shape              Param #   \n",
            "=================================================================\n",
            "vgg16 (Functional)           (None, 1, 1, 512)         14714688  \n",
            "_________________________________________________________________\n",
            "flatten_2 (Flatten)          (None, 512)               0         \n",
            "_________________________________________________________________\n",
            "dropout_2 (Dropout)          (None, 512)               0         \n",
            "_________________________________________________________________\n",
            "dense_6 (Dense)              (None, 256)               131328    \n",
            "_________________________________________________________________\n",
            "dense_7 (Dense)              (None, 50)                12850     \n",
            "_________________________________________________________________\n",
            "dense_8 (Dense)              (None, 10)                510       \n",
            "=================================================================\n",
            "Total params: 14,859,376\n",
            "Trainable params: 14,859,376\n",
            "Non-trainable params: 0\n",
            "_________________________________________________________________\n"
          ],
          "name": "stdout"
        }
      ]
    },
    {
      "cell_type": "code",
      "metadata": {
        "colab": {
          "base_uri": "https://localhost:8080/"
        },
        "id": "j9Wjeg6Q2LhF",
        "outputId": "2da78604-0700-4e21-9509-ed97ef556ecd"
      },
      "source": [
        "\n",
        "def prune_all_sparsity(initial, final):\n",
        "  finalSparsity = final \n",
        "  initialSparsity = initial\n",
        "  list_accuracy = []\n",
        "  \n",
        "\n",
        "  while finalSparsity <= 0.95:\n",
        "    model1.load_weights('/content/drive/MyDrive/MnistResults/vggtrain_best_weights2.hdf5')\n",
        "    pruning_params = {\n",
        "          'pruning_schedule': tfmot.sparsity.keras.PolynomialDecay(initial_sparsity= initialSparsity,\n",
        "                                                                  final_sparsity=finalSparsity,\n",
        "                                                                  begin_step=0,\n",
        "                                                                  end_step=end_step)\n",
        "    }\n",
        "    \n",
        "    # Define model for pruning.\n",
        "    model_for_pruning = prune_low_magnitude(model1, **pruning_params)\n",
        "\n",
        "    # `prune_low_magnitude` requires a recompile.\n",
        "    model_for_pruning.compile(optimizer='adam',\n",
        "                  loss=tf.keras.losses.SparseCategoricalCrossentropy(from_logits=True),\n",
        "                  metrics=['accuracy'])\n",
        "\n",
        "    #model_for_pruning.summary()\n",
        "    logdir = tempfile.mkdtemp()\n",
        "\n",
        "    callbacks = [\n",
        "      tfmot.sparsity.keras.UpdatePruningStep(),\n",
        "      tfmot.sparsity.keras.PruningSummaries(log_dir=logdir),\n",
        "    ]\n",
        "\n",
        "    model_for_pruning.fit(train_X, train_labels,\n",
        "                      batch_size=batch_size, epochs=epochs, validation_split=validation_split,\n",
        "                      callbacks=callbacks)\n",
        "    _, model_for_pruning_accuracy = model_for_pruning.evaluate(\n",
        "    test_X, test_labels, verbose=0)\n",
        "    print(f'Pruned test accuracy at final_sparsity: at {finalSparsity} is {model_for_pruning_accuracy}')\n",
        "    list_accuracy.append(model_for_pruning_accuracy)\n",
        "    finalSparsity += 0.05\n",
        "  print(list_accuracy)\n",
        "  return list_accuracy\n",
        "\n",
        "# call prune_all_sparsity for different initial sparsities\n",
        "initial= 0.0 \n",
        "\n",
        "while initial <= 0.50:\n",
        "  print(f\"Pruniing for initial sparsity: {initial}\")\n",
        "  final = 0.55\n",
        "  prune_result = prune_all_sparsity(initial, final )\n",
        "  print(f\"accuracy list at {initial} sparsity is {prune_result}\")\n",
        "  initial += 0.10\n",
        "\n",
        "print(f\"final 60: {accuracy60}\")\n",
        "print(f\"final 65: {accuracy65}\")\n",
        "print(f\"final 70: {accuracy70}\")\n",
        "print(f\"final 75: {accuracy75}\")\n",
        "print(f\"final 80: {accuracy80}\")\n",
        "print(f\"final 85: {accuracy85}\")\n",
        "print(f\"final 90: {accuracy90}\")\n"
      ],
      "execution_count": null,
      "outputs": [
        {
          "output_type": "stream",
          "text": [
            "Pruniing for initial sparsity: 0.0\n"
          ],
          "name": "stdout"
        },
        {
          "output_type": "stream",
          "text": [
            "/usr/local/lib/python3.7/dist-packages/tensorflow/python/keras/engine/base_layer.py:2191: UserWarning: `layer.add_variable` is deprecated and will be removed in a future version. Please use `layer.add_weight` method instead.\n",
            "  warnings.warn('`layer.add_variable` is deprecated and '\n"
          ],
          "name": "stderr"
        },
        {
          "output_type": "stream",
          "text": [
            "Epoch 1/2\n"
          ],
          "name": "stdout"
        },
        {
          "output_type": "stream",
          "text": [
            "/usr/local/lib/python3.7/dist-packages/tensorflow/python/keras/backend.py:4930: UserWarning: \"`sparse_categorical_crossentropy` received `from_logits=True`, but the `output` argument was produced by a sigmoid or softmax activation and thus does not represent logits. Was this intended?\"\n",
            "  '\"`sparse_categorical_crossentropy` received `from_logits=True`, but '\n"
          ],
          "name": "stderr"
        },
        {
          "output_type": "stream",
          "text": [
            "  6/422 [..............................] - ETA: 1:42 - loss: 0.0033 - accuracy: 0.9987WARNING:tensorflow:Callback method `on_train_batch_end` is slow compared to the batch time (batch time: 0.0336s vs `on_train_batch_end` time: 0.1494s). Check your callbacks.\n",
            "422/422 [==============================] - 37s 74ms/step - loss: 0.0523 - accuracy: 0.9887 - val_loss: 0.0670 - val_accuracy: 0.9875\n",
            "Epoch 2/2\n",
            "422/422 [==============================] - 30s 70ms/step - loss: 0.1033 - accuracy: 0.9703 - val_loss: 0.0388 - val_accuracy: 0.9922\n",
            "Pruned test accuracy at final_sparsity: at 0.55 is 0.9904000163078308\n",
            "Epoch 1/2\n",
            "  6/422 [..............................] - ETA: 1:48 - loss: 0.0033 - accuracy: 0.9987WARNING:tensorflow:Callback method `on_train_batch_end` is slow compared to the batch time (batch time: 0.0356s vs `on_train_batch_end` time: 0.1577s). Check your callbacks.\n",
            "422/422 [==============================] - 38s 75ms/step - loss: 0.1358 - accuracy: 0.9596 - val_loss: 0.2339 - val_accuracy: 0.8935\n",
            "Epoch 2/2\n",
            "422/422 [==============================] - 30s 71ms/step - loss: 0.2398 - accuracy: 0.9218 - val_loss: 0.0548 - val_accuracy: 0.9917\n",
            "Pruned test accuracy at final_sparsity: at 0.6000000000000001 is 0.9890999794006348\n",
            "Epoch 1/2\n",
            "  6/422 [..............................] - ETA: 1:43 - loss: 0.0033 - accuracy: 0.9987WARNING:tensorflow:Callback method `on_train_batch_end` is slow compared to the batch time (batch time: 0.0337s vs `on_train_batch_end` time: 0.1480s). Check your callbacks.\n",
            "422/422 [==============================] - 36s 74ms/step - loss: 0.1312 - accuracy: 0.9609 - val_loss: 0.5030 - val_accuracy: 0.8533\n",
            "Epoch 2/2\n",
            "422/422 [==============================] - 30s 71ms/step - loss: 0.2147 - accuracy: 0.9456 - val_loss: 0.0971 - val_accuracy: 0.9928\n",
            "Pruned test accuracy at final_sparsity: at 0.6500000000000001 is 0.9894000291824341\n",
            "Epoch 1/2\n",
            "  6/422 [..............................] - ETA: 1:41 - loss: 0.0033 - accuracy: 0.9987WARNING:tensorflow:Callback method `on_train_batch_end` is slow compared to the batch time (batch time: 0.0316s vs `on_train_batch_end` time: 0.1491s). Check your callbacks.\n",
            "422/422 [==============================] - 38s 74ms/step - loss: 0.2539 - accuracy: 0.9089 - val_loss: 0.4336 - val_accuracy: 0.6812\n",
            "Epoch 2/2\n",
            "422/422 [==============================] - 30s 72ms/step - loss: 0.1534 - accuracy: 0.9256 - val_loss: 0.0513 - val_accuracy: 0.9912\n",
            "Pruned test accuracy at final_sparsity: at 0.7000000000000002 is 0.9887999892234802\n",
            "Epoch 1/2\n",
            "  6/422 [..............................] - ETA: 1:45 - loss: 0.0033 - accuracy: 0.9987WARNING:tensorflow:Callback method `on_train_batch_end` is slow compared to the batch time (batch time: 0.0327s vs `on_train_batch_end` time: 0.1531s). Check your callbacks.\n",
            "422/422 [==============================] - 37s 75ms/step - loss: 0.3730 - accuracy: 0.8660 - val_loss: 0.4055 - val_accuracy: 0.8838\n",
            "Epoch 2/2\n",
            "422/422 [==============================] - 30s 71ms/step - loss: 0.2630 - accuracy: 0.8954 - val_loss: 0.0448 - val_accuracy: 0.9915\n",
            "Pruned test accuracy at final_sparsity: at 0.7500000000000002 is 0.9898999929428101\n",
            "Epoch 1/2\n",
            "  6/422 [..............................] - ETA: 1:49 - loss: 0.0033 - accuracy: 0.9987WARNING:tensorflow:Callback method `on_train_batch_end` is slow compared to the batch time (batch time: 0.0324s vs `on_train_batch_end` time: 0.1640s). Check your callbacks.\n",
            "422/422 [==============================] - 38s 75ms/step - loss: 0.3265 - accuracy: 0.8852 - val_loss: 0.7693 - val_accuracy: 0.6603\n",
            "Epoch 2/2\n",
            "422/422 [==============================] - 30s 70ms/step - loss: 0.1716 - accuracy: 0.9248 - val_loss: 0.0432 - val_accuracy: 0.9925\n",
            "Pruned test accuracy at final_sparsity: at 0.8000000000000003 is 0.9886000156402588\n",
            "Epoch 1/2\n",
            "  6/422 [..............................] - ETA: 1:40 - loss: 0.0033 - accuracy: 0.9987WARNING:tensorflow:Callback method `on_train_batch_end` is slow compared to the batch time (batch time: 0.0322s vs `on_train_batch_end` time: 0.1469s). Check your callbacks.\n",
            "422/422 [==============================] - 37s 75ms/step - loss: 0.3645 - accuracy: 0.8526 - val_loss: 0.7204 - val_accuracy: 0.6750\n",
            "Epoch 2/2\n",
            "422/422 [==============================] - 30s 71ms/step - loss: 0.1602 - accuracy: 0.9397 - val_loss: 0.0480 - val_accuracy: 0.9902\n",
            "Pruned test accuracy at final_sparsity: at 0.8500000000000003 is 0.9868000149726868\n",
            "Epoch 1/2\n",
            "  6/422 [..............................] - ETA: 1:42 - loss: 0.0033 - accuracy: 0.9987WARNING:tensorflow:Callback method `on_train_batch_end` is slow compared to the batch time (batch time: 0.0315s vs `on_train_batch_end` time: 0.1514s). Check your callbacks.\n",
            "422/422 [==============================] - 37s 75ms/step - loss: 0.3268 - accuracy: 0.8752 - val_loss: 0.4318 - val_accuracy: 0.7828\n",
            "Epoch 2/2\n",
            "422/422 [==============================] - 30s 72ms/step - loss: 0.3672 - accuracy: 0.8846 - val_loss: 0.1299 - val_accuracy: 0.9837\n",
            "Pruned test accuracy at final_sparsity: at 0.9000000000000004 is 0.9815000295639038\n",
            "[0.9904000163078308, 0.9890999794006348, 0.9894000291824341, 0.9887999892234802, 0.9898999929428101, 0.9886000156402588, 0.9868000149726868, 0.9815000295639038]\n",
            "accuracy list at 0.0 sparsity is [0.9904000163078308, 0.9890999794006348, 0.9894000291824341, 0.9887999892234802, 0.9898999929428101, 0.9886000156402588, 0.9868000149726868, 0.9815000295639038]\n",
            "Pruniing for initial sparsity: 0.1\n",
            "Epoch 1/2\n",
            "  6/422 [..............................] - ETA: 1:47 - loss: 0.0033 - accuracy: 0.9987WARNING:tensorflow:Callback method `on_train_batch_end` is slow compared to the batch time (batch time: 0.0328s vs `on_train_batch_end` time: 0.1595s). Check your callbacks.\n",
            "422/422 [==============================] - 38s 74ms/step - loss: 0.0506 - accuracy: 0.9870 - val_loss: 0.0515 - val_accuracy: 0.9905\n",
            "Epoch 2/2\n",
            "422/422 [==============================] - 31s 72ms/step - loss: 0.2457 - accuracy: 0.9390 - val_loss: 0.0415 - val_accuracy: 0.9922\n",
            "Pruned test accuracy at final_sparsity: at 0.55 is 0.9912999868392944\n",
            "Epoch 1/2\n",
            "  6/422 [..............................] - ETA: 1:47 - loss: 0.0033 - accuracy: 0.9987WARNING:tensorflow:Callback method `on_train_batch_end` is slow compared to the batch time (batch time: 0.0327s vs `on_train_batch_end` time: 0.1586s). Check your callbacks.\n",
            "422/422 [==============================] - 38s 75ms/step - loss: 0.2350 - accuracy: 0.9063 - val_loss: 0.7125 - val_accuracy: 0.7553\n",
            "Epoch 2/2\n",
            "422/422 [==============================] - 30s 71ms/step - loss: 0.1468 - accuracy: 0.9532 - val_loss: 0.0432 - val_accuracy: 0.9918\n",
            "Pruned test accuracy at final_sparsity: at 0.6000000000000001 is 0.9909999966621399\n",
            "Epoch 1/2\n",
            "  6/422 [..............................] - ETA: 1:46 - loss: 0.0033 - accuracy: 0.9987WARNING:tensorflow:Callback method `on_train_batch_end` is slow compared to the batch time (batch time: 0.0343s vs `on_train_batch_end` time: 0.1533s). Check your callbacks.\n",
            "422/422 [==============================] - 37s 75ms/step - loss: 0.2513 - accuracy: 0.9239 - val_loss: 0.6784 - val_accuracy: 0.8027\n",
            "Epoch 2/2\n",
            "422/422 [==============================] - 31s 72ms/step - loss: 0.1160 - accuracy: 0.9517 - val_loss: 0.0440 - val_accuracy: 0.9925\n",
            "Pruned test accuracy at final_sparsity: at 0.6500000000000001 is 0.9923999905586243\n",
            "Epoch 1/2\n",
            "  6/422 [..............................] - ETA: 1:44 - loss: 0.0033 - accuracy: 0.9987WARNING:tensorflow:Callback method `on_train_batch_end` is slow compared to the batch time (batch time: 0.0313s vs `on_train_batch_end` time: 0.1539s). Check your callbacks.\n",
            "422/422 [==============================] - 38s 75ms/step - loss: 0.3048 - accuracy: 0.9112 - val_loss: 0.5588 - val_accuracy: 0.7803\n",
            "Epoch 2/2\n",
            "422/422 [==============================] - 30s 71ms/step - loss: 0.1290 - accuracy: 0.9513 - val_loss: 0.0495 - val_accuracy: 0.9917\n",
            "Pruned test accuracy at final_sparsity: at 0.7000000000000002 is 0.9909999966621399\n",
            "Epoch 1/2\n",
            "  6/422 [..............................] - ETA: 1:45 - loss: 0.0033 - accuracy: 0.9987WARNING:tensorflow:Callback method `on_train_batch_end` is slow compared to the batch time (batch time: 0.0346s vs `on_train_batch_end` time: 0.1530s). Check your callbacks.\n",
            "422/422 [==============================] - 37s 74ms/step - loss: 0.3384 - accuracy: 0.8791 - val_loss: 0.7582 - val_accuracy: 0.6915\n",
            "Epoch 2/2\n",
            "422/422 [==============================] - 31s 72ms/step - loss: 0.1606 - accuracy: 0.9603 - val_loss: 0.0749 - val_accuracy: 0.9908\n",
            "Pruned test accuracy at final_sparsity: at 0.7500000000000002 is 0.9905999898910522\n",
            "Epoch 1/2\n",
            "  6/422 [..............................] - ETA: 1:48 - loss: 0.0033 - accuracy: 0.9987WARNING:tensorflow:Callback method `on_train_batch_end` is slow compared to the batch time (batch time: 0.0331s vs `on_train_batch_end` time: 0.1605s). Check your callbacks.\n",
            "422/422 [==============================] - 38s 75ms/step - loss: 0.2998 - accuracy: 0.8894 - val_loss: 0.9377 - val_accuracy: 0.5772\n",
            "Epoch 2/2\n",
            "422/422 [==============================] - 31s 73ms/step - loss: 0.1721 - accuracy: 0.9277 - val_loss: 0.0433 - val_accuracy: 0.9903\n",
            "Pruned test accuracy at final_sparsity: at 0.8000000000000003 is 0.9890000224113464\n",
            "Epoch 1/2\n",
            "  6/422 [..............................] - ETA: 1:42 - loss: 0.0033 - accuracy: 0.9987WARNING:tensorflow:Callback method `on_train_batch_end` is slow compared to the batch time (batch time: 0.0335s vs `on_train_batch_end` time: 0.1479s). Check your callbacks.\n",
            "422/422 [==============================] - 37s 75ms/step - loss: 0.4621 - accuracy: 0.7827 - val_loss: 0.7866 - val_accuracy: 0.5930\n",
            "Epoch 2/2\n",
            "422/422 [==============================] - 31s 72ms/step - loss: 0.1927 - accuracy: 0.9062 - val_loss: 0.0415 - val_accuracy: 0.9908\n",
            "Pruned test accuracy at final_sparsity: at 0.8500000000000003 is 0.9866999983787537\n",
            "Epoch 1/2\n",
            "  6/422 [..............................] - ETA: 1:46 - loss: 0.0033 - accuracy: 0.9987WARNING:tensorflow:Callback method `on_train_batch_end` is slow compared to the batch time (batch time: 0.0335s vs `on_train_batch_end` time: 0.1579s). Check your callbacks.\n",
            "422/422 [==============================] - 37s 74ms/step - loss: 0.4373 - accuracy: 0.8364 - val_loss: 0.4145 - val_accuracy: 0.8532\n",
            "Epoch 2/2\n",
            "422/422 [==============================] - 31s 72ms/step - loss: 0.2947 - accuracy: 0.9136 - val_loss: 0.0765 - val_accuracy: 0.9845\n",
            "Pruned test accuracy at final_sparsity: at 0.9000000000000004 is 0.9829000234603882\n",
            "[0.9912999868392944, 0.9909999966621399, 0.9923999905586243, 0.9909999966621399, 0.9905999898910522, 0.9890000224113464, 0.9866999983787537, 0.9829000234603882]\n",
            "accuracy list at 0.1 sparsity is [0.9912999868392944, 0.9909999966621399, 0.9923999905586243, 0.9909999966621399, 0.9905999898910522, 0.9890000224113464, 0.9866999983787537, 0.9829000234603882]\n",
            "Pruniing for initial sparsity: 0.2\n",
            "Epoch 1/2\n",
            "  6/422 [..............................] - ETA: 1:48 - loss: 0.0033 - accuracy: 0.9987WARNING:tensorflow:Callback method `on_train_batch_end` is slow compared to the batch time (batch time: 0.0323s vs `on_train_batch_end` time: 0.1615s). Check your callbacks.\n",
            "422/422 [==============================] - 38s 75ms/step - loss: 0.1179 - accuracy: 0.9651 - val_loss: 0.3428 - val_accuracy: 0.8697\n",
            "Epoch 2/2\n",
            "422/422 [==============================] - 30s 71ms/step - loss: 0.1337 - accuracy: 0.9595 - val_loss: 0.0644 - val_accuracy: 0.9875\n",
            "Pruned test accuracy at final_sparsity: at 0.55 is 0.9868000149726868\n",
            "Epoch 1/2\n",
            "  6/422 [..............................] - ETA: 1:54 - loss: 0.0033 - accuracy: 0.9987WARNING:tensorflow:Callback method `on_train_batch_end` is slow compared to the batch time (batch time: 0.0345s vs `on_train_batch_end` time: 0.1691s). Check your callbacks.\n",
            "422/422 [==============================] - 38s 74ms/step - loss: 0.1666 - accuracy: 0.9491 - val_loss: 0.3354 - val_accuracy: 0.8663\n",
            "Epoch 2/2\n",
            "422/422 [==============================] - 31s 73ms/step - loss: 0.2584 - accuracy: 0.9113 - val_loss: 0.1296 - val_accuracy: 0.9912\n",
            "Pruned test accuracy at final_sparsity: at 0.6000000000000001 is 0.9902999997138977\n",
            "Epoch 1/2\n",
            "  6/422 [..............................] - ETA: 1:43 - loss: 0.0033 - accuracy: 0.9987WARNING:tensorflow:Callback method `on_train_batch_end` is slow compared to the batch time (batch time: 0.0330s vs `on_train_batch_end` time: 0.1518s). Check your callbacks.\n",
            "422/422 [==============================] - 37s 76ms/step - loss: 0.3179 - accuracy: 0.8732 - val_loss: 0.7962 - val_accuracy: 0.6975\n",
            "Epoch 2/2\n",
            "422/422 [==============================] - 31s 72ms/step - loss: 0.1598 - accuracy: 0.9391 - val_loss: 0.0423 - val_accuracy: 0.9922\n",
            "Pruned test accuracy at final_sparsity: at 0.6500000000000001 is 0.991100013256073\n",
            "Epoch 1/2\n",
            "  6/422 [..............................] - ETA: 1:46 - loss: 0.0033 - accuracy: 0.9987WARNING:tensorflow:Callback method `on_train_batch_end` is slow compared to the batch time (batch time: 0.0359s vs `on_train_batch_end` time: 0.1539s). Check your callbacks.\n",
            "422/422 [==============================] - 38s 75ms/step - loss: 0.3086 - accuracy: 0.8817 - val_loss: 0.2914 - val_accuracy: 0.8952\n",
            "Epoch 2/2\n",
            "422/422 [==============================] - 30s 72ms/step - loss: 0.1829 - accuracy: 0.9299 - val_loss: 0.0431 - val_accuracy: 0.9932\n",
            "Pruned test accuracy at final_sparsity: at 0.7000000000000002 is 0.9919999837875366\n",
            "Epoch 1/2\n",
            "  6/422 [..............................] - ETA: 1:45 - loss: 0.0033 - accuracy: 0.9987WARNING:tensorflow:Callback method `on_train_batch_end` is slow compared to the batch time (batch time: 0.0318s vs `on_train_batch_end` time: 0.1553s). Check your callbacks.\n",
            "422/422 [==============================] - 38s 76ms/step - loss: 0.2897 - accuracy: 0.8801 - val_loss: 0.4164 - val_accuracy: 0.7722\n",
            "Epoch 2/2\n",
            "422/422 [==============================] - 31s 73ms/step - loss: 0.0950 - accuracy: 0.9702 - val_loss: 0.0494 - val_accuracy: 0.9925\n",
            "Pruned test accuracy at final_sparsity: at 0.7500000000000002 is 0.9907000064849854\n",
            "Epoch 1/2\n",
            "  6/422 [..............................] - ETA: 1:50 - loss: 0.0033 - accuracy: 0.9987WARNING:tensorflow:Callback method `on_train_batch_end` is slow compared to the batch time (batch time: 0.0374s vs `on_train_batch_end` time: 0.1618s). Check your callbacks.\n",
            "422/422 [==============================] - 38s 76ms/step - loss: 0.3888 - accuracy: 0.8348 - val_loss: 0.5625 - val_accuracy: 0.6867\n",
            "Epoch 2/2\n",
            "422/422 [==============================] - 30s 72ms/step - loss: 0.2598 - accuracy: 0.8789 - val_loss: 0.0845 - val_accuracy: 0.9918\n",
            "Pruned test accuracy at final_sparsity: at 0.8000000000000003 is 0.9878000020980835\n",
            "Epoch 1/2\n",
            "  6/422 [..............................] - ETA: 1:41 - loss: 0.0033 - accuracy: 0.9987WARNING:tensorflow:Callback method `on_train_batch_end` is slow compared to the batch time (batch time: 0.0314s vs `on_train_batch_end` time: 0.1490s). Check your callbacks.\n",
            "422/422 [==============================] - 37s 74ms/step - loss: 0.3978 - accuracy: 0.8765 - val_loss: 0.7025 - val_accuracy: 0.7835\n",
            "Epoch 2/2\n",
            "422/422 [==============================] - 31s 72ms/step - loss: 0.1388 - accuracy: 0.9586 - val_loss: 0.0519 - val_accuracy: 0.9890\n",
            "Pruned test accuracy at final_sparsity: at 0.8500000000000003 is 0.9898999929428101\n",
            "Epoch 1/2\n",
            "  6/422 [..............................] - ETA: 1:46 - loss: 0.0033 - accuracy: 0.9987WARNING:tensorflow:Callback method `on_train_batch_end` is slow compared to the batch time (batch time: 0.0330s vs `on_train_batch_end` time: 0.1577s). Check your callbacks.\n",
            "422/422 [==============================] - 38s 76ms/step - loss: 0.4305 - accuracy: 0.8476 - val_loss: 0.7960 - val_accuracy: 0.6753\n",
            "Epoch 2/2\n",
            "422/422 [==============================] - 31s 73ms/step - loss: 0.3459 - accuracy: 0.8751 - val_loss: 0.0684 - val_accuracy: 0.9865\n",
            "Pruned test accuracy at final_sparsity: at 0.9000000000000004 is 0.98580002784729\n",
            "[0.9868000149726868, 0.9902999997138977, 0.991100013256073, 0.9919999837875366, 0.9907000064849854, 0.9878000020980835, 0.9898999929428101, 0.98580002784729]\n",
            "accuracy list at 0.2 sparsity is [0.9868000149726868, 0.9902999997138977, 0.991100013256073, 0.9919999837875366, 0.9907000064849854, 0.9878000020980835, 0.9898999929428101, 0.98580002784729]\n",
            "Pruniing for initial sparsity: 0.30000000000000004\n",
            "Epoch 1/2\n",
            "  6/422 [..............................] - ETA: 1:46 - loss: 0.0033 - accuracy: 0.9987WARNING:tensorflow:Callback method `on_train_batch_end` is slow compared to the batch time (batch time: 0.0335s vs `on_train_batch_end` time: 0.1568s). Check your callbacks.\n",
            "422/422 [==============================] - 38s 76ms/step - loss: 0.1374 - accuracy: 0.9579 - val_loss: 0.3861 - val_accuracy: 0.8670\n",
            "Epoch 2/2\n",
            "422/422 [==============================] - 30s 72ms/step - loss: 0.1243 - accuracy: 0.9636 - val_loss: 0.0430 - val_accuracy: 0.9940\n",
            "Pruned test accuracy at final_sparsity: at 0.55 is 0.9890999794006348\n",
            "Epoch 1/2\n",
            "  6/422 [..............................] - ETA: 1:51 - loss: 0.0033 - accuracy: 0.9987WARNING:tensorflow:Callback method `on_train_batch_end` is slow compared to the batch time (batch time: 0.0343s vs `on_train_batch_end` time: 0.1658s). Check your callbacks.\n",
            "422/422 [==============================] - 38s 76ms/step - loss: 0.1846 - accuracy: 0.9499 - val_loss: 0.5914 - val_accuracy: 0.7812\n",
            "Epoch 2/2\n",
            "422/422 [==============================] - 31s 73ms/step - loss: 0.2120 - accuracy: 0.9412 - val_loss: 0.0457 - val_accuracy: 0.9913\n",
            "Pruned test accuracy at final_sparsity: at 0.6000000000000001 is 0.9904999732971191\n",
            "Epoch 1/2\n",
            "  6/422 [..............................] - ETA: 1:43 - loss: 0.0033 - accuracy: 0.9987WARNING:tensorflow:Callback method `on_train_batch_end` is slow compared to the batch time (batch time: 0.0334s vs `on_train_batch_end` time: 0.1513s). Check your callbacks.\n",
            "422/422 [==============================] - 38s 76ms/step - loss: 0.2926 - accuracy: 0.8917 - val_loss: 0.3301 - val_accuracy: 0.8895\n",
            "Epoch 2/2\n",
            "422/422 [==============================] - 30s 72ms/step - loss: 0.1207 - accuracy: 0.9771 - val_loss: 0.0949 - val_accuracy: 0.9940\n",
            "Pruned test accuracy at final_sparsity: at 0.6500000000000001 is 0.9905999898910522\n",
            "Epoch 1/2\n",
            "  6/422 [..............................] - ETA: 1:45 - loss: 0.0033 - accuracy: 0.9987WARNING:tensorflow:Callback method `on_train_batch_end` is slow compared to the batch time (batch time: 0.0325s vs `on_train_batch_end` time: 0.1551s). Check your callbacks.\n",
            "422/422 [==============================] - 38s 75ms/step - loss: 0.3260 - accuracy: 0.8813 - val_loss: 0.2726 - val_accuracy: 0.7905\n",
            "Epoch 2/2\n",
            "422/422 [==============================] - 31s 73ms/step - loss: 0.1886 - accuracy: 0.9230 - val_loss: 0.0908 - val_accuracy: 0.9930\n",
            "Pruned test accuracy at final_sparsity: at 0.7000000000000002 is 0.9922999739646912\n",
            "Epoch 1/2\n",
            "  6/422 [..............................] - ETA: 1:48 - loss: 0.0033 - accuracy: 0.9987WARNING:tensorflow:Callback method `on_train_batch_end` is slow compared to the batch time (batch time: 0.0352s vs `on_train_batch_end` time: 0.1592s). Check your callbacks.\n",
            "422/422 [==============================] - 38s 76ms/step - loss: 0.4227 - accuracy: 0.8437 - val_loss: 0.6940 - val_accuracy: 0.7555\n",
            "Epoch 2/2\n",
            "422/422 [==============================] - 31s 73ms/step - loss: 0.2410 - accuracy: 0.9330 - val_loss: 0.0786 - val_accuracy: 0.9943\n",
            "Pruned test accuracy at final_sparsity: at 0.7500000000000002 is 0.9915000200271606\n",
            "Epoch 1/2\n",
            "  6/422 [..............................] - ETA: 1:55 - loss: 0.0033 - accuracy: 0.9987WARNING:tensorflow:Callback method `on_train_batch_end` is slow compared to the batch time (batch time: 0.0336s vs `on_train_batch_end` time: 0.1707s). Check your callbacks.\n",
            "422/422 [==============================] - 38s 75ms/step - loss: 0.5556 - accuracy: 0.8094 - val_loss: 0.8355 - val_accuracy: 0.6873\n",
            "Epoch 2/2\n",
            "422/422 [==============================] - 31s 73ms/step - loss: 0.3680 - accuracy: 0.8344 - val_loss: 0.0402 - val_accuracy: 0.9917\n",
            "Pruned test accuracy at final_sparsity: at 0.8000000000000003 is 0.9905999898910522\n",
            "Epoch 1/2\n",
            "  6/422 [..............................] - ETA: 1:43 - loss: 0.0033 - accuracy: 0.9987WARNING:tensorflow:Callback method `on_train_batch_end` is slow compared to the batch time (batch time: 0.0337s vs `on_train_batch_end` time: 0.1499s). Check your callbacks.\n",
            "422/422 [==============================] - 37s 75ms/step - loss: 0.5326 - accuracy: 0.8272 - val_loss: 0.8010 - val_accuracy: 0.6747\n",
            "Epoch 2/2\n",
            "422/422 [==============================] - 31s 73ms/step - loss: 0.1948 - accuracy: 0.9390 - val_loss: 0.0396 - val_accuracy: 0.9920\n",
            "Pruned test accuracy at final_sparsity: at 0.8500000000000003 is 0.9909999966621399\n",
            "Epoch 1/2\n",
            "  6/422 [..............................] - ETA: 1:46 - loss: 0.0033 - accuracy: 0.9987WARNING:tensorflow:Callback method `on_train_batch_end` is slow compared to the batch time (batch time: 0.0336s vs `on_train_batch_end` time: 0.1562s). Check your callbacks.\n",
            "422/422 [==============================] - 38s 75ms/step - loss: 0.5680 - accuracy: 0.7845 - val_loss: 0.5051 - val_accuracy: 0.7830\n",
            "Epoch 2/2\n",
            "422/422 [==============================] - 30s 72ms/step - loss: 0.2013 - accuracy: 0.9461 - val_loss: 0.0549 - val_accuracy: 0.9882\n",
            "Pruned test accuracy at final_sparsity: at 0.9000000000000004 is 0.9894000291824341\n",
            "[0.9890999794006348, 0.9904999732971191, 0.9905999898910522, 0.9922999739646912, 0.9915000200271606, 0.9905999898910522, 0.9909999966621399, 0.9894000291824341]\n",
            "accuracy list at 0.30000000000000004 sparsity is [0.9890999794006348, 0.9904999732971191, 0.9905999898910522, 0.9922999739646912, 0.9915000200271606, 0.9905999898910522, 0.9909999966621399, 0.9894000291824341]\n",
            "Pruniing for initial sparsity: 0.4\n",
            "Epoch 1/2\n",
            "  6/422 [..............................] - ETA: 1:43 - loss: 0.0033 - accuracy: 0.9987WARNING:tensorflow:Callback method `on_train_batch_end` is slow compared to the batch time (batch time: 0.0333s vs `on_train_batch_end` time: 0.1517s). Check your callbacks.\n",
            "422/422 [==============================] - 38s 76ms/step - loss: 0.1860 - accuracy: 0.9285 - val_loss: 0.1468 - val_accuracy: 0.9897\n",
            "Epoch 2/2\n",
            "422/422 [==============================] - 31s 73ms/step - loss: 0.0446 - accuracy: 0.9930 - val_loss: 0.0800 - val_accuracy: 0.9935\n",
            "Pruned test accuracy at final_sparsity: at 0.55 is 0.9919999837875366\n",
            "Epoch 1/2\n",
            "  6/422 [..............................] - ETA: 1:47 - loss: 0.0033 - accuracy: 0.9987WARNING:tensorflow:Callback method `on_train_batch_end` is slow compared to the batch time (batch time: 0.0330s vs `on_train_batch_end` time: 0.1586s). Check your callbacks.\n",
            "422/422 [==============================] - 38s 75ms/step - loss: 0.2979 - accuracy: 0.9069 - val_loss: 0.3528 - val_accuracy: 0.8865\n",
            "Epoch 2/2\n",
            "422/422 [==============================] - 31s 72ms/step - loss: 0.0574 - accuracy: 0.9790 - val_loss: 0.0476 - val_accuracy: 0.9912\n",
            "Pruned test accuracy at final_sparsity: at 0.6000000000000001 is 0.989799976348877\n",
            "Epoch 1/2\n",
            "  6/422 [..............................] - ETA: 1:44 - loss: 0.0033 - accuracy: 0.9987WARNING:tensorflow:Callback method `on_train_batch_end` is slow compared to the batch time (batch time: 0.0338s vs `on_train_batch_end` time: 0.1530s). Check your callbacks.\n",
            "422/422 [==============================] - 37s 75ms/step - loss: 0.2867 - accuracy: 0.8823 - val_loss: 0.0880 - val_accuracy: 0.9907\n",
            "Epoch 2/2\n",
            "422/422 [==============================] - 31s 73ms/step - loss: 0.1001 - accuracy: 0.9487 - val_loss: 0.1576 - val_accuracy: 0.9910\n",
            "Pruned test accuracy at final_sparsity: at 0.6500000000000001 is 0.989300012588501\n",
            "Epoch 1/2\n",
            "  6/422 [..............................] - ETA: 1:47 - loss: 0.0033 - accuracy: 0.9987WARNING:tensorflow:Callback method `on_train_batch_end` is slow compared to the batch time (batch time: 0.0350s vs `on_train_batch_end` time: 0.1557s). Check your callbacks.\n",
            "422/422 [==============================] - 38s 75ms/step - loss: 0.2814 - accuracy: 0.9162 - val_loss: 0.1617 - val_accuracy: 0.9905\n",
            "Epoch 2/2\n",
            "422/422 [==============================] - 31s 73ms/step - loss: 0.0927 - accuracy: 0.9453 - val_loss: 0.0370 - val_accuracy: 0.9942\n",
            "Pruned test accuracy at final_sparsity: at 0.7000000000000002 is 0.9916999936103821\n",
            "Epoch 1/2\n",
            "  6/422 [..............................] - ETA: 1:51 - loss: 0.0033 - accuracy: 0.9987WARNING:tensorflow:Callback method `on_train_batch_end` is slow compared to the batch time (batch time: 0.0362s vs `on_train_batch_end` time: 0.1604s). Check your callbacks.\n",
            "422/422 [==============================] - 38s 76ms/step - loss: 0.4010 - accuracy: 0.8671 - val_loss: 0.5259 - val_accuracy: 0.7748\n",
            "Epoch 2/2\n",
            "422/422 [==============================] - 31s 73ms/step - loss: 0.0785 - accuracy: 0.9812 - val_loss: 0.0522 - val_accuracy: 0.9925\n",
            "Pruned test accuracy at final_sparsity: at 0.7500000000000002 is 0.9923999905586243\n",
            "Epoch 1/2\n",
            "  6/422 [..............................] - ETA: 1:47 - loss: 0.0033 - accuracy: 0.9987WARNING:tensorflow:Callback method `on_train_batch_end` is slow compared to the batch time (batch time: 0.0324s vs `on_train_batch_end` time: 0.1604s). Check your callbacks.\n",
            "422/422 [==============================] - 38s 76ms/step - loss: 0.3156 - accuracy: 0.8959 - val_loss: 0.1748 - val_accuracy: 0.8837\n",
            "Epoch 2/2\n",
            "422/422 [==============================] - 31s 73ms/step - loss: 0.0656 - accuracy: 0.9777 - val_loss: 0.0439 - val_accuracy: 0.9905\n",
            "Pruned test accuracy at final_sparsity: at 0.8000000000000003 is 0.9876000285148621\n",
            "Epoch 1/2\n",
            "  6/422 [..............................] - ETA: 1:43 - loss: 0.0033 - accuracy: 0.9987WARNING:tensorflow:Callback method `on_train_batch_end` is slow compared to the batch time (batch time: 0.0339s vs `on_train_batch_end` time: 0.1523s). Check your callbacks.\n",
            "422/422 [==============================] - 37s 75ms/step - loss: 0.5098 - accuracy: 0.7985 - val_loss: 0.1764 - val_accuracy: 0.9682\n",
            "Epoch 2/2\n",
            "422/422 [==============================] - 30s 72ms/step - loss: 0.1454 - accuracy: 0.9486 - val_loss: 0.1734 - val_accuracy: 0.8917\n",
            "Pruned test accuracy at final_sparsity: at 0.8500000000000003 is 0.8866000175476074\n",
            "Epoch 1/2\n",
            "  6/422 [..............................] - ETA: 1:45 - loss: 0.0033 - accuracy: 0.9987WARNING:tensorflow:Callback method `on_train_batch_end` is slow compared to the batch time (batch time: 0.0338s vs `on_train_batch_end` time: 0.1542s). Check your callbacks.\n",
            "422/422 [==============================] - 38s 75ms/step - loss: 0.5382 - accuracy: 0.7841 - val_loss: 0.5460 - val_accuracy: 0.6898\n",
            "Epoch 2/2\n",
            "422/422 [==============================] - 31s 73ms/step - loss: 0.2791 - accuracy: 0.9033 - val_loss: 0.0587 - val_accuracy: 0.9867\n",
            "Pruned test accuracy at final_sparsity: at 0.9000000000000004 is 0.9861000180244446\n",
            "[0.9919999837875366, 0.989799976348877, 0.989300012588501, 0.9916999936103821, 0.9923999905586243, 0.9876000285148621, 0.8866000175476074, 0.9861000180244446]\n",
            "accuracy list at 0.4 sparsity is [0.9919999837875366, 0.989799976348877, 0.989300012588501, 0.9916999936103821, 0.9923999905586243, 0.9876000285148621, 0.8866000175476074, 0.9861000180244446]\n",
            "Pruniing for initial sparsity: 0.5\n",
            "Epoch 1/2\n",
            "  6/422 [..............................] - ETA: 1:46 - loss: 0.0033 - accuracy: 0.9987WARNING:tensorflow:Callback method `on_train_batch_end` is slow compared to the batch time (batch time: 0.0333s vs `on_train_batch_end` time: 0.1572s). Check your callbacks.\n",
            "422/422 [==============================] - 38s 76ms/step - loss: 0.3229 - accuracy: 0.8833 - val_loss: 0.2589 - val_accuracy: 0.8793\n",
            "Epoch 2/2\n",
            "422/422 [==============================] - 31s 72ms/step - loss: 0.1797 - accuracy: 0.9277 - val_loss: 0.0422 - val_accuracy: 0.9933\n",
            "Pruned test accuracy at final_sparsity: at 0.55 is 0.989799976348877\n",
            "Epoch 1/2\n",
            "  6/422 [..............................] - ETA: 1:47 - loss: 0.0033 - accuracy: 0.9987WARNING:tensorflow:Callback method `on_train_batch_end` is slow compared to the batch time (batch time: 0.0320s vs `on_train_batch_end` time: 0.1593s). Check your callbacks.\n",
            "422/422 [==============================] - 38s 75ms/step - loss: 0.4415 - accuracy: 0.8294 - val_loss: 0.5313 - val_accuracy: 0.8043\n",
            "Epoch 2/2\n",
            "422/422 [==============================] - 31s 72ms/step - loss: 0.2463 - accuracy: 0.9157 - val_loss: 0.0549 - val_accuracy: 0.9930\n",
            "Pruned test accuracy at final_sparsity: at 0.6000000000000001 is 0.991100013256073\n",
            "Epoch 1/2\n",
            "  6/422 [..............................] - ETA: 1:41 - loss: 0.0033 - accuracy: 0.9987WARNING:tensorflow:Callback method `on_train_batch_end` is slow compared to the batch time (batch time: 0.0316s vs `on_train_batch_end` time: 0.1482s). Check your callbacks.\n",
            "422/422 [==============================] - 37s 75ms/step - loss: 0.3488 - accuracy: 0.8661 - val_loss: 0.1938 - val_accuracy: 0.8882\n",
            "Epoch 2/2\n",
            "422/422 [==============================] - 31s 72ms/step - loss: 0.0928 - accuracy: 0.9727 - val_loss: 0.0763 - val_accuracy: 0.9910\n",
            "Pruned test accuracy at final_sparsity: at 0.6500000000000001 is 0.9912999868392944\n",
            "Epoch 1/2\n",
            "  6/422 [..............................] - ETA: 1:43 - loss: 0.0033 - accuracy: 0.9987WARNING:tensorflow:Callback method `on_train_batch_end` is slow compared to the batch time (batch time: 0.0342s vs `on_train_batch_end` time: 0.1502s). Check your callbacks.\n",
            "422/422 [==============================] - 38s 75ms/step - loss: 0.4287 - accuracy: 0.8362 - val_loss: 0.0619 - val_accuracy: 0.9867\n",
            "Epoch 2/2\n",
            "422/422 [==============================] - 31s 73ms/step - loss: 0.0798 - accuracy: 0.9698 - val_loss: 0.0434 - val_accuracy: 0.9930\n",
            "Pruned test accuracy at final_sparsity: at 0.7000000000000002 is 0.9932000041007996\n",
            "Epoch 1/2\n",
            "  6/422 [..............................] - ETA: 1:47 - loss: 0.0033 - accuracy: 0.9987WARNING:tensorflow:Callback method `on_train_batch_end` is slow compared to the batch time (batch time: 0.0327s vs `on_train_batch_end` time: 0.1586s). Check your callbacks.\n",
            "422/422 [==============================] - 38s 76ms/step - loss: 0.3962 - accuracy: 0.8523 - val_loss: 0.1696 - val_accuracy: 0.8868\n",
            "Epoch 2/2\n",
            "422/422 [==============================] - 31s 73ms/step - loss: 0.0679 - accuracy: 0.9582 - val_loss: 0.0352 - val_accuracy: 0.9930\n",
            "Pruned test accuracy at final_sparsity: at 0.7500000000000002 is 0.991100013256073\n",
            "Epoch 1/2\n",
            "  6/422 [..............................] - ETA: 1:50 - loss: 0.0033 - accuracy: 0.9987WARNING:tensorflow:Callback method `on_train_batch_end` is slow compared to the batch time (batch time: 0.0343s vs `on_train_batch_end` time: 0.1633s). Check your callbacks.\n",
            "422/422 [==============================] - 38s 77ms/step - loss: 0.4505 - accuracy: 0.8324 - val_loss: 0.0681 - val_accuracy: 0.9850\n",
            "Epoch 2/2\n",
            "422/422 [==============================] - 31s 72ms/step - loss: 0.0471 - accuracy: 0.9882 - val_loss: 0.0525 - val_accuracy: 0.9928\n",
            "Pruned test accuracy at final_sparsity: at 0.8000000000000003 is 0.9905999898910522\n",
            "Epoch 1/2\n",
            "  6/422 [..............................] - ETA: 1:41 - loss: 0.0033 - accuracy: 0.9987WARNING:tensorflow:Callback method `on_train_batch_end` is slow compared to the batch time (batch time: 0.0324s vs `on_train_batch_end` time: 0.1480s). Check your callbacks.\n",
            "422/422 [==============================] - 37s 75ms/step - loss: 0.4966 - accuracy: 0.8181 - val_loss: 0.0955 - val_accuracy: 0.9877\n",
            "Epoch 2/2\n",
            "422/422 [==============================] - 31s 73ms/step - loss: 0.0835 - accuracy: 0.9770 - val_loss: 0.0454 - val_accuracy: 0.9905\n",
            "Pruned test accuracy at final_sparsity: at 0.8500000000000003 is 0.9890999794006348\n",
            "Epoch 1/2\n",
            "  6/422 [..............................] - ETA: 1:46 - loss: 0.0033 - accuracy: 0.9987WARNING:tensorflow:Callback method `on_train_batch_end` is slow compared to the batch time (batch time: 0.0336s vs `on_train_batch_end` time: 0.1550s). Check your callbacks.\n",
            "422/422 [==============================] - 38s 77ms/step - loss: 0.5244 - accuracy: 0.8046 - val_loss: 0.2857 - val_accuracy: 0.8752\n",
            "Epoch 2/2\n",
            "422/422 [==============================] - 30s 72ms/step - loss: 0.1940 - accuracy: 0.9213 - val_loss: 0.0705 - val_accuracy: 0.9878\n",
            "Pruned test accuracy at final_sparsity: at 0.9000000000000004 is 0.9860000014305115\n",
            "[0.989799976348877, 0.991100013256073, 0.9912999868392944, 0.9932000041007996, 0.991100013256073, 0.9905999898910522, 0.9890999794006348, 0.9860000014305115]\n",
            "accuracy list at 0.5 sparsity is [0.989799976348877, 0.991100013256073, 0.9912999868392944, 0.9932000041007996, 0.991100013256073, 0.9905999898910522, 0.9890999794006348, 0.9860000014305115]\n",
            "final 60: []\n",
            "final 65: []\n",
            "final 70: []\n",
            "final 75: []\n",
            "final 80: []\n",
            "final 85: []\n",
            "final 90: []\n"
          ],
          "name": "stdout"
        }
      ]
    },
    {
      "cell_type": "code",
      "metadata": {
        "colab": {
          "base_uri": "https://localhost:8080/"
        },
        "id": "M_T69I746L5k",
        "outputId": "9843cdc2-d3d9-4745-b94b-24d512fc2812"
      },
      "source": [
        "model1 =  keras.models.load_model(\"/content/drive/MyDrive/MnistResults/vggtrain_save_basemodel2.tf\")\n",
        "model1.summary()"
      ],
      "execution_count": null,
      "outputs": [
        {
          "output_type": "stream",
          "text": [
            "Model: \"sequential_2\"\n",
            "_________________________________________________________________\n",
            "Layer (type)                 Output Shape              Param #   \n",
            "=================================================================\n",
            "vgg16 (Functional)           (None, 1, 1, 512)         14714688  \n",
            "_________________________________________________________________\n",
            "flatten_2 (Flatten)          (None, 512)               0         \n",
            "_________________________________________________________________\n",
            "dropout_2 (Dropout)          (None, 512)               0         \n",
            "_________________________________________________________________\n",
            "dense_6 (Dense)              (None, 256)               131328    \n",
            "_________________________________________________________________\n",
            "dense_7 (Dense)              (None, 50)                12850     \n",
            "_________________________________________________________________\n",
            "dense_8 (Dense)              (None, 10)                510       \n",
            "=================================================================\n",
            "Total params: 14,859,376\n",
            "Trainable params: 14,859,376\n",
            "Non-trainable params: 0\n",
            "_________________________________________________________________\n"
          ],
          "name": "stdout"
        }
      ]
    },
    {
      "cell_type": "code",
      "metadata": {
        "colab": {
          "base_uri": "https://localhost:8080/"
        },
        "id": "aHvxD0CO6wEz",
        "outputId": "95e1afc9-20ac-45cb-a8a4-dc4739aef2ee"
      },
      "source": [
        "\n",
        "\n",
        "prune_low_magnitude = tfmot.sparsity.keras.prune_low_magnitude\n",
        "\n",
        "# Compute end step to finish pruning after 2 epochs.\n",
        "batch_size = 128\n",
        "epochs = 2\n",
        "validation_split = 0.1 # 10% of training set will be used for validation set. \n",
        "\n",
        "num_images = train_images.shape[0] * (1 - validation_split)\n",
        "end_step = np.ceil(num_images / batch_size).astype(np.int32) * epochs\n",
        "\n",
        "model1.load_weights('/content/drive/MyDrive/MnistResults/vggtrain_best_weights2.hdf5')\n",
        "pruning_params = {\n",
        "      'pruning_schedule': tfmot.sparsity.keras.PolynomialDecay(initial_sparsity=0.5,\n",
        "                                                              final_sparsity= 0.80,\n",
        "                                                              begin_step=0,\n",
        "                                                              end_step=end_step)\n",
        "}\n",
        "\n",
        "# Define model for pruning.\n",
        "model_for_pruning = prune_low_magnitude(model1, **pruning_params)\n",
        "\n",
        "# `prune_low_magnitude` requires a recompile.\n",
        "model_for_pruning.compile(optimizer='adam',\n",
        "              loss=tf.keras.losses.SparseCategoricalCrossentropy(from_logits=True),\n",
        "              metrics=['accuracy'])\n",
        "\n",
        "#model_for_pruning.summary()\n",
        "logdir = tempfile.mkdtemp()\n",
        "\n",
        "callbacks = [\n",
        "  tfmot.sparsity.keras.UpdatePruningStep(),\n",
        "  tfmot.sparsity.keras.PruningSummaries(log_dir=logdir),\n",
        "]\n",
        "\n",
        "model_for_pruning.fit(train_X, train_labels,\n",
        "                  batch_size=batch_size, epochs=epochs, validation_split=validation_split,\n",
        "                  callbacks=callbacks)\n",
        "_, model_for_pruning_accuracy = model_for_pruning.evaluate(\n",
        "  test_X, test_labels, verbose=1)\n",
        "\n",
        "\n"
      ],
      "execution_count": null,
      "outputs": [
        {
          "output_type": "stream",
          "text": [
            "/usr/local/lib/python3.7/dist-packages/keras/engine/base_layer.py:2223: UserWarning: `layer.add_variable` is deprecated and will be removed in a future version. Please use `layer.add_weight` method instead.\n",
            "  warnings.warn('`layer.add_variable` is deprecated and '\n"
          ],
          "name": "stderr"
        },
        {
          "output_type": "stream",
          "text": [
            "Epoch 1/2\n"
          ],
          "name": "stdout"
        },
        {
          "output_type": "stream",
          "text": [
            "/usr/local/lib/python3.7/dist-packages/keras/backend.py:4907: UserWarning: \"`sparse_categorical_crossentropy` received `from_logits=True`, but the `output` argument was produced by a sigmoid or softmax activation and thus does not represent logits. Was this intended?\"\n",
            "  '\"`sparse_categorical_crossentropy` received `from_logits=True`, but '\n"
          ],
          "name": "stderr"
        },
        {
          "output_type": "stream",
          "text": [
            "  6/422 [..............................] - ETA: 1:24 - loss: 0.0033 - accuracy: 0.9987WARNING:tensorflow:Callback method `on_train_batch_begin` is slow compared to the batch time (batch time: 0.0331s vs `on_train_batch_begin` time: 0.0442s). Check your callbacks.\n",
            "WARNING:tensorflow:Callback method `on_train_batch_end` is slow compared to the batch time (batch time: 0.0331s vs `on_train_batch_end` time: 0.0970s). Check your callbacks.\n",
            "422/422 [==============================] - 52s 73ms/step - loss: 0.4732 - accuracy: 0.8126 - val_loss: 0.0502 - val_accuracy: 0.9885\n",
            "Epoch 2/2\n",
            "422/422 [==============================] - 29s 70ms/step - loss: 0.0828 - accuracy: 0.9592 - val_loss: 0.0434 - val_accuracy: 0.9920\n",
            "313/313 [==============================] - 3s 10ms/step - loss: 0.0576 - accuracy: 0.9894\n"
          ],
          "name": "stdout"
        }
      ]
    },
    {
      "cell_type": "code",
      "metadata": {
        "colab": {
          "base_uri": "https://localhost:8080/"
        },
        "id": "ETuQg4HrJucO",
        "outputId": "232f0f19-b507-47b5-9b69-c037c1e7b725"
      },
      "source": [
        "model_for_pruning.save(\"/content/drive/MyDrive/MnistResults/vggtrain_pruned_model2.tf\")"
      ],
      "execution_count": null,
      "outputs": [
        {
          "output_type": "stream",
          "text": [
            "WARNING:absl:Found untraced functions such as flatten_2_layer_call_and_return_conditional_losses, flatten_2_layer_call_fn, dropout_2_layer_call_and_return_conditional_losses, dropout_2_layer_call_fn, dense_6_layer_call_and_return_conditional_losses while saving (showing 5 of 90). These functions will not be directly callable after loading.\n"
          ],
          "name": "stderr"
        },
        {
          "output_type": "stream",
          "text": [
            "INFO:tensorflow:Assets written to: /content/drive/MyDrive/MnistResults/vggtrain_pruned_model2.tf/assets\n"
          ],
          "name": "stdout"
        },
        {
          "output_type": "stream",
          "text": [
            "INFO:tensorflow:Assets written to: /content/drive/MyDrive/MnistResults/vggtrain_pruned_model2.tf/assets\n"
          ],
          "name": "stderr"
        }
      ]
    },
    {
      "cell_type": "code",
      "metadata": {
        "colab": {
          "base_uri": "https://localhost:8080/"
        },
        "id": "HwZ4xTj6726D",
        "outputId": "06b08dad-d92f-4543-c641-0336719a2976"
      },
      "source": [
        "print(model_for_pruning_accuracy )"
      ],
      "execution_count": null,
      "outputs": [
        {
          "output_type": "stream",
          "text": [
            "0.9894000291824341\n"
          ],
          "name": "stdout"
        }
      ]
    },
    {
      "cell_type": "code",
      "metadata": {
        "id": "yhls9rUs8Bys"
      },
      "source": [
        "model1.load_weights('/content/drive/MyDrive/MnistResults/vggtrain_best_weights2.hdf5')"
      ],
      "execution_count": null,
      "outputs": []
    },
    {
      "cell_type": "code",
      "metadata": {
        "colab": {
          "base_uri": "https://localhost:8080/"
        },
        "id": "zbHaaEe68FUN",
        "outputId": "82e1b47c-10ea-44db-e517-1fe7c7c7eb23"
      },
      "source": [
        "model1.evaluate(\n",
        "    test_X, test_labels, verbose=1)"
      ],
      "execution_count": null,
      "outputs": [
        {
          "output_type": "stream",
          "text": [
            "  7/313 [..............................] - ETA: 2s - loss: 0.0379 - accuracy: 0.9955 "
          ],
          "name": "stdout"
        },
        {
          "output_type": "stream",
          "text": [
            "/usr/local/lib/python3.7/dist-packages/keras/backend.py:4907: UserWarning: \"`sparse_categorical_crossentropy` received `from_logits=True`, but the `output` argument was produced by a sigmoid or softmax activation and thus does not represent logits. Was this intended?\"\n",
            "  '\"`sparse_categorical_crossentropy` received `from_logits=True`, but '\n"
          ],
          "name": "stderr"
        },
        {
          "output_type": "stream",
          "text": [
            "313/313 [==============================] - 3s 9ms/step - loss: 0.0418 - accuracy: 0.9918\n"
          ],
          "name": "stdout"
        },
        {
          "output_type": "execute_result",
          "data": {
            "text/plain": [
              "[0.041753433644771576, 0.9918000102043152]"
            ]
          },
          "metadata": {},
          "execution_count": 16
        }
      ]
    },
    {
      "cell_type": "code",
      "metadata": {
        "colab": {
          "base_uri": "https://localhost:8080/"
        },
        "id": "m1aWEr44-pzx",
        "outputId": "5eab8373-7244-4e57-d3ad-b699e238077b"
      },
      "source": [
        "model_for_export = tfmot.sparsity.keras.strip_pruning(model_for_pruning)\n",
        "\n",
        "_, pruned_keras_file = tempfile.mkstemp('.h5')\n",
        "tf.keras.models.save_model(model_for_export, pruned_keras_file, include_optimizer=False)\n",
        "print('Saved pruned Keras model to:', pruned_keras_file)"
      ],
      "execution_count": null,
      "outputs": [
        {
          "output_type": "stream",
          "text": [
            "WARNING:tensorflow:Compiled the loaded model, but the compiled metrics have yet to be built. `model.compile_metrics` will be empty until you train or evaluate the model.\n"
          ],
          "name": "stdout"
        },
        {
          "output_type": "stream",
          "text": [
            "WARNING:tensorflow:Compiled the loaded model, but the compiled metrics have yet to be built. `model.compile_metrics` will be empty until you train or evaluate the model.\n"
          ],
          "name": "stderr"
        },
        {
          "output_type": "stream",
          "text": [
            "Saved pruned Keras model to: /tmp/tmpybc1_l7r.h5\n"
          ],
          "name": "stdout"
        }
      ]
    },
    {
      "cell_type": "code",
      "metadata": {
        "colab": {
          "base_uri": "https://localhost:8080/"
        },
        "id": "CrS0mpjwK37K",
        "outputId": "4d141f94-78af-4495-c780-57f8d9ee6a97"
      },
      "source": [
        "model_for_export.save(\"/content/drive/MyDrive/MnistResults/vggtrain_prunedStripped_basemodel2.tf\")"
      ],
      "execution_count": null,
      "outputs": [
        {
          "output_type": "stream",
          "text": [
            "WARNING:tensorflow:Compiled the loaded model, but the compiled metrics have yet to be built. `model.compile_metrics` will be empty until you train or evaluate the model.\n"
          ],
          "name": "stdout"
        },
        {
          "output_type": "stream",
          "text": [
            "WARNING:tensorflow:Compiled the loaded model, but the compiled metrics have yet to be built. `model.compile_metrics` will be empty until you train or evaluate the model.\n"
          ],
          "name": "stderr"
        },
        {
          "output_type": "stream",
          "text": [
            "INFO:tensorflow:Assets written to: /content/drive/MyDrive/MnistResults/vggtrain_prunedStripped_basemodel2.tf/assets\n"
          ],
          "name": "stdout"
        },
        {
          "output_type": "stream",
          "text": [
            "INFO:tensorflow:Assets written to: /content/drive/MyDrive/MnistResults/vggtrain_prunedStripped_basemodel2.tf/assets\n"
          ],
          "name": "stderr"
        }
      ]
    },
    {
      "cell_type": "code",
      "metadata": {
        "colab": {
          "base_uri": "https://localhost:8080/"
        },
        "id": "fWATp-v8-0Go",
        "outputId": "007fde3d-264d-4bfd-fc61-208242a99eda"
      },
      "source": [
        "model_for_export.summary()"
      ],
      "execution_count": null,
      "outputs": [
        {
          "output_type": "stream",
          "text": [
            "Model: \"sequential_2\"\n",
            "_________________________________________________________________\n",
            "Layer (type)                 Output Shape              Param #   \n",
            "=================================================================\n",
            "vgg16 (Functional)           (None, 1, 1, 512)         14714688  \n",
            "_________________________________________________________________\n",
            "flatten_2 (Flatten)          (None, 512)               0         \n",
            "_________________________________________________________________\n",
            "dropout_2 (Dropout)          (None, 512)               0         \n",
            "_________________________________________________________________\n",
            "dense_6 (Dense)              (None, 256)               131328    \n",
            "_________________________________________________________________\n",
            "dense_7 (Dense)              (None, 50)                12850     \n",
            "_________________________________________________________________\n",
            "dense_8 (Dense)              (None, 10)                510       \n",
            "=================================================================\n",
            "Total params: 14,859,376\n",
            "Trainable params: 14,859,376\n",
            "Non-trainable params: 0\n",
            "_________________________________________________________________\n"
          ],
          "name": "stdout"
        }
      ]
    },
    {
      "cell_type": "code",
      "metadata": {
        "colab": {
          "base_uri": "https://localhost:8080/"
        },
        "id": "OR6K9HRl-93H",
        "outputId": "ffb81fb7-affa-4ccb-9912-3e6a5cd562e5"
      },
      "source": [
        "converter = tf.lite.TFLiteConverter.from_keras_model(model_for_export)\n",
        "pruned_tflite_model = converter.convert()\n",
        "\n",
        "_, pruned_tflite_file = tempfile.mkstemp('.tflite')\n",
        "\n",
        "with open(pruned_tflite_file, 'wb') as f:\n",
        "  f.write(pruned_tflite_model)\n",
        "\n",
        "print('Saved pruned TFLite model to:', pruned_tflite_file)"
      ],
      "execution_count": null,
      "outputs": [
        {
          "output_type": "stream",
          "text": [
            "WARNING:tensorflow:Compiled the loaded model, but the compiled metrics have yet to be built. `model.compile_metrics` will be empty until you train or evaluate the model.\n"
          ],
          "name": "stdout"
        },
        {
          "output_type": "stream",
          "text": [
            "WARNING:tensorflow:Compiled the loaded model, but the compiled metrics have yet to be built. `model.compile_metrics` will be empty until you train or evaluate the model.\n"
          ],
          "name": "stderr"
        },
        {
          "output_type": "stream",
          "text": [
            "INFO:tensorflow:Assets written to: /tmp/tmplrattdub/assets\n"
          ],
          "name": "stdout"
        },
        {
          "output_type": "stream",
          "text": [
            "INFO:tensorflow:Assets written to: /tmp/tmplrattdub/assets\n"
          ],
          "name": "stderr"
        },
        {
          "output_type": "stream",
          "text": [
            "Saved pruned TFLite model to: /tmp/tmplwvuqafp.tflite\n"
          ],
          "name": "stdout"
        }
      ]
    },
    {
      "cell_type": "code",
      "metadata": {
        "id": "aAXzF0l-AC1r"
      },
      "source": [
        "def get_gzipped_model_size(file):\n",
        "  # Returns size of gzipped model, in bytes.\n",
        "  import os\n",
        "  import zipfile\n",
        "\n",
        "  _, zipped_file = tempfile.mkstemp('.zip')\n",
        "  with zipfile.ZipFile(zipped_file, 'w', compression=zipfile.ZIP_DEFLATED) as f:\n",
        "    f.write(file)\n",
        "\n",
        "  return os.path.getsize(zipped_file)"
      ],
      "execution_count": null,
      "outputs": []
    },
    {
      "cell_type": "code",
      "metadata": {
        "colab": {
          "base_uri": "https://localhost:8080/"
        },
        "id": "WUiIb7ba_nuZ",
        "outputId": "4770cc79-7dc2-4ca0-cff0-72760bfc7e80"
      },
      "source": [
        "converter = tf.lite.TFLiteConverter.from_keras_model(model_for_export)\n",
        "converter.optimizations = [tf.lite.Optimize.DEFAULT]\n",
        "quantized_and_pruned_tflite_model = converter.convert()\n",
        "\n",
        "_, quantized_and_pruned_tflite_file = tempfile.mkstemp('.tflite')\n",
        "\n",
        "with open(quantized_and_pruned_tflite_file, 'wb') as f:\n",
        "  f.write(quantized_and_pruned_tflite_model)\n",
        "\n",
        "print('Saved quantized and pruned TFLite model to:', quantized_and_pruned_tflite_file)\n",
        "\n",
        "#print(\"Size of gzipped baseline Keras model: %.2f bytes\" % (get_gzipped_model_size(keras_file)))\n",
        "print(\"Size of gzipped pruned and quantized TFlite model: %.2f bytes\" % (get_gzipped_model_size(quantized_and_pruned_tflite_file)))"
      ],
      "execution_count": null,
      "outputs": [
        {
          "output_type": "stream",
          "text": [
            "WARNING:tensorflow:Compiled the loaded model, but the compiled metrics have yet to be built. `model.compile_metrics` will be empty until you train or evaluate the model.\n"
          ],
          "name": "stdout"
        },
        {
          "output_type": "stream",
          "text": [
            "WARNING:tensorflow:Compiled the loaded model, but the compiled metrics have yet to be built. `model.compile_metrics` will be empty until you train or evaluate the model.\n"
          ],
          "name": "stderr"
        },
        {
          "output_type": "stream",
          "text": [
            "INFO:tensorflow:Assets written to: /tmp/tmpyv79rtqo/assets\n"
          ],
          "name": "stdout"
        },
        {
          "output_type": "stream",
          "text": [
            "INFO:tensorflow:Assets written to: /tmp/tmpyv79rtqo/assets\n"
          ],
          "name": "stderr"
        },
        {
          "output_type": "stream",
          "text": [
            "Saved quantized and pruned TFLite model to: /tmp/tmprfwuiyfk.tflite\n",
            "Size of gzipped pruned and quantized TFlite model: 11395017.00 bytes\n"
          ],
          "name": "stdout"
        }
      ]
    },
    {
      "cell_type": "code",
      "metadata": {
        "colab": {
          "base_uri": "https://localhost:8080/",
          "height": 163
        },
        "id": "cV9DrFVOMqYD",
        "outputId": "b2d83583-1d47-41ef-af8d-8bfb285b5a92"
      },
      "source": [
        "quantized_and_pruned_tflite_model.save(\"/content/drive/MyDrive/MnistResults/vggtrain_Q&P_model2.tflite\")"
      ],
      "execution_count": null,
      "outputs": [
        {
          "output_type": "error",
          "ename": "AttributeError",
          "evalue": "ignored",
          "traceback": [
            "\u001b[0;31m---------------------------------------------------------------------------\u001b[0m",
            "\u001b[0;31mAttributeError\u001b[0m                            Traceback (most recent call last)",
            "\u001b[0;32m<ipython-input-30-94b99802cdd8>\u001b[0m in \u001b[0;36m<module>\u001b[0;34m()\u001b[0m\n\u001b[0;32m----> 1\u001b[0;31m \u001b[0mquantized_and_pruned_tflite_model\u001b[0m\u001b[0;34m.\u001b[0m\u001b[0msave\u001b[0m\u001b[0;34m(\u001b[0m\u001b[0;34m\"/content/drive/MyDrive/MnistResults/vggtrain_Q&P_model2.tflite\"\u001b[0m\u001b[0;34m)\u001b[0m\u001b[0;34m\u001b[0m\u001b[0;34m\u001b[0m\u001b[0m\n\u001b[0m",
            "\u001b[0;31mAttributeError\u001b[0m: 'bytes' object has no attribute 'save'"
          ]
        }
      ]
    },
    {
      "cell_type": "code",
      "metadata": {
        "id": "wcJ3qMKC9Cjp"
      },
      "source": [
        ""
      ],
      "execution_count": null,
      "outputs": []
    },
    {
      "cell_type": "code",
      "metadata": {
        "colab": {
          "base_uri": "https://localhost:8080/"
        },
        "id": "86le14jwHPbj",
        "outputId": "95a5c483-1ff1-4979-8de2-36693da3e065"
      },
      "source": [
        "!du -sh /content/drive/MyDrive/MnistResults/*"
      ],
      "execution_count": null,
      "outputs": [
        {
          "output_type": "stream",
          "text": [
            "27M\t/content/drive/MyDrive/MnistResults/best_weights4.hdf5\n",
            "27M\t/content/drive/MyDrive/MnistResults/best_weights5.hdf5\n",
            "95K\t/content/drive/MyDrive/MnistResults/cnn_best_weights4.hdf5\n",
            "95K\t/content/drive/MyDrive/MnistResults/cnn_latest_weights4.hdf5\n",
            "1.0K\t/content/drive/MyDrive/MnistResults/cnn_mylogs4.csv\n",
            "367K\t/content/drive/MyDrive/MnistResults/cnn_save_basemodel4.tf\n",
            "11M\t/content/drive/MyDrive/MnistResults/compressed1.tflite\n",
            "21M\t/content/drive/MyDrive/MnistResults/dense_best_weights1.hdf5\n",
            "21M\t/content/drive/MyDrive/MnistResults/dense_latest_weights1.hdf5\n",
            "4.0K\t/content/drive/MyDrive/MnistResults/dense_mylogs1.csv\n",
            "27M\t/content/drive/MyDrive/MnistResults/latest_weights1.hdf5\n",
            "27M\t/content/drive/MyDrive/MnistResults/latest_weights2.hdf5\n",
            "27M\t/content/drive/MyDrive/MnistResults/latest_weights3.hdf5\n",
            "27M\t/content/drive/MyDrive/MnistResults/latest_weights4.hdf5\n",
            "27M\t/content/drive/MyDrive/MnistResults/latest_weights5.hdf5\n",
            "512\t/content/drive/MyDrive/MnistResults/mylogs1.csv\n",
            "512\t/content/drive/MyDrive/MnistResults/mylogs2.csv\n",
            "512\t/content/drive/MyDrive/MnistResults/mylogs3.csv\n",
            "5.5K\t/content/drive/MyDrive/MnistResults/mylogs4.csv\n",
            "5.5K\t/content/drive/MyDrive/MnistResults/mylogs5.csv\n",
            "27M\t/content/drive/MyDrive/MnistResults/pruned_file1.h5\n",
            "27M\t/content/drive/MyDrive/MnistResults/pruned_file2.h5\n",
            "27M\t/content/drive/MyDrive/MnistResults/pruned_file4_30.h5\n",
            "27M\t/content/drive/MyDrive/MnistResults/pruned_file4_60.h5\n",
            "79M\t/content/drive/MyDrive/MnistResults/save_basemode2.tf\n",
            "79M\t/content/drive/MyDrive/MnistResults/save_basemode3.tf\n",
            "79M\t/content/drive/MyDrive/MnistResults/save_basemodel4.tf\n",
            "79M\t/content/drive/MyDrive/MnistResults/save_basemodel5.tf\n",
            "79M\t/content/drive/MyDrive/MnistResults/save_basemodel.tf\n",
            "57M\t/content/drive/MyDrive/MnistResults/vggfine_best_weights1.hdf5\n",
            "263K\t/content/drive/MyDrive/MnistResults/vggfine_best_weights2.hdf5\n",
            "57M\t/content/drive/MyDrive/MnistResults/vggfine_best_weights4.hdf5\n",
            "57M\t/content/drive/MyDrive/MnistResults/vggfine_latest_weights1.hdf5\n",
            "263K\t/content/drive/MyDrive/MnistResults/vggfine_latest_weights2.hdf5\n",
            "57M\t/content/drive/MyDrive/MnistResults/vggfine_latest_weights4.hdf5\n",
            "2.5K\t/content/drive/MyDrive/MnistResults/vggfine_mylogs1.csv\n",
            "512\t/content/drive/MyDrive/MnistResults/vggfine_mylogs2.csv\n",
            "4.5K\t/content/drive/MyDrive/MnistResults/vggfine_mylogs4.csv\n",
            "158M\t/content/drive/MyDrive/MnistResults/vggfine_save_basemodel4.tf\n",
            "59M\t/content/drive/MyDrive/MnistResults/vggfine_save_basemodel.tf\n",
            "57M\t/content/drive/MyDrive/MnistResults/vggtrain_best_weights1.hdf5\n",
            "57M\t/content/drive/MyDrive/MnistResults/vggtrain_best_weights2.hdf5\n",
            "57M\t/content/drive/MyDrive/MnistResults/vggtrain_latest_weights1.hdf5\n",
            "57M\t/content/drive/MyDrive/MnistResults/vggtrain_latest_weights2.hdf5\n",
            "0\t/content/drive/MyDrive/MnistResults/vggtrain_mylogs1 (1).csv\n",
            "1.5K\t/content/drive/MyDrive/MnistResults/vggtrain_mylogs1.csv\n",
            "4.5K\t/content/drive/MyDrive/MnistResults/vggtrain_mylogs2.csv\n",
            "231M\t/content/drive/MyDrive/MnistResults/vggtrain_pruned_model2.tf\n",
            "58M\t/content/drive/MyDrive/MnistResults/vggtrain_prunedStripped_basemodel2.tf\n",
            "171M\t/content/drive/MyDrive/MnistResults/vggtrain_save_basemodel2.tf\n"
          ],
          "name": "stdout"
        }
      ]
    },
    {
      "cell_type": "code",
      "metadata": {
        "colab": {
          "base_uri": "https://localhost:8080/"
        },
        "id": "06kvp6n6ODUQ",
        "outputId": "edb691ea-63d0-477f-ff6d-b435a1571910"
      },
      "source": [
        "print(test_labels[:10])"
      ],
      "execution_count": null,
      "outputs": [
        {
          "output_type": "stream",
          "text": [
            "[7 2 1 0 4 1 4 9 5 9]\n"
          ],
          "name": "stdout"
        }
      ]
    },
    {
      "cell_type": "code",
      "metadata": {
        "id": "vp5ad4G2A4U2"
      },
      "source": [
        "import numpy as np\n",
        "\n",
        "def evaluate_model(interpreter):\n",
        "  input_index = interpreter.get_input_details()[0][\"index\"]\n",
        "  output_index = interpreter.get_output_details()[0][\"index\"]\n",
        "\n",
        "  # Run predictions on ever y image in the \"test\" dataset.\n",
        "  prediction_digits = []\n",
        "  for i, test_image in enumerate(test_X[:10]):\n",
        "    if i % 1000 == 0:\n",
        "      print('Evaluated on {n} results so far.'.format(n=i))\n",
        "    # Pre-processing: add batch dimension and convert to float32 to match with\n",
        "    # the model's input data format.\n",
        "    test_image = np.expand_dims(test_image, axis=0).astype(np.float32)\n",
        "    interpreter.set_tensor(input_index, test_image)\n",
        "\n",
        "    # Run inference.\n",
        "    interpreter.invoke()\n",
        "\n",
        "    # Post-processing: remove batch dimension and find the digit with highest\n",
        "    # probability.\n",
        "    output = interpreter.tensor(output_index)\n",
        "    digit = np.argmax(output()[0])\n",
        "    prediction_digits.append(digit)\n",
        "\n",
        "  print('\\n')\n",
        "  # Compare prediction results with ground truth labels to calculate accuracy.\n",
        "  prediction_digits = np.array(prediction_digits)\n",
        "  accuracy = (prediction_digits == test_labels[:10]).mean()\n",
        "  return accuracy"
      ],
      "execution_count": null,
      "outputs": []
    },
    {
      "cell_type": "code",
      "metadata": {
        "colab": {
          "base_uri": "https://localhost:8080/"
        },
        "id": "5bOUXwEWBOcd",
        "outputId": "79ea6563-dee1-43d6-d2ef-e0ffdb14143b"
      },
      "source": [
        "interpreter = tf.lite.Interpreter(model_content=quantized_and_pruned_tflite_model)\n",
        "interpreter.allocate_tensors()\n",
        "\n",
        "test_accuracy = evaluate_model(interpreter)\n",
        "\n",
        "print('Pruned and quantized TFLite test_accuracy:', test_accuracy)\n",
        "print('Pruned TF test accuracy:', model_for_pruning_accuracy)"
      ],
      "execution_count": null,
      "outputs": [
        {
          "output_type": "stream",
          "text": [
            "Evaluated on 0 results so far.\n",
            "\n",
            "\n",
            "Pruned and quantized TFLite test_accuracy: 1.0\n",
            "Pruned TF test accuracy: 0.9894000291824341\n"
          ],
          "name": "stdout"
        }
      ]
    }
  ]
}